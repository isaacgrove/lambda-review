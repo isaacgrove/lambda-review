{
 "cells": [
  {
   "cell_type": "markdown",
   "metadata": {},
   "source": [
    "# U1S1"
   ]
  },
  {
   "cell_type": "markdown",
   "metadata": {},
   "source": [
    "#### Day 1 - Loading and EDA\n",
    "\n",
    "- pd.read_csv('string')  # filename or URL\n",
    "- df.isnull().sum()\n",
    "- df.describe(include='all') # number, by dtype, exclude\n",
    "- df[col].value_counts(dropna=False)\n",
    "- df = df.replace({\" ?\": np.NaN})\n",
    "- pd.crosstab()\n",
    "- df.plot(kind=, stacked=, etc)\n",
    "- sns.pairplot() ----- big matrix of graphs\n",
    "- matplotlib.style.use() , style.available\n",
    "\n",
    "#### Day 2 - Feature Engineering"
   ]
  },
  {
   "cell_type": "markdown",
   "metadata": {},
   "source": [
    "### Links\n",
    "JakeVDP - Python Data Science Handbook\n",
    "\n",
    "- [Chapter 1.5](https://jakevdp.github.io/PythonDataScienceHandbook/01.05-ipython-and-shell-commands.html), Ipython, Shell Commands\n",
    "- [Chapter 3.10](https://jakevdp.github.io/PythonDataScienceHandbook/03.10-working-with-strings.html), Vectorized String Operations\n",
    "- [Chapter 3.11](https://jakevdp.github.io/PythonDataScienceHandbook/03.11-working-with-time-series.html), Working with Time Series\n",
    "\n",
    "[Minimally Sufficient Pandas](https://medium.com/dunder-data/minimally-sufficient-pandas-a8e67f2a2428)\n",
    "\n",
    "[Exploratory notebook from a kaggle comp](https://www.kaggle.com/sudalairajkumar/simple-exploration-notebook-instacart)\n",
    "- Excellent use of Matplotlib, Seaborn. Will make great code templates\n",
    "- Dataframe merges\n",
    "\n",
    "[Instacart Market Basket Analysis, Winner's Interview: 2nd place, Kazuki Onodera](https://medium.com/kaggle-blog/instacart-market-basket-analysis-feda2700cded)\n",
    "- Refer to this for feature engineering inspiration"
   ]
  },
  {
   "cell_type": "markdown",
   "metadata": {},
   "source": []
  },
  {
   "cell_type": "code",
   "execution_count": null,
   "metadata": {},
   "outputs": [],
   "source": [
    "# Display an image\n",
    "\n",
    "from IPython.display import display, Image\n",
    "url = 'https://cdn-images-1.medium.com/max/1600/1*vYGFQCafJtGBBX5mbl0xyw.png'\n",
    "example = Image(url=url, width=600)\n",
    "\n",
    "display(example)"
   ]
  },
  {
   "cell_type": "markdown",
   "metadata": {},
   "source": [
    "# Loading Data, EDA"
   ]
  },
  {
   "cell_type": "code",
   "execution_count": 60,
   "metadata": {},
   "outputs": [],
   "source": [
    "# curl prints contents without loading\n",
    "#\n",
    "# !curl https://archive.ics.uci.edu/ml/machine-learning-databases/flags/flag.data"
   ]
  },
  {
   "cell_type": "code",
   "execution_count": null,
   "metadata": {},
   "outputs": [],
   "source": [
    "# wget gets whatever is at the URL and reads it into memory\n",
    "!wget https://resources.lendingclub.com/LoanStats_2018Q4.csv.zip\n",
    "# in this case it's a CSV that needs unzipped\n",
    "!unzip LoanStats_2018Q4.csv.zip\n",
    "# sometimes it's in a super-compressed filetype called a tarball\n",
    "!wget https://s3.amazonaws.com/instacart-datasets/instacart_online_grocery_shopping_2017_05_01.tar.gz\n",
    "!tar --gunzip --extract --verbose --file=instacart_online_grocery_shopping_2017_05_01.tar.gz\n",
    "# You can navigate file hierarchies like a shell\n",
    "%cd instacart_2017_05_01\n",
    "!ls -lh *.csv # \"long ls of anything ending with .csv\"\n",
    "\n",
    "# You can also read the raw contents of the file\n",
    "!head LoanStats_2018Q4.csv\n",
    "!tail LoanStats_2018Q4.csv\n",
    "\n"
   ]
  },
  {
   "cell_type": "code",
   "execution_count": 61,
   "metadata": {},
   "outputs": [],
   "source": [
    "# Get documentation\n",
    "#\n",
    "# ?pd.read_csv()\n",
    "# help(pd.read_csv)"
   ]
  },
  {
   "cell_type": "code",
   "execution_count": 3,
   "metadata": {},
   "outputs": [],
   "source": [
    "import pandas as pd\n",
    "\n",
    "# Load via URL\n",
    "# flag_data_url = 'https://archive.ics.uci.edu/ml/machine-learning-databases/flags/flag.data'\n",
    "# df = pd.read_csv(flag_data_url)\n",
    "\n",
    "# Or load from file (Colab)\n",
    "#\n",
    "# from google.colab import files\n",
    "# uploaded = files.upload()\n",
    "# df = pd.read_csv('flag (1).data', names=column_headers)\n",
    "\n",
    "\n",
    "# Fix header/footer problems\n",
    "\n",
    "# Fix headers yourself\n",
    "# column_headers = ['name', 'landmass', 'zone', 'area', 'population', 'language', \n",
    "#                   'religion', 'bars', 'stripes', 'colours', 'red', 'green', \n",
    "#                   'blue', 'gold', 'white', 'black', 'orange', 'mainhue', \n",
    "#                   'circles', 'crosses', 'saltires', 'quarters', 'sunstars', \n",
    "#                   'crescent', 'triangle', 'icon', 'animate', 'text', 'topleft', \n",
    "#                   'botright']\n",
    "# df = pd.read_csv(flag_data_url, names=column_headers)\n",
    "\n",
    "\n",
    "# Or specify header row\n",
    "#\n",
    "# df = pd.read_csv(flag_data_url, header=None)\n",
    "# df = pd.read_csv('LoanStats_2018Q4.csv', header=1)"
   ]
  },
  {
   "cell_type": "code",
   "execution_count": null,
   "metadata": {},
   "outputs": [],
   "source": [
    "# Default C engine doesn't support skipfooter.\n",
    "# Can use slower python engine.\n",
    "\n",
    "# df = pd.read_csv('LoanStats_2018Q4.csv', header=1, skipfooter=2, engine='python')"
   ]
  },
  {
   "cell_type": "code",
   "execution_count": null,
   "metadata": {},
   "outputs": [],
   "source": [
    "# Basic Pandas\n",
    "\n",
    "# df.shape\n",
    "# df.dtypes\n",
    "# df.head()\n",
    "# df.tail()\n",
    "\n",
    "# df.describe()\n",
    "    # df.describe(exclude='number')\n",
    "    # df.describe(include='all')     <-- select by dtype\n",
    "\n",
    "# df[].value_counts(dropna=False, ascending=False)   <-- keeps NaNs\n",
    "\n",
    "# Work with NaNs\n",
    "#\n",
    "# df.isnull().sum().sort_values()\n",
    "# df.fillna()\n",
    "# df.dropna()\n",
    "# df = df.replace({\" ?\": np.NaN})\n",
    "\n",
    "\n",
    "# Drop columns\n",
    "#\n",
    "# df.drop()\n",
    "# df = df.drop(['job', 'member_id'], axis=1)\n",
    "\n",
    "# Group by column\n",
    "#\n",
    "# df.groupby('col')\n",
    "#\n",
    "### And you can group within that group ###\n",
    "#\n",
    "# df.groupby(['col1', 'col2'])\n",
    "#\n",
    "# df.get_group('Boston Celtics')\n",
    "#\n",
    "### Get the first value within each group\n",
    "#\n",
    "# df.first()\n",
    "\n",
    "\n",
    "# Filter by condition\n",
    "#\n",
    "# condition = (df['c'] > 8)\n",
    "# df[condition]\n",
    "#\n",
    "# or \n",
    "# df[df['c'] > 8]\n",
    "#\n",
    "# compound conditions -->  (df['user_id'] == 1) & (df['order_number'] <= 2)\n",
    "#\n",
    "# .isin()\n",
    "# products_subset = products['product_id'].isin(orders_and_products['product_id'])\n",
    "\n",
    "\n",
    "# Reorder columns\n",
    "#\n",
    "# final = final[['user_id', 'order_id', 'order_number', 'order_dow', \n",
    "#               'order_hour_of_day', 'add_to_cart_order', 'product_id', \n",
    "#               'product_name']]\n",
    "\n",
    "# Sort rows\n",
    "#\n",
    "# final = final.sort_values(by=['order_number', 'add_to_cart_order'])\n",
    "# final\n",
    "\n",
    "\n",
    "# Change things about headers with a list comprehension\n",
    "#\n",
    "# final.columns = [column.replace('_', ' ') for column in final]\n",
    "\n",
    "# Get a list of column names \n",
    "#\n",
    "# final.columns.to_list()\n"
   ]
  },
  {
   "cell_type": "code",
   "execution_count": 6,
   "metadata": {},
   "outputs": [],
   "source": [
    "# Viz\n",
    "\n",
    "# df['education-num'].value_counts().sort_index().plot();\n",
    "# df['age'].hist(bins=72);\n",
    "# df.plot.scatter('age', 'hours-per-week');\n",
    "# df['age'].plot.kde();\n",
    "# df['age'].plot.density();\n",
    "\n",
    "# Seaborn\n",
    "#\n",
    "# sns.catplot(x='trt', y='result', col='name', kind='bar', data=tidy1, height=2);"
   ]
  },
  {
   "cell_type": "code",
   "execution_count": 7,
   "metadata": {
    "scrolled": true
   },
   "outputs": [],
   "source": [
    "# Crosstab - categorical variables\n",
    "\n",
    "# pd.crosstab(df['education'], df['sex'])\n",
    "\n",
    "# Or save to variable\n",
    "#\n",
    "# table = pd.crosstab(df['education'], df['sex'])\n",
    "# table\n",
    "\n",
    "\n",
    "# Plot\n",
    "#\n",
    "# table.plot();\n",
    "# table.plot.bar();\n",
    "# table.plot(kind='bar', stacked='true');\n",
    "# pd.crosstab(df['education'], df['sex']).plot(kind='bar', stacked='true');\n"
   ]
  },
  {
   "cell_type": "markdown",
   "metadata": {},
   "source": [
    "## Day 2 - Feature Engineering"
   ]
  },
  {
   "cell_type": "markdown",
   "metadata": {},
   "source": [
    "Creating new columns that hopefully contain additional information"
   ]
  },
  {
   "cell_type": "code",
   "execution_count": null,
   "metadata": {},
   "outputs": [],
   "source": [
    "# Pandas Display Options\n",
    "# pd.set_option('display.max_rows', 100)\n",
    "# pd.set_option('display.max_columns', 100)\n"
   ]
  },
  {
   "cell_type": "code",
   "execution_count": 14,
   "metadata": {},
   "outputs": [
    {
     "name": "stdout",
     "output_type": "stream",
     "text": [
      "Owner\n",
      "Supervisor\n",
      "Project Manager\n",
      "Unknown\n"
     ]
    },
    {
     "data": {
      "text/plain": [
       "['Owner', 'Supervisor', 'Project Manager', 'Unknown']"
      ]
     },
     "execution_count": 14,
     "metadata": {},
     "output_type": "execute_result"
    }
   ],
   "source": [
    "# Create new column from scratch\n",
    "# \n",
    "# df[new_col] = df[col].apply(func)\n",
    "\n",
    "\n",
    "# You can use .apply() with any function that\n",
    "# works on an individual cell\n",
    "\n",
    "\n",
    "# It's the same as this:\n",
    "#\n",
    "# def func():\n",
    "#\n",
    "# new_list = []\n",
    "#\n",
    "# for cell in df[col]:\n",
    "#   new_list.append(func(cell))\n",
    "#\n",
    "# df[new_col] = pd.Series(new_list)\n",
    "\n",
    "\n",
    "# Fun example reformats string cells\n",
    "import numpy as np\n",
    "\n",
    "examples = ['owner', 'SupeRVISOr', ' Project Manager', np.NaN]\n",
    "\n",
    "def clean_title(job_title):\n",
    "  if isinstance(job_title, str):\n",
    "    return job_title.title().strip()\n",
    "  else:\n",
    "    return \"Unknown\"\n",
    "\n",
    "for title in examples:\n",
    "  print(clean_title(title))\n",
    "\n",
    "[clean_title(title) for title in examples]\n",
    "\n",
    "# Then\n",
    "#\n",
    "# df['title'] = df['title'].apply(clean_title)"
   ]
  },
  {
   "cell_type": "code",
   "execution_count": null,
   "metadata": {},
   "outputs": [],
   "source": [
    "# Number of unique entries in a column\n",
    "#\n",
    "# len(df[col].value_counts())"
   ]
  },
  {
   "cell_type": "code",
   "execution_count": null,
   "metadata": {},
   "outputs": [],
   "source": [
    "# Access certain column names\n",
    "#\n",
    "# [col for col in df if col.endswith('_d')]"
   ]
  },
  {
   "cell_type": "markdown",
   "metadata": {},
   "source": [
    "[Use loc and iloc to work w slices of df](https://www.geeksforgeeks.org/difference-between-loc-and-iloc-in-pandas-dataframe/?ref=rp)\n",
    "\n",
    " Ex: update so that all cars made before 2015 get 22mpg\n",
    " \n",
    " \n",
    " ##### df.loc[(df.Year < 2015), ['Mileage']] = 22 \n",
    " -\n",
    " \n",
    " I think this also works\n",
    " \n",
    " ##### df['Mileage'][df.Year < 2015] = 22"
   ]
  },
  {
   "cell_type": "markdown",
   "metadata": {},
   "source": [
    "### Work with Dates \n",
    "\n",
    "- [to_datetime](https://pandas.pydata.org/pandas-docs/stable/generated/pandas.to_datetime.html)\n",
    "- [Time/Date Components](https://pandas.pydata.org/pandas-docs/stable/timeseries.html#time-date-components) \"You can access these properties via the `.dt` accessor\"\n"
   ]
  },
  {
   "cell_type": "code",
   "execution_count": 15,
   "metadata": {},
   "outputs": [],
   "source": [
    "# Convert to datetime\n",
    "#\n",
    "# df[] = pd.to_datetime(df[], infer_datetime_format=True)\n",
    "\n",
    "# Access the year\n",
    "#\n",
    "# df[].dt.year\n",
    "\n",
    "# New column just the year\n",
    "# df['year'] = df['date'].dt.year\n",
    "\n",
    "# You can also do math on datetime columns"
   ]
  },
  {
   "cell_type": "markdown",
   "metadata": {},
   "source": [
    "## Day 3 - Join and Reshape Data\n",
    "\n",
    "- concatenate and merge data with pandas\n",
    "- tidy data formatting\n",
    "- `.melt()` and `.pivot()` to translate between wide and tidy \n",
    "\n",
    "Helpful Links:\n",
    "- [Pandas Cheat Sheet](https://github.com/pandas-dev/pandas/blob/master/doc/cheatsheet/Pandas_Cheat_Sheet.pdf)\n",
    "- [Tidy Data - Wikipedia](https://en.wikipedia.org/wiki/Tidy_data)\n",
    "- Python Data Science Handbook - JakeVDP\n",
    "  - [Chapter 3.6](https://jakevdp.github.io/PythonDataScienceHandbook/03.06-concat-and-append.html), Combining Datasets: Concat and Append\n",
    "  - [Chapter 3.7](https://jakevdp.github.io/PythonDataScienceHandbook/03.07-merge-and-join.html), Combining Datasets: Merge and Join\n",
    "  - [Chapter 3.8](https://jakevdp.github.io/PythonDataScienceHandbook/03.08-aggregation-and-grouping.html), Aggregation and Grouping\n",
    "  - [Chapter 3.9](https://jakevdp.github.io/PythonDataScienceHandbook/03.09-pivot-tables.html), Pivot Tables\n",
    " \n",
    "- Pandas Documentation: [Reshaping and Pivot Tables](https://pandas.pydata.org/pandas-docs/stable/reshaping.html)\n",
    "- Modern Pandas, Part 5: [Tidy Data](https://tomaugspurger.github.io/modern-5-tidy.html)"
   ]
  },
  {
   "cell_type": "markdown",
   "metadata": {},
   "source": [
    "### Concatenate"
   ]
  },
  {
   "cell_type": "code",
   "execution_count": null,
   "metadata": {},
   "outputs": [],
   "source": [
    "# Concatenate (rows by default (axis=0))\n",
    "\n",
    "# Pass in the list of df's\n",
    "cat_by_rows = pd.concat([df1, df2])\n",
    "# Reset index so we don't have repeated rows\n",
    "cat_by_rows = cat_by_rows.reset_index()\n",
    "\n",
    "# Or by cols\n",
    "cat_by_cols = pd.concat([df1, df2], axis=1)\n",
    "\n",
    "\n",
    "# NaNs are added wherever things don't match up\n",
    "# i.e. if you're going by rows and not all the column headers match"
   ]
  },
  {
   "cell_type": "markdown",
   "metadata": {},
   "source": [
    "### Merge"
   ]
  },
  {
   "cell_type": "code",
   "execution_count": null,
   "metadata": {},
   "outputs": [],
   "source": [
    "# on  = the col to merge on\n",
    "# how = what to do w non-matching rows. \n",
    "#                                 inner=keep\n",
    "#                                 outer=drop\n",
    "#                                 right=keep only from right\n",
    "#                                 left=keep only from left\n",
    "\n",
    "new_df = pd.merge(df1,\n",
    "                  df2,\n",
    "                  on='column4',\n",
    "                  how='inner')\n",
    "\n",
    "\n",
    "# merge multiple\n",
    "merged = (orders[['order_id', 'order_hour_of_day']]\n",
    "          .merge(order_products[['order_id', 'product_id']])\n",
    "          .merge(products[['product_id', 'product_name']]))"
   ]
  },
  {
   "cell_type": "markdown",
   "metadata": {},
   "source": [
    "## Tidy or Wide - Melt/Pivot"
   ]
  },
  {
   "cell_type": "markdown",
   "metadata": {},
   "source": [
    "\n",
    "### Why?\n",
    "\n",
    "Some libraries prefer data in different formats\n",
    "\n",
    "For example, Seaborn prefers data in \"Tidy\" format often (but not always).\n",
    "\n",
    "> \"[Seaborn will be most powerful when your datasets have a particular organization.](https://seaborn.pydata.org/introduction.html#organizing-datasets) This format ia alternately called “long-form” or “tidy” data. The rules are simple:\n",
    "> - Each variable is a column\n",
    "> - Each observation is a row\n",
    "\n",
    "Think backwards from the plot you want to draw -- a \"variable\" will be something that's assigned a role in the plot\n",
    "\n",
    "[Hadley Wickham examples](http://vita.had.co.nz/papers/tidy-data.html)"
   ]
  },
  {
   "cell_type": "markdown",
   "metadata": {},
   "source": [
    "Demonstration:"
   ]
  },
  {
   "cell_type": "code",
   "execution_count": 8,
   "metadata": {},
   "outputs": [
    {
     "data": {
      "text/html": [
       "<div>\n",
       "<style scoped>\n",
       "    .dataframe tbody tr th:only-of-type {\n",
       "        vertical-align: middle;\n",
       "    }\n",
       "\n",
       "    .dataframe tbody tr th {\n",
       "        vertical-align: top;\n",
       "    }\n",
       "\n",
       "    .dataframe thead th {\n",
       "        text-align: right;\n",
       "    }\n",
       "</style>\n",
       "<table border=\"1\" class=\"dataframe\">\n",
       "  <thead>\n",
       "    <tr style=\"text-align: right;\">\n",
       "      <th></th>\n",
       "      <th>name</th>\n",
       "      <th>trt</th>\n",
       "      <th>result</th>\n",
       "    </tr>\n",
       "  </thead>\n",
       "  <tbody>\n",
       "    <tr>\n",
       "      <th>0</th>\n",
       "      <td>John Smith</td>\n",
       "      <td>a</td>\n",
       "      <td>NaN</td>\n",
       "    </tr>\n",
       "    <tr>\n",
       "      <th>1</th>\n",
       "      <td>Jane Doe</td>\n",
       "      <td>a</td>\n",
       "      <td>16.0</td>\n",
       "    </tr>\n",
       "    <tr>\n",
       "      <th>2</th>\n",
       "      <td>Mary Johnson</td>\n",
       "      <td>a</td>\n",
       "      <td>3.0</td>\n",
       "    </tr>\n",
       "    <tr>\n",
       "      <th>3</th>\n",
       "      <td>John Smith</td>\n",
       "      <td>b</td>\n",
       "      <td>2.0</td>\n",
       "    </tr>\n",
       "    <tr>\n",
       "      <th>4</th>\n",
       "      <td>Jane Doe</td>\n",
       "      <td>b</td>\n",
       "      <td>11.0</td>\n",
       "    </tr>\n",
       "    <tr>\n",
       "      <th>5</th>\n",
       "      <td>Mary Johnson</td>\n",
       "      <td>b</td>\n",
       "      <td>1.0</td>\n",
       "    </tr>\n",
       "  </tbody>\n",
       "</table>\n",
       "</div>"
      ],
      "text/plain": [
       "           name trt  result\n",
       "0    John Smith   a     NaN\n",
       "1      Jane Doe   a    16.0\n",
       "2  Mary Johnson   a     3.0\n",
       "3    John Smith   b     2.0\n",
       "4      Jane Doe   b    11.0\n",
       "5  Mary Johnson   b     1.0"
      ]
     },
     "execution_count": 8,
     "metadata": {},
     "output_type": "execute_result"
    }
   ],
   "source": [
    "# build a df from scratch\n",
    "\n",
    "%matplotlib inline\n",
    "import pandas as pd\n",
    "import numpy as np\n",
    "import seaborn as sns\n",
    "\n",
    "table1 = pd.DataFrame(\n",
    "    [[np.nan, 2],\n",
    "     [16,    11], \n",
    "     [3,      1]],\n",
    "    index=['John Smith', 'Jane Doe', 'Mary Johnson'], \n",
    "    columns=['treatmenta', 'treatmentb'])\n",
    "\n",
    "# transpose it\n",
    "table2 = table1.T\n",
    "table2\n",
    "\n",
    "# Or make it tidy (a row should be person, treatment, value)\n",
    "\n",
    "table1 = table1.reset_index() # to make names a column, not just the index\n",
    "\n",
    "tidy1 = table1.melt(id_vars='index', value_vars=['treatmenta', 'treatmentb'])\n",
    "\n",
    "tidy1\n",
    "\n",
    "# rename the columns\n",
    "\n",
    "tidy1 = tidy1.rename(columns={'index': 'name', \n",
    "                              'variable': 'trt', \n",
    "                              'value': 'result' \n",
    "                              })\n",
    "tidy1\n",
    "\n",
    "# Or replace any text within the df\n",
    "\n",
    "tidy1.trt = tidy1.trt.str.replace('treatment', '')\n",
    "\n",
    "tidy1"
   ]
  },
  {
   "cell_type": "code",
   "execution_count": 9,
   "metadata": {},
   "outputs": [
    {
     "data": {
      "text/html": [
       "<div>\n",
       "<style scoped>\n",
       "    .dataframe tbody tr th:only-of-type {\n",
       "        vertical-align: middle;\n",
       "    }\n",
       "\n",
       "    .dataframe tbody tr th {\n",
       "        vertical-align: top;\n",
       "    }\n",
       "\n",
       "    .dataframe thead th {\n",
       "        text-align: right;\n",
       "    }\n",
       "</style>\n",
       "<table border=\"1\" class=\"dataframe\">\n",
       "  <thead>\n",
       "    <tr style=\"text-align: right;\">\n",
       "      <th>trt</th>\n",
       "      <th>a</th>\n",
       "      <th>b</th>\n",
       "    </tr>\n",
       "    <tr>\n",
       "      <th>name</th>\n",
       "      <th></th>\n",
       "      <th></th>\n",
       "    </tr>\n",
       "  </thead>\n",
       "  <tbody>\n",
       "    <tr>\n",
       "      <th>Jane Doe</th>\n",
       "      <td>16.0</td>\n",
       "      <td>11.0</td>\n",
       "    </tr>\n",
       "    <tr>\n",
       "      <th>John Smith</th>\n",
       "      <td>NaN</td>\n",
       "      <td>2.0</td>\n",
       "    </tr>\n",
       "    <tr>\n",
       "      <th>Mary Johnson</th>\n",
       "      <td>3.0</td>\n",
       "      <td>1.0</td>\n",
       "    </tr>\n",
       "  </tbody>\n",
       "</table>\n",
       "</div>"
      ],
      "text/plain": [
       "trt              a     b\n",
       "name                    \n",
       "Jane Doe      16.0  11.0\n",
       "John Smith     NaN   2.0\n",
       "Mary Johnson   3.0   1.0"
      ]
     },
     "execution_count": 9,
     "metadata": {},
     "output_type": "execute_result"
    }
   ],
   "source": [
    "# send it back - pivot_table()\n",
    "\n",
    "# index: the unique identifier\n",
    "# columns: what you want to differentiate columns by\n",
    "# values: numbers go in the middle in wide mode\n",
    "\n",
    "wide = tidy1.pivot_table(index='name', columns='trt', values='result')\n",
    "wide"
   ]
  },
  {
   "cell_type": "code",
   "execution_count": 13,
   "metadata": {},
   "outputs": [
    {
     "data": {
      "image/png": "[encoded data removed]",
      "text/plain": [
       "<Figure size 432x144 with 3 Axes>"
      ]
     },
     "metadata": {},
     "output_type": "display_data"
    }
   ],
   "source": [
    "# Seaborn can make separate bar charts that show how well each treatment\n",
    "# performed on a single person\n",
    "\n",
    "import seaborn as sns\n",
    "from matplotlib import style\n",
    "style.use('ggplot')\n",
    "\n",
    "sns.catplot(x='trt', y='result', col='name', kind='bar', data=tidy1, height=2);"
   ]
  },
  {
   "cell_type": "code",
   "execution_count": null,
   "metadata": {},
   "outputs": [],
   "source": []
  }
 ],
 "metadata": {
  "kernelspec": {
   "display_name": "Python 3",
   "language": "python",
   "name": "python3"
  },
  "language_info": {
   "codemirror_mode": {
    "name": "ipython",
    "version": 3
   },
   "file_extension": ".py",
   "mimetype": "text/x-python",
   "name": "python",
   "nbconvert_exporter": "python",
   "pygments_lexer": "ipython3",
   "version": "3.8.2"
  }
 },
 "nbformat": 4,
 "nbformat_minor": 4
}
