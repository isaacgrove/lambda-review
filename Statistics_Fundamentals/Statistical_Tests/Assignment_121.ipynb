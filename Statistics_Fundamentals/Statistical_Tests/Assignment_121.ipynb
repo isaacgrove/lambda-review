{
 "cells": [
  {
   "cell_type": "markdown",
   "metadata": {
    "id": "Sa5KWMO1ngPN"
   },
   "source": [
    "<img align=\"left\" src=\"https://lever-client-logos.s3.amazonaws.com/864372b1-534c-480e-acd5-9711f850815c-1524247202159.png\" width=200>\n",
    "<br></br>\n",
    "<br></br>\n",
    "\n",
    "## *Data Science Unit 1 Sprint 2 Assignment 1*\n",
    "\n",
    "# Apply the t-test to real data\n",
    "\n",
    "Your assignment is to determine which issues have \"statistically significant\" differences between political parties in this [1980s congressional voting data](https://archive.ics.uci.edu/ml/datasets/Congressional+Voting+Records). The data consists of 435 instances (one for each congressperson), a class (democrat or republican), and 16 binary attributes (yes or no for voting for or against certain issues). Be aware - there are missing values!\n",
    "\n",
    "Your goals:\n",
    "\n",
    "1. Load and clean the data (or determine the best method to drop observations when running tests)\n",
    "2. Using hypothesis testing, find an issue that democrats support more than republicans with p < 0.01\n",
    "3. Using hypothesis testing, find an issue that republicans support more than democrats with p < 0.01\n",
    "4. Using hypothesis testing, find an issue where the difference between republicans and democrats has p > 0.1 (i.e. there may not be much of a difference)\n",
    "\n",
    "Note that this data will involve *2 sample* t-tests, because you're comparing averages across two groups (republicans and democrats) rather than a single group against a null hypothesis.\n",
    "\n",
    "Stretch goals:\n",
    "\n",
    "1. Refactor your code into functions so it's easy to rerun with arbitrary variables\n",
    "2. Apply hypothesis testing to your personal project data (for the purposes of this notebook you can type a summary of the hypothesis you formed and tested)"
   ]
  },
  {
   "cell_type": "markdown",
   "metadata": {
    "id": "kZF4inq8NHar"
   },
   "source": [
    "## Round 2, as TL\n",
    "## THIS IS A DIFFERENT ASSIGNMENT\n",
    "### Instructions are in the solution notebook"
   ]
  },
  {
   "cell_type": "code",
   "execution_count": null,
   "metadata": {
    "id": "ritLKkSaMxgf"
   },
   "outputs": [],
   "source": [
    "import pandas as pd\n",
    "import numpy as np\n",
    "\n",
    "column_headers = ['symboling', 'normalized-losses', 'make', 'fuel-type', \n",
    "                  'aspiration', 'num-of-doors', 'body-style', 'drive-wheels', \n",
    "                  'engine-location', 'wheel-base', 'length', 'width', 'height', \n",
    "                  'curb-weight', 'engine-type', 'num-of-cylinders', \n",
    "                  'engine-size', 'fuel-system', 'bore', 'stroke', \n",
    "                  'compression-ratio', 'horsepower', 'peak-rpm', 'city-mpg', \n",
    "                  'highway-mpg', 'price']"
   ]
  },
  {
   "cell_type": "code",
   "execution_count": null,
   "metadata": {
    "colab": {
     "base_uri": "https://localhost:8080/",
     "height": 216
    },
    "id": "tG__4MtdMxfc",
    "outputId": "83eab41a-0e75-4e61-90d4-f42b0cddd50c"
   },
   "outputs": [
    {
     "name": "stdout",
     "output_type": "stream",
     "text": [
      "(205, 26)\n"
     ]
    },
    {
     "data": {
      "text/html": [
       "<div>\n",
       "<style scoped>\n",
       "    .dataframe tbody tr th:only-of-type {\n",
       "        vertical-align: middle;\n",
       "    }\n",
       "\n",
       "    .dataframe tbody tr th {\n",
       "        vertical-align: top;\n",
       "    }\n",
       "\n",
       "    .dataframe thead th {\n",
       "        text-align: right;\n",
       "    }\n",
       "</style>\n",
       "<table border=\"1\" class=\"dataframe\">\n",
       "  <thead>\n",
       "    <tr style=\"text-align: right;\">\n",
       "      <th></th>\n",
       "      <th>symboling</th>\n",
       "      <th>normalized-losses</th>\n",
       "      <th>make</th>\n",
       "      <th>fuel-type</th>\n",
       "      <th>aspiration</th>\n",
       "      <th>num-of-doors</th>\n",
       "      <th>body-style</th>\n",
       "      <th>drive-wheels</th>\n",
       "      <th>engine-location</th>\n",
       "      <th>wheel-base</th>\n",
       "      <th>length</th>\n",
       "      <th>width</th>\n",
       "      <th>height</th>\n",
       "      <th>curb-weight</th>\n",
       "      <th>engine-type</th>\n",
       "      <th>num-of-cylinders</th>\n",
       "      <th>engine-size</th>\n",
       "      <th>fuel-system</th>\n",
       "      <th>bore</th>\n",
       "      <th>stroke</th>\n",
       "      <th>compression-ratio</th>\n",
       "      <th>horsepower</th>\n",
       "      <th>peak-rpm</th>\n",
       "      <th>city-mpg</th>\n",
       "      <th>highway-mpg</th>\n",
       "      <th>price</th>\n",
       "    </tr>\n",
       "  </thead>\n",
       "  <tbody>\n",
       "    <tr>\n",
       "      <th>0</th>\n",
       "      <td>3</td>\n",
       "      <td>NaN</td>\n",
       "      <td>alfa-romero</td>\n",
       "      <td>gas</td>\n",
       "      <td>std</td>\n",
       "      <td>two</td>\n",
       "      <td>convertible</td>\n",
       "      <td>rwd</td>\n",
       "      <td>front</td>\n",
       "      <td>88.6</td>\n",
       "      <td>168.8</td>\n",
       "      <td>64.1</td>\n",
       "      <td>48.8</td>\n",
       "      <td>2548</td>\n",
       "      <td>dohc</td>\n",
       "      <td>four</td>\n",
       "      <td>130</td>\n",
       "      <td>mpfi</td>\n",
       "      <td>3.47</td>\n",
       "      <td>2.68</td>\n",
       "      <td>9.0</td>\n",
       "      <td>111.0</td>\n",
       "      <td>5000.0</td>\n",
       "      <td>21</td>\n",
       "      <td>27</td>\n",
       "      <td>13495.0</td>\n",
       "    </tr>\n",
       "    <tr>\n",
       "      <th>1</th>\n",
       "      <td>3</td>\n",
       "      <td>NaN</td>\n",
       "      <td>alfa-romero</td>\n",
       "      <td>gas</td>\n",
       "      <td>std</td>\n",
       "      <td>two</td>\n",
       "      <td>convertible</td>\n",
       "      <td>rwd</td>\n",
       "      <td>front</td>\n",
       "      <td>88.6</td>\n",
       "      <td>168.8</td>\n",
       "      <td>64.1</td>\n",
       "      <td>48.8</td>\n",
       "      <td>2548</td>\n",
       "      <td>dohc</td>\n",
       "      <td>four</td>\n",
       "      <td>130</td>\n",
       "      <td>mpfi</td>\n",
       "      <td>3.47</td>\n",
       "      <td>2.68</td>\n",
       "      <td>9.0</td>\n",
       "      <td>111.0</td>\n",
       "      <td>5000.0</td>\n",
       "      <td>21</td>\n",
       "      <td>27</td>\n",
       "      <td>16500.0</td>\n",
       "    </tr>\n",
       "  </tbody>\n",
       "</table>\n",
       "</div>"
      ],
      "text/plain": [
       "   symboling  normalized-losses         make  ... city-mpg highway-mpg    price\n",
       "0          3                NaN  alfa-romero  ...       21          27  13495.0\n",
       "1          3                NaN  alfa-romero  ...       21          27  16500.0\n",
       "\n",
       "[2 rows x 26 columns]"
      ]
     },
     "execution_count": 2,
     "metadata": {
      "tags": []
     },
     "output_type": "execute_result"
    }
   ],
   "source": [
    "df = pd.read_csv('https://archive.ics.uci.edu/ml/machine-learning-databases/autos/imports-85.data', \n",
    "                 header=None,\n",
    "                 names=column_headers,\n",
    "                 na_values='?')\n",
    "print(df.shape)\n",
    "df.head(2)"
   ]
  },
  {
   "cell_type": "code",
   "execution_count": null,
   "metadata": {
    "colab": {
     "base_uri": "https://localhost:8080/",
     "height": 165
    },
    "id": "daDNynUUMxUx",
    "outputId": "5e9cd324-2497-4763-aa70-495f2d98c666"
   },
   "outputs": [
    {
     "data": {
      "text/html": [
       "<div>\n",
       "<style scoped>\n",
       "    .dataframe tbody tr th:only-of-type {\n",
       "        vertical-align: middle;\n",
       "    }\n",
       "\n",
       "    .dataframe tbody tr th {\n",
       "        vertical-align: top;\n",
       "    }\n",
       "\n",
       "    .dataframe thead th {\n",
       "        text-align: right;\n",
       "    }\n",
       "</style>\n",
       "<table border=\"1\" class=\"dataframe\">\n",
       "  <thead>\n",
       "    <tr style=\"text-align: right;\">\n",
       "      <th></th>\n",
       "      <th>symboling</th>\n",
       "      <th>normalized-losses</th>\n",
       "      <th>make</th>\n",
       "      <th>fuel-type</th>\n",
       "      <th>aspiration</th>\n",
       "      <th>num-of-doors</th>\n",
       "      <th>body-style</th>\n",
       "      <th>drive-wheels</th>\n",
       "      <th>engine-location</th>\n",
       "      <th>wheel-base</th>\n",
       "      <th>length</th>\n",
       "      <th>width</th>\n",
       "      <th>height</th>\n",
       "      <th>curb-weight</th>\n",
       "      <th>engine-type</th>\n",
       "      <th>num-of-cylinders</th>\n",
       "      <th>engine-size</th>\n",
       "      <th>fuel-system</th>\n",
       "      <th>bore</th>\n",
       "      <th>stroke</th>\n",
       "      <th>compression-ratio</th>\n",
       "      <th>horsepower</th>\n",
       "      <th>peak-rpm</th>\n",
       "      <th>city-mpg</th>\n",
       "      <th>highway-mpg</th>\n",
       "      <th>price</th>\n",
       "    </tr>\n",
       "  </thead>\n",
       "  <tbody>\n",
       "    <tr>\n",
       "      <th>121</th>\n",
       "      <td>1</td>\n",
       "      <td>154.0</td>\n",
       "      <td>plymouth</td>\n",
       "      <td>gas</td>\n",
       "      <td>std</td>\n",
       "      <td>four</td>\n",
       "      <td>sedan</td>\n",
       "      <td>fwd</td>\n",
       "      <td>front</td>\n",
       "      <td>93.7</td>\n",
       "      <td>167.3</td>\n",
       "      <td>63.8</td>\n",
       "      <td>50.8</td>\n",
       "      <td>1989</td>\n",
       "      <td>ohc</td>\n",
       "      <td>four</td>\n",
       "      <td>90</td>\n",
       "      <td>2bbl</td>\n",
       "      <td>2.97</td>\n",
       "      <td>3.23</td>\n",
       "      <td>9.4</td>\n",
       "      <td>68.0</td>\n",
       "      <td>5500.0</td>\n",
       "      <td>31</td>\n",
       "      <td>38</td>\n",
       "      <td>6692.0</td>\n",
       "    </tr>\n",
       "    <tr>\n",
       "      <th>176</th>\n",
       "      <td>-1</td>\n",
       "      <td>65.0</td>\n",
       "      <td>toyota</td>\n",
       "      <td>gas</td>\n",
       "      <td>std</td>\n",
       "      <td>four</td>\n",
       "      <td>sedan</td>\n",
       "      <td>fwd</td>\n",
       "      <td>front</td>\n",
       "      <td>102.4</td>\n",
       "      <td>175.6</td>\n",
       "      <td>66.5</td>\n",
       "      <td>54.9</td>\n",
       "      <td>2414</td>\n",
       "      <td>ohc</td>\n",
       "      <td>four</td>\n",
       "      <td>122</td>\n",
       "      <td>mpfi</td>\n",
       "      <td>3.31</td>\n",
       "      <td>3.54</td>\n",
       "      <td>8.7</td>\n",
       "      <td>92.0</td>\n",
       "      <td>4200.0</td>\n",
       "      <td>27</td>\n",
       "      <td>32</td>\n",
       "      <td>10898.0</td>\n",
       "    </tr>\n",
       "  </tbody>\n",
       "</table>\n",
       "</div>"
      ],
      "text/plain": [
       "     symboling  normalized-losses      make  ... city-mpg highway-mpg    price\n",
       "121          1              154.0  plymouth  ...       31          38   6692.0\n",
       "176         -1               65.0    toyota  ...       27          32  10898.0\n",
       "\n",
       "[2 rows x 26 columns]"
      ]
     },
     "execution_count": 4,
     "metadata": {
      "tags": []
     },
     "output_type": "execute_result"
    }
   ],
   "source": [
    "# df.sample 10 cars with random seed 30\n",
    "\n",
    "sample_10_cars = df.sample(n=10, random_state=30)\n",
    "sample_10_cars.head(2)"
   ]
  },
  {
   "cell_type": "code",
   "execution_count": null,
   "metadata": {
    "colab": {
     "base_uri": "https://localhost:8080/",
     "height": 34
    },
    "id": "sN3ilCNyMxTv",
    "outputId": "b7135ae2-72a4-4ae8-9452-b141e9871b79"
   },
   "outputs": [
    {
     "data": {
      "text/plain": [
       "Ttest_1sampResult(statistic=0.8912422391619923, pvalue=0.39600040771093326)"
      ]
     },
     "execution_count": 5,
     "metadata": {
      "tags": []
     },
     "output_type": "execute_result"
    }
   ],
   "source": [
    "from scipy.stats import ttest_1samp\n",
    "\n",
    "ttest_1samp(sample_10_cars['highway-mpg'], df['highway-mpg'].mean(), nan_policy='omit')"
   ]
  },
  {
   "cell_type": "markdown",
   "metadata": {
    "id": "VRpPGH2QRwq6"
   },
   "source": [
    "The salesman says the cars he sells typically have a fuel efficiency of about 35 miles per gallon on the highway. You want to verify his claim but can only test 10 cars. Using your sample of 10, test his claim and report your results."
   ]
  },
  {
   "cell_type": "code",
   "execution_count": null,
   "metadata": {
    "colab": {
     "base_uri": "https://localhost:8080/"
    },
    "id": "wKF39FLEMxPb",
    "outputId": "fb2830cc-cd18-49c7-e7d6-259045b461c7"
   },
   "outputs": [
    {
     "data": {
      "text/plain": [
       "Ttest_1sampResult(statistic=-0.9570244044334747, pvalue=0.36355472283248624)"
      ]
     },
     "execution_count": 5,
     "metadata": {
      "tags": []
     },
     "output_type": "execute_result"
    }
   ],
   "source": [
    "ttest_1samp(sample_10_cars['highway-mpg'], 35, nan_policy='omit')\n",
    "\n",
    "# ...nice guy"
   ]
  },
  {
   "cell_type": "code",
   "execution_count": null,
   "metadata": {
    "colab": {
     "base_uri": "https://localhost:8080/",
     "height": 34
    },
    "id": "-BrJMdavTzTk",
    "outputId": "cd8f3f03-2103-4685-e181-ed52151c70d6"
   },
   "outputs": [
    {
     "data": {
      "text/plain": [
       "Ttest_1sampResult(statistic=-6.5185242467032305, pvalue=3.003137417468754e-09)"
      ]
     },
     "execution_count": 6,
     "metadata": {
      "tags": []
     },
     "output_type": "execute_result"
    }
   ],
   "source": [
    "# now with 100-car sample\n",
    "\n",
    "sample_100_cars = df.sample(100, random_state=30)\n",
    "\n",
    "ttest_1samp(sample_100_cars['highway-mpg'], 35, nan_policy='omit')"
   ]
  },
  {
   "cell_type": "code",
   "execution_count": null,
   "metadata": {
    "colab": {
     "base_uri": "https://localhost:8080/",
     "height": 34
    },
    "id": "ArP7ydtSTxrT",
    "outputId": "4825d433-f62b-4133-a772-651d1f3e9cc0"
   },
   "outputs": [
    {
     "name": "stdout",
     "output_type": "stream",
     "text": [
      "30.64\n"
     ]
    }
   ],
   "source": [
    "# yeah the average is 30\n",
    "\n",
    "print(sample_100_cars['highway-mpg'].mean())"
   ]
  },
  {
   "cell_type": "markdown",
   "metadata": {
    "id": "b3deh5v8Uj3b"
   },
   "source": [
    "## Part 2 Congressional votes data\n",
    "\n",
    "### 1) Load + clean\n",
    "\n",
    "The data consists of 435 instances (one for each congressperson), a class (democrat or republican), and 16 binary attributes (yes or no for voting for or against certain issues). Be aware - *there are missing values!*\n",
    "\n",
    "- Read the dataset in from UCI, you'll need to provide a list of column headers\n",
    "- Encode \"yes\" votes as 1 and \"no\" votes as 0. (You can use `df.replace()` to swap out these values)\n",
    "- Use dataframe filtering to split the dataframe into two new dataframes based on party. Hold all republicans in one dataframe and all democrats in the other. These will be our two different \"samples.\"\n"
   ]
  },
  {
   "cell_type": "code",
   "execution_count": null,
   "metadata": {
    "colab": {
     "base_uri": "https://localhost:8080/",
     "height": 204
    },
    "id": "pnwS0e8SUVYT",
    "outputId": "d85df41d-5874-4ac4-e0b8-b5b0323cd2ab"
   },
   "outputs": [
    {
     "name": "stdout",
     "output_type": "stream",
     "text": [
      "--2020-07-14 00:00:07--  https://archive.ics.uci.edu/ml/machine-learning-databases/voting-records/house-votes-84.data\n",
      "Resolving archive.ics.uci.edu (archive.ics.uci.edu)... 128.195.10.252\n",
      "Connecting to archive.ics.uci.edu (archive.ics.uci.edu)|128.195.10.252|:443... connected.\n",
      "HTTP request sent, awaiting response... 200 OK\n",
      "Length: 18171 (18K) [application/x-httpd-php]\n",
      "Saving to: ‘house-votes-84.data’\n",
      "\n",
      "\r",
      "house-votes-84.data   0%[                    ]       0  --.-KB/s               \r",
      "house-votes-84.data 100%[===================>]  17.75K  --.-KB/s    in 0.06s   \n",
      "\n",
      "2020-07-14 00:00:08 (287 KB/s) - ‘house-votes-84.data’ saved [18171/18171]\n",
      "\n"
     ]
    }
   ],
   "source": [
    "# Grab the file from UCI:\n",
    "!wget https://archive.ics.uci.edu/ml/machine-learning-databases/voting-records/house-votes-84.data"
   ]
  },
  {
   "cell_type": "code",
   "execution_count": null,
   "metadata": {
    "id": "PYwkF3GMU5Wj"
   },
   "outputs": [],
   "source": [
    "column_headers = ['party', 'handicapped-infants', 'water-project', \n",
    "'budget', 'physician-fee-freeze', 'el-salvador-aid', 'religious-groups', \n",
    "'anti-satellite-ban', 'aid-to-contras', 'mx-missile', 'immigration', \n",
    "'synfuels', 'education', 'right-to-sue', 'crime', 'duty-free', \n",
    "'south-africa']"
   ]
  },
  {
   "cell_type": "code",
   "execution_count": null,
   "metadata": {
    "colab": {
     "base_uri": "https://localhost:8080/",
     "height": 258
    },
    "id": "trEe6inuU5Vk",
    "outputId": "2401fd1e-8fc8-42b3-99ee-296cec493a28"
   },
   "outputs": [
    {
     "data": {
      "text/html": [
       "<div>\n",
       "<style scoped>\n",
       "    .dataframe tbody tr th:only-of-type {\n",
       "        vertical-align: middle;\n",
       "    }\n",
       "\n",
       "    .dataframe tbody tr th {\n",
       "        vertical-align: top;\n",
       "    }\n",
       "\n",
       "    .dataframe thead th {\n",
       "        text-align: right;\n",
       "    }\n",
       "</style>\n",
       "<table border=\"1\" class=\"dataframe\">\n",
       "  <thead>\n",
       "    <tr style=\"text-align: right;\">\n",
       "      <th></th>\n",
       "      <th>party</th>\n",
       "      <th>handicapped-infants</th>\n",
       "      <th>water-project</th>\n",
       "      <th>budget</th>\n",
       "      <th>physician-fee-freeze</th>\n",
       "      <th>el-salvador-aid</th>\n",
       "      <th>religious-groups</th>\n",
       "      <th>anti-satellite-ban</th>\n",
       "      <th>aid-to-contras</th>\n",
       "      <th>mx-missile</th>\n",
       "      <th>immigration</th>\n",
       "      <th>synfuels</th>\n",
       "      <th>education</th>\n",
       "      <th>right-to-sue</th>\n",
       "      <th>crime</th>\n",
       "      <th>duty-free</th>\n",
       "      <th>south-africa</th>\n",
       "    </tr>\n",
       "  </thead>\n",
       "  <tbody>\n",
       "    <tr>\n",
       "      <th>0</th>\n",
       "      <td>republican</td>\n",
       "      <td>0.0</td>\n",
       "      <td>1.0</td>\n",
       "      <td>0.0</td>\n",
       "      <td>1.0</td>\n",
       "      <td>1.0</td>\n",
       "      <td>1.0</td>\n",
       "      <td>0.0</td>\n",
       "      <td>0.0</td>\n",
       "      <td>0.0</td>\n",
       "      <td>1.0</td>\n",
       "      <td>NaN</td>\n",
       "      <td>1.0</td>\n",
       "      <td>1.0</td>\n",
       "      <td>1.0</td>\n",
       "      <td>0.0</td>\n",
       "      <td>1.0</td>\n",
       "    </tr>\n",
       "    <tr>\n",
       "      <th>1</th>\n",
       "      <td>republican</td>\n",
       "      <td>0.0</td>\n",
       "      <td>1.0</td>\n",
       "      <td>0.0</td>\n",
       "      <td>1.0</td>\n",
       "      <td>1.0</td>\n",
       "      <td>1.0</td>\n",
       "      <td>0.0</td>\n",
       "      <td>0.0</td>\n",
       "      <td>0.0</td>\n",
       "      <td>0.0</td>\n",
       "      <td>0.0</td>\n",
       "      <td>1.0</td>\n",
       "      <td>1.0</td>\n",
       "      <td>1.0</td>\n",
       "      <td>0.0</td>\n",
       "      <td>NaN</td>\n",
       "    </tr>\n",
       "    <tr>\n",
       "      <th>2</th>\n",
       "      <td>democrat</td>\n",
       "      <td>NaN</td>\n",
       "      <td>1.0</td>\n",
       "      <td>1.0</td>\n",
       "      <td>NaN</td>\n",
       "      <td>1.0</td>\n",
       "      <td>1.0</td>\n",
       "      <td>0.0</td>\n",
       "      <td>0.0</td>\n",
       "      <td>0.0</td>\n",
       "      <td>0.0</td>\n",
       "      <td>1.0</td>\n",
       "      <td>0.0</td>\n",
       "      <td>1.0</td>\n",
       "      <td>1.0</td>\n",
       "      <td>0.0</td>\n",
       "      <td>0.0</td>\n",
       "    </tr>\n",
       "    <tr>\n",
       "      <th>3</th>\n",
       "      <td>democrat</td>\n",
       "      <td>0.0</td>\n",
       "      <td>1.0</td>\n",
       "      <td>1.0</td>\n",
       "      <td>0.0</td>\n",
       "      <td>NaN</td>\n",
       "      <td>1.0</td>\n",
       "      <td>0.0</td>\n",
       "      <td>0.0</td>\n",
       "      <td>0.0</td>\n",
       "      <td>0.0</td>\n",
       "      <td>1.0</td>\n",
       "      <td>0.0</td>\n",
       "      <td>1.0</td>\n",
       "      <td>0.0</td>\n",
       "      <td>0.0</td>\n",
       "      <td>1.0</td>\n",
       "    </tr>\n",
       "    <tr>\n",
       "      <th>4</th>\n",
       "      <td>democrat</td>\n",
       "      <td>1.0</td>\n",
       "      <td>1.0</td>\n",
       "      <td>1.0</td>\n",
       "      <td>0.0</td>\n",
       "      <td>1.0</td>\n",
       "      <td>1.0</td>\n",
       "      <td>0.0</td>\n",
       "      <td>0.0</td>\n",
       "      <td>0.0</td>\n",
       "      <td>0.0</td>\n",
       "      <td>1.0</td>\n",
       "      <td>NaN</td>\n",
       "      <td>1.0</td>\n",
       "      <td>1.0</td>\n",
       "      <td>1.0</td>\n",
       "      <td>1.0</td>\n",
       "    </tr>\n",
       "  </tbody>\n",
       "</table>\n",
       "</div>"
      ],
      "text/plain": [
       "        party  handicapped-infants  ...  duty-free  south-africa\n",
       "0  republican                  0.0  ...        0.0           1.0\n",
       "1  republican                  0.0  ...        0.0           NaN\n",
       "2    democrat                  NaN  ...        0.0           0.0\n",
       "3    democrat                  0.0  ...        0.0           1.0\n",
       "4    democrat                  1.0  ...        1.0           1.0\n",
       "\n",
       "[5 rows x 17 columns]"
      ]
     },
     "execution_count": 8,
     "metadata": {
      "tags": []
     },
     "output_type": "execute_result"
    }
   ],
   "source": [
    "df = pd.read_csv('house-votes-84.data', \n",
    "                 header=None,\n",
    "                 names=column_headers,\n",
    "                 na_values='?')\n",
    "\n",
    "df = df.replace({'n': 0, 'y': 1})\n",
    "\n",
    "df.head()"
   ]
  },
  {
   "cell_type": "code",
   "execution_count": null,
   "metadata": {
    "colab": {
     "base_uri": "https://localhost:8080/",
     "height": 34
    },
    "id": "NoyLNIusWJy-",
    "outputId": "e1261060-7a81-4b34-9704-497ba06b8e9c"
   },
   "outputs": [
    {
     "data": {
      "text/plain": [
       "(435, 17)"
      ]
     },
     "execution_count": 9,
     "metadata": {
      "tags": []
     },
     "output_type": "execute_result"
    }
   ],
   "source": [
    "df.shape"
   ]
  },
  {
   "cell_type": "code",
   "execution_count": null,
   "metadata": {
    "colab": {
     "base_uri": "https://localhost:8080/",
     "height": 199
    },
    "id": "Ipv96VA2U5Pr",
    "outputId": "f86213ec-bf3c-48c9-81de-eb47a318161f"
   },
   "outputs": [
    {
     "name": "stdout",
     "output_type": "stream",
     "text": [
      "(168, 17)\n",
      "(267, 17)\n"
     ]
    },
    {
     "data": {
      "text/html": [
       "<div>\n",
       "<style scoped>\n",
       "    .dataframe tbody tr th:only-of-type {\n",
       "        vertical-align: middle;\n",
       "    }\n",
       "\n",
       "    .dataframe tbody tr th {\n",
       "        vertical-align: top;\n",
       "    }\n",
       "\n",
       "    .dataframe thead th {\n",
       "        text-align: right;\n",
       "    }\n",
       "</style>\n",
       "<table border=\"1\" class=\"dataframe\">\n",
       "  <thead>\n",
       "    <tr style=\"text-align: right;\">\n",
       "      <th></th>\n",
       "      <th>party</th>\n",
       "      <th>handicapped-infants</th>\n",
       "      <th>water-project</th>\n",
       "      <th>budget</th>\n",
       "      <th>physician-fee-freeze</th>\n",
       "      <th>el-salvador-aid</th>\n",
       "      <th>religious-groups</th>\n",
       "      <th>anti-satellite-ban</th>\n",
       "      <th>aid-to-contras</th>\n",
       "      <th>mx-missile</th>\n",
       "      <th>immigration</th>\n",
       "      <th>synfuels</th>\n",
       "      <th>education</th>\n",
       "      <th>right-to-sue</th>\n",
       "      <th>crime</th>\n",
       "      <th>duty-free</th>\n",
       "      <th>south-africa</th>\n",
       "    </tr>\n",
       "  </thead>\n",
       "  <tbody>\n",
       "    <tr>\n",
       "      <th>0</th>\n",
       "      <td>republican</td>\n",
       "      <td>0.0</td>\n",
       "      <td>1.0</td>\n",
       "      <td>0.0</td>\n",
       "      <td>1.0</td>\n",
       "      <td>1.0</td>\n",
       "      <td>1.0</td>\n",
       "      <td>0.0</td>\n",
       "      <td>0.0</td>\n",
       "      <td>0.0</td>\n",
       "      <td>1.0</td>\n",
       "      <td>NaN</td>\n",
       "      <td>1.0</td>\n",
       "      <td>1.0</td>\n",
       "      <td>1.0</td>\n",
       "      <td>0.0</td>\n",
       "      <td>1.0</td>\n",
       "    </tr>\n",
       "    <tr>\n",
       "      <th>1</th>\n",
       "      <td>republican</td>\n",
       "      <td>0.0</td>\n",
       "      <td>1.0</td>\n",
       "      <td>0.0</td>\n",
       "      <td>1.0</td>\n",
       "      <td>1.0</td>\n",
       "      <td>1.0</td>\n",
       "      <td>0.0</td>\n",
       "      <td>0.0</td>\n",
       "      <td>0.0</td>\n",
       "      <td>0.0</td>\n",
       "      <td>0.0</td>\n",
       "      <td>1.0</td>\n",
       "      <td>1.0</td>\n",
       "      <td>1.0</td>\n",
       "      <td>0.0</td>\n",
       "      <td>NaN</td>\n",
       "    </tr>\n",
       "  </tbody>\n",
       "</table>\n",
       "</div>"
      ],
      "text/plain": [
       "        party  handicapped-infants  ...  duty-free  south-africa\n",
       "0  republican                  0.0  ...        0.0           1.0\n",
       "1  republican                  0.0  ...        0.0           NaN\n",
       "\n",
       "[2 rows x 17 columns]"
      ]
     },
     "execution_count": 10,
     "metadata": {
      "tags": []
     },
     "output_type": "execute_result"
    }
   ],
   "source": [
    "# Split into republicans and democrats.\n",
    "# These will be our two samples for t testing\n",
    "\n",
    "reps = df[df['party'] == 'republican']\n",
    "dems = df[df['party'] == 'democrat']\n",
    "\n",
    "print(reps.shape)\n",
    "print(dems.shape)\n",
    "reps.head(2)"
   ]
  },
  {
   "cell_type": "code",
   "execution_count": null,
   "metadata": {
    "id": "bzz0uu9sWeUu"
   },
   "outputs": [],
   "source": [
    "rep_list = []\n",
    "\n",
    "reps_numerical = reps.drop('party', axis=1)\n",
    "\n",
    "\n",
    "for issue in reps_numerical:\n",
    "  rep_list.append(reps[issue].sum() / len(reps_numerical))"
   ]
  },
  {
   "cell_type": "code",
   "execution_count": null,
   "metadata": {
    "id": "vfISevnyU48Y"
   },
   "outputs": [],
   "source": [
    "dem_list = []\n",
    "\n",
    "dems_numerical = dems.drop('party', axis=1)\n",
    "\n",
    "\n",
    "for issue in dems_numerical:\n",
    "  dem_list.append(dems[issue].sum() / len(dems_numerical))"
   ]
  },
  {
   "cell_type": "code",
   "execution_count": null,
   "metadata": {
    "id": "9zjpkT84kBjm"
   },
   "outputs": [],
   "source": [
    "support_comparisons = pd.DataFrame({'reps': rep_list, 'dems': dem_list}, index=column_headers[1:])\n",
    "\n",
    "support_comparisons['rep > dem by'] = support_comparisons['reps'] - support_comparisons['dems']"
   ]
  },
  {
   "cell_type": "code",
   "execution_count": null,
   "metadata": {
    "colab": {
     "base_uri": "https://localhost:8080/",
     "height": 545
    },
    "id": "cPH7SlNKkoMp",
    "outputId": "526d0067-4d68-457c-bd15-be419697d7b7"
   },
   "outputs": [
    {
     "data": {
      "text/html": [
       "<div>\n",
       "<style scoped>\n",
       "    .dataframe tbody tr th:only-of-type {\n",
       "        vertical-align: middle;\n",
       "    }\n",
       "\n",
       "    .dataframe tbody tr th {\n",
       "        vertical-align: top;\n",
       "    }\n",
       "\n",
       "    .dataframe thead th {\n",
       "        text-align: right;\n",
       "    }\n",
       "</style>\n",
       "<table border=\"1\" class=\"dataframe\">\n",
       "  <thead>\n",
       "    <tr style=\"text-align: right;\">\n",
       "      <th></th>\n",
       "      <th>reps</th>\n",
       "      <th>dems</th>\n",
       "      <th>rep &gt; dem by</th>\n",
       "    </tr>\n",
       "  </thead>\n",
       "  <tbody>\n",
       "    <tr>\n",
       "      <th>handicapped-infants</th>\n",
       "      <td>0.184524</td>\n",
       "      <td>0.584270</td>\n",
       "      <td>-0.399746</td>\n",
       "    </tr>\n",
       "    <tr>\n",
       "      <th>water-project</th>\n",
       "      <td>0.446429</td>\n",
       "      <td>0.449438</td>\n",
       "      <td>-0.003010</td>\n",
       "    </tr>\n",
       "    <tr>\n",
       "      <th>budget</th>\n",
       "      <td>0.130952</td>\n",
       "      <td>0.865169</td>\n",
       "      <td>-0.734216</td>\n",
       "    </tr>\n",
       "    <tr>\n",
       "      <th>physician-fee-freeze</th>\n",
       "      <td>0.970238</td>\n",
       "      <td>0.052434</td>\n",
       "      <td>0.917804</td>\n",
       "    </tr>\n",
       "    <tr>\n",
       "      <th>el-salvador-aid</th>\n",
       "      <td>0.934524</td>\n",
       "      <td>0.205993</td>\n",
       "      <td>0.728531</td>\n",
       "    </tr>\n",
       "    <tr>\n",
       "      <th>religious-groups</th>\n",
       "      <td>0.886905</td>\n",
       "      <td>0.460674</td>\n",
       "      <td>0.426231</td>\n",
       "    </tr>\n",
       "    <tr>\n",
       "      <th>anti-satellite-ban</th>\n",
       "      <td>0.232143</td>\n",
       "      <td>0.749064</td>\n",
       "      <td>-0.516921</td>\n",
       "    </tr>\n",
       "    <tr>\n",
       "      <th>aid-to-contras</th>\n",
       "      <td>0.142857</td>\n",
       "      <td>0.816479</td>\n",
       "      <td>-0.673622</td>\n",
       "    </tr>\n",
       "    <tr>\n",
       "      <th>mx-missile</th>\n",
       "      <td>0.113095</td>\n",
       "      <td>0.704120</td>\n",
       "      <td>-0.591025</td>\n",
       "    </tr>\n",
       "    <tr>\n",
       "      <th>immigration</th>\n",
       "      <td>0.547619</td>\n",
       "      <td>0.464419</td>\n",
       "      <td>0.083200</td>\n",
       "    </tr>\n",
       "    <tr>\n",
       "      <th>synfuels</th>\n",
       "      <td>0.125000</td>\n",
       "      <td>0.483146</td>\n",
       "      <td>-0.358146</td>\n",
       "    </tr>\n",
       "    <tr>\n",
       "      <th>education</th>\n",
       "      <td>0.803571</td>\n",
       "      <td>0.134831</td>\n",
       "      <td>0.668740</td>\n",
       "    </tr>\n",
       "    <tr>\n",
       "      <th>right-to-sue</th>\n",
       "      <td>0.809524</td>\n",
       "      <td>0.273408</td>\n",
       "      <td>0.536116</td>\n",
       "    </tr>\n",
       "    <tr>\n",
       "      <th>crime</th>\n",
       "      <td>0.940476</td>\n",
       "      <td>0.337079</td>\n",
       "      <td>0.603398</td>\n",
       "    </tr>\n",
       "    <tr>\n",
       "      <th>duty-free</th>\n",
       "      <td>0.083333</td>\n",
       "      <td>0.599251</td>\n",
       "      <td>-0.515918</td>\n",
       "    </tr>\n",
       "    <tr>\n",
       "      <th>south-africa</th>\n",
       "      <td>0.571429</td>\n",
       "      <td>0.647940</td>\n",
       "      <td>-0.076512</td>\n",
       "    </tr>\n",
       "  </tbody>\n",
       "</table>\n",
       "</div>"
      ],
      "text/plain": [
       "                          reps      dems  rep > dem by\n",
       "handicapped-infants   0.184524  0.584270     -0.399746\n",
       "water-project         0.446429  0.449438     -0.003010\n",
       "budget                0.130952  0.865169     -0.734216\n",
       "physician-fee-freeze  0.970238  0.052434      0.917804\n",
       "el-salvador-aid       0.934524  0.205993      0.728531\n",
       "religious-groups      0.886905  0.460674      0.426231\n",
       "anti-satellite-ban    0.232143  0.749064     -0.516921\n",
       "aid-to-contras        0.142857  0.816479     -0.673622\n",
       "mx-missile            0.113095  0.704120     -0.591025\n",
       "immigration           0.547619  0.464419      0.083200\n",
       "synfuels              0.125000  0.483146     -0.358146\n",
       "education             0.803571  0.134831      0.668740\n",
       "right-to-sue          0.809524  0.273408      0.536116\n",
       "crime                 0.940476  0.337079      0.603398\n",
       "duty-free             0.083333  0.599251     -0.515918\n",
       "south-africa          0.571429  0.647940     -0.076512"
      ]
     },
     "execution_count": 14,
     "metadata": {
      "tags": []
     },
     "output_type": "execute_result"
    }
   ],
   "source": [
    "support_comparisons.head(20)"
   ]
  },
  {
   "cell_type": "code",
   "execution_count": null,
   "metadata": {
    "id": "NY1bRmOOmjU-"
   },
   "outputs": [],
   "source": [
    "from scipy.stats import ttest_ind"
   ]
  },
  {
   "cell_type": "code",
   "execution_count": null,
   "metadata": {
    "colab": {
     "base_uri": "https://localhost:8080/",
     "height": 34
    },
    "id": "fJyAw2dNmskY",
    "outputId": "a9d870d9-6113-45d4-8195-d5ecb4f53730"
   },
   "outputs": [
    {
     "data": {
      "text/plain": [
       "Ttest_indResult(statistic=49.36708157301406, pvalue=1.994262314074344e-177)"
      ]
     },
     "execution_count": 16,
     "metadata": {
      "tags": []
     },
     "output_type": "execute_result"
    }
   ],
   "source": [
    "# Positive t stat --> rep support > dem support\n",
    "# reject\n",
    "\n",
    "ttest_ind(reps['physician-fee-freeze'], dems['physician-fee-freeze'], nan_policy='omit')"
   ]
  },
  {
   "cell_type": "code",
   "execution_count": null,
   "metadata": {
    "colab": {
     "base_uri": "https://localhost:8080/",
     "height": 34
    },
    "id": "bK7IP4gEmsVX",
    "outputId": "4178ac59-1fee-4632-8042-71aa70edd321"
   },
   "outputs": [
    {
     "data": {
      "text/plain": [
       "Ttest_indResult(statistic=-23.21277691701378, pvalue=2.0703402795404463e-77)"
      ]
     },
     "execution_count": 17,
     "metadata": {
      "tags": []
     },
     "output_type": "execute_result"
    }
   ],
   "source": [
    "# Negative t stat --> rep support < dem support\n",
    "# reject\n",
    "\n",
    "ttest_ind(reps['budget'], dems['budget'], nan_policy='omit')"
   ]
  },
  {
   "cell_type": "code",
   "execution_count": null,
   "metadata": {
    "colab": {
     "base_uri": "https://localhost:8080/",
     "height": 34
    },
    "id": "c2zaJkFtmhTe",
    "outputId": "ee2135e1-0127-4b1b-c4d1-d602543fa14b"
   },
   "outputs": [
    {
     "data": {
      "text/plain": [
       "Ttest_indResult(statistic=0.08896538137868286, pvalue=0.9291556823993485)"
      ]
     },
     "execution_count": 18,
     "metadata": {
      "tags": []
     },
     "output_type": "execute_result"
    }
   ],
   "source": [
    "# p value > 0.05\n",
    "# fail to reject at any reasonable alpha level\n",
    "\n",
    "ttest_ind(reps['water-project'], dems['water-project'], nan_policy='omit')"
   ]
  },
  {
   "cell_type": "markdown",
   "metadata": {
    "id": "76i2nuHBt1Jb"
   },
   "source": [
    "### Stretch #1 automate the t tests\n",
    "I already kind of automated the first part but here we go"
   ]
  },
  {
   "cell_type": "code",
   "execution_count": null,
   "metadata": {
    "colab": {
     "base_uri": "https://localhost:8080/",
     "height": 119
    },
    "id": "a1F6q3p_o7Gz",
    "outputId": "2ceea4b6-aefd-4539-da41-25ecc6f91d88"
   },
   "outputs": [
    {
     "data": {
      "text/plain": [
       "Index(['party', 'handicapped-infants', 'water-project', 'budget',\n",
       "       'physician-fee-freeze', 'el-salvador-aid', 'religious-groups',\n",
       "       'anti-satellite-ban', 'aid-to-contras', 'mx-missile', 'immigration',\n",
       "       'synfuels', 'education', 'right-to-sue', 'crime', 'duty-free',\n",
       "       'south-africa'],\n",
       "      dtype='object')"
      ]
     },
     "execution_count": 29,
     "metadata": {
      "tags": []
     },
     "output_type": "execute_result"
    }
   ],
   "source": [
    "dems.columns"
   ]
  },
  {
   "cell_type": "code",
   "execution_count": null,
   "metadata": {
    "colab": {
     "base_uri": "https://localhost:8080/",
     "height": 119
    },
    "id": "LdGK_UfApWBS",
    "outputId": "b6025ce1-f47f-4ef7-ab10-e924b77e36bd"
   },
   "outputs": [
    {
     "data": {
      "text/plain": [
       "Index(['party', 'handicapped-infants', 'water-project', 'budget',\n",
       "       'physician-fee-freeze', 'el-salvador-aid', 'religious-groups',\n",
       "       'anti-satellite-ban', 'aid-to-contras', 'mx-missile', 'immigration',\n",
       "       'synfuels', 'education', 'right-to-sue', 'crime', 'duty-free',\n",
       "       'south-africa'],\n",
       "      dtype='object')"
      ]
     },
     "execution_count": 32,
     "metadata": {
      "tags": []
     },
     "output_type": "execute_result"
    }
   ],
   "source": [
    "reps.columns"
   ]
  },
  {
   "cell_type": "code",
   "execution_count": null,
   "metadata": {
    "id": "ZWJNR8xarvZm"
   },
   "outputs": [],
   "source": [
    "# Navroz was trying to use a zip object. Zips along 2 iterables until 1 runs out, making tuples...?\n",
    "# \n",
    "\n",
    "#zipped = zip(dems,reps)"
   ]
  },
  {
   "cell_type": "code",
   "execution_count": null,
   "metadata": {
    "id": "-AX3isebn9Rw"
   },
   "outputs": [],
   "source": [
    "from scipy import stats\n",
    "\n",
    "dcols = dems.columns.tolist()\n",
    "rcols = reps.columns.tolist()\n",
    "\n",
    "def ttest(dems,reps):\n",
    "  for col in dcols[1:]:\n",
    "    print(stats.ttest_ind(dems[col], reps[col], nan_policy='omit'))\n",
    "  return "
   ]
  },
  {
   "cell_type": "code",
   "execution_count": null,
   "metadata": {
    "colab": {
     "base_uri": "https://localhost:8080/",
     "height": 289
    },
    "id": "UFua8HctoNHf",
    "outputId": "fb81547c-5e4b-419e-b80c-ff3bd7db0027"
   },
   "outputs": [
    {
     "name": "stdout",
     "output_type": "stream",
     "text": [
      "Ttest_indResult(statistic=9.205264294809222, pvalue=1.613440327937243e-18)\n",
      "Ttest_indResult(statistic=-0.08896538137868286, pvalue=0.9291556823993485)\n",
      "Ttest_indResult(statistic=23.21277691701378, pvalue=2.0703402795404463e-77)\n",
      "Ttest_indResult(statistic=-49.36708157301406, pvalue=1.994262314074344e-177)\n",
      "Ttest_indResult(statistic=-21.13669261173219, pvalue=5.600520111729011e-68)\n",
      "Ttest_indResult(statistic=-9.737575825219457, pvalue=2.3936722520597287e-20)\n",
      "Ttest_indResult(statistic=12.526187929077842, pvalue=8.521033017443867e-31)\n",
      "Ttest_indResult(statistic=18.052093200819733, pvalue=2.82471841372357e-54)\n",
      "Ttest_indResult(statistic=16.437503268542994, pvalue=5.03079265310811e-47)\n",
      "Ttest_indResult(statistic=-1.7359117329695164, pvalue=0.08330248490425066)\n",
      "Ttest_indResult(statistic=8.293603989407588, pvalue=1.5759322301054064e-15)\n",
      "Ttest_indResult(statistic=-20.500685724563073, pvalue=1.8834203990450192e-64)\n",
      "Ttest_indResult(statistic=-13.51064251060933, pvalue=1.2278581709672758e-34)\n",
      "Ttest_indResult(statistic=-16.342085656197696, pvalue=9.952342705606092e-47)\n",
      "Ttest_indResult(statistic=12.853146132542978, pvalue=5.997697174347365e-32)\n",
      "Ttest_indResult(statistic=6.849454815841208, pvalue=3.652674361672226e-11)\n"
     ]
    }
   ],
   "source": [
    "ttest(dems,reps)"
   ]
  },
  {
   "cell_type": "code",
   "execution_count": null,
   "metadata": {
    "id": "dBxZfVKAufE9"
   },
   "outputs": [],
   "source": [
    "dems_list = dems.columns.tolist()[1:]\n",
    "reps_list = reps.columns.tolist()"
   ]
  },
  {
   "cell_type": "code",
   "execution_count": null,
   "metadata": {
    "colab": {
     "base_uri": "https://localhost:8080/",
     "height": 833
    },
    "id": "0C1-s7qVmqgJ",
    "outputId": "c42fe057-014d-43a6-e211-a33663dd931c"
   },
   "outputs": [
    {
     "name": "stdout",
     "output_type": "stream",
     "text": [
      "\n",
      " HANDICAPPED-INFANTS\n",
      "Ttest_indResult(statistic=9.205264294809222, pvalue=1.613440327937243e-18)\n",
      "\n",
      " WATER-PROJECT\n",
      "Ttest_indResult(statistic=-0.08896538137868286, pvalue=0.9291556823993485)\n",
      "\n",
      " BUDGET\n",
      "Ttest_indResult(statistic=23.21277691701378, pvalue=2.0703402795404463e-77)\n",
      "\n",
      " PHYSICIAN-FEE-FREEZE\n",
      "Ttest_indResult(statistic=-49.36708157301406, pvalue=1.994262314074344e-177)\n",
      "\n",
      " EL-SALVADOR-AID\n",
      "Ttest_indResult(statistic=-21.13669261173219, pvalue=5.600520111729011e-68)\n",
      "\n",
      " RELIGIOUS-GROUPS\n",
      "Ttest_indResult(statistic=-9.737575825219457, pvalue=2.3936722520597287e-20)\n",
      "\n",
      " ANTI-SATELLITE-BAN\n",
      "Ttest_indResult(statistic=12.526187929077842, pvalue=8.521033017443867e-31)\n",
      "\n",
      " AID-TO-CONTRAS\n",
      "Ttest_indResult(statistic=18.052093200819733, pvalue=2.82471841372357e-54)\n",
      "\n",
      " MX-MISSILE\n",
      "Ttest_indResult(statistic=16.437503268542994, pvalue=5.03079265310811e-47)\n",
      "\n",
      " IMMIGRATION\n",
      "Ttest_indResult(statistic=-1.7359117329695164, pvalue=0.08330248490425066)\n",
      "\n",
      " SYNFUELS\n",
      "Ttest_indResult(statistic=8.293603989407588, pvalue=1.5759322301054064e-15)\n",
      "\n",
      " EDUCATION\n",
      "Ttest_indResult(statistic=-20.500685724563073, pvalue=1.8834203990450192e-64)\n",
      "\n",
      " RIGHT-TO-SUE\n",
      "Ttest_indResult(statistic=-13.51064251060933, pvalue=1.2278581709672758e-34)\n",
      "\n",
      " CRIME\n",
      "Ttest_indResult(statistic=-16.342085656197696, pvalue=9.952342705606092e-47)\n",
      "\n",
      " DUTY-FREE\n",
      "Ttest_indResult(statistic=12.853146132542978, pvalue=5.997697174347365e-32)\n",
      "\n",
      " SOUTH-AFRICA\n",
      "Ttest_indResult(statistic=6.849454815841208, pvalue=3.652674361672226e-11)\n"
     ]
    }
   ],
   "source": [
    "for col in dems_list:\n",
    "  print('\\n', col.upper())\n",
    "  print(ttest_ind(dems[col], reps[col], nan_policy='omit'))"
   ]
  },
  {
   "cell_type": "markdown",
   "metadata": {
    "id": "FOsjRlO_vcFl"
   },
   "source": []
  },
  {
   "cell_type": "markdown",
   "metadata": {
    "id": "aS6VbwnLvYpu"
   },
   "source": [
    "## Stretch 2: t test by hand\n",
    "\n"
   ]
  },
  {
   "cell_type": "markdown",
   "metadata": {
    "id": "C-bMz-4kvyWw"
   },
   "source": [
    "\n",
    "### Start with a 1-sample t-test\n",
    " - Establish the conditions for your test \n",
    " - [Calculate the T Statistic](https://blog.minitab.com/hs-fs/hubfs/Imported_Blog_Media/701f9c0efa98a38fb397f3c3ec459b66.png?width=247&height=172&name=701f9c0efa98a38fb397f3c3ec459b66.png) (You'll need to omit NaN values from your sample).\n",
    " - Translate that t-statistic into a P-value. You can use a [table](https://www.google.com/search?q=t+statistic+table) or the [University of Iowa Applet](https://homepage.divms.uiowa.edu/~mbognar/applets/t.html)\n",
    "\n",
    "### Be sure to check your work using Scipy!"
   ]
  },
  {
   "cell_type": "markdown",
   "metadata": {
    "id": "vTJLZ1BEv648"
   },
   "source": [
    "Null Hypothesis: Democrat support for the handicapped-infants bill is 50%\n",
    "\n",
    "Alternative Hypothesis: Democrat support is not 50%.\n",
    "\n",
    "Confidence Level: 95%"
   ]
  },
  {
   "cell_type": "markdown",
   "metadata": {
    "id": "OwFmXy7OwLla"
   },
   "source": [
    "![1-sample t-stat calculation](https://blog.minitab.com/hs-fs/hubfs/Imported_Blog_Media/701f9c0efa98a38fb397f3c3ec459b66.png?width=247&height=172&name=701f9c0efa98a38fb397f3c3ec459b66.png)"
   ]
  },
  {
   "cell_type": "code",
   "execution_count": null,
   "metadata": {
    "id": "PENtEtY71Xrn"
   },
   "outputs": [],
   "source": [
    "sample = dems['handicapped-infants'].copy()\n",
    "sample = sample.dropna()"
   ]
  },
  {
   "cell_type": "code",
   "execution_count": null,
   "metadata": {
    "id": "grDjU2uL0GH7"
   },
   "outputs": [],
   "source": [
    "\n",
    "\n",
    "x_bar = sample.sum() / len(sample)\n",
    "mu = 0.50\n",
    "s = np.std(sample)\n",
    "n = len(sample)"
   ]
  },
  {
   "cell_type": "code",
   "execution_count": null,
   "metadata": {
    "id": "-a1XXf6c0QcT"
   },
   "outputs": [],
   "source": [
    "denom = s / np.sqrt(n)"
   ]
  },
  {
   "cell_type": "code",
   "execution_count": null,
   "metadata": {
    "id": "VkcApDvn0Ynt"
   },
   "outputs": [],
   "source": [
    "num = x_bar - mu"
   ]
  },
  {
   "cell_type": "code",
   "execution_count": null,
   "metadata": {
    "colab": {
     "base_uri": "https://localhost:8080/",
     "height": 102
    },
    "id": "cIbcjiAS0NcR",
    "outputId": "cd2e96ff-c422-40b4-8341-c79c04af282d"
   },
   "outputs": [
    {
     "name": "stdout",
     "output_type": "stream",
     "text": [
      "population mean 0.5\n",
      "sample mean 0.6046511627906976\n",
      "sample std dev 0.48892548934020097\n",
      "t statistic  3.4380424294366003\n",
      "sample size 258\n"
     ]
    }
   ],
   "source": [
    "t = num / denom\n",
    "print('population mean', mu)\n",
    "print('sample mean', x_bar)\n",
    "print('sample std dev', s)\n",
    "print('t statistic ', t)\n",
    "print('sample size', n)\n",
    "\n",
    "# according to table, p < 0.001 we reject 0.5 support"
   ]
  },
  {
   "cell_type": "code",
   "execution_count": null,
   "metadata": {
    "colab": {
     "base_uri": "https://localhost:8080/",
     "height": 34
    },
    "id": "vUPGt-tl2w7O",
    "outputId": "5939d6af-f5be-4a9e-bb36-71946f16bf35"
   },
   "outputs": [
    {
     "name": "stdout",
     "output_type": "stream",
     "text": [
      "p-value: 0.000683349852026897\n"
     ]
    }
   ],
   "source": [
    "# If you didn't want to use table...\n",
    "\n",
    "# Be sure to use two-sided\n",
    "p = stats.t.sf(np.abs(t), n-1)*2\n",
    "print(\"p-value:\", p)"
   ]
  },
  {
   "cell_type": "code",
   "execution_count": null,
   "metadata": {
    "colab": {
     "base_uri": "https://localhost:8080/",
     "height": 34
    },
    "id": "tddCPGmI3FBQ",
    "outputId": "80e17bd9-0be4-4572-cc17-75a0b4663f07"
   },
   "outputs": [
    {
     "data": {
      "text/plain": [
       "Ttest_1sampResult(statistic=3.431373087696574, pvalue=0.0006996123171673836)"
      ]
     },
     "execution_count": 106,
     "metadata": {
      "tags": []
     },
     "output_type": "execute_result"
    }
   ],
   "source": [
    "# Check work with scipy\n",
    "ttest_1samp(sample, 0.5)"
   ]
  },
  {
   "cell_type": "markdown",
   "metadata": {
    "id": "wDRLaMvrNDoP"
   },
   "source": [
    "# BEGINNING OF OLD ASSIGNMENT"
   ]
  },
  {
   "cell_type": "code",
   "execution_count": null,
   "metadata": {
    "id": "6Ru3kd2RgJHv"
   },
   "outputs": [],
   "source": [
    "import pandas as pd\n",
    "import numpy as np\n",
    "import seaborn as sns\n",
    "import matplotlib.pyplot as plt\n",
    "from scipy import stats"
   ]
  },
  {
   "cell_type": "code",
   "execution_count": null,
   "metadata": {
    "colab": {
     "base_uri": "https://localhost:8080/",
     "height": 204
    },
    "id": "pK_tv2qM2_fv",
    "outputId": "b133203c-d60f-42c7-d660-2ad7cc7ba598"
   },
   "outputs": [
    {
     "name": "stdout",
     "output_type": "stream",
     "text": [
      "--2020-07-12 19:28:16--  https://archive.ics.uci.edu/ml/machine-learning-databases/voting-records/house-votes-84.data\n",
      "Resolving archive.ics.uci.edu (archive.ics.uci.edu)... 128.195.10.252\n",
      "Connecting to archive.ics.uci.edu (archive.ics.uci.edu)|128.195.10.252|:443... connected.\n",
      "HTTP request sent, awaiting response... 200 OK\n",
      "Length: 18171 (18K) [application/x-httpd-php]\n",
      "Saving to: ‘house-votes-84.data.3’\n",
      "\n",
      "\r",
      "house-votes-84.data   0%[                    ]       0  --.-KB/s               \r",
      "house-votes-84.data 100%[===================>]  17.75K  --.-KB/s    in 0.1s    \n",
      "\n",
      "2020-07-12 19:28:17 (137 KB/s) - ‘house-votes-84.data.3’ saved [18171/18171]\n",
      "\n"
     ]
    }
   ],
   "source": [
    "!wget https://archive.ics.uci.edu/ml/machine-learning-databases/voting-records/house-votes-84.data"
   ]
  },
  {
   "cell_type": "code",
   "execution_count": null,
   "metadata": {
    "colab": {
     "base_uri": "https://localhost:8080/",
     "height": 258
    },
    "id": "bA3qQ0cA2_ig",
    "outputId": "e20da04b-0597-4dd4-90cd-db40f55740bd"
   },
   "outputs": [
    {
     "data": {
      "text/html": [
       "<div>\n",
       "<style scoped>\n",
       "    .dataframe tbody tr th:only-of-type {\n",
       "        vertical-align: middle;\n",
       "    }\n",
       "\n",
       "    .dataframe tbody tr th {\n",
       "        vertical-align: top;\n",
       "    }\n",
       "\n",
       "    .dataframe thead th {\n",
       "        text-align: right;\n",
       "    }\n",
       "</style>\n",
       "<table border=\"1\" class=\"dataframe\">\n",
       "  <thead>\n",
       "    <tr style=\"text-align: right;\">\n",
       "      <th></th>\n",
       "      <th>party</th>\n",
       "      <th>handicapped-infants</th>\n",
       "      <th>water-project</th>\n",
       "      <th>budget</th>\n",
       "      <th>physician-fee-freeze</th>\n",
       "      <th>el-salvador-aid</th>\n",
       "      <th>religious-groups</th>\n",
       "      <th>anti-satellite-ban</th>\n",
       "      <th>aid-to-contras</th>\n",
       "      <th>mx-missile</th>\n",
       "      <th>immigration</th>\n",
       "      <th>synfuels</th>\n",
       "      <th>education</th>\n",
       "      <th>right-to-sue</th>\n",
       "      <th>crime</th>\n",
       "      <th>duty-free</th>\n",
       "      <th>south-africa</th>\n",
       "    </tr>\n",
       "  </thead>\n",
       "  <tbody>\n",
       "    <tr>\n",
       "      <th>0</th>\n",
       "      <td>republican</td>\n",
       "      <td>0.0</td>\n",
       "      <td>1.0</td>\n",
       "      <td>0.0</td>\n",
       "      <td>1.0</td>\n",
       "      <td>1.0</td>\n",
       "      <td>1.0</td>\n",
       "      <td>0.0</td>\n",
       "      <td>0.0</td>\n",
       "      <td>0.0</td>\n",
       "      <td>1.0</td>\n",
       "      <td>NaN</td>\n",
       "      <td>1.0</td>\n",
       "      <td>1.0</td>\n",
       "      <td>1.0</td>\n",
       "      <td>0.0</td>\n",
       "      <td>1.0</td>\n",
       "    </tr>\n",
       "    <tr>\n",
       "      <th>1</th>\n",
       "      <td>republican</td>\n",
       "      <td>0.0</td>\n",
       "      <td>1.0</td>\n",
       "      <td>0.0</td>\n",
       "      <td>1.0</td>\n",
       "      <td>1.0</td>\n",
       "      <td>1.0</td>\n",
       "      <td>0.0</td>\n",
       "      <td>0.0</td>\n",
       "      <td>0.0</td>\n",
       "      <td>0.0</td>\n",
       "      <td>0.0</td>\n",
       "      <td>1.0</td>\n",
       "      <td>1.0</td>\n",
       "      <td>1.0</td>\n",
       "      <td>0.0</td>\n",
       "      <td>NaN</td>\n",
       "    </tr>\n",
       "    <tr>\n",
       "      <th>2</th>\n",
       "      <td>democrat</td>\n",
       "      <td>NaN</td>\n",
       "      <td>1.0</td>\n",
       "      <td>1.0</td>\n",
       "      <td>NaN</td>\n",
       "      <td>1.0</td>\n",
       "      <td>1.0</td>\n",
       "      <td>0.0</td>\n",
       "      <td>0.0</td>\n",
       "      <td>0.0</td>\n",
       "      <td>0.0</td>\n",
       "      <td>1.0</td>\n",
       "      <td>0.0</td>\n",
       "      <td>1.0</td>\n",
       "      <td>1.0</td>\n",
       "      <td>0.0</td>\n",
       "      <td>0.0</td>\n",
       "    </tr>\n",
       "    <tr>\n",
       "      <th>3</th>\n",
       "      <td>democrat</td>\n",
       "      <td>0.0</td>\n",
       "      <td>1.0</td>\n",
       "      <td>1.0</td>\n",
       "      <td>0.0</td>\n",
       "      <td>NaN</td>\n",
       "      <td>1.0</td>\n",
       "      <td>0.0</td>\n",
       "      <td>0.0</td>\n",
       "      <td>0.0</td>\n",
       "      <td>0.0</td>\n",
       "      <td>1.0</td>\n",
       "      <td>0.0</td>\n",
       "      <td>1.0</td>\n",
       "      <td>0.0</td>\n",
       "      <td>0.0</td>\n",
       "      <td>1.0</td>\n",
       "    </tr>\n",
       "    <tr>\n",
       "      <th>4</th>\n",
       "      <td>democrat</td>\n",
       "      <td>1.0</td>\n",
       "      <td>1.0</td>\n",
       "      <td>1.0</td>\n",
       "      <td>0.0</td>\n",
       "      <td>1.0</td>\n",
       "      <td>1.0</td>\n",
       "      <td>0.0</td>\n",
       "      <td>0.0</td>\n",
       "      <td>0.0</td>\n",
       "      <td>0.0</td>\n",
       "      <td>1.0</td>\n",
       "      <td>NaN</td>\n",
       "      <td>1.0</td>\n",
       "      <td>1.0</td>\n",
       "      <td>1.0</td>\n",
       "      <td>1.0</td>\n",
       "    </tr>\n",
       "  </tbody>\n",
       "</table>\n",
       "</div>"
      ],
      "text/plain": [
       "        party  handicapped-infants  ...  duty-free  south-africa\n",
       "0  republican                  0.0  ...        0.0           1.0\n",
       "1  republican                  0.0  ...        0.0           NaN\n",
       "2    democrat                  NaN  ...        0.0           0.0\n",
       "3    democrat                  0.0  ...        0.0           1.0\n",
       "4    democrat                  1.0  ...        1.0           1.0\n",
       "\n",
       "[5 rows x 17 columns]"
      ]
     },
     "execution_count": 15,
     "metadata": {
      "tags": []
     },
     "output_type": "execute_result"
    }
   ],
   "source": [
    "column_headers = ['party', 'handicapped-infants', 'water-project', \n",
    "'budget', 'physician-fee-freeze', 'el-salvador-aid', 'religious-groups', \n",
    "'anti-satellite-ban', 'aid-to-contras', 'mx-missile', 'immigration', \n",
    "'synfuels', 'education', 'right-to-sue', 'crime', 'duty-free', \n",
    "'south-africa']\n",
    "\n",
    "df = pd.read_csv('house-votes-84.data', \n",
    "                 header=None, \n",
    "                 names=column_headers, \n",
    "                 na_values='?')\n",
    "                 \n",
    "df = df.replace({'y': 1, 'n': 0})\n",
    "df.head()"
   ]
  },
  {
   "cell_type": "code",
   "execution_count": null,
   "metadata": {
    "id": "hoiJNVq22_kT"
   },
   "outputs": [],
   "source": [
    "# You can tell whether the support is \"greater than\" or \"less than\" based on the sign of the t statistic."
   ]
  },
  {
   "cell_type": "code",
   "execution_count": null,
   "metadata": {
    "colab": {
     "base_uri": "https://localhost:8080/",
     "height": 258
    },
    "id": "8Wg_Hl3h2_mJ",
    "outputId": "bab75007-b639-4a3f-b5e2-9beed43c9de2"
   },
   "outputs": [
    {
     "data": {
      "text/html": [
       "<div>\n",
       "<style scoped>\n",
       "    .dataframe tbody tr th:only-of-type {\n",
       "        vertical-align: middle;\n",
       "    }\n",
       "\n",
       "    .dataframe tbody tr th {\n",
       "        vertical-align: top;\n",
       "    }\n",
       "\n",
       "    .dataframe thead th {\n",
       "        text-align: right;\n",
       "    }\n",
       "</style>\n",
       "<table border=\"1\" class=\"dataframe\">\n",
       "  <thead>\n",
       "    <tr style=\"text-align: right;\">\n",
       "      <th></th>\n",
       "      <th>party</th>\n",
       "      <th>handicapped-infants</th>\n",
       "      <th>water-project</th>\n",
       "      <th>budget</th>\n",
       "      <th>physician-fee-freeze</th>\n",
       "      <th>el-salvador-aid</th>\n",
       "      <th>religious-groups</th>\n",
       "      <th>anti-satellite-ban</th>\n",
       "      <th>aid-to-contras</th>\n",
       "      <th>mx-missile</th>\n",
       "      <th>immigration</th>\n",
       "      <th>synfuels</th>\n",
       "      <th>education</th>\n",
       "      <th>right-to-sue</th>\n",
       "      <th>crime</th>\n",
       "      <th>duty-free</th>\n",
       "      <th>south-africa</th>\n",
       "    </tr>\n",
       "  </thead>\n",
       "  <tbody>\n",
       "    <tr>\n",
       "      <th>0</th>\n",
       "      <td>republican</td>\n",
       "      <td>0.0</td>\n",
       "      <td>1.0</td>\n",
       "      <td>0.0</td>\n",
       "      <td>1.0</td>\n",
       "      <td>1.0</td>\n",
       "      <td>1.0</td>\n",
       "      <td>0.0</td>\n",
       "      <td>0.0</td>\n",
       "      <td>0.0</td>\n",
       "      <td>1.0</td>\n",
       "      <td>NaN</td>\n",
       "      <td>1.0</td>\n",
       "      <td>1.0</td>\n",
       "      <td>1.0</td>\n",
       "      <td>0.0</td>\n",
       "      <td>1.0</td>\n",
       "    </tr>\n",
       "    <tr>\n",
       "      <th>1</th>\n",
       "      <td>republican</td>\n",
       "      <td>0.0</td>\n",
       "      <td>1.0</td>\n",
       "      <td>0.0</td>\n",
       "      <td>1.0</td>\n",
       "      <td>1.0</td>\n",
       "      <td>1.0</td>\n",
       "      <td>0.0</td>\n",
       "      <td>0.0</td>\n",
       "      <td>0.0</td>\n",
       "      <td>0.0</td>\n",
       "      <td>0.0</td>\n",
       "      <td>1.0</td>\n",
       "      <td>1.0</td>\n",
       "      <td>1.0</td>\n",
       "      <td>0.0</td>\n",
       "      <td>NaN</td>\n",
       "    </tr>\n",
       "    <tr>\n",
       "      <th>7</th>\n",
       "      <td>republican</td>\n",
       "      <td>0.0</td>\n",
       "      <td>1.0</td>\n",
       "      <td>0.0</td>\n",
       "      <td>1.0</td>\n",
       "      <td>1.0</td>\n",
       "      <td>1.0</td>\n",
       "      <td>0.0</td>\n",
       "      <td>0.0</td>\n",
       "      <td>0.0</td>\n",
       "      <td>0.0</td>\n",
       "      <td>0.0</td>\n",
       "      <td>0.0</td>\n",
       "      <td>1.0</td>\n",
       "      <td>1.0</td>\n",
       "      <td>NaN</td>\n",
       "      <td>1.0</td>\n",
       "    </tr>\n",
       "    <tr>\n",
       "      <th>8</th>\n",
       "      <td>republican</td>\n",
       "      <td>0.0</td>\n",
       "      <td>1.0</td>\n",
       "      <td>0.0</td>\n",
       "      <td>1.0</td>\n",
       "      <td>1.0</td>\n",
       "      <td>1.0</td>\n",
       "      <td>0.0</td>\n",
       "      <td>0.0</td>\n",
       "      <td>0.0</td>\n",
       "      <td>0.0</td>\n",
       "      <td>0.0</td>\n",
       "      <td>1.0</td>\n",
       "      <td>1.0</td>\n",
       "      <td>1.0</td>\n",
       "      <td>0.0</td>\n",
       "      <td>1.0</td>\n",
       "    </tr>\n",
       "    <tr>\n",
       "      <th>10</th>\n",
       "      <td>republican</td>\n",
       "      <td>0.0</td>\n",
       "      <td>1.0</td>\n",
       "      <td>0.0</td>\n",
       "      <td>1.0</td>\n",
       "      <td>1.0</td>\n",
       "      <td>0.0</td>\n",
       "      <td>0.0</td>\n",
       "      <td>0.0</td>\n",
       "      <td>0.0</td>\n",
       "      <td>0.0</td>\n",
       "      <td>NaN</td>\n",
       "      <td>NaN</td>\n",
       "      <td>1.0</td>\n",
       "      <td>1.0</td>\n",
       "      <td>0.0</td>\n",
       "      <td>0.0</td>\n",
       "    </tr>\n",
       "  </tbody>\n",
       "</table>\n",
       "</div>"
      ],
      "text/plain": [
       "         party  handicapped-infants  ...  duty-free  south-africa\n",
       "0   republican                  0.0  ...        0.0           1.0\n",
       "1   republican                  0.0  ...        0.0           NaN\n",
       "7   republican                  0.0  ...        NaN           1.0\n",
       "8   republican                  0.0  ...        0.0           1.0\n",
       "10  republican                  0.0  ...        0.0           0.0\n",
       "\n",
       "[5 rows x 17 columns]"
      ]
     },
     "execution_count": 17,
     "metadata": {
      "tags": []
     },
     "output_type": "execute_result"
    }
   ],
   "source": [
    "rep = df[df['party']=='republican']\n",
    "rep.head()\n"
   ]
  },
  {
   "cell_type": "code",
   "execution_count": null,
   "metadata": {
    "colab": {
     "base_uri": "https://localhost:8080/",
     "height": 130
    },
    "id": "vXiGRCcY2_o0",
    "outputId": "e3ea8a31-3ae9-45ab-b3db-610d66b0afa6"
   },
   "outputs": [
    {
     "ename": "SyntaxError",
     "evalue": "ignored",
     "output_type": "error",
     "traceback": [
      "\u001b[0;36m  File \u001b[0;32m\"<ipython-input-18-4b37ef281455>\"\u001b[0;36m, line \u001b[0;32m1\u001b[0m\n\u001b[0;31m    |\u001b[0m\n\u001b[0m    ^\u001b[0m\n\u001b[0;31mSyntaxError\u001b[0m\u001b[0;31m:\u001b[0m invalid syntax\n"
     ]
    }
   ],
   "source": []
  },
  {
   "cell_type": "code",
   "execution_count": null,
   "metadata": {
    "id": "2d8NgwRX2_qc"
   },
   "outputs": [],
   "source": [
    "dem = df[df['party']=='democrat']\n",
    "dem.head()"
   ]
  },
  {
   "cell_type": "code",
   "execution_count": null,
   "metadata": {
    "id": "K1NWI_EL2_sx"
   },
   "outputs": [],
   "source": [
    "for column in rep:\n",
    "  if column != 'party':\n",
    "    print(rep[column].mean())"
   ]
  },
  {
   "cell_type": "code",
   "execution_count": null,
   "metadata": {
    "id": "k0VnrYde2_uy"
   },
   "outputs": [],
   "source": [
    "for column in dem:\n",
    "  if column != 'party':\n",
    "    print(dem[column].mean())"
   ]
  },
  {
   "cell_type": "code",
   "execution_count": null,
   "metadata": {
    "id": "3wIC-aMW2_xJ"
   },
   "outputs": [],
   "source": [
    "# try physician-fee-freeze for rep > dem\n",
    "# Null hypothesis: no difference in support between the two parties.\n",
    "print(rep['physician-fee-freeze'].mean())\n",
    "print(dem['physician-fee-freeze'].mean())"
   ]
  },
  {
   "cell_type": "code",
   "execution_count": null,
   "metadata": {
    "id": "E5Z2-_70-ahI"
   },
   "outputs": [],
   "source": [
    "ttest_ind(rep['physician-fee-freeze'], dem['physician-fee-freeze'], nan_policy='omit')\n",
    "\n",
    "# Due to a p-value of way (way) less than 0.01, we reject the null hypothesis\n",
    "# and conclude that there is a significant difference in support between\n",
    "# Republicans and Democrats. Republicans support this bill more, as evidenced \n",
    "# by the positive t-stat and visually examining the mean support levels above.\n",
    "# Also note that a one-sided t-test would be easier to reject the null, so we\n",
    "# have effectively given ourselves a 99.5% confidence level that republican\n",
    "# support is greater than democrat support."
   ]
  },
  {
   "cell_type": "code",
   "execution_count": null,
   "metadata": {
    "id": "euyLR77R-acW"
   },
   "outputs": [],
   "source": [
    "#"
   ]
  },
  {
   "cell_type": "code",
   "execution_count": null,
   "metadata": {
    "id": "JeslYIAp2_zk"
   },
   "outputs": [],
   "source": [
    "# try anti-satellite-ban for dem > rep\n",
    "# Null hypothesis: no difference in support between the two parties.\n",
    "print(rep['anti-satellite-ban'].mean())\n",
    "print(dem['anti-satellite-ban'].mean())"
   ]
  },
  {
   "cell_type": "code",
   "execution_count": null,
   "metadata": {
    "id": "syVj4bdJ2_2H"
   },
   "outputs": [],
   "source": [
    "ttest_ind(rep['anti-satellite-ban'], dem['anti-satellite-ban'], nan_policy='omit')\n",
    "\n",
    "# Due to p-value < 0.01 and a negative t-stat, \n",
    "# we reject the null hypothesis that there is no difference\n",
    "# in support and conclude that democrat support is higher than republican support.\n",
    "# "
   ]
  },
  {
   "cell_type": "code",
   "execution_count": null,
   "metadata": {
    "id": "SyIsqHDY2_4e"
   },
   "outputs": [],
   "source": [
    "#"
   ]
  },
  {
   "cell_type": "code",
   "execution_count": null,
   "metadata": {
    "id": "FqsfdDZB2_6P"
   },
   "outputs": [],
   "source": [
    "## try water-project for dem = rep\n",
    "# Null hypothesis: no difference in support between the two parties.\n",
    "print(rep['water-project'].mean())\n",
    "print(dem['water-project'].mean())"
   ]
  },
  {
   "cell_type": "code",
   "execution_count": null,
   "metadata": {
    "id": "EHzNzkB_2_8h"
   },
   "outputs": [],
   "source": [
    "ttest_ind(rep['water-project'], dem['water-project'], nan_policy='omit')\n",
    "\n",
    "# Due to p-value of ~0.92 and a t-stat of ~0.089, \n",
    "# we fail to reject the null hypothesis that there is no difference\n",
    "# in support."
   ]
  },
  {
   "cell_type": "code",
   "execution_count": null,
   "metadata": {
    "id": "eLFvo37R2_-7"
   },
   "outputs": [],
   "source": []
  },
  {
   "cell_type": "code",
   "execution_count": null,
   "metadata": {
    "id": "qiebEzup3ABI"
   },
   "outputs": [],
   "source": []
  },
  {
   "cell_type": "code",
   "execution_count": null,
   "metadata": {
    "id": "BBLzLKov3ADa"
   },
   "outputs": [],
   "source": []
  }
 ],
 "metadata": {
  "colab": {
   "name": "Assignment_DS_121_Statistics_Probability_IsaacG.ipynb",
   "provenance": []
  },
  "kernelspec": {
   "display_name": "Python 3",
   "language": "python",
   "name": "python3"
  },
  "language_info": {
   "codemirror_mode": {
    "name": "ipython",
    "version": 3
   },
   "file_extension": ".py",
   "mimetype": "text/x-python",
   "name": "python",
   "nbconvert_exporter": "python",
   "pygments_lexer": "ipython3",
   "version": "3.8.2"
  }
 },
 "nbformat": 4,
 "nbformat_minor": 1
}
