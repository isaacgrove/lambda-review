{
 "cells": [
  {
   "cell_type": "markdown",
   "metadata": {
    "id": "838Dmw1kM2LK"
   },
   "source": [
    "# Module 122 (DS12)\n",
    "### - Hypothesis Tests that aren't T tests\n",
    "### - Variance, Std Dev, Std Error of the Mean, Degrees of Freedom\n",
    "### - Confidence Intervals - calculate, interpret, graphically represent"
   ]
  },
  {
   "cell_type": "markdown",
   "metadata": {},
   "source": [
    "Key Insights: \n",
    "\n",
    "confidence interval = mean +- (t * stderr)\n",
    "\n",
    "One does chi^2 tests on \"contingency tables\" (hello pd.crosstab) that have a variable on each axis\n",
    "\n",
    "scipy.stats is the place to go"
   ]
  },
  {
   "cell_type": "markdown",
   "metadata": {},
   "source": [
    "### Study topics:\n",
    "\n",
    "- What is a sample \"estimate\" in statistics?\n",
    "__A sample estimate is an estimate of a population parameter, based on only your sample. For example, if I have a sample mean, that is an estimate of the population mean.__\n",
    "\n",
    "- What are hypothesis test? How are they useful?\n",
    "__Hypothesis tests examine the likelihood that divergence from an expected \"null\" hypothesis could be due to random chance. They allow us to determine whether an apparently interesting result -- say, a drug treatment group outperforming a placebo -- is significant, or could still just be due to chance.__\n",
    "\n",
    "- What is a \"null hypothesis?\"\n",
    "__A made up, expected result. The \"uninteresting\" result. \"Nothing to see here.\"\n",
    "\"The average of this sample is the same as the average of the population from whence it came.\"__\n",
    "\n",
    "- What is a p-value and what does it represent?\n",
    "__The likelihood that the result could be due to random chance, i.e. is insignificant__\n",
    "\n",
    "- What does it mean for something to be \"statistically significant?\"\n",
    "__There is an acceptably low likelihood that the thing was due to random chance. (This has nothing to do with impact size, which is \"how much the difference is\".)__\n",
    "\n",
    "- What is a test statistic and how does it relate to a p-value?\n",
    "__The t statistic is how many standard deviations you are away from the mean. Positive is greater than the mean; negative, less than. You use the t stat and the degrees of freedom to find your p-value. More degrees of freedom makes the t distribution approach the standard normal distribution, which uses z scores.__\n",
    "\n",
    "- What are \"degrees of freedom\" and how are they calculated in a 1-sample, 2-sample, and chi^2 test for independence?\n",
    "__Degrees of freedom = sample size - however many population parameters you estimated n. Each number in the sample is free to vary except the final n numbers because they must be certain things to make the estimate true.__\n",
    "-__1sample --> n - 1__\n",
    "-__2sample --> n - 1 where n is the smaller sample__\n",
    "-__chi^2 --> (rows - 1) * (columns - 1)__"
   ]
  },
  {
   "cell_type": "code",
   "execution_count": 7,
   "metadata": {
    "colab": {
     "base_uri": "https://localhost:8080/",
     "height": 187
    },
    "id": "tlBel8j9M6tB",
    "outputId": "b53dfc9a-85a5-4326-f547-44a1402ae792"
   },
   "outputs": [
    {
     "name": "stdout",
     "output_type": "stream",
     "text": [
      "[[1 2]\n",
      " [1 2]]\n",
      "Chi square results:  Power_divergenceResult(statistic=0.6666666666666666, pvalue=0.8810148425137847)\n",
      "[[16 32]\n",
      " [18 24]\n",
      " [16 16]\n",
      " [14 28]\n",
      " [12 20]\n",
      " [12 24]]\n",
      "Chi square results:  Power_divergenceResult(statistic=23.31034482758621, pvalue=0.015975692534127565)\n"
     ]
    }
   ],
   "source": [
    "# Chi square\n",
    "\n",
    "import numpy as np\n",
    "from scipy.stats import chisquare  # One-way chi square test\n",
    "\n",
    "# Takes crosstab/table and tests independence of rows/cols\n",
    "\n",
    "# null = independent -> low stat\n",
    "# alternative = dependence -> high stat\n",
    "\n",
    "# Says nothing about direction of causation\n",
    "\n",
    "ind_obs = np.array([[1, 1], [2, 2]]).T\n",
    "print(ind_obs)\n",
    "print('Chi square results: ', chisquare(ind_obs, axis=None))\n",
    "\n",
    "dep_obs = np.array([[16, 18, 16, 14, 12, 12], [32, 24, 16, 28, 20, 24]]).T\n",
    "print(dep_obs)\n",
    "print('Chi square results: ', chisquare(dep_obs, axis=None))"
   ]
  },
  {
   "cell_type": "code",
   "execution_count": null,
   "metadata": {
    "colab": {
     "base_uri": "https://localhost:8080/",
     "height": 34
    },
    "id": "nN0BdNiDPxbk",
    "outputId": "a46fc421-0884-4686-e077-2dfbf56a1afe"
   },
   "outputs": [
    {
     "name": "stdout",
     "output_type": "stream",
     "text": [
      "NormaltestResult(statistic=18.335645656323976, pvalue=0.00010434343620316735)\n"
     ]
    }
   ],
   "source": [
    "# Distribution test - checks if something is normal\n",
    "\n",
    "# null = normal\n",
    "# reject the null = not normal\n",
    "\n",
    "from scipy.stats import normaltest\n",
    "# Poisson is related to the binomial (coinflip)\n",
    "sample = np.random.poisson(5, 1000)\n",
    "print(normaltest(sample))\n",
    "\n",
    "# The Poisson distribution is not the normal distribution"
   ]
  },
  {
   "cell_type": "code",
   "execution_count": null,
   "metadata": {
    "colab": {
     "base_uri": "https://localhost:8080/",
     "height": 51
    },
    "id": "P5t0WhkDReFO",
    "outputId": "9c89709d-824f-4919-9477-30a9fcaf6042"
   },
   "outputs": [
    {
     "name": "stdout",
     "output_type": "stream",
     "text": [
      "x1 y1 result:  KruskalResult(statistic=0.2727272727272734, pvalue=0.6015081344405895)\n",
      "x2 y2 z result:  KruskalResult(statistic=7.0, pvalue=0.0301973834223185)\n"
     ]
    }
   ],
   "source": [
    "# Kruskal-Wallis H-test - compare the median rank between 2+ groups\n",
    "# Can be applied to ranking decisions/recommendations\n",
    "# The underlying math comes from chi-square distribution, is best when n>5\n",
    "from scipy.stats import kruskal\n",
    "\n",
    "x1 = [1, 3, 5, 7, 9]\n",
    "y1 = [2, 4, 6, 8, 10]\n",
    "print('x1 y1 result: ', kruskal(x1, y1))  # We know x1 ranks higher, but not significant\n",
    "\n",
    "x2 = [1, 1, 1]\n",
    "y2 = [2, 2, 2]\n",
    "z = [2, 2]  # A third group, of different size\n",
    "print('x2 y2 z result: ', kruskal(x2, y2, z))  # x clearly dominates"
   ]
  },
  {
   "cell_type": "markdown",
   "metadata": {
    "id": "7pT3IP36Rh0b"
   },
   "source": [
    "And there's many more! `scipy.stats` is fairly comprehensive. Knowing them by heart isn't important; looking them up is"
   ]
  },
  {
   "cell_type": "markdown",
   "metadata": {
    "id": "3JqroCQYQqhy"
   },
   "source": [
    "## T-test Assumptions\n",
    "\n",
    "<https://statistics.laerd.com/statistical-guides/independent-t-test-statistical-guide.php>\n",
    "\n",
    "- Independence of means (don't affect each other)\n",
    "\n",
    "    - Ensure via random sample (which we did not do).\n",
    "   \n",
    "- \"Homogeneity\" of Variance?\n",
    "\n",
    "    - i.e. roughly the same variance (OK on this with the voting data, although could probably be better since one party was larger)\n",
    "    - Welch's T if problem here\n",
    "    \n",
    "- \"Dependent Variable\" (sample means) are Distributed Normally\n",
    "    - Ensure via big sample\n",
    "    - <https://stats.stackexchange.com/questions/9573/t-test-for-non-normal-when-n50>\n",
    "    - Lots of tests depend on normal distributions. Can test for normality as shown above.\n",
    "    - Often assumed even if weak. Can transform data to normal if needed. Typically goes away for large sample sizes (thanks to Central Limit Theorem) and is why you don't hear it brought up. People just declare it satisfied. "
   ]
  },
  {
   "cell_type": "markdown",
   "metadata": {
    "id": "bvvPV-RJN2vA"
   },
   "source": [
    "### Central Limit Theorem\n",
    "No matter the initial distribution of the population, the distribution of sample means will approximate normal as $n \\rightarrow \\infty$.\n",
    "\n",
    "This is huge for hypothesis testing and is why t approximates z as sample size increases \n"
   ]
  },
  {
   "cell_type": "code",
   "execution_count": null,
   "metadata": {
    "id": "XThCdgAbB2am"
   },
   "outputs": [],
   "source": [
    "# think of the Galton board"
   ]
  },
  {
   "cell_type": "code",
   "execution_count": 20,
   "metadata": {
    "colab": {
     "base_uri": "https://localhost:8080/",
     "height": 71
    },
    "id": "FBLoOF8qOJeJ",
    "outputId": "6fe5bc05-5d80-440a-db8d-35bb3f719736"
   },
   "outputs": [
    {
     "name": "stdout",
     "output_type": "stream",
     "text": [
      "First 10 sample means:  [0.4166666666666667, 0.25, 0.4166666666666667, 0.75, 0.5, 0.5, 0.6666666666666666, 0.4166666666666667, 0.4166666666666667, 0.5833333333333334]\n"
     ]
    }
   ],
   "source": [
    "# Do a 3000-trial experiment of 12 coin flips each, plot the mean of each trial\n",
    "\n",
    "import numpy as np\n",
    "from scipy.stats import ttest_ind\n",
    "import matplotlib.pyplot as plt\n",
    "import pandas as pd\n",
    "plt.style.use('ggplot')\n",
    "\n",
    "\n",
    "sample_means = []\n",
    "for x in range(0,3000):\n",
    "  coinflips = np.random.binomial(n=1, p=.5, size=12)\n",
    "  one_sample = coinflips\n",
    "  sample_means.append(coinflips.mean())\n",
    "\n",
    "print('First 10 sample means: ', sample_means[:10])"
   ]
  },
  {
   "cell_type": "code",
   "execution_count": 17,
   "metadata": {
    "colab": {
     "base_uri": "https://localhost:8080/",
     "height": 198
    },
    "id": "rfeA06evOT2K",
    "outputId": "e4d36a50-7c22-4f61-a8a0-d827d9597791"
   },
   "outputs": [
    {
     "name": "stdout",
     "output_type": "stream",
     "text": [
      "number coinflips:  12\n"
     ]
    },
    {
     "data": {
      "image/png": "[encoded data removed]",
      "text/plain": [
       "<Figure size 432x288 with 1 Axes>"
      ]
     },
     "metadata": {},
     "output_type": "display_data"
    }
   ],
   "source": [
    "# Single trial\n",
    "\n",
    "df = pd.DataFrame({'single_sample': one_sample})\n",
    "print('number coinflips: ', len(df))\n",
    "\n",
    "df.single_sample.hist();"
   ]
  },
  {
   "cell_type": "code",
   "execution_count": 21,
   "metadata": {
    "colab": {
     "base_uri": "https://localhost:8080/",
     "height": 296
    },
    "id": "Jie4ypgLOs5M",
    "outputId": "25100d2b-32e9-434f-873e-4cdf056f8ac7"
   },
   "outputs": [
    {
     "name": "stdout",
     "output_type": "stream",
     "text": [
      "Num sample means:  3000\n"
     ]
    },
    {
     "data": {
      "image/png": "[encoded data removed]",
      "text/plain": [
       "<Figure size 432x288 with 1 Axes>"
      ]
     },
     "metadata": {},
     "output_type": "display_data"
    }
   ],
   "source": [
    "# All trials\n",
    "print('Num sample means: ', len(sample_means))\n",
    "\n",
    "ax = plt.hist(sample_means, bins=12)\n",
    "plt.title('Distribution of 3000 sample means \\n (of 12 coinflips each)');"
   ]
  },
  {
   "cell_type": "code",
   "execution_count": 31,
   "metadata": {
    "colab": {
     "base_uri": "https://localhost:8080/",
     "height": 71
    },
    "id": "F15l-J788ApQ",
    "outputId": "c7f926a4-1307-40df-ee3b-25d4c8ed1577"
   },
   "outputs": [
    {
     "name": "stdout",
     "output_type": "stream",
     "text": [
      "Some means at sample size: \n",
      "\n",
      "20:  [0.8, 0.5, 0.4, 0.5, 0.8, 0.6, 0.4, 0.4, 0.4, 0.5]\n",
      "100:  [0.56, 0.45, 0.53, 0.51, 0.4, 0.46, 0.48, 0.5, 0.52, 0.46]\n",
      "1000:  [0.506, 0.509, 0.516, 0.5, 0.498, 0.48, 0.507, 0.51, 0.506, 0.517]\n"
     ]
    }
   ],
   "source": [
    "# Central limit Theorem pulls sample means toward normal distribution\n",
    "\n",
    "sample_means_small = []\n",
    "sample_means_large = []\n",
    "sample_means_huge = []\n",
    "for x in range(0,3000):\n",
    "  coinflips_small = np.random.binomial(n=1, p=.5, size=10)\n",
    "  coinflips_large = np.random.binomial(n=1, p=.5, size=100)\n",
    "  coinflips_huge = np.random.binomial(n=1, p=.5, size=1000)\n",
    "  one_small_sample = coinflips_small\n",
    "  one_small_large = coinflips_large\n",
    "  one_huge_sample = coinflips_huge\n",
    "  sample_means_small.append(coinflips_small.mean())\n",
    "  sample_means_large.append(coinflips_large.mean())\n",
    "  sample_means_huge.append(coinflips_huge.mean())\n",
    "\n",
    "print('Some means at sample size: \\n')\n",
    "print('20: ', sample_means_small[:10])\n",
    "print('100: ', sample_means_large[:10])\n",
    "print('1000: ', sample_means_huge[:10])"
   ]
  },
  {
   "cell_type": "code",
   "execution_count": 34,
   "metadata": {
    "colab": {
     "base_uri": "https://localhost:8080/",
     "height": 265
    },
    "id": "JdES8jXz8kAG",
    "outputId": "7ec31fb5-7aa7-41e2-8b6a-06931ae00324"
   },
   "outputs": [
    {
     "name": "stderr",
     "output_type": "stream",
     "text": [
      "/Library/Frameworks/Python.framework/Versions/3.8/lib/python3.8/site-packages/seaborn/distributions.py:2557: FutureWarning: `distplot` is a deprecated function and will be removed in a future version. Please adapt your code to use either `displot` (a figure-level function with similar flexibility) or `histplot` (an axes-level function for histograms).\n",
      "  warnings.warn(msg, FutureWarning)\n",
      "/Library/Frameworks/Python.framework/Versions/3.8/lib/python3.8/site-packages/seaborn/distributions.py:2557: FutureWarning: `distplot` is a deprecated function and will be removed in a future version. Please adapt your code to use either `displot` (a figure-level function with similar flexibility) or `histplot` (an axes-level function for histograms).\n",
      "  warnings.warn(msg, FutureWarning)\n",
      "/Library/Frameworks/Python.framework/Versions/3.8/lib/python3.8/site-packages/seaborn/distributions.py:2557: FutureWarning: `distplot` is a deprecated function and will be removed in a future version. Please adapt your code to use either `displot` (a figure-level function with similar flexibility) or `histplot` (an axes-level function for histograms).\n",
      "  warnings.warn(msg, FutureWarning)\n"
     ]
    },
    {
     "data": {
      "image/png": "[encoded data removed]",
      "text/plain": [
       "<Figure size 432x288 with 1 Axes>"
      ]
     },
     "metadata": {},
     "output_type": "display_data"
    }
   ],
   "source": [
    "# Show visually\n",
    "\n",
    "import matplotlib.pyplot as plt\n",
    "import seaborn as sns\n",
    "fix, ax = plt.subplots()\n",
    "for sample in [sample_means_small, sample_means_large, sample_means_huge]:\n",
    "  sns.distplot(sample)"
   ]
  },
  {
   "cell_type": "markdown",
   "metadata": {
    "id": "wlbE8buWSPmF"
   },
   "source": [
    "smaller sample = more randomness in the estimation"
   ]
  },
  {
   "cell_type": "markdown",
   "metadata": {
    "id": "EYqo5vZZSFUr"
   },
   "source": [
    "## Standard Error of the Mean\n",
    "\n",
    "- the standard deviation of the distribution of sample means. Describes how random our estimate is.\n",
    "\n",
    "StdDev of sample: s\n",
    "\n",
    "Standard Error: s / sqrt(n) \n",
    "\n",
    "In other words, the sample mean is likely to vary within certain bounds"
   ]
  },
  {
   "cell_type": "markdown",
   "metadata": {
    "id": "-8NccPbCUYDs"
   },
   "source": [
    "![Sample vs Population Variance](https://standard-deviation-calculator.com/wp-content/uploads/2018/03/sample-variance-formula-descriptive-statistics-54-638-cb1374419364.jpg)"
   ]
  },
  {
   "cell_type": "markdown",
   "metadata": {
    "id": "PMElRHqWUxzJ"
   },
   "source": [
    "## How do \"Degrees of Freedom\" work?"
   ]
  },
  {
   "cell_type": "code",
   "execution_count": 36,
   "metadata": {
    "colab": {
     "base_uri": "https://localhost:8080/",
     "height": 35
    },
    "id": "UiugUxtWVrfb",
    "outputId": "0bce3910-4599-42f8-af2f-bd303d3162a7"
   },
   "outputs": [
    {
     "data": {
      "text/plain": [
       "22.0"
      ]
     },
     "execution_count": 36,
     "metadata": {},
     "output_type": "execute_result"
    }
   ],
   "source": [
    "# I have already estimated the sample mean\n",
    "# sample mean: 22 (This is locked in place, this is my constraint)\n",
    "\n",
    "final_number_in_sample = 10\n",
    "fake_sample = [16, 35, 8, 12, 60, 13, final_number_in_sample]\n",
    "\n",
    "# What does the 7th value have to be in order to maintain a sample size of 22?\n",
    "\n",
    "# 22*7 = 154\n",
    "# 154 - 144 = 10\n",
    "\n",
    "np.mean(fake_sample)\n",
    "\n",
    "# The last value is always locked in place, unlike the first n - 1"
   ]
  },
  {
   "cell_type": "markdown",
   "metadata": {
    "id": "nfdQf8QYUUmw"
   },
   "source": [
    "## Build and Interpret a Confidence Interval\n",
    "\n",
    "<img src=\"https://github.com/ryanallredblog/ryanallredblog.github.io/blob/master/img/Confidence_Interval.png?raw=true\" width=400>\n",
    "\n",
    "\n",
    "$\\bar{X}$ - Sample Mean\n",
    "\n",
    "$t$ - t stat corresponding to 95% confidence level and a certain dof\n",
    "\n",
    "$s$ - Std Dev sample\n",
    "\n",
    "$n$ - Sample size"
   ]
  },
  {
   "cell_type": "code",
   "execution_count": 37,
   "metadata": {
    "id": "tBx71Kf0UjT3"
   },
   "outputs": [],
   "source": [
    "import scipy.stats as stats\n",
    "\n",
    "# Pandas by default calculates *SAMPLE standard deviation* \n",
    "# (n-1 degrees of freedom)\n",
    "\n",
    "# NumPy by default calculates *POPULATION* standard deviation \n",
    "# (n degrees of freedom)\n",
    "\n",
    "# Be conscious of which libary you are using to calculate std & var\n",
    "\n",
    "def confidence_interval(data, confidence=0.95):\n",
    "  \"\"\"\n",
    "  Calculate a confidence interval around a sample mean for given data.\n",
    "  Using t-distribution and two-tailed test, default 95% confidence. \n",
    "  \n",
    "  Arguments:\n",
    "    data - iterable (list or numpy array) of sample observations\n",
    "    confidence - level of confidence for the interval, default 95%\n",
    "  \n",
    "  Returns:\n",
    "    tuple of (mean, lower bound, upper bound)\n",
    "  \"\"\"\n",
    "  data = np.array(data)\n",
    "  mean = np.mean(data)\n",
    "  n = len(data)\n",
    "  # Numpy by default calculates the population std_dev\n",
    "  # The following line is wrong:\n",
    "  # s = np.std(data) \n",
    "  # We want the \"sample\" std_dev\n",
    "  s = np.std(data, ddof=1) # uses n-1 in the denominator \"denominator dof\"\n",
    "  std_err = s / np.sqrt(n)\n",
    "  margin_of_error = std_err * stats.t.ppf((1 + confidence) / 2.0, n - 1)\n",
    "  return (mean, mean - margin_of_error, mean + margin_of_error)"
   ]
  },
  {
   "cell_type": "code",
   "execution_count": 38,
   "metadata": {
    "colab": {
     "base_uri": "https://localhost:8080/",
     "height": 34
    },
    "id": "mLN2xWTibNMc",
    "outputId": "b81c5934-4b4a-4c36-a76a-9b88ecdab074"
   },
   "outputs": [
    {
     "data": {
      "text/plain": [
       "(0.6, 0.4723779547394681, 0.7276220452605319)"
      ]
     },
     "execution_count": 38,
     "metadata": {},
     "output_type": "execute_result"
    }
   ],
   "source": [
    "coinflips = np.random.binomial(n=1, p=.5, size=60)\n",
    "\n",
    "confidence_interval(coinflips)"
   ]
  },
  {
   "cell_type": "code",
   "execution_count": null,
   "metadata": {
    "colab": {
     "base_uri": "https://localhost:8080/",
     "height": 34
    },
    "id": "svG1OAkFdlOO",
    "outputId": "6e04c064-237b-4174-b347-721815e8145e"
   },
   "outputs": [
    {
     "data": {
      "text/plain": [
       "(0.5052, 0.4953990336740798, 0.5150009663259202)"
      ]
     },
     "execution_count": 20,
     "metadata": {
      "tags": []
     },
     "output_type": "execute_result"
    }
   ],
   "source": [
    "coinflips = np.random.binomial(n=1, p=.5, size=10000)\n",
    "\n",
    "confidence_interval(coinflips)"
   ]
  },
  {
   "cell_type": "markdown",
   "metadata": {
    "id": "C4rtc8luVUAK"
   },
   "source": [
    "## Graphically Represent a Confidence Interval"
   ]
  },
  {
   "cell_type": "code",
   "execution_count": null,
   "metadata": {
    "colab": {
     "base_uri": "https://localhost:8080/",
     "height": 265
    },
    "id": "pz6F9_3_VmKr",
    "outputId": "e6173d1e-d1d7-40a1-a3f3-55e96368ed52"
   },
   "outputs": [
    {
     "data": {
      "image/png": "[encoded data removed]",
      "text/plain": [
       "<Figure size 432x288 with 1 Axes>"
      ]
     },
     "metadata": {
      "needs_background": "light",
      "tags": []
     },
     "output_type": "display_data"
    }
   ],
   "source": [
    "import seaborn as sns\n",
    "\n",
    "sns.distplot(coinflips)\n",
    "CI = confidence_interval(coinflips)\n",
    "plt.axvline(x=CI[1], color='red')\n",
    "plt.axvline(x=CI[2], color='red')\n",
    "plt.axvline(x=CI[0], color='k');"
   ]
  },
  {
   "cell_type": "markdown",
   "metadata": {
    "id": "_oy0uoBGeoEb"
   },
   "source": [
    "## Relationship between Confidence Intervals and T-tests\n",
    "\n",
    "Confidence Interval == Bounds of statistical significance for our t-test\n",
    "\n",
    "A sample mean that falls inside \"FAILS TO REJECT\"\n",
    "\n",
    "A sample mean that falls outside \"REJECTS\""
   ]
  },
  {
   "cell_type": "markdown",
   "metadata": {},
   "source": [
    "## Some more messing around...\n",
    "## - Chi^2 by hand and in Scipy\n",
    "## - CI by hand"
   ]
  },
  {
   "cell_type": "code",
   "execution_count": null,
   "metadata": {
    "colab": {
     "base_uri": "https://localhost:8080/",
     "height": 55
    },
    "id": "Y7HwdMwDfL1N",
    "outputId": "7e9a0542-45ea-4c65-9599-784ebfb3ea29"
   },
   "outputs": [
    {
     "name": "stdout",
     "output_type": "stream",
     "text": [
      "[0.5333333333333333, 0.4666666666666667, 0.5666666666666667, 0.6, 0.43333333333333335, 0.6, 0.5666666666666667, 0.5333333333333333, 0.6333333333333333, 0.5666666666666667, 0.4666666666666667, 0.43333333333333335, 0.5, 0.5, 0.5333333333333333, 0.4666666666666667, 0.6, 0.36666666666666664, 0.4666666666666667, 0.5, 0.43333333333333335, 0.6333333333333333, 0.43333333333333335, 0.43333333333333335, 0.5, 0.5666666666666667, 0.4, 0.43333333333333335, 0.5, 0.5666666666666667, 0.5, 0.5, 0.36666666666666664, 0.4666666666666667, 0.6333333333333333, 0.36666666666666664, 0.5333333333333333, 0.6, 0.7, 0.6, 0.4666666666666667, 0.5666666666666667, 0.43333333333333335, 0.5, 0.6666666666666666, 0.4666666666666667, 0.43333333333333335, 0.6, 0.4, 0.5333333333333333, 0.4666666666666667, 0.5, 0.43333333333333335, 0.43333333333333335, 0.5333333333333333, 0.5666666666666667, 0.5666666666666667, 0.36666666666666664, 0.43333333333333335, 0.4666666666666667, 0.43333333333333335, 0.4666666666666667, 0.4666666666666667, 0.4666666666666667, 0.5333333333333333, 0.5333333333333333, 0.4666666666666667, 0.4, 0.6666666666666666, 0.4666666666666667, 0.43333333333333335, 0.5666666666666667, 0.5, 0.6, 0.5666666666666667, 0.3333333333333333, 0.6666666666666666, 0.5666666666666667, 0.6, 0.4666666666666667, 0.5, 0.43333333333333335, 0.5, 0.6, 0.6333333333333333, 0.43333333333333335, 0.43333333333333335, 0.5333333333333333, 0.4666666666666667, 0.4666666666666667, 0.5666666666666667, 0.5333333333333333, 0.3333333333333333, 0.5, 0.36666666666666664, 0.5, 0.43333333333333335, 0.5, 0.5666666666666667, 0.5]\n"
     ]
    }
   ],
   "source": [
    "from scipy.stats import t, ttest_1samp\n",
    "import numpy as np\n",
    "\n",
    "# 100-trial experiment of 30 coinflips each\n",
    "\n",
    "coinflip_means = []\n",
    "for x in range(0,100):\n",
    "  coinflips = np.random.binomial(n=1, p=.5, size=30)\n",
    "  coinflip_means.append(coinflips.mean())\n",
    "\n",
    "print(coinflip_means)"
   ]
  },
  {
   "cell_type": "code",
   "execution_count": null,
   "metadata": {
    "colab": {
     "base_uri": "https://localhost:8080/",
     "height": 35
    },
    "id": "nQDo-ZXlfOvR",
    "outputId": "161c0a97-1f5d-423c-a4d3-805b1e404fd0"
   },
   "outputs": [
    {
     "name": "stdout",
     "output_type": "stream",
     "text": [
      "95% Confidence Interval:  (0.487616819921211, 0.5190498467454558)\n"
     ]
    }
   ],
   "source": [
    "# Sample Size\n",
    "n = len(coinflip_means)\n",
    "# Degrees of Freedom\n",
    "dof = n-1\n",
    "# The Mean of Means:\n",
    "mean = np.mean(coinflip_means)\n",
    "# Sample Standard Deviation\n",
    "sample_std = np.std(coinflip_means, ddof=1)\n",
    "# Standard Error\n",
    "std_err = sample_std/n**.5\n",
    "\n",
    "CI = t.interval(.95, dof, loc=mean, scale=std_err)\n",
    "print(\"95% Confidence Interval: \", CI)"
   ]
  },
  {
   "cell_type": "code",
   "execution_count": null,
   "metadata": {
    "colab": {
     "base_uri": "https://localhost:8080/",
     "height": 52
    },
    "id": "PiaALHSNfWou",
    "outputId": "0a2af7bd-c903-4468-9617-80c3543850f0"
   },
   "outputs": [
    {
     "name": "stdout",
     "output_type": "stream",
     "text": [
      "t Statistic: 1.9842169515086827\n",
      "Confidence Interval (0.487616819921211, 0.5190498467454558)\n"
     ]
    }
   ],
   "source": [
    "'''You can roll your own CI calculation pretty easily. \n",
    "The only thing that's a little bit challenging \n",
    "is understanding the t stat lookup'''\n",
    "\n",
    "# 95% confidence interval\n",
    "# ppf\n",
    "t_stat = t.ppf(.975, dof)\n",
    "print(\"t Statistic:\", t_stat)\n",
    "\n",
    "CI = (mean-(t_stat*std_err), mean+(t_stat*std_err))\n",
    "print(\"Confidence Interval\", CI)"
   ]
  },
  {
   "cell_type": "markdown",
   "metadata": {
    "id": "EamZNJhAf-fY"
   },
   "source": [
    "A null hypothesis that's just inside of our confidence interval == fail to reject\n",
    "\n"
   ]
  },
  {
   "cell_type": "code",
   "execution_count": null,
   "metadata": {
    "colab": {
     "base_uri": "https://localhost:8080/",
     "height": 35
    },
    "id": "cNpzYbjpfirR",
    "outputId": "1314e701-2b04-4213-a976-e5599fedd2c5"
   },
   "outputs": [
    {
     "data": {
      "text/plain": [
       "Ttest_1sampResult(statistic=1.984206841525219, pvalue=0.050001144883009614)"
      ]
     },
     "execution_count": 78,
     "metadata": {
      "tags": []
     },
     "output_type": "execute_result"
    }
   ],
   "source": [
    "ttest_1samp(coinflip_means, .4876169)"
   ]
  },
  {
   "cell_type": "markdown",
   "metadata": {
    "id": "hO34mbL9gHn1"
   },
   "source": [
    "A null hypothesis that's just outside of our confidence interval == reject\n",
    "\n"
   ]
  },
  {
   "cell_type": "code",
   "execution_count": null,
   "metadata": {
    "colab": {
     "base_uri": "https://localhost:8080/",
     "height": 35
    },
    "id": "N4SUjj82gKlv",
    "outputId": "b73f36f8-eaa0-4c7e-c2f9-35574157b87d"
   },
   "outputs": [
    {
     "data": {
      "text/plain": [
       "Ttest_1sampResult(statistic=1.9842320916159935, pvalue=0.049998285555303716)"
      ]
     },
     "execution_count": 79,
     "metadata": {
      "tags": []
     },
     "output_type": "execute_result"
    }
   ],
   "source": [
    "ttest_1samp(coinflip_means, .4876167)"
   ]
  },
  {
   "cell_type": "markdown",
   "metadata": {
    "id": "HpDk83yTeokT"
   },
   "source": [
    "The bound of the confidence interval are the bounds of statistical significance of a t-test. "
   ]
  },
  {
   "cell_type": "markdown",
   "metadata": {
    "id": "pTIzrkKdUaLl"
   },
   "source": [
    "## Run a $\\chi^{2}$ Test \"by hand\" (Using Numpy)"
   ]
  },
  {
   "cell_type": "code",
   "execution_count": null,
   "metadata": {
    "id": "DDsovHUyUj3v"
   },
   "outputs": [],
   "source": []
  },
  {
   "cell_type": "markdown",
   "metadata": {
    "id": "7Igz-XHcVbW3"
   },
   "source": [
    "## Run a $\\chi^{2}$ Test using Scipy\n",
    "\n",
    "A chi^2 test, tests to see if two **CATEGORICAL** variables are independent or dependent.\n",
    "\n",
    "$H_0$: The two variables are independent\n",
    "\n",
    "$H_a$: The two variables are dependent (related, correlated, associated)\n",
    "\n",
    "chi^2 statistic: Are the proportions across categories similar to the proportions within categories? If yes - independent, if no - dependent (related)"
   ]
  },
  {
   "cell_type": "code",
   "execution_count": null,
   "metadata": {
    "colab": {
     "base_uri": "https://localhost:8080/",
     "height": 215
    },
    "id": "X52Nwt7AVlvk",
    "outputId": "940d0fbb-6800-4864-9667-1df9d349a515"
   },
   "outputs": [
    {
     "ename": "NameError",
     "evalue": "ignored",
     "output_type": "error",
     "traceback": [
      "\u001b[0;31m---------------------------------------------------------------------------\u001b[0m",
      "\u001b[0;31mNameError\u001b[0m                                 Traceback (most recent call last)",
      "\u001b[0;32m<ipython-input-1-65d25c09b255>\u001b[0m in \u001b[0;36m<module>\u001b[0;34m()\u001b[0m\n\u001b[1;32m      5\u001b[0m                               [30,40,45,35]])\n\u001b[1;32m      6\u001b[0m \u001b[0;34m\u001b[0m\u001b[0m\n\u001b[0;32m----> 7\u001b[0;31m \u001b[0mchi_2_stat\u001b[0m\u001b[0;34m,\u001b[0m \u001b[0mp_value\u001b[0m\u001b[0;34m,\u001b[0m \u001b[0mdof\u001b[0m\u001b[0;34m,\u001b[0m \u001b[0mexpected\u001b[0m \u001b[0;34m=\u001b[0m \u001b[0mstats\u001b[0m\u001b[0;34m.\u001b[0m\u001b[0mchi2_contingency\u001b[0m\u001b[0;34m(\u001b[0m\u001b[0mcontingency_table\u001b[0m\u001b[0;34m)\u001b[0m\u001b[0;34m\u001b[0m\u001b[0;34m\u001b[0m\u001b[0m\n\u001b[0m\u001b[1;32m      8\u001b[0m \u001b[0mprint\u001b[0m\u001b[0;34m(\u001b[0m\u001b[0;34m'chi_2'\u001b[0m\u001b[0;34m,\u001b[0m \u001b[0mchi_2_stat\u001b[0m\u001b[0;34m,\u001b[0m \u001b[0;34m'p value'\u001b[0m\u001b[0;34m,\u001b[0m \u001b[0mp_value\u001b[0m\u001b[0;34m,\u001b[0m \u001b[0;34m'dof'\u001b[0m\u001b[0;34m,\u001b[0m \u001b[0mdof\u001b[0m\u001b[0;34m,\u001b[0m \u001b[0;34m'expected'\u001b[0m\u001b[0;34m,\u001b[0m \u001b[0mexpected\u001b[0m\u001b[0;34m)\u001b[0m\u001b[0;34m\u001b[0m\u001b[0;34m\u001b[0m\u001b[0m\n",
      "\u001b[0;31mNameError\u001b[0m: name 'stats' is not defined"
     ]
    }
   ],
   "source": [
    "import numpy as np\n",
    "# comes from a crosstab (sample)\n",
    "contingency_table = np.array([[90,60,104,95],\n",
    "                              [30,50,51,20],\n",
    "                              [30,40,45,35]])\n",
    "\n",
    "chi_2_stat, p_value, dof, expected = stats.chi2_contingency(contingency_table)\n",
    "print(chi_2_stat, p_value, dof, expected)"
   ]
  },
  {
   "cell_type": "code",
   "execution_count": null,
   "metadata": {
    "colab": {
     "base_uri": "https://localhost:8080/",
     "height": 119
    },
    "id": "kamWoMsmixDH",
    "outputId": "40fb9066-234a-4d01-bc9a-18f319b69282"
   },
   "outputs": [
    {
     "name": "stdout",
     "output_type": "stream",
     "text": [
      "Chi^2 Statistic 24.5712028585826 \n",
      "P value 0.0004098425861096696 \n",
      "DOF 6 \n",
      "Expected [[ 80.53846154  80.53846154 107.38461538  80.53846154]\n",
      " [ 34.84615385  34.84615385  46.46153846  34.84615385]\n",
      " [ 34.61538462  34.61538462  46.15384615  34.61538462]]\n"
     ]
    }
   ],
   "source": [
    "print(\"Chi^2 Statistic\", chi_2_stat, \"\\nP value\", p_value, \"\\nDOF\", dof, \"\\nExpected\", expected)"
   ]
  },
  {
   "cell_type": "markdown",
   "metadata": {
    "id": "EIBjf6odjHl8"
   },
   "source": [
    "Based on a chi^2 statistic of 24.6 and a p-value of .0004, I reject the null hypothesis that neighborhood and work type are independent, and suggest the alternative that they are associated. "
   ]
  },
  {
   "cell_type": "markdown",
   "metadata": {
    "id": "wu_ll1VKjxUr"
   },
   "source": [
    "### Degrees of Freedom\n",
    "\n",
    "With chi^2 tests, the degrees of freedom:\n",
    "\n",
    "(# rows in contingency table - 1)(# columns in contingency table - 1)"
   ]
  },
  {
   "cell_type": "code",
   "execution_count": null,
   "metadata": {
    "colab": {
     "base_uri": "https://localhost:8080/",
     "height": 35
    },
    "id": "8ncMIP16jGJN",
    "outputId": "0ff543e0-97e5-49af-9271-f6a38075719c"
   },
   "outputs": [
    {
     "name": "stdout",
     "output_type": "stream",
     "text": [
      "Degrees of Freedom 6\n"
     ]
    }
   ],
   "source": [
    "print(\"Degrees of Freedom\", dof)"
   ]
  },
  {
   "cell_type": "code",
   "execution_count": null,
   "metadata": {
    "colab": {
     "base_uri": "https://localhost:8080/",
     "height": 69
    },
    "id": "D6Z10Dajjvmk",
    "outputId": "158dd1ab-7dc9-4b25-d10e-667053523304"
   },
   "outputs": [
    {
     "name": "stdout",
     "output_type": "stream",
     "text": [
      "Expected Value Table [[ 80.53846154  80.53846154 107.38461538  80.53846154]\n",
      " [ 34.84615385  34.84615385  46.46153846  34.84615385]\n",
      " [ 34.61538462  34.61538462  46.15384615  34.61538462]]\n"
     ]
    }
   ],
   "source": [
    "# What I would expect the values in my contingency table to be\n",
    "# if the null hypothesis were true\n",
    "print(\"Expected Value Table\", expected)"
   ]
  },
  {
   "cell_type": "code",
   "execution_count": null,
   "metadata": {
    "id": "FkYD2K4HkcTA"
   },
   "outputs": [],
   "source": []
  }
 ],
 "metadata": {
  "colab": {
   "collapsed_sections": [],
   "name": "LectureNotes_DS12_122_Sampling_Confidence_Intervals_and_Hypothesis_Testing.ipynb",
   "provenance": []
  },
  "kernelspec": {
   "display_name": "Python 3",
   "language": "python",
   "name": "python3"
  },
  "language_info": {
   "codemirror_mode": {
    "name": "ipython",
    "version": 3
   },
   "file_extension": ".py",
   "mimetype": "text/x-python",
   "name": "python",
   "nbconvert_exporter": "python",
   "pygments_lexer": "ipython3",
   "version": "3.8.2"
  }
 },
 "nbformat": 4,
 "nbformat_minor": 1
}
