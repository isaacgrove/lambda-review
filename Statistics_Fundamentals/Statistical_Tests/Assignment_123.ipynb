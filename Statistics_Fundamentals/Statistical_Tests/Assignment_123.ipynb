{
 "cells": [
  {
   "cell_type": "markdown",
   "metadata": {
    "id": "H7OLbevlbd_Z"
   },
   "source": [
    "# Lambda School Data Science Module 123\n",
    "\n",
    "## Introduction to Bayesian Inference\n",
    "\n",
    "\n"
   ]
  },
  {
   "cell_type": "markdown",
   "metadata": {
    "id": "P-DzzRk5bf0z"
   },
   "source": [
    "### Assignment - Code it up!\n",
    "\n",
    "We used pure math to apply Bayes Theorem to drug tests. Now write Python code to reproduce the results! This is purposefully open ended - you'll have to think about how you should represent probabilities and events. You can and should look things up.\n",
    "\n",
    "Specific goals/targets:\n",
    "\n",
    "### 1) Write a function \n",
    "\n",
    "`def prob_drunk_given_positive(prob_drunk_prior, false_positive_rate):` \n",
    "\n",
    "You should only truly need these two values in order to apply Bayes Theorem. In this example, imagine that individuals are taking a breathalyzer test with an 8% false positive rate, a 100% true positive rate, and that our prior belief about drunk driving in the population is 1/1000. \n",
    " - What is the probability that a person is drunk after one positive breathalyzer test?\n",
    " - What is the probability that a person is drunk after two positive breathalyzer tests?\n",
    " - How many positive breathalyzer tests are needed in order to have a probability that's greater than 95% that a person is drunk beyond the legal limit?\n",
    "\n",
    "### 2) Explore `scipy.stats.bayes_mvs`  \n",
    "Read its documentation, and experiment with it on data you've tested in other ways earlier this week.\n",
    " - Create a visualization comparing the results of a Bayesian approach to a traditional/frequentist approach. (with a large sample size they should look close to identical, however, take this opportunity to practice visualizing condfidence intervals in general. The following are some potential ways that you could visualize confidence intervals on your graph:\n",
    "  - [Matplotlib Error Bars](https://matplotlib.org/3.1.1/api/_as_gen/matplotlib.pyplot.errorbar.html)\n",
    "  - [Seaborn barplot with error bars](https://seaborn.pydata.org/generated/seaborn.barplot.html)\n",
    "  - [Vertical ines to show bounds of confidence interval](https://www.simplypsychology.org/confidence-interval.jpg)\n",
    "  - [Confidence Intervals on Box Plots](https://matplotlib.org/3.1.1/api/_as_gen/matplotlib.axes.Axes.boxplot.html)\n",
    "\n",
    "### 3) In your own words, summarize the difference between Bayesian and Frequentist statistics\n",
    "\n",
    "If you're unsure where to start, check out [this blog post of Bayes theorem with Python](https://dataconomy.com/2015/02/introduction-to-bayes-theorem-with-python/).\n",
    "\n"
   ]
  },
  {
   "cell_type": "code",
   "execution_count": null,
   "metadata": {
    "id": "xpVhZyUnbf7o"
   },
   "outputs": [],
   "source": [
    "# QUESTION 1\n",
    "\n",
    "# 8% false positive, 100% true positive, 1/1000 prior belief"
   ]
  },
  {
   "cell_type": "code",
   "execution_count": null,
   "metadata": {
    "colab": {
     "base_uri": "https://localhost:8080/",
     "height": 153
    },
    "id": "sN_N-vA6TptV",
    "outputId": "bdb96641-2770-454f-aade-3e6a3aa1f402"
   },
   "outputs": [
    {
     "name": "stdout",
     "output_type": "stream",
     "text": [
      "Probability of being drunk after positive test number 1:\n",
      "0.012357884330202669\n",
      "Probability of being drunk after positive test number 2:\n",
      "0.13525210993291495\n",
      "Probability of being drunk after positive test number 3:\n",
      "0.6615996951348605\n",
      "Probability of being drunk after positive test number 4:\n",
      "0.9606895076105054\n"
     ]
    }
   ],
   "source": [
    "def prob_drunk_given_positive(prob_drunk_prior, false_positive_rate):\n",
    "  true_positive_rate = 1\n",
    "  test_number = 1\n",
    "  prob_drunk_given_positive = 0\n",
    "  while prob_drunk_given_positive < 0.95:\n",
    "    numerator = true_positive_rate * prob_drunk_prior\n",
    "    denominator = (true_positive_rate * prob_drunk_prior) + (false_positive_rate * (1 - prob_drunk_prior))\n",
    "    prob_drunk_given_positive = numerator / denominator\n",
    "    print(\"Probability of being drunk after positive test number \" + str(test_number) + \":\")\n",
    "    print(prob_drunk_given_positive)\n",
    "    test_number+=1\n",
    "    # For next text, prior becomes posterior\n",
    "    prob_drunk_prior = prob_drunk_given_positive\n",
    "\n",
    "\n",
    "prob_drunk_given_positive(.001, .08)"
   ]
  },
  {
   "cell_type": "code",
   "execution_count": null,
   "metadata": {
    "id": "jfuT2ZPRPSgv"
   },
   "outputs": [],
   "source": []
  },
  {
   "cell_type": "code",
   "execution_count": null,
   "metadata": {
    "id": "mALkSooxPSfg"
   },
   "outputs": [],
   "source": [
    "# QUESTION 2"
   ]
  },
  {
   "cell_type": "code",
   "execution_count": null,
   "metadata": {
    "id": "EC5bKKQuPSb2"
   },
   "outputs": [],
   "source": [
    "# ignore\n",
    "import pandas as pd\n",
    "import numpy as np\n",
    "import seaborn as sns\n",
    "import matplotlib.pyplot as plt\n",
    "from scipy import stats"
   ]
  },
  {
   "cell_type": "code",
   "execution_count": null,
   "metadata": {
    "colab": {
     "base_uri": "https://localhost:8080/",
     "height": 204
    },
    "id": "-PwflaWePSah",
    "outputId": "50815a12-68df-4705-95c1-d42a681f243d"
   },
   "outputs": [
    {
     "name": "stdout",
     "output_type": "stream",
     "text": [
      "--2020-01-23 21:14:38--  https://archive.ics.uci.edu/ml/machine-learning-databases/voting-records/house-votes-84.data\n",
      "Resolving archive.ics.uci.edu (archive.ics.uci.edu)... 128.195.10.252\n",
      "Connecting to archive.ics.uci.edu (archive.ics.uci.edu)|128.195.10.252|:443... connected.\n",
      "HTTP request sent, awaiting response... 200 OK\n",
      "Length: 18171 (18K) [application/x-httpd-php]\n",
      "Saving to: ‘house-votes-84.data.1’\n",
      "\n",
      "house-votes-84.data 100%[===================>]  17.75K  --.-KB/s    in 0.1s    \n",
      "\n",
      "2020-01-23 21:14:38 (126 KB/s) - ‘house-votes-84.data.1’ saved [18171/18171]\n",
      "\n"
     ]
    }
   ],
   "source": [
    "# ignore\n",
    "!wget https://archive.ics.uci.edu/ml/machine-learning-databases/voting-records/house-votes-84.data"
   ]
  },
  {
   "cell_type": "code",
   "execution_count": null,
   "metadata": {
    "id": "dzGt3HtxPSWz"
   },
   "outputs": [],
   "source": [
    "# loading data\n",
    "\n",
    "column_headers = ['party', 'handicapped-infants', 'water-project', \n",
    "'budget', 'physician-fee-freeze', 'el-salvador-aid', 'religious-groups', \n",
    "'anti-satellite-ban', 'aid-to-contras', 'mx-missile', 'immigration', \n",
    "'synfuels', 'education', 'right-to-sue', 'crime', 'duty-free', \n",
    "'south-africa']\n",
    "\n",
    "df = pd.read_csv('house-votes-84.data', \n",
    "                 header=None, \n",
    "                 names=column_headers, \n",
    "                 na_values='?')\n",
    "                 \n",
    "df = df.replace({'y': 1, 'n': 0})"
   ]
  },
  {
   "cell_type": "code",
   "execution_count": null,
   "metadata": {
    "id": "CFRv5MeKPSSi"
   },
   "outputs": [],
   "source": [
    "# ignore\n",
    "\n",
    "rep = df[df['party']=='republican']\n",
    "dem = df[df['party']=='democrat']"
   ]
  },
  {
   "cell_type": "code",
   "execution_count": null,
   "metadata": {
    "id": "jPenHg39PSPU"
   },
   "outputs": [],
   "source": [
    "# frequentist CI function\n",
    "\n",
    "def confidence_interval(data, confidence=0.95):\n",
    "  \"\"\"\n",
    "  Calculate a confidence interval around a sample mean for given data.\n",
    "  Using t-distribution and two-tailed test, default 95% confidence. \n",
    "  \n",
    "  Arguments:\n",
    "    data - iterable (list or numpy array) of sample observations\n",
    "    confidence - level of confidence for the interval\n",
    "  \n",
    "  Returns:\n",
    "    tuple of (mean, lower bound, upper bound)\n",
    "  \"\"\"\n",
    "  data = np.array(data)\n",
    "  mean = np.mean(data)\n",
    "  n = len(data)\n",
    "  s = np.std(data, ddof=1)\n",
    "  stderr = s / np.sqrt(n)\n",
    "  margin_of_error = stderr * stats.t.ppf((1 + confidence) / 2.0, n - 1)\n",
    "  return (mean, mean - margin_of_error, mean + margin_of_error)"
   ]
  },
  {
   "cell_type": "code",
   "execution_count": null,
   "metadata": {
    "id": "vrPD3kPDPSEH"
   },
   "outputs": [],
   "source": [
    "# ignore\n",
    "\n",
    "col = rep['physician-fee-freeze']\n",
    "\n",
    "np.isnan(col)\n",
    "\n",
    "physician_fee_freeze_no_nans = col[-np.isnan(col)]"
   ]
  },
  {
   "cell_type": "code",
   "execution_count": null,
   "metadata": {
    "colab": {
     "base_uri": "https://localhost:8080/",
     "height": 34
    },
    "id": "g1fYuaW9PjG2",
    "outputId": "c3cf609e-f38d-4a00-ab79-59f28b1603bb"
   },
   "outputs": [
    {
     "data": {
      "text/plain": [
       "(0.9878787878787879, 0.9710067448304756, 1.0047508309271003)"
      ]
     },
     "execution_count": 8,
     "metadata": {
      "tags": []
     },
     "output_type": "execute_result"
    }
   ],
   "source": [
    "# Get frequentist confidence interval\n",
    "\n",
    "confidence_interval(physician_fee_freeze_no_nans)\n",
    "# 95% confident that the sample mean will fall between ~0.97101 and ~1.00475"
   ]
  },
  {
   "cell_type": "code",
   "execution_count": null,
   "metadata": {
    "colab": {
     "base_uri": "https://localhost:8080/",
     "height": 68
    },
    "id": "LBOe2LXjPjDJ",
    "outputId": "b7eb93c8-b386-46b5-c571-5ce962141552"
   },
   "outputs": [
    {
     "data": {
      "text/plain": [
       "(Mean(statistic=0.9878787878787879, minmax=(0.9710067448304756, 1.0047508309271003)),\n",
       " Variance(statistic=0.012196034418256639, minmax=(0.009812494257409895, 0.015147557859480966)),\n",
       " Std_dev(statistic=0.11026536448466456, minmax=(0.09905803479481054, 0.12307541533336773)))"
      ]
     },
     "execution_count": 9,
     "metadata": {
      "tags": []
     },
     "output_type": "execute_result"
    }
   ],
   "source": [
    "# bayesian CI\n",
    "\n",
    "from scipy.stats import bayes_mvs\n",
    "\n",
    "CI_bayes = bayes_mvs(physician_fee_freeze_no_nans, 0.95)\n",
    "\n",
    "CI_bayes"
   ]
  },
  {
   "cell_type": "code",
   "execution_count": null,
   "metadata": {
    "colab": {
     "base_uri": "https://localhost:8080/",
     "height": 34
    },
    "id": "XzsSUr2zPi_i",
    "outputId": "e6df9c84-e2f1-45a2-c0b1-999315299c6f"
   },
   "outputs": [
    {
     "data": {
      "text/plain": [
       "0.9710067448304756"
      ]
     },
     "execution_count": 10,
     "metadata": {
      "tags": []
     },
     "output_type": "execute_result"
    }
   ],
   "source": [
    "CI_bayes[0][1][0]"
   ]
  },
  {
   "cell_type": "code",
   "execution_count": null,
   "metadata": {
    "colab": {
     "base_uri": "https://localhost:8080/",
     "height": 296
    },
    "id": "Kzgilf7iPi0a",
    "outputId": "9536b371-627f-4156-ec9f-c43e33a9243f"
   },
   "outputs": [
    {
     "data": {
      "text/plain": [
       "<matplotlib.lines.Line2D at 0x7f833ff2b748>"
      ]
     },
     "execution_count": 16,
     "metadata": {
      "tags": []
     },
     "output_type": "execute_result"
    },
    {
     "data": {
      "image/png": "[encoded data removed]",
      "text/plain": [
       "<Figure size 432x288 with 1 Axes>"
      ]
     },
     "metadata": {
      "tags": []
     },
     "output_type": "display_data"
    }
   ],
   "source": [
    "# Note that, even when zoomed way in, the green (Bayesian) CI is identical to the\n",
    "# red (Frequentist) CI. The green bars cover up the red bars.\n",
    "# Red bars can be seen by commenting out the two green bar lines.\n",
    "\n",
    "import seaborn as sns\n",
    "\n",
    "sns.distplot(physician_fee_freeze_no_nans)\n",
    "plt.xlim(0.92, 1.03)\n",
    "CI = confidence_interval(physician_fee_freeze_no_nans)\n",
    "plt.axvline(x=CI[1], color='red')\n",
    "plt.axvline(x=CI[2], color='red')\n",
    "plt.axvline(x=CI[0], color='k');\n",
    "plt.axvline(x=CI_bayes[0][1][0], color='green')\n",
    "plt.axvline(x=CI_bayes[0][1][1], color='green')\n"
   ]
  },
  {
   "cell_type": "code",
   "execution_count": null,
   "metadata": {
    "id": "g2xSTWzKQk3d"
   },
   "outputs": [],
   "source": [
    "# QUESTION 3"
   ]
  },
  {
   "cell_type": "markdown",
   "metadata": {
    "id": "4LaCXjEHRFO-"
   },
   "source": [
    "Bayesian and Frequentist statistics are the two major types of inferential statistics, where you take data about a sample and attempt to infer things about the population from which that sample came. One of the biggest differences between the two schools is the use of prior probabilities. Bayesians use them as a starting point before updating their models as more data comes in. Frequentists object to doing this because there's always some level of subjectivity in picking a prior probability. Frequentists don't assign probabilities to one-off future events (i.e. the chances of Snoop Dogg winning the 2020 Presidential election) because they aren't repeatable in the long run. Bayesians would be willing to assign a probability to this event based on prior knowledge."
   ]
  },
  {
   "cell_type": "code",
   "execution_count": null,
   "metadata": {
    "id": "7M8KX6JpQkye"
   },
   "outputs": [],
   "source": []
  },
  {
   "cell_type": "code",
   "execution_count": null,
   "metadata": {
    "id": "_mKbxrbhQktT"
   },
   "outputs": [],
   "source": []
  },
  {
   "cell_type": "markdown",
   "metadata": {
    "id": "uWgWjp3PQ3Sq"
   },
   "source": [
    "## Resources"
   ]
  },
  {
   "cell_type": "markdown",
   "metadata": {
    "id": "QRgHqmYIQ9qn"
   },
   "source": [
    "- [Worked example of Bayes rule calculation](https://en.wikipedia.org/wiki/Bayes'_theorem#Examples) (helpful as it fully breaks out the denominator)\n",
    "- [Source code for mvsdist in scipy](https://github.com/scipy/scipy/blob/90534919e139d2a81c24bf08341734ff41a3db12/scipy/stats/morestats.py#L139)"
   ]
  },
  {
   "cell_type": "markdown",
   "metadata": {
    "id": "GP7Jv1XvwtkX"
   },
   "source": [
    "## Stretch Goals:\n",
    "\n",
    "- Go back and study the content from Modules 1 & 2 to make sure that you're really comfortable with them.\n",
    "- Apply a Bayesian technique to a problem you previously worked (in an assignment or project work) on from a frequentist (standard) perspective\n",
    "- Check out [PyMC3](https://docs.pymc.io/) (note this goes beyond hypothesis tests into modeling) - read the guides and work through some examples\n",
    "- Take PyMC3 further - see if you can build something with it!"
   ]
  },
  {
   "cell_type": "code",
   "execution_count": null,
   "metadata": {
    "id": "iDi0eFr1x-v_"
   },
   "outputs": [],
   "source": []
  }
 ],
 "metadata": {
  "colab": {
   "name": "Assignment_DS_123_Introduction_to_Bayesian_Inference_IsaacG.ipynb",
   "provenance": []
  },
  "kernelspec": {
   "display_name": "Python 3",
   "language": "python",
   "name": "python3"
  },
  "language_info": {
   "codemirror_mode": {
    "name": "ipython",
    "version": 3
   },
   "file_extension": ".py",
   "mimetype": "text/x-python",
   "name": "python",
   "nbconvert_exporter": "python",
   "pygments_lexer": "ipython3",
   "version": "3.8.2"
  }
 },
 "nbformat": 4,
 "nbformat_minor": 1
}
