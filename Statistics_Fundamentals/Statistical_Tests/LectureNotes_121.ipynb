{
 "cells": [
  {
   "cell_type": "markdown",
   "metadata": {
    "id": "eJGtmni-DezY"
   },
   "source": [
    "\n",
    "\n",
    "## Unit 1 Sprint 2 Module 1 - Stats, Prob, and Inference\n"
   ]
  },
  {
   "cell_type": "markdown",
   "metadata": {},
   "source": [
    "Key Insight: \n",
    "\n",
    "1-sample t tests you choose a mean and test whether sample mean is equal.\n",
    "\n",
    "2-sample tests if means are the same"
   ]
  },
  {
   "cell_type": "markdown",
   "metadata": {},
   "source": [
    "#### Other stuff you can do\n",
    "- draw random samples from distributions and plot them"
   ]
  },
  {
   "cell_type": "code",
   "execution_count": 1,
   "metadata": {
    "id": "8VXlH8-vH-zS"
   },
   "outputs": [],
   "source": [
    "# Descriptive statistics describe the population\n",
    "\n",
    "# Inferential statistics use samples and statistics to estimate populations and parameters\n",
    "\n",
    "# Hypothesis testing helps us determine the likelihood of our inferences"
   ]
  },
  {
   "cell_type": "code",
   "execution_count": null,
   "metadata": {
    "colab": {
     "base_uri": "https://localhost:8080/",
     "height": 204
    },
    "id": "aGsGGy4Mb9IG",
    "outputId": "f84166c0-037e-4b32-97d9-167d48ae698d"
   },
   "outputs": [
    {
     "data": {
      "text/html": [
       "<div>\n",
       "<style scoped>\n",
       "    .dataframe tbody tr th:only-of-type {\n",
       "        vertical-align: middle;\n",
       "    }\n",
       "\n",
       "    .dataframe tbody tr th {\n",
       "        vertical-align: top;\n",
       "    }\n",
       "\n",
       "    .dataframe thead th {\n",
       "        text-align: right;\n",
       "    }\n",
       "</style>\n",
       "<table border=\"1\" class=\"dataframe\">\n",
       "  <thead>\n",
       "    <tr style=\"text-align: right;\">\n",
       "      <th></th>\n",
       "      <th>a</th>\n",
       "      <th>b</th>\n",
       "    </tr>\n",
       "  </thead>\n",
       "  <tbody>\n",
       "    <tr>\n",
       "      <th>0</th>\n",
       "      <td>1</td>\n",
       "      <td>2</td>\n",
       "    </tr>\n",
       "    <tr>\n",
       "      <th>1</th>\n",
       "      <td>2</td>\n",
       "      <td>4</td>\n",
       "    </tr>\n",
       "    <tr>\n",
       "      <th>2</th>\n",
       "      <td>3</td>\n",
       "      <td>6</td>\n",
       "    </tr>\n",
       "    <tr>\n",
       "      <th>3</th>\n",
       "      <td>4</td>\n",
       "      <td>8</td>\n",
       "    </tr>\n",
       "    <tr>\n",
       "      <th>4</th>\n",
       "      <td>5</td>\n",
       "      <td>10</td>\n",
       "    </tr>\n",
       "  </tbody>\n",
       "</table>\n",
       "</div>"
      ],
      "text/plain": [
       "   a   b\n",
       "0  1   2\n",
       "1  2   4\n",
       "2  3   6\n",
       "3  4   8\n",
       "4  5  10"
      ]
     },
     "execution_count": 1,
     "metadata": {
      "tags": []
     },
     "output_type": "execute_result"
    }
   ],
   "source": [
    "# here's a df\n",
    "\n",
    "import pandas as pd\n",
    "df = pd.DataFrame({'a': [1,2,3,4,5], 'b': [2,4,6,8,10]})\n",
    "df.head()"
   ]
  },
  {
   "cell_type": "code",
   "execution_count": null,
   "metadata": {
    "colab": {
     "base_uri": "https://localhost:8080/",
     "height": 297
    },
    "id": "K-73WFB5cI1_",
    "outputId": "54624804-493e-47c3-a509-ed4a42078a68"
   },
   "outputs": [
    {
     "data": {
      "text/html": [
       "<div>\n",
       "<style scoped>\n",
       "    .dataframe tbody tr th:only-of-type {\n",
       "        vertical-align: middle;\n",
       "    }\n",
       "\n",
       "    .dataframe tbody tr th {\n",
       "        vertical-align: top;\n",
       "    }\n",
       "\n",
       "    .dataframe thead th {\n",
       "        text-align: right;\n",
       "    }\n",
       "</style>\n",
       "<table border=\"1\" class=\"dataframe\">\n",
       "  <thead>\n",
       "    <tr style=\"text-align: right;\">\n",
       "      <th></th>\n",
       "      <th>a</th>\n",
       "      <th>b</th>\n",
       "    </tr>\n",
       "  </thead>\n",
       "  <tbody>\n",
       "    <tr>\n",
       "      <th>count</th>\n",
       "      <td>5.000000</td>\n",
       "      <td>5.000000</td>\n",
       "    </tr>\n",
       "    <tr>\n",
       "      <th>mean</th>\n",
       "      <td>3.000000</td>\n",
       "      <td>6.000000</td>\n",
       "    </tr>\n",
       "    <tr>\n",
       "      <th>std</th>\n",
       "      <td>1.581139</td>\n",
       "      <td>3.162278</td>\n",
       "    </tr>\n",
       "    <tr>\n",
       "      <th>min</th>\n",
       "      <td>1.000000</td>\n",
       "      <td>2.000000</td>\n",
       "    </tr>\n",
       "    <tr>\n",
       "      <th>25%</th>\n",
       "      <td>2.000000</td>\n",
       "      <td>4.000000</td>\n",
       "    </tr>\n",
       "    <tr>\n",
       "      <th>50%</th>\n",
       "      <td>3.000000</td>\n",
       "      <td>6.000000</td>\n",
       "    </tr>\n",
       "    <tr>\n",
       "      <th>75%</th>\n",
       "      <td>4.000000</td>\n",
       "      <td>8.000000</td>\n",
       "    </tr>\n",
       "    <tr>\n",
       "      <th>max</th>\n",
       "      <td>5.000000</td>\n",
       "      <td>10.000000</td>\n",
       "    </tr>\n",
       "  </tbody>\n",
       "</table>\n",
       "</div>"
      ],
      "text/plain": [
       "              a          b\n",
       "count  5.000000   5.000000\n",
       "mean   3.000000   6.000000\n",
       "std    1.581139   3.162278\n",
       "min    1.000000   2.000000\n",
       "25%    2.000000   4.000000\n",
       "50%    3.000000   6.000000\n",
       "75%    4.000000   8.000000\n",
       "max    5.000000  10.000000"
      ]
     },
     "execution_count": 2,
     "metadata": {
      "tags": []
     },
     "output_type": "execute_result"
    }
   ],
   "source": [
    "# Quickly look at some descriptive statistics\n",
    "\n",
    "df.describe()"
   ]
  },
  {
   "cell_type": "markdown",
   "metadata": {
    "id": "MOkBDGsWbMRc"
   },
   "source": [
    "Normal Distribution - A probability distribution of a continuous real valued random variable.\n",
    "\n",
    "- useful for  *Central Limit Theorem*. If we assume that a variable follows the normal distribution, we can make conclusions based on probabilities."
   ]
  },
  {
   "cell_type": "code",
   "execution_count": null,
   "metadata": {
    "colab": {
     "base_uri": "https://localhost:8080/",
     "height": 1000
    },
    "id": "BYlq8EYKbMRd",
    "outputId": "95b4cfcc-a91a-4d29-ed81-6c31fef72d34"
   },
   "outputs": [
    {
     "data": {
      "text/plain": [
       "array([ 8.30103369e-02, -2.60709798e-02,  7.34278583e-02, -5.24944818e-02,\n",
       "       -8.01259950e-02,  2.02176330e-01,  5.63522061e-03,  1.30660549e-01,\n",
       "       -4.62825787e-02,  1.15966979e-01, -1.30758250e-02,  4.54938444e-02,\n",
       "        1.33931202e-02, -3.26968015e-02,  2.67464264e-02,  6.08955511e-02,\n",
       "        1.14703655e-02,  2.62631859e-02,  8.61298631e-02,  6.49984546e-02,\n",
       "        1.75080654e-02, -2.52235165e-02, -2.82488591e-02,  8.89817902e-02,\n",
       "       -5.54538944e-02,  6.07797079e-02,  1.17171108e-01, -1.78267494e-01,\n",
       "        6.09799539e-02, -8.67804693e-02, -6.04360880e-02,  1.17346085e-01,\n",
       "        1.01385613e-01, -6.52250810e-02, -2.33115948e-01,  7.63043973e-02,\n",
       "        8.35764755e-02, -6.35348525e-02, -1.88262268e-01,  1.86613328e-01,\n",
       "       -1.74933562e-01,  3.09030093e-02,  4.60819006e-02,  1.00500915e-01,\n",
       "       -7.20245388e-03, -1.40484362e-01,  7.49759156e-02,  2.95829974e-02,\n",
       "        3.10883473e-02,  8.00101686e-02,  9.99074703e-02, -2.39166557e-03,\n",
       "       -8.20845717e-02, -4.43539892e-02, -1.56643021e-01, -2.24752059e-03,\n",
       "        5.07740575e-02,  1.45441200e-03, -5.92403547e-02, -1.70707794e-01,\n",
       "       -7.54086793e-02, -6.19206609e-02, -8.96305135e-02,  5.66884675e-03,\n",
       "       -8.66909444e-02, -1.93216443e-02,  2.94882467e-02,  4.78208867e-02,\n",
       "       -6.42003705e-02,  1.20403466e-01, -1.28362593e-01,  5.24291783e-02,\n",
       "        7.82045041e-02, -7.53720650e-02,  2.48417990e-02, -3.74944234e-02,\n",
       "       -8.01614387e-02, -1.15439811e-01,  6.92564240e-02,  1.68550061e-01,\n",
       "       -4.76989335e-02, -1.09570010e-02,  7.02527574e-02,  5.16489915e-02,\n",
       "       -2.47689984e-02, -1.12203941e-01,  3.43806309e-03,  1.54775911e-01,\n",
       "        2.79634183e-02, -9.45325650e-03, -3.02064776e-02,  2.05258075e-03,\n",
       "        1.01990559e-02, -1.70425667e-01,  1.92356351e-01, -4.97639177e-02,\n",
       "       -5.68055082e-02,  8.03345792e-03, -7.72096294e-03,  1.06545394e-01,\n",
       "        1.48868305e-01,  7.68415710e-02, -2.35039151e-03, -4.78982064e-02,\n",
       "       -3.22078524e-02, -2.25259215e-02, -1.10954776e-01,  3.40843773e-02,\n",
       "       -1.88180685e-02, -1.43656794e-01,  1.58668752e-01,  5.17664972e-02,\n",
       "       -1.15596035e-01,  4.40086240e-02, -1.25192652e-01,  5.43987818e-02,\n",
       "        8.00564744e-03,  8.20279151e-02,  5.16298865e-02, -1.38893720e-02,\n",
       "        1.27733307e-03,  1.55942198e-02,  2.30281225e-01, -1.98119048e-01,\n",
       "        1.47423864e-01, -5.53069273e-02,  5.45057612e-02,  5.73394826e-02,\n",
       "       -4.54149584e-02, -1.12046507e-01,  9.79377079e-02, -1.25821295e-01,\n",
       "       -2.04745514e-01,  1.74034593e-01,  1.96954686e-02,  1.96504423e-02,\n",
       "        1.97592759e-02, -5.90985717e-02, -4.14554519e-03,  6.08653229e-03,\n",
       "        3.17080494e-02, -1.47778372e-01, -1.33149520e-02, -1.68531032e-01,\n",
       "        2.66502087e-02, -1.61142324e-01, -2.80437793e-02, -3.86715355e-02,\n",
       "       -8.17320532e-02, -4.52509747e-02,  9.05931651e-02,  5.95846284e-02,\n",
       "        2.92118068e-01,  6.34482519e-02,  1.46002251e-02, -2.38329818e-01,\n",
       "        5.17956165e-02,  1.90471585e-02,  3.03009847e-02, -1.50061120e-01,\n",
       "        7.77051287e-02, -2.54762534e-01,  7.64171514e-02,  1.19693892e-01,\n",
       "       -2.22952540e-01, -5.84674386e-02, -1.24381246e-01, -1.34743260e-01,\n",
       "       -1.45889531e-01,  1.76092002e-02,  6.52757125e-02, -4.91075502e-02,\n",
       "        2.15284656e-01,  5.17988261e-02,  1.61325634e-02,  1.18800697e-01,\n",
       "       -1.47442047e-04,  2.79814771e-02, -8.25480644e-02,  5.52178115e-03,\n",
       "        6.58736736e-03, -8.71369183e-02, -1.75957959e-01,  9.46724037e-02,\n",
       "       -2.01559601e-01,  8.81216836e-02,  1.91505426e-02, -8.35552827e-02,\n",
       "       -1.03245733e-01, -1.53932581e-01, -5.75013507e-02,  1.41778383e-03,\n",
       "       -1.03710179e-01,  5.63596270e-02,  3.61163383e-02,  1.00994754e-02,\n",
       "        5.18333953e-02, -1.63380704e-02, -6.66353910e-02, -5.82192364e-02,\n",
       "        5.61690977e-03, -1.52159850e-01, -1.38110207e-01,  1.19111072e-01,\n",
       "        5.67998129e-02, -1.63452545e-01,  2.62981397e-03, -1.43658515e-01,\n",
       "        3.93005938e-02,  9.37356655e-03,  9.59484562e-02,  9.08235304e-02,\n",
       "       -3.69604023e-02,  3.47020273e-02, -1.21033068e-01, -1.71188949e-01,\n",
       "        7.03938866e-03,  1.22694764e-02, -8.44815298e-03, -8.09440779e-02,\n",
       "       -4.43616819e-03,  3.07783031e-02,  1.16315870e-01, -1.05691371e-02,\n",
       "        1.06712612e-01,  4.46233578e-02,  1.98777078e-02, -3.13527243e-02,\n",
       "       -6.14159249e-02,  4.03098714e-03,  1.36233818e-01,  2.65893464e-02,\n",
       "       -6.43986471e-02,  4.10077360e-02,  6.85660472e-02, -3.63647890e-03,\n",
       "        3.80720528e-02,  5.42758977e-02, -3.19047460e-02, -2.84836267e-02,\n",
       "       -2.34090715e-02,  3.84768641e-02,  6.31907201e-02,  1.06790768e-02,\n",
       "        2.88426123e-02, -8.51744550e-02, -7.97302312e-02, -1.29367058e-02,\n",
       "        2.64624770e-03,  5.37926942e-02, -6.78403396e-02,  4.62235697e-02,\n",
       "        2.75089086e-03, -3.65548459e-02, -1.81192660e-01,  2.91432071e-02,\n",
       "        4.78372773e-02,  9.16819551e-02,  4.81721591e-02,  1.67715619e-02,\n",
       "        3.23534315e-02, -1.07820203e-01, -1.83083539e-01, -3.30402513e-02,\n",
       "        6.59787948e-02, -2.37836563e-01, -3.72711704e-02, -6.96369218e-02,\n",
       "       -1.31648713e-01, -6.01228235e-02, -5.06838924e-02, -7.16455437e-02,\n",
       "       -2.39793540e-02,  7.28642727e-02, -9.63898753e-02,  6.93551436e-02,\n",
       "        2.31619448e-02,  6.97706151e-02,  1.42331438e-01, -8.85713945e-02,\n",
       "        5.40413349e-02,  1.57139221e-01,  5.42048870e-02,  1.96650611e-01,\n",
       "        9.67417545e-02,  1.81910389e-01, -3.80203948e-02,  4.30877100e-02,\n",
       "       -1.20828892e-01, -1.56313416e-01,  9.04850345e-02,  5.96027648e-02,\n",
       "       -1.78983403e-02, -2.45305969e-01, -6.27184098e-02,  1.57251948e-02,\n",
       "       -6.33070412e-02, -4.81071981e-02, -5.94962947e-02,  3.16385728e-02,\n",
       "       -1.54794076e-01, -8.21886372e-04,  1.80781482e-01,  7.69569549e-02,\n",
       "       -1.13756221e-01,  8.93968867e-02, -5.04584168e-02, -2.06059587e-01,\n",
       "       -9.56613922e-02, -5.04224948e-02,  4.13519719e-02, -1.09262399e-01,\n",
       "        1.14764526e-01,  1.43522513e-01, -8.09196970e-02,  1.66990073e-03,\n",
       "        1.61783657e-01,  5.73549529e-03, -4.25511923e-02, -2.78948510e-03,\n",
       "       -8.17294163e-02,  3.49926033e-02,  8.13424230e-03,  2.90817737e-03,\n",
       "        5.76590912e-02, -5.76563363e-02,  9.78414947e-03, -7.11565161e-03,\n",
       "       -7.38901068e-02,  9.38339769e-03, -2.76060044e-02,  1.44923707e-01,\n",
       "       -1.03610338e-02, -1.83063707e-01,  7.09957875e-02,  8.50193164e-02,\n",
       "        5.86625202e-02,  1.59835780e-01, -7.08137171e-02,  5.02771536e-02,\n",
       "       -1.20881833e-01,  1.84880008e-01, -7.70443677e-02,  5.49775427e-02,\n",
       "       -8.28723419e-03,  1.22433871e-01, -9.15109614e-03, -2.02639776e-01,\n",
       "       -9.16045470e-02, -2.21615618e-02,  1.33563356e-01,  8.80385401e-02,\n",
       "        2.53929608e-02,  5.91851964e-02, -5.18203645e-02, -9.29682410e-03,\n",
       "        4.61590464e-02, -1.31732810e-01, -1.29096306e-01, -8.89501822e-02,\n",
       "       -1.48988903e-02,  1.60436102e-01, -3.18440708e-02, -1.91756091e-01,\n",
       "       -5.15515151e-02,  2.18723961e-01, -5.40663781e-02, -7.15578214e-02,\n",
       "       -3.68020200e-02,  1.89255568e-02,  5.88764681e-02, -1.43207986e-01,\n",
       "       -8.94142728e-02,  1.11240826e-01, -4.95823448e-02,  1.83930995e-02,\n",
       "       -9.16941532e-02,  7.10739597e-02,  1.08376312e-01, -7.52959224e-03,\n",
       "       -2.89352464e-02, -2.07749626e-01,  1.30578197e-01, -5.21721019e-02,\n",
       "        3.74934436e-02,  3.24339146e-01, -7.39572609e-02,  4.45922476e-02,\n",
       "        7.49189531e-03,  5.19903003e-02,  1.00863150e-01,  5.53150178e-02,\n",
       "       -8.44821318e-02,  4.38832061e-02, -1.22868249e-01, -1.71697100e-01,\n",
       "       -3.36942451e-02,  9.75351638e-02, -7.01102562e-02,  1.59069452e-02,\n",
       "       -2.02710649e-02, -2.40546452e-02, -2.98020422e-03,  1.63253996e-01,\n",
       "       -6.96603373e-02,  7.98229794e-02, -3.43047638e-02, -5.37612707e-02,\n",
       "       -7.30724105e-02,  1.65090702e-03,  7.60568868e-02, -1.69202520e-01,\n",
       "        1.71931915e-01, -8.39840047e-02, -2.44582763e-01, -1.07564081e-01,\n",
       "       -4.27811236e-03,  8.45390588e-02,  9.24652210e-02,  1.37875685e-01,\n",
       "       -1.20040560e-01,  2.03423590e-02,  1.26355863e-01,  2.31024775e-02,\n",
       "       -9.81812243e-03,  3.79838121e-02,  4.32803282e-02, -6.67942047e-02,\n",
       "        1.62746437e-02, -4.29213181e-02,  2.04367990e-02, -1.05699638e-01,\n",
       "        3.64577093e-02, -7.46818999e-02, -1.09266008e-01, -1.09755529e-01,\n",
       "       -1.46162666e-01, -6.34459867e-02, -2.07244134e-02,  1.68615422e-01,\n",
       "       -5.09704366e-02, -7.67352925e-02, -9.03368316e-02, -5.01573619e-03,\n",
       "       -4.29593299e-02,  2.43255844e-01, -7.16626386e-02, -9.17866662e-02,\n",
       "        8.90890522e-02,  9.36988141e-02,  7.41198448e-03,  1.19373690e-01,\n",
       "       -1.31514949e-01, -9.23065632e-02,  3.01271435e-02, -1.55196337e-01,\n",
       "        9.17794783e-02,  5.44491344e-02, -5.13038739e-02,  1.22792434e-01,\n",
       "        8.47994672e-02,  5.31843603e-02,  1.92908927e-02,  6.67196844e-03,\n",
       "        5.41648934e-02,  2.68767654e-02,  2.85964236e-02,  5.91414263e-02,\n",
       "        2.48381642e-02, -2.61982793e-02, -5.10158359e-02,  1.36294067e-01,\n",
       "        9.17997375e-02,  1.60935785e-01,  1.17720228e-01, -4.95483921e-02,\n",
       "       -5.49676642e-02, -6.06079869e-02, -1.70172660e-02,  1.47968825e-01,\n",
       "        6.40098015e-02, -1.31746872e-02, -1.96766719e-02, -1.50982789e-01,\n",
       "        1.09042445e-01, -1.09427852e-01,  5.80999079e-03,  1.87860835e-01,\n",
       "        2.53330457e-02, -8.09338440e-02,  9.20950259e-02, -1.53957582e-02,\n",
       "        2.32428494e-02,  5.37376972e-02,  5.98347497e-02, -1.93257849e-01,\n",
       "        4.63090929e-02,  9.04994680e-02,  2.92359750e-02,  1.02186384e-01,\n",
       "        9.96332461e-02,  8.41767326e-02, -7.06268664e-02, -1.08273004e-01,\n",
       "        2.41160748e-02, -1.33248343e-01, -3.10725872e-02, -1.19148520e-01,\n",
       "       -1.72475364e-02,  3.17287743e-02,  1.60461774e-01, -1.30617798e-01,\n",
       "        1.79699147e-02, -1.03465570e-01, -7.14592894e-02,  8.20218780e-02,\n",
       "        1.95660753e-01, -1.58320502e-01,  1.97191076e-03,  1.37362299e-02,\n",
       "       -1.37716169e-01,  9.04901031e-02,  8.72996505e-02, -1.34794875e-01,\n",
       "       -2.72774946e-02, -2.69099947e-02,  1.37992673e-01, -7.09193080e-02,\n",
       "       -5.72873115e-02,  5.49063417e-02, -1.03164870e-01,  2.93161591e-02,\n",
       "        1.43530822e-01, -8.36046138e-03, -5.22746254e-02,  1.03447745e-01,\n",
       "       -1.05674343e-01,  6.92733667e-02,  1.58643060e-01, -5.45539286e-02,\n",
       "        8.97868517e-02,  2.08143464e-02,  3.98085934e-03, -1.42256372e-01,\n",
       "       -2.42145537e-02,  4.01463872e-02, -4.25506622e-02,  6.64322496e-02,\n",
       "       -6.08411491e-02, -1.23261064e-01,  1.20471099e-01, -1.60364325e-01,\n",
       "        2.77575003e-03, -5.17039224e-02,  1.12108498e-02, -3.48165356e-02,\n",
       "        1.07804895e-02,  5.26133758e-02,  7.24112235e-02, -1.47469027e-01,\n",
       "       -7.44605543e-02,  3.98308842e-02, -2.71621001e-02,  7.51053445e-02,\n",
       "        9.03592915e-02, -1.20585708e-01,  4.46112080e-02,  6.89582182e-02,\n",
       "       -1.57037811e-01,  8.80593145e-02,  8.51496067e-02, -1.78625523e-01,\n",
       "       -1.04884708e-01,  4.27571682e-03,  7.86684945e-02,  4.53256113e-02,\n",
       "        1.67176681e-01,  6.01739429e-02,  4.00691574e-02, -1.03505159e-02,\n",
       "        1.94734694e-02, -1.12319956e-02, -4.37010125e-02, -1.74326827e-02,\n",
       "       -7.06097709e-03, -9.35288983e-02, -1.42994071e-01,  9.02900402e-02,\n",
       "        1.34073602e-01,  6.63895625e-02,  4.33771965e-02, -1.74765023e-01,\n",
       "        9.30147562e-02,  8.58818716e-03,  5.26296448e-02,  9.53700951e-02,\n",
       "       -4.35700392e-02, -1.15098974e-01, -1.12981681e-01,  1.36151651e-02,\n",
       "       -7.43646572e-02,  7.65994398e-02, -6.95014672e-02, -1.04840728e-01,\n",
       "       -1.80826236e-01, -6.74259290e-02, -8.71225334e-03, -1.25510675e-01,\n",
       "        7.81504567e-02, -1.86277864e-01, -2.34498283e-01, -3.45219071e-02,\n",
       "       -7.36910554e-02,  9.02744890e-02,  3.79219323e-02,  5.37158671e-02,\n",
       "        1.52475006e-02,  1.70627938e-02,  8.08018613e-02, -6.81071983e-02,\n",
       "       -1.84187481e-01,  7.62693342e-02,  7.14796712e-02,  1.57931340e-01,\n",
       "        4.08465826e-02,  2.63573665e-02,  4.74543124e-02,  4.48192171e-02,\n",
       "        2.15431602e-01,  3.72390668e-02, -5.66486253e-02, -2.19674946e-01,\n",
       "        1.18780966e-01, -7.71136846e-02,  1.54726684e-01, -5.36518798e-02,\n",
       "       -6.40356927e-03, -4.58666346e-02, -1.50627388e-01, -4.23049333e-02,\n",
       "       -1.62856577e-01, -8.57653704e-02,  2.02704213e-01,  2.43171227e-01,\n",
       "       -3.86318353e-02, -6.84380261e-02,  3.81963384e-02, -1.22300942e-01,\n",
       "        1.64956572e-01, -9.32386583e-02,  2.05116886e-01, -4.91010609e-02,\n",
       "       -8.21273103e-03, -1.42939121e-01,  1.37513349e-01,  2.83358015e-02,\n",
       "       -5.44461190e-02,  1.91131676e-01, -9.57483553e-02, -1.22897778e-01,\n",
       "       -8.67770195e-02, -7.54734526e-03, -9.23136030e-02, -1.26211096e-01,\n",
       "        1.91028310e-02,  2.14217431e-01, -1.16425506e-01,  3.40611891e-02,\n",
       "        1.10457955e-01,  4.14802553e-02,  1.23444754e-02, -8.17334654e-02,\n",
       "       -3.85187289e-03, -5.07325786e-04,  1.63506529e-01, -6.12166457e-02,\n",
       "        2.37184504e-02,  2.18187356e-01, -1.00471090e-01,  6.29756891e-02,\n",
       "       -6.80290762e-02,  3.29129033e-03,  9.99488036e-02, -7.62643827e-02,\n",
       "       -1.08769628e-01, -1.31796767e-01,  1.65863792e-01,  1.36962037e-01,\n",
       "       -3.04333467e-03,  4.64508438e-02, -4.33564195e-02,  1.49483131e-01,\n",
       "        9.06512563e-03,  2.19580181e-01, -4.84857935e-02,  6.39102273e-02,\n",
       "        9.40786038e-02,  1.68907639e-01,  1.26443182e-01,  3.59200247e-02,\n",
       "        1.17807654e-01, -1.43227945e-02, -2.09996117e-01, -4.35164544e-02,\n",
       "        5.53064601e-02,  4.17621013e-03,  1.44424457e-01,  1.42486355e-01,\n",
       "       -1.87174226e-01,  5.07840926e-02, -6.52495710e-02,  1.52961132e-02,\n",
       "        1.01535575e-01, -5.85812115e-02, -1.63536597e-01, -7.13027143e-02,\n",
       "       -6.86518958e-03,  3.31260894e-02,  2.78398652e-02, -7.33433646e-02,\n",
       "       -1.02561694e-01, -1.02868414e-02, -8.74347588e-04,  1.65275863e-02,\n",
       "        7.41339255e-02, -8.95860758e-02,  1.14303686e-01, -7.25678460e-02,\n",
       "        2.36468644e-02,  7.37109987e-02, -7.36655763e-02, -2.96952640e-02,\n",
       "        4.59594778e-02,  1.44127974e-01,  1.16083685e-01, -3.89793335e-02,\n",
       "        6.63127407e-02, -1.12884375e-01, -1.35782738e-01, -1.82335601e-01,\n",
       "        7.17443067e-02,  1.09626495e-01,  1.51976215e-01,  5.39079677e-02,\n",
       "        2.22286745e-02, -6.86758423e-02,  1.03914764e-02, -1.22997374e-02,\n",
       "        1.43899880e-02,  1.24575869e-02, -1.34841395e-01, -1.62902753e-01,\n",
       "        9.25198408e-02,  7.09982835e-02, -9.19548008e-02, -2.63702347e-01,\n",
       "        8.11727409e-02, -6.89340246e-02, -8.55941285e-02,  1.60693909e-01,\n",
       "        6.08777649e-03,  4.00152230e-02, -1.60915832e-01, -2.49389338e-02,\n",
       "       -5.05097343e-02,  1.11056332e-01, -2.98161397e-02,  7.26839187e-02,\n",
       "       -1.60166354e-01,  1.55641909e-01,  1.10102476e-01, -6.28184802e-02,\n",
       "        7.81457731e-02, -3.15777827e-02, -9.48601972e-02, -2.49327059e-01,\n",
       "       -1.96471098e-02, -5.65095688e-02,  4.31359397e-02, -1.14727057e-01,\n",
       "       -5.43267246e-02, -5.93854691e-02,  1.13102690e-03, -6.08858132e-02,\n",
       "       -4.95342573e-02,  2.11284728e-01,  4.50420074e-02,  1.16744155e-02,\n",
       "       -2.92159875e-02,  1.51208019e-01, -6.49588037e-02,  1.01709748e-01,\n",
       "        1.14694981e-01,  5.02548838e-02,  2.16881525e-01,  1.66877619e-01,\n",
       "       -2.21546240e-01, -4.04605955e-02,  1.26938732e-01,  1.33819591e-02,\n",
       "       -5.63730374e-02, -7.21348774e-02, -1.14997962e-01, -4.82617208e-02,\n",
       "        1.55622900e-03, -1.38040248e-01,  4.57704589e-02, -3.44808242e-02,\n",
       "        2.77990051e-02,  1.11722349e-01,  9.79783465e-02, -3.86229916e-02,\n",
       "        4.69512888e-02,  4.21285935e-02,  1.00091684e-01, -1.25679211e-01,\n",
       "       -3.18205585e-02, -5.00993943e-02,  1.10874365e-01, -4.93210707e-03,\n",
       "        2.38392177e-03, -6.11666004e-02, -8.42203995e-02,  5.91204653e-02,\n",
       "        1.31548163e-01, -3.46959041e-02,  2.11639924e-01,  3.88833179e-02,\n",
       "        4.07119199e-02,  9.82146443e-02,  6.25905888e-02, -5.31669975e-02,\n",
       "       -9.94554993e-02, -2.14320093e-02,  5.34633134e-02,  1.47462188e-02,\n",
       "        5.47399475e-03,  1.62419649e-02, -2.33462630e-02, -5.21374705e-02,\n",
       "       -3.68267813e-02,  1.94415197e-01,  6.12390963e-02, -1.01455830e-02,\n",
       "       -1.46897022e-01,  8.61587484e-02,  9.98399116e-02, -2.13071980e-02,\n",
       "       -8.01478205e-02, -1.60948598e-02, -8.50316631e-02, -4.79884862e-02,\n",
       "       -1.17215731e-01, -1.81267471e-01,  8.93057412e-02, -6.79989579e-02,\n",
       "        2.12659315e-01,  4.45187854e-02, -3.98763583e-02,  1.86181702e-01,\n",
       "        9.51711811e-02,  7.68714957e-03,  1.51246538e-01,  4.80703860e-02,\n",
       "        5.22784538e-02,  1.43374295e-01, -6.18558741e-02,  1.39300190e-02,\n",
       "       -5.40880747e-02, -1.10703480e-01, -8.64703508e-02, -8.70295328e-02,\n",
       "       -1.07872398e-01, -1.32100880e-01, -5.39285621e-02, -2.26368115e-01,\n",
       "        8.36593308e-02,  1.24130960e-01, -5.20573887e-02,  5.43461298e-02,\n",
       "       -1.15543283e-01,  2.90970360e-01, -5.48833292e-02, -8.27941124e-02,\n",
       "       -9.29034696e-02,  1.78435352e-01, -1.15581227e-01, -1.41359448e-01,\n",
       "       -2.62132241e-01, -1.60671293e-02,  7.39658001e-02,  1.60769851e-01,\n",
       "       -1.32842409e-01,  6.38583844e-02, -1.82784947e-02, -5.98411356e-02,\n",
       "       -7.89576543e-02, -1.07359028e-01, -1.19351334e-01, -2.29437405e-02,\n",
       "       -4.18079034e-02, -4.05437903e-02, -5.94165161e-02, -1.97826231e-01,\n",
       "       -6.05611656e-02,  2.14051406e-02, -2.31280319e-01, -4.09680679e-02,\n",
       "        9.73473298e-02,  1.08964221e-01,  3.99257341e-02,  2.43059203e-01,\n",
       "        5.36532089e-02,  1.67479420e-02, -7.79200779e-02,  1.09815538e-01,\n",
       "        2.25662357e-02, -2.41480787e-01, -1.52513182e-02,  1.40980746e-01,\n",
       "       -6.24523057e-02,  2.93028569e-02, -9.74322006e-02, -1.56759457e-01,\n",
       "        2.01922195e-01,  8.85291564e-03, -6.50423145e-03,  4.46267293e-02,\n",
       "        1.28143677e-01, -3.23923174e-02, -4.03115548e-02, -1.45283593e-01,\n",
       "       -3.73742141e-02,  1.79611558e-01, -1.18255955e-01,  1.10105168e-01,\n",
       "        1.66948575e-02,  1.70843833e-01,  5.55353050e-02, -9.74285269e-02,\n",
       "        1.95328020e-01, -1.27206254e-02, -3.41844201e-02, -1.88461156e-02,\n",
       "        6.63771812e-02,  8.86857532e-02, -1.10974566e-03,  1.53029555e-02,\n",
       "        1.64509453e-01,  4.56889165e-03,  8.51104969e-02,  2.25988844e-01,\n",
       "        4.55638907e-02,  8.59765175e-02,  4.97605747e-02,  5.14291222e-02,\n",
       "        2.26421223e-02, -6.29537528e-02,  6.53460157e-02, -1.09570404e-02,\n",
       "        1.77845191e-01, -2.29363936e-02, -1.16935083e-01, -3.78687590e-02,\n",
       "        1.12140808e-01, -3.31149757e-02,  3.52684491e-02,  4.60115477e-02,\n",
       "       -7.27352671e-02, -4.80328483e-02,  5.90692007e-03, -2.30429309e-01,\n",
       "        1.48783976e-01, -2.62866589e-01, -5.85620648e-02, -1.13880703e-01,\n",
       "        2.85124583e-03,  3.45539642e-02, -2.59924310e-01,  6.70920315e-02,\n",
       "        2.06981504e-02,  8.19291801e-02, -6.74325766e-02, -7.38328869e-02,\n",
       "        2.01238554e-01, -5.24741936e-02,  6.41114733e-02,  3.42818692e-02,\n",
       "        1.95168241e-01,  5.54538811e-02,  1.00172256e-01,  1.61318540e-01,\n",
       "       -9.17369162e-02,  1.16933610e-01, -1.04192602e-01, -1.82757643e-01,\n",
       "       -9.68729626e-03, -9.83079296e-02, -2.77400761e-02, -9.70905605e-02])"
      ]
     },
     "execution_count": 2,
     "metadata": {
      "tags": []
     },
     "output_type": "execute_result"
    }
   ],
   "source": [
    "# Draw 1000 samples with a given mean, std dev\n",
    "\n",
    "import numpy as np\n",
    "\n",
    "mu = 0 \n",
    "sigma = 0.1 \n",
    "\n",
    "\n",
    "sample = np.random.normal(mu, sigma, 1000)\n",
    "\n",
    "sample"
   ]
  },
  {
   "cell_type": "code",
   "execution_count": null,
   "metadata": {
    "colab": {
     "base_uri": "https://localhost:8080/",
     "height": 34
    },
    "id": "POU0-SuQbMRh",
    "outputId": "4fb336a0-6475-4cda-9eb6-07e4ad3a126c"
   },
   "outputs": [
    {
     "data": {
      "text/plain": [
       "True"
      ]
     },
     "execution_count": 4,
     "metadata": {
      "tags": []
     },
     "output_type": "execute_result"
    }
   ],
   "source": [
    "# Verify mean\n",
    "abs(mu - np.mean(sample)) < 0.01"
   ]
  },
  {
   "cell_type": "code",
   "execution_count": null,
   "metadata": {
    "colab": {
     "base_uri": "https://localhost:8080/",
     "height": 34
    },
    "id": "Ur3hGasTbMRl",
    "outputId": "a0421e29-7938-40a2-c9c9-032dbce83a72"
   },
   "outputs": [
    {
     "data": {
      "text/plain": [
       "True"
      ]
     },
     "execution_count": 5,
     "metadata": {
      "tags": []
     },
     "output_type": "execute_result"
    }
   ],
   "source": [
    "# Verify variance\n",
    "abs(sigma - np.std(sample, ddof=1)) < 0.01"
   ]
  },
  {
   "cell_type": "code",
   "execution_count": null,
   "metadata": {
    "colab": {
     "base_uri": "https://localhost:8080/",
     "height": 353
    },
    "id": "GbVV3_TsbMRn",
    "outputId": "8604043c-637e-49ae-aa88-7fbb4fa5356b"
   },
   "outputs": [
    {
     "name": "stderr",
     "output_type": "stream",
     "text": [
      "/usr/local/lib/python3.6/dist-packages/statsmodels/tools/_testing.py:19: FutureWarning: pandas.util.testing is deprecated. Use the functions in the public API at pandas.testing instead.\n",
      "  import pandas.util.testing as tm\n"
     ]
    },
    {
     "data": {
      "text/plain": [
       "<matplotlib.lines.Line2D at 0x7fcd86be2550>"
      ]
     },
     "execution_count": 3,
     "metadata": {
      "tags": []
     },
     "output_type": "execute_result"
    },
    {
     "data": {
      "image/png": "[encoded data removed]",
      "text/plain": [
       "<Figure size 432x288 with 1 Axes>"
      ]
     },
     "metadata": {
      "tags": []
     },
     "output_type": "display_data"
    }
   ],
   "source": [
    "import seaborn as sns\n",
    "from matplotlib import style\n",
    "style.use('fivethirtyeight')\n",
    "\n",
    "ax = sns.distplot(sample, color='r')\n",
    "ax.axvline(np.percentile(sample,97.5),0)\n",
    "ax.axvline(np.percentile(sample,2.5),0)"
   ]
  },
  {
   "cell_type": "code",
   "execution_count": null,
   "metadata": {
    "colab": {
     "base_uri": "https://localhost:8080/",
     "height": 357
    },
    "id": "0A7mgckR6XoR",
    "outputId": "6d8454ba-2ac4-4dc6-9ff1-c9372df7cdf0"
   },
   "outputs": [
    {
     "data": {
      "text/plain": [
       "array([ 1.76405235,  0.40015721,  0.97873798,  2.2408932 ,  1.86755799,\n",
       "       -0.97727788,  0.95008842, -0.15135721, -0.10321885,  0.4105985 ,\n",
       "        0.14404357,  1.45427351,  0.76103773,  0.12167502,  0.44386323,\n",
       "        0.33367433,  1.49407907, -0.20515826,  0.3130677 , -0.85409574,\n",
       "       -2.55298982,  0.6536186 ,  0.8644362 , -0.74216502,  2.26975462,\n",
       "       -1.45436567,  0.04575852, -0.18718385,  1.53277921,  1.46935877,\n",
       "        0.15494743,  0.37816252, -0.88778575, -1.98079647, -0.34791215,\n",
       "        0.15634897,  1.23029068,  1.20237985, -0.38732682, -0.30230275,\n",
       "       -1.04855297, -1.42001794, -1.70627019,  1.9507754 , -0.50965218,\n",
       "       -0.4380743 , -1.25279536,  0.77749036, -1.61389785, -0.21274028,\n",
       "       -0.89546656,  0.3869025 , -0.51080514, -1.18063218, -0.02818223,\n",
       "        0.42833187,  0.06651722,  0.3024719 , -0.63432209, -0.36274117,\n",
       "       -0.67246045, -0.35955316, -0.81314628, -1.7262826 ,  0.17742614,\n",
       "       -0.40178094, -1.63019835,  0.46278226, -0.90729836,  0.0519454 ,\n",
       "        0.72909056,  0.12898291,  1.13940068, -1.23482582,  0.40234164,\n",
       "       -0.68481009, -0.87079715, -0.57884966, -0.31155253,  0.05616534,\n",
       "       -1.16514984,  0.90082649,  0.46566244, -1.53624369,  1.48825219,\n",
       "        1.89588918,  1.17877957, -0.17992484, -1.07075262,  1.05445173,\n",
       "       -0.40317695,  1.22244507,  0.20827498,  0.97663904,  0.3563664 ,\n",
       "        0.70657317,  0.01050002,  1.78587049,  0.12691209,  0.40198936])"
      ]
     },
     "execution_count": 5,
     "metadata": {
      "tags": []
     },
     "output_type": "execute_result"
    }
   ],
   "source": [
    "\n",
    "sns.set(); np.random.seed(0)\n",
    "# .set() sets graphs to the default seaborn aesthetics\n",
    "\n",
    "x = np.random.randn(100)\n",
    "# .randn(n) draws n random samples \n",
    "x"
   ]
  },
  {
   "cell_type": "code",
   "execution_count": null,
   "metadata": {
    "colab": {
     "base_uri": "https://localhost:8080/",
     "height": 284
    },
    "id": "OhE6PMLj64oK",
    "outputId": "22d1d9e5-3121-4d64-9e67-9de11dd8da41"
   },
   "outputs": [
    {
     "data": {
      "image/png": "[encoded data removed]",
      "text/plain": [
       "<Figure size 432x288 with 1 Axes>"
      ]
     },
     "metadata": {
      "tags": []
     },
     "output_type": "display_data"
    }
   ],
   "source": [
    "ax = sns.distplot(x)"
   ]
  },
  {
   "cell_type": "code",
   "execution_count": null,
   "metadata": {
    "colab": {
     "base_uri": "https://localhost:8080/",
     "height": 284
    },
    "id": "uig1Q9hA7UpK",
    "outputId": "8c57fc2b-da73-48ea-8acb-2c7dc48e4f3f"
   },
   "outputs": [
    {
     "data": {
      "image/png": "[encoded data removed]",
      "text/plain": [
       "<Figure size 432x288 with 1 Axes>"
      ]
     },
     "metadata": {
      "tags": []
     },
     "output_type": "display_data"
    }
   ],
   "source": [
    "sns.set_style(\"whitegrid\")\n",
    "\n",
    "ax = sns.distplot(x)"
   ]
  },
  {
   "cell_type": "markdown",
   "metadata": {
    "id": "D3ZwR9tDc-KX"
   },
   "source": [
    "![The Normal Distribution](https://upload.wikimedia.org/wikipedia/commons/thumb/a/a9/Empirical_Rule.PNG/350px-Empirical_Rule.png)"
   ]
  },
  {
   "cell_type": "markdown",
   "metadata": {
    "id": "5BvYLMjadAnu"
   },
   "source": [
    "# Why do we use the t-distribution in hypothesis tests?\n",
    "\n",
    "![t-distribution-low-dof](https://lambdachops.com/img/t-distribution-low-dof.png)\n",
    "\n",
    "![t-distribution-approximates-normal](https://github.com/ryanallredblog/ryanallredblog.github.io/blob/master/img/t-distribution-approximates-normal.png?raw=true)\n",
    "\n",
    "### Helpful video on why we use the t-distribution\n",
    "\n",
    "<https://www.youtube.com/watch?v=Uv6nGIgZMVw>\n",
    "\n",
    "Basically, the z-score is the # of std devs an observation is from the pop mean, but in the real world we don't actually know the pop mean, so we use the sample mean to estimate it.\n",
    "\n",
    "Because the sample mean comes from a sample and is used to estimate the population mean with some level of uncertainty, it has its own distribution and spread. For low sample sizes, our estimates of the sample mean and standard deviation are not very precise, they're kind of spread out. Thus the t-distribution is wider than the normal distribution for low sample sizes and tends toward the normal distribution as sample size gets larger.\n"
   ]
  },
  {
   "cell_type": "markdown",
   "metadata": {
    "id": "FMhDKOFND0qY"
   },
   "source": [
    "## Student's T Test\n",
    "\n",
    "\n",
    "\n",
    ">Assuming data come from a Normal distribution, the t test provides a way to test whether the sample mean (that is the mean calculated from the data) is a good estimate of the population mean. \n",
    "\n",
    "\n",
    "The derivation of the t-distribution was first published in 1908 by William Gosset while working for the Guinness Brewery in Dublin. Due to proprietary issues, he had to publish under a pseudonym, and so he used the name Student.\n",
    "\n",
    "\n",
    "Basically we take a T statistic and check how likely it is to differ from the population mean based on the t-distribution of means (1 - alpha)\n",
    "\n"
   ]
  },
  {
   "cell_type": "code",
   "execution_count": null,
   "metadata": {
    "id": "fQ9rkLJmEbsk"
   },
   "outputs": [],
   "source": [
    "# np.random is a set of funcs for random sampling.\n",
    "\n",
    "# np.random.standard_t() samples from the standard normal distribution\n",
    "\n",
    "t_df10 = np.random.standard_t(df=10, size=10)\n",
    "t_df100 = np.random.standard_t(df=100, size=100)\n",
    "t_df1000 = np.random.standard_t(df=1000, size=1000)\n"
   ]
  },
  {
   "cell_type": "code",
   "execution_count": null,
   "metadata": {
    "colab": {
     "base_uri": "https://localhost:8080/",
     "height": 284
    },
    "id": "RyNKPt_tJk86",
    "outputId": "07c355e9-3228-49c2-d2cb-562455c377d4"
   },
   "outputs": [
    {
     "data": {
      "image/png": "[encoded data removed]",
      "text/plain": [
       "<Figure size 432x288 with 1 Axes>"
      ]
     },
     "metadata": {
      "tags": []
     },
     "output_type": "display_data"
    }
   ],
   "source": [
    "# red 10\n",
    "sns.kdeplot(t_df10, color='r');\n",
    "\n",
    "# yellow 100\n",
    "sns.kdeplot(t_df100, color='y');\n",
    "\n",
    "# blue 1000\n",
    "sns.kdeplot(t_df1000, color='b');\n",
    "\n"
   ]
  },
  {
   "cell_type": "code",
   "execution_count": null,
   "metadata": {
    "colab": {
     "base_uri": "https://localhost:8080/",
     "height": 272
    },
    "id": "seQv5unnJvpM",
    "outputId": "640b4240-72e3-45e6-dc31-119145e09b93"
   },
   "outputs": [
    {
     "name": "stdout",
     "output_type": "stream",
     "text": [
      "t - distribution with 10 degrees of freedom\n",
      "------------------------------\n",
      "Mean: 0.17883423236917345\n",
      "Standard Deviation: 1.1703269051341707\n",
      "Variance: 1.3696650648809263\n",
      "t - distribution with 100 degrees of freedom\n",
      "------------------------------\n",
      "Mean: 0.030713553377753878\n",
      "Standard Deviation: 0.9938349522534571\n",
      "Variance: 0.9877079123206314\n",
      "t - distribution with 1000 degrees of freedom\n",
      "------------------------------\n",
      "Mean: -0.025465343897625198\n",
      "Standard Deviation: 1.0114854361515107\n",
      "Variance: 1.0231027875466117\n"
     ]
    }
   ],
   "source": [
    "i = 10\n",
    "for sample in [t_df10, t_df100, t_df1000]:\n",
    "    print(f\"t - distribution with {i} degrees of freedom\")\n",
    "    print(\"---\" * 10)\n",
    "    print(f\"Mean: {sample.mean()}\")\n",
    "    print(f\"Standard Deviation: {sample.std()}\")\n",
    "    print(f\"Variance: {sample.var()}\")\n",
    "    i = i*10"
   ]
  },
  {
   "cell_type": "markdown",
   "metadata": {
    "id": "FOvEGMysLaE2"
   },
   "source": [
    "The normal distribution is the nice pure ideal (thanks to the central limit theorem), but we use t-dist in the real world when we don't know population means, etc"
   ]
  },
  {
   "cell_type": "markdown",
   "metadata": {
    "id": "1yx_QilAEC6o"
   },
   "source": [
    "## Live Lecture - perform and interpret a t-test\n",
    "\n",
    "We'll generate our own data so there's a \"ground truth\" to then play with. Topics include:\n",
    "\n",
    "- p-values \n",
    "- how to interpret \"statistical significance\" \n",
    "- how the t-stat is calculated based on sample error\n",
    "- what 1 and 2 tailed t-tests look like visually "
   ]
  },
  {
   "cell_type": "code",
   "execution_count": null,
   "metadata": {
    "id": "BuysRPs-Ed0v"
   },
   "outputs": [],
   "source": [
    "# Tests\n",
    "\n",
    "from scipy.stats import ttest_ind, ttest_ind_from_stats, ttest_rel\n",
    "\n",
    "# 1-sample t test\n",
    "# 2-sample t test from descriptive stats\n",
    "# 2-sample related t test"
   ]
  },
  {
   "cell_type": "code",
   "execution_count": null,
   "metadata": {
    "colab": {
     "base_uri": "https://localhost:8080/",
     "height": 204
    },
    "id": "rxOS5h7MdBnO",
    "outputId": "893eaac1-3c54-47f9-ac6c-eb2838bb5826"
   },
   "outputs": [
    {
     "name": "stdout",
     "output_type": "stream",
     "text": [
      "--2020-07-12 17:14:11--  https://archive.ics.uci.edu/ml/machine-learning-databases/voting-records/house-votes-84.data\n",
      "Resolving archive.ics.uci.edu (archive.ics.uci.edu)... 128.195.10.252\n",
      "Connecting to archive.ics.uci.edu (archive.ics.uci.edu)|128.195.10.252|:443... connected.\n",
      "HTTP request sent, awaiting response... 200 OK\n",
      "Length: 18171 (18K) [application/x-httpd-php]\n",
      "Saving to: ‘house-votes-84.data’\n",
      "\n",
      "house-votes-84.data 100%[===================>]  17.75K  --.-KB/s    in 0.1s    \n",
      "\n",
      "2020-07-12 17:14:12 (137 KB/s) - ‘house-votes-84.data’ saved [18171/18171]\n",
      "\n"
     ]
    }
   ],
   "source": [
    "!wget https://archive.ics.uci.edu/ml/machine-learning-databases/voting-records/house-votes-84.data"
   ]
  },
  {
   "cell_type": "code",
   "execution_count": null,
   "metadata": {
    "colab": {
     "base_uri": "https://localhost:8080/",
     "height": 258
    },
    "id": "m_9WRYBUdBmQ",
    "outputId": "f851ee19-5a40-49c6-c3ee-bebe4aa8aa93"
   },
   "outputs": [
    {
     "data": {
      "text/html": [
       "<div>\n",
       "<style scoped>\n",
       "    .dataframe tbody tr th:only-of-type {\n",
       "        vertical-align: middle;\n",
       "    }\n",
       "\n",
       "    .dataframe tbody tr th {\n",
       "        vertical-align: top;\n",
       "    }\n",
       "\n",
       "    .dataframe thead th {\n",
       "        text-align: right;\n",
       "    }\n",
       "</style>\n",
       "<table border=\"1\" class=\"dataframe\">\n",
       "  <thead>\n",
       "    <tr style=\"text-align: right;\">\n",
       "      <th></th>\n",
       "      <th>party</th>\n",
       "      <th>handicapped-infants</th>\n",
       "      <th>water-project</th>\n",
       "      <th>budget</th>\n",
       "      <th>physician-fee-freeze</th>\n",
       "      <th>el-salvador-aid</th>\n",
       "      <th>religious-groups</th>\n",
       "      <th>anti-satellite-ban</th>\n",
       "      <th>aid-to-contras</th>\n",
       "      <th>mx-missile</th>\n",
       "      <th>immigration</th>\n",
       "      <th>synfuels</th>\n",
       "      <th>education</th>\n",
       "      <th>right-to-sue</th>\n",
       "      <th>crime</th>\n",
       "      <th>duty-free</th>\n",
       "      <th>south-africa</th>\n",
       "    </tr>\n",
       "  </thead>\n",
       "  <tbody>\n",
       "    <tr>\n",
       "      <th>0</th>\n",
       "      <td>republican</td>\n",
       "      <td>n</td>\n",
       "      <td>y</td>\n",
       "      <td>n</td>\n",
       "      <td>y</td>\n",
       "      <td>y</td>\n",
       "      <td>y</td>\n",
       "      <td>n</td>\n",
       "      <td>n</td>\n",
       "      <td>n</td>\n",
       "      <td>y</td>\n",
       "      <td>NaN</td>\n",
       "      <td>y</td>\n",
       "      <td>y</td>\n",
       "      <td>y</td>\n",
       "      <td>n</td>\n",
       "      <td>y</td>\n",
       "    </tr>\n",
       "    <tr>\n",
       "      <th>1</th>\n",
       "      <td>republican</td>\n",
       "      <td>n</td>\n",
       "      <td>y</td>\n",
       "      <td>n</td>\n",
       "      <td>y</td>\n",
       "      <td>y</td>\n",
       "      <td>y</td>\n",
       "      <td>n</td>\n",
       "      <td>n</td>\n",
       "      <td>n</td>\n",
       "      <td>n</td>\n",
       "      <td>n</td>\n",
       "      <td>y</td>\n",
       "      <td>y</td>\n",
       "      <td>y</td>\n",
       "      <td>n</td>\n",
       "      <td>NaN</td>\n",
       "    </tr>\n",
       "    <tr>\n",
       "      <th>2</th>\n",
       "      <td>democrat</td>\n",
       "      <td>NaN</td>\n",
       "      <td>y</td>\n",
       "      <td>y</td>\n",
       "      <td>NaN</td>\n",
       "      <td>y</td>\n",
       "      <td>y</td>\n",
       "      <td>n</td>\n",
       "      <td>n</td>\n",
       "      <td>n</td>\n",
       "      <td>n</td>\n",
       "      <td>y</td>\n",
       "      <td>n</td>\n",
       "      <td>y</td>\n",
       "      <td>y</td>\n",
       "      <td>n</td>\n",
       "      <td>n</td>\n",
       "    </tr>\n",
       "    <tr>\n",
       "      <th>3</th>\n",
       "      <td>democrat</td>\n",
       "      <td>n</td>\n",
       "      <td>y</td>\n",
       "      <td>y</td>\n",
       "      <td>n</td>\n",
       "      <td>NaN</td>\n",
       "      <td>y</td>\n",
       "      <td>n</td>\n",
       "      <td>n</td>\n",
       "      <td>n</td>\n",
       "      <td>n</td>\n",
       "      <td>y</td>\n",
       "      <td>n</td>\n",
       "      <td>y</td>\n",
       "      <td>n</td>\n",
       "      <td>n</td>\n",
       "      <td>y</td>\n",
       "    </tr>\n",
       "    <tr>\n",
       "      <th>4</th>\n",
       "      <td>democrat</td>\n",
       "      <td>y</td>\n",
       "      <td>y</td>\n",
       "      <td>y</td>\n",
       "      <td>n</td>\n",
       "      <td>y</td>\n",
       "      <td>y</td>\n",
       "      <td>n</td>\n",
       "      <td>n</td>\n",
       "      <td>n</td>\n",
       "      <td>n</td>\n",
       "      <td>y</td>\n",
       "      <td>NaN</td>\n",
       "      <td>y</td>\n",
       "      <td>y</td>\n",
       "      <td>y</td>\n",
       "      <td>y</td>\n",
       "    </tr>\n",
       "  </tbody>\n",
       "</table>\n",
       "</div>"
      ],
      "text/plain": [
       "        party handicapped-infants water-project  ... crime duty-free south-africa\n",
       "0  republican                   n             y  ...     y         n            y\n",
       "1  republican                   n             y  ...     y         n          NaN\n",
       "2    democrat                 NaN             y  ...     y         n            n\n",
       "3    democrat                   n             y  ...     n         n            y\n",
       "4    democrat                   y             y  ...     y         y            y\n",
       "\n",
       "[5 rows x 17 columns]"
      ]
     },
     "execution_count": 25,
     "metadata": {
      "tags": []
     },
     "output_type": "execute_result"
    }
   ],
   "source": [
    "column_headers = ['party', 'handicapped-infants', 'water-project', \n",
    "'budget', 'physician-fee-freeze', 'el-salvador-aid', 'religious-groups', \n",
    "'anti-satellite-ban', 'aid-to-contras', 'mx-missile', 'immigration', \n",
    "'synfuels', 'education', 'right-to-sue', 'crime', 'duty-free', \n",
    "'south-africa']\n",
    "\n",
    "df = pd.read_csv('house-votes-84.data', \n",
    "                 header=None,\n",
    "                 names=column_headers,\n",
    "                 na_values='?')\n",
    "\n",
    "df.head()"
   ]
  },
  {
   "cell_type": "code",
   "execution_count": null,
   "metadata": {
    "colab": {
     "base_uri": "https://localhost:8080/",
     "height": 258
    },
    "id": "KDlWXRZAFHuy",
    "outputId": "adb11182-538f-400b-ecdb-c80895751b01"
   },
   "outputs": [
    {
     "data": {
      "text/html": [
       "<div>\n",
       "<style scoped>\n",
       "    .dataframe tbody tr th:only-of-type {\n",
       "        vertical-align: middle;\n",
       "    }\n",
       "\n",
       "    .dataframe tbody tr th {\n",
       "        vertical-align: top;\n",
       "    }\n",
       "\n",
       "    .dataframe thead th {\n",
       "        text-align: right;\n",
       "    }\n",
       "</style>\n",
       "<table border=\"1\" class=\"dataframe\">\n",
       "  <thead>\n",
       "    <tr style=\"text-align: right;\">\n",
       "      <th></th>\n",
       "      <th>party</th>\n",
       "      <th>handicapped-infants</th>\n",
       "      <th>water-project</th>\n",
       "      <th>budget</th>\n",
       "      <th>physician-fee-freeze</th>\n",
       "      <th>el-salvador-aid</th>\n",
       "      <th>religious-groups</th>\n",
       "      <th>anti-satellite-ban</th>\n",
       "      <th>aid-to-contras</th>\n",
       "      <th>mx-missile</th>\n",
       "      <th>immigration</th>\n",
       "      <th>synfuels</th>\n",
       "      <th>education</th>\n",
       "      <th>right-to-sue</th>\n",
       "      <th>crime</th>\n",
       "      <th>duty-free</th>\n",
       "      <th>south-africa</th>\n",
       "    </tr>\n",
       "  </thead>\n",
       "  <tbody>\n",
       "    <tr>\n",
       "      <th>0</th>\n",
       "      <td>republican</td>\n",
       "      <td>0.0</td>\n",
       "      <td>1.0</td>\n",
       "      <td>0.0</td>\n",
       "      <td>1.0</td>\n",
       "      <td>1.0</td>\n",
       "      <td>1.0</td>\n",
       "      <td>0.0</td>\n",
       "      <td>0.0</td>\n",
       "      <td>0.0</td>\n",
       "      <td>1.0</td>\n",
       "      <td>NaN</td>\n",
       "      <td>1.0</td>\n",
       "      <td>1.0</td>\n",
       "      <td>1.0</td>\n",
       "      <td>0.0</td>\n",
       "      <td>1.0</td>\n",
       "    </tr>\n",
       "    <tr>\n",
       "      <th>1</th>\n",
       "      <td>republican</td>\n",
       "      <td>0.0</td>\n",
       "      <td>1.0</td>\n",
       "      <td>0.0</td>\n",
       "      <td>1.0</td>\n",
       "      <td>1.0</td>\n",
       "      <td>1.0</td>\n",
       "      <td>0.0</td>\n",
       "      <td>0.0</td>\n",
       "      <td>0.0</td>\n",
       "      <td>0.0</td>\n",
       "      <td>0.0</td>\n",
       "      <td>1.0</td>\n",
       "      <td>1.0</td>\n",
       "      <td>1.0</td>\n",
       "      <td>0.0</td>\n",
       "      <td>NaN</td>\n",
       "    </tr>\n",
       "    <tr>\n",
       "      <th>2</th>\n",
       "      <td>democrat</td>\n",
       "      <td>NaN</td>\n",
       "      <td>1.0</td>\n",
       "      <td>1.0</td>\n",
       "      <td>NaN</td>\n",
       "      <td>1.0</td>\n",
       "      <td>1.0</td>\n",
       "      <td>0.0</td>\n",
       "      <td>0.0</td>\n",
       "      <td>0.0</td>\n",
       "      <td>0.0</td>\n",
       "      <td>1.0</td>\n",
       "      <td>0.0</td>\n",
       "      <td>1.0</td>\n",
       "      <td>1.0</td>\n",
       "      <td>0.0</td>\n",
       "      <td>0.0</td>\n",
       "    </tr>\n",
       "    <tr>\n",
       "      <th>3</th>\n",
       "      <td>democrat</td>\n",
       "      <td>0.0</td>\n",
       "      <td>1.0</td>\n",
       "      <td>1.0</td>\n",
       "      <td>0.0</td>\n",
       "      <td>NaN</td>\n",
       "      <td>1.0</td>\n",
       "      <td>0.0</td>\n",
       "      <td>0.0</td>\n",
       "      <td>0.0</td>\n",
       "      <td>0.0</td>\n",
       "      <td>1.0</td>\n",
       "      <td>0.0</td>\n",
       "      <td>1.0</td>\n",
       "      <td>0.0</td>\n",
       "      <td>0.0</td>\n",
       "      <td>1.0</td>\n",
       "    </tr>\n",
       "    <tr>\n",
       "      <th>4</th>\n",
       "      <td>democrat</td>\n",
       "      <td>1.0</td>\n",
       "      <td>1.0</td>\n",
       "      <td>1.0</td>\n",
       "      <td>0.0</td>\n",
       "      <td>1.0</td>\n",
       "      <td>1.0</td>\n",
       "      <td>0.0</td>\n",
       "      <td>0.0</td>\n",
       "      <td>0.0</td>\n",
       "      <td>0.0</td>\n",
       "      <td>1.0</td>\n",
       "      <td>NaN</td>\n",
       "      <td>1.0</td>\n",
       "      <td>1.0</td>\n",
       "      <td>1.0</td>\n",
       "      <td>1.0</td>\n",
       "    </tr>\n",
       "  </tbody>\n",
       "</table>\n",
       "</div>"
      ],
      "text/plain": [
       "        party  handicapped-infants  ...  duty-free  south-africa\n",
       "0  republican                  0.0  ...        0.0           1.0\n",
       "1  republican                  0.0  ...        0.0           NaN\n",
       "2    democrat                  NaN  ...        0.0           0.0\n",
       "3    democrat                  0.0  ...        0.0           1.0\n",
       "4    democrat                  1.0  ...        1.0           1.0\n",
       "\n",
       "[5 rows x 17 columns]"
      ]
     },
     "execution_count": 29,
     "metadata": {
      "tags": []
     },
     "output_type": "execute_result"
    }
   ],
   "source": [
    "df = df.replace({'y': 1, 'n': 0})\n",
    "df.head()"
   ]
  },
  {
   "cell_type": "code",
   "execution_count": null,
   "metadata": {
    "colab": {
     "base_uri": "https://localhost:8080/",
     "height": 85
    },
    "id": "9biPMJNVdBgA",
    "outputId": "c02d3bb7-f831-49bb-f027-7dd0dca569c8"
   },
   "outputs": [
    {
     "name": "stdout",
     "output_type": "stream",
     "text": [
      "(435, 17)\n"
     ]
    },
    {
     "data": {
      "text/plain": [
       "democrat      267\n",
       "republican    168\n",
       "Name: party, dtype: int64"
      ]
     },
     "execution_count": 30,
     "metadata": {
      "tags": []
     },
     "output_type": "execute_result"
    }
   ],
   "source": [
    "print(df.shape)\n",
    "df['party'].value_counts()"
   ]
  },
  {
   "cell_type": "code",
   "execution_count": null,
   "metadata": {
    "colab": {
     "base_uri": "https://localhost:8080/",
     "height": 258
    },
    "id": "d8kRLbkudBbv",
    "outputId": "a3b84e6e-6078-4d56-bf8e-6b0b6d06cf24"
   },
   "outputs": [
    {
     "data": {
      "text/html": [
       "<div>\n",
       "<style scoped>\n",
       "    .dataframe tbody tr th:only-of-type {\n",
       "        vertical-align: middle;\n",
       "    }\n",
       "\n",
       "    .dataframe tbody tr th {\n",
       "        vertical-align: top;\n",
       "    }\n",
       "\n",
       "    .dataframe thead th {\n",
       "        text-align: right;\n",
       "    }\n",
       "</style>\n",
       "<table border=\"1\" class=\"dataframe\">\n",
       "  <thead>\n",
       "    <tr style=\"text-align: right;\">\n",
       "      <th></th>\n",
       "      <th>party</th>\n",
       "      <th>handicapped-infants</th>\n",
       "      <th>water-project</th>\n",
       "      <th>budget</th>\n",
       "      <th>physician-fee-freeze</th>\n",
       "      <th>el-salvador-aid</th>\n",
       "      <th>religious-groups</th>\n",
       "      <th>anti-satellite-ban</th>\n",
       "      <th>aid-to-contras</th>\n",
       "      <th>mx-missile</th>\n",
       "      <th>immigration</th>\n",
       "      <th>synfuels</th>\n",
       "      <th>education</th>\n",
       "      <th>right-to-sue</th>\n",
       "      <th>crime</th>\n",
       "      <th>duty-free</th>\n",
       "      <th>south-africa</th>\n",
       "    </tr>\n",
       "  </thead>\n",
       "  <tbody>\n",
       "    <tr>\n",
       "      <th>0</th>\n",
       "      <td>republican</td>\n",
       "      <td>0.0</td>\n",
       "      <td>1.0</td>\n",
       "      <td>0.0</td>\n",
       "      <td>1.0</td>\n",
       "      <td>1.0</td>\n",
       "      <td>1.0</td>\n",
       "      <td>0.0</td>\n",
       "      <td>0.0</td>\n",
       "      <td>0.0</td>\n",
       "      <td>1.0</td>\n",
       "      <td>NaN</td>\n",
       "      <td>1.0</td>\n",
       "      <td>1.0</td>\n",
       "      <td>1.0</td>\n",
       "      <td>0.0</td>\n",
       "      <td>1.0</td>\n",
       "    </tr>\n",
       "    <tr>\n",
       "      <th>1</th>\n",
       "      <td>republican</td>\n",
       "      <td>0.0</td>\n",
       "      <td>1.0</td>\n",
       "      <td>0.0</td>\n",
       "      <td>1.0</td>\n",
       "      <td>1.0</td>\n",
       "      <td>1.0</td>\n",
       "      <td>0.0</td>\n",
       "      <td>0.0</td>\n",
       "      <td>0.0</td>\n",
       "      <td>0.0</td>\n",
       "      <td>0.0</td>\n",
       "      <td>1.0</td>\n",
       "      <td>1.0</td>\n",
       "      <td>1.0</td>\n",
       "      <td>0.0</td>\n",
       "      <td>NaN</td>\n",
       "    </tr>\n",
       "    <tr>\n",
       "      <th>7</th>\n",
       "      <td>republican</td>\n",
       "      <td>0.0</td>\n",
       "      <td>1.0</td>\n",
       "      <td>0.0</td>\n",
       "      <td>1.0</td>\n",
       "      <td>1.0</td>\n",
       "      <td>1.0</td>\n",
       "      <td>0.0</td>\n",
       "      <td>0.0</td>\n",
       "      <td>0.0</td>\n",
       "      <td>0.0</td>\n",
       "      <td>0.0</td>\n",
       "      <td>0.0</td>\n",
       "      <td>1.0</td>\n",
       "      <td>1.0</td>\n",
       "      <td>NaN</td>\n",
       "      <td>1.0</td>\n",
       "    </tr>\n",
       "    <tr>\n",
       "      <th>8</th>\n",
       "      <td>republican</td>\n",
       "      <td>0.0</td>\n",
       "      <td>1.0</td>\n",
       "      <td>0.0</td>\n",
       "      <td>1.0</td>\n",
       "      <td>1.0</td>\n",
       "      <td>1.0</td>\n",
       "      <td>0.0</td>\n",
       "      <td>0.0</td>\n",
       "      <td>0.0</td>\n",
       "      <td>0.0</td>\n",
       "      <td>0.0</td>\n",
       "      <td>1.0</td>\n",
       "      <td>1.0</td>\n",
       "      <td>1.0</td>\n",
       "      <td>0.0</td>\n",
       "      <td>1.0</td>\n",
       "    </tr>\n",
       "    <tr>\n",
       "      <th>10</th>\n",
       "      <td>republican</td>\n",
       "      <td>0.0</td>\n",
       "      <td>1.0</td>\n",
       "      <td>0.0</td>\n",
       "      <td>1.0</td>\n",
       "      <td>1.0</td>\n",
       "      <td>0.0</td>\n",
       "      <td>0.0</td>\n",
       "      <td>0.0</td>\n",
       "      <td>0.0</td>\n",
       "      <td>0.0</td>\n",
       "      <td>NaN</td>\n",
       "      <td>NaN</td>\n",
       "      <td>1.0</td>\n",
       "      <td>1.0</td>\n",
       "      <td>0.0</td>\n",
       "      <td>0.0</td>\n",
       "    </tr>\n",
       "  </tbody>\n",
       "</table>\n",
       "</div>"
      ],
      "text/plain": [
       "         party  handicapped-infants  ...  duty-free  south-africa\n",
       "0   republican                  0.0  ...        0.0           1.0\n",
       "1   republican                  0.0  ...        0.0           NaN\n",
       "7   republican                  0.0  ...        NaN           1.0\n",
       "8   republican                  0.0  ...        0.0           1.0\n",
       "10  republican                  0.0  ...        0.0           0.0\n",
       "\n",
       "[5 rows x 17 columns]"
      ]
     },
     "execution_count": 31,
     "metadata": {
      "tags": []
     },
     "output_type": "execute_result"
    }
   ],
   "source": [
    "rep = df[df['party']=='republican']\n",
    "rep.head()"
   ]
  },
  {
   "cell_type": "code",
   "execution_count": null,
   "metadata": {
    "colab": {
     "base_uri": "https://localhost:8080/",
     "height": 258
    },
    "id": "CqK0upebfTyV",
    "outputId": "dc0ec9c4-59f7-4543-9854-9d433d4d416c"
   },
   "outputs": [
    {
     "data": {
      "text/html": [
       "<div>\n",
       "<style scoped>\n",
       "    .dataframe tbody tr th:only-of-type {\n",
       "        vertical-align: middle;\n",
       "    }\n",
       "\n",
       "    .dataframe tbody tr th {\n",
       "        vertical-align: top;\n",
       "    }\n",
       "\n",
       "    .dataframe thead th {\n",
       "        text-align: right;\n",
       "    }\n",
       "</style>\n",
       "<table border=\"1\" class=\"dataframe\">\n",
       "  <thead>\n",
       "    <tr style=\"text-align: right;\">\n",
       "      <th></th>\n",
       "      <th>party</th>\n",
       "      <th>handicapped-infants</th>\n",
       "      <th>water-project</th>\n",
       "      <th>budget</th>\n",
       "      <th>physician-fee-freeze</th>\n",
       "      <th>el-salvador-aid</th>\n",
       "      <th>religious-groups</th>\n",
       "      <th>anti-satellite-ban</th>\n",
       "      <th>aid-to-contras</th>\n",
       "      <th>mx-missile</th>\n",
       "      <th>immigration</th>\n",
       "      <th>synfuels</th>\n",
       "      <th>education</th>\n",
       "      <th>right-to-sue</th>\n",
       "      <th>crime</th>\n",
       "      <th>duty-free</th>\n",
       "      <th>south-africa</th>\n",
       "    </tr>\n",
       "  </thead>\n",
       "  <tbody>\n",
       "    <tr>\n",
       "      <th>2</th>\n",
       "      <td>democrat</td>\n",
       "      <td>NaN</td>\n",
       "      <td>1.0</td>\n",
       "      <td>1.0</td>\n",
       "      <td>NaN</td>\n",
       "      <td>1.0</td>\n",
       "      <td>1.0</td>\n",
       "      <td>0.0</td>\n",
       "      <td>0.0</td>\n",
       "      <td>0.0</td>\n",
       "      <td>0.0</td>\n",
       "      <td>1.0</td>\n",
       "      <td>0.0</td>\n",
       "      <td>1.0</td>\n",
       "      <td>1.0</td>\n",
       "      <td>0.0</td>\n",
       "      <td>0.0</td>\n",
       "    </tr>\n",
       "    <tr>\n",
       "      <th>3</th>\n",
       "      <td>democrat</td>\n",
       "      <td>0.0</td>\n",
       "      <td>1.0</td>\n",
       "      <td>1.0</td>\n",
       "      <td>0.0</td>\n",
       "      <td>NaN</td>\n",
       "      <td>1.0</td>\n",
       "      <td>0.0</td>\n",
       "      <td>0.0</td>\n",
       "      <td>0.0</td>\n",
       "      <td>0.0</td>\n",
       "      <td>1.0</td>\n",
       "      <td>0.0</td>\n",
       "      <td>1.0</td>\n",
       "      <td>0.0</td>\n",
       "      <td>0.0</td>\n",
       "      <td>1.0</td>\n",
       "    </tr>\n",
       "    <tr>\n",
       "      <th>4</th>\n",
       "      <td>democrat</td>\n",
       "      <td>1.0</td>\n",
       "      <td>1.0</td>\n",
       "      <td>1.0</td>\n",
       "      <td>0.0</td>\n",
       "      <td>1.0</td>\n",
       "      <td>1.0</td>\n",
       "      <td>0.0</td>\n",
       "      <td>0.0</td>\n",
       "      <td>0.0</td>\n",
       "      <td>0.0</td>\n",
       "      <td>1.0</td>\n",
       "      <td>NaN</td>\n",
       "      <td>1.0</td>\n",
       "      <td>1.0</td>\n",
       "      <td>1.0</td>\n",
       "      <td>1.0</td>\n",
       "    </tr>\n",
       "    <tr>\n",
       "      <th>5</th>\n",
       "      <td>democrat</td>\n",
       "      <td>0.0</td>\n",
       "      <td>1.0</td>\n",
       "      <td>1.0</td>\n",
       "      <td>0.0</td>\n",
       "      <td>1.0</td>\n",
       "      <td>1.0</td>\n",
       "      <td>0.0</td>\n",
       "      <td>0.0</td>\n",
       "      <td>0.0</td>\n",
       "      <td>0.0</td>\n",
       "      <td>0.0</td>\n",
       "      <td>0.0</td>\n",
       "      <td>1.0</td>\n",
       "      <td>1.0</td>\n",
       "      <td>1.0</td>\n",
       "      <td>1.0</td>\n",
       "    </tr>\n",
       "    <tr>\n",
       "      <th>6</th>\n",
       "      <td>democrat</td>\n",
       "      <td>0.0</td>\n",
       "      <td>1.0</td>\n",
       "      <td>0.0</td>\n",
       "      <td>1.0</td>\n",
       "      <td>1.0</td>\n",
       "      <td>1.0</td>\n",
       "      <td>0.0</td>\n",
       "      <td>0.0</td>\n",
       "      <td>0.0</td>\n",
       "      <td>0.0</td>\n",
       "      <td>0.0</td>\n",
       "      <td>0.0</td>\n",
       "      <td>NaN</td>\n",
       "      <td>1.0</td>\n",
       "      <td>1.0</td>\n",
       "      <td>1.0</td>\n",
       "    </tr>\n",
       "  </tbody>\n",
       "</table>\n",
       "</div>"
      ],
      "text/plain": [
       "      party  handicapped-infants  water-project  ...  crime  duty-free  south-africa\n",
       "2  democrat                  NaN            1.0  ...    1.0        0.0           0.0\n",
       "3  democrat                  0.0            1.0  ...    0.0        0.0           1.0\n",
       "4  democrat                  1.0            1.0  ...    1.0        1.0           1.0\n",
       "5  democrat                  0.0            1.0  ...    1.0        1.0           1.0\n",
       "6  democrat                  0.0            1.0  ...    1.0        1.0           1.0\n",
       "\n",
       "[5 rows x 17 columns]"
      ]
     },
     "execution_count": 32,
     "metadata": {
      "tags": []
     },
     "output_type": "execute_result"
    }
   ],
   "source": [
    "dem = df[df['party']=='democrat']\n",
    "dem.head()"
   ]
  },
  {
   "cell_type": "code",
   "execution_count": null,
   "metadata": {
    "colab": {
     "base_uri": "https://localhost:8080/",
     "height": 34
    },
    "id": "p3qeWHmSfT6Z",
    "outputId": "71a19e7b-46c6-4a40-928a-493c2ed8138c"
   },
   "outputs": [
    {
     "data": {
      "text/plain": [
       "0.18452380952380953"
      ]
     },
     "execution_count": 33,
     "metadata": {
      "tags": []
     },
     "output_type": "execute_result"
    }
   ],
   "source": [
    "# find percentage of republicans who voted for the handicapped-infants bill\n",
    "\n",
    "rep['handicapped-infants'].sum()/len(rep)"
   ]
  },
  {
   "cell_type": "code",
   "execution_count": null,
   "metadata": {
    "colab": {
     "base_uri": "https://localhost:8080/",
     "height": 34
    },
    "id": "ilyo25YkfT88",
    "outputId": "68073b4e-0ee2-461c-9ec0-5f10823d8f7a"
   },
   "outputs": [
    {
     "data": {
      "text/plain": [
       "0.18787878787878787"
      ]
     },
     "execution_count": 34,
     "metadata": {
      "tags": []
     },
     "output_type": "execute_result"
    }
   ],
   "source": [
    "rep['handicapped-infants'].mean()\n",
    "\n",
    "# discrepancy probably due to NaNs"
   ]
  },
  {
   "cell_type": "code",
   "execution_count": null,
   "metadata": {
    "colab": {
     "base_uri": "https://localhost:8080/",
     "height": 68
    },
    "id": "0tG5DXPAfT_j",
    "outputId": "6ad680f9-adec-4457-ea8a-e56f828d2272"
   },
   "outputs": [
    {
     "data": {
      "text/plain": [
       "False    165\n",
       "True       3\n",
       "Name: handicapped-infants, dtype: int64"
      ]
     },
     "execution_count": 38,
     "metadata": {
      "tags": []
     },
     "output_type": "execute_result"
    }
   ],
   "source": [
    "col = rep['handicapped-infants']\n",
    "\n",
    "np.isnan(col).value_counts()"
   ]
  },
  {
   "cell_type": "code",
   "execution_count": null,
   "metadata": {
    "colab": {
     "base_uri": "https://localhost:8080/",
     "height": 51
    },
    "id": "iLSLxoSsG9mA",
    "outputId": "584df390-b4e2-43d6-ad10-70c9a00d5d36"
   },
   "outputs": [
    {
     "data": {
      "text/plain": [
       "False    165\n",
       "Name: handicapped-infants, dtype: int64"
      ]
     },
     "execution_count": 41,
     "metadata": {
      "tags": []
     },
     "output_type": "execute_result"
    }
   ],
   "source": [
    "# remove them\n",
    "\n",
    "handicapped_infants_no_nans = col[-np.isnan(col)]\n",
    "\n",
    "np.isnan(handicapped_infants_no_nans).value_counts()"
   ]
  },
  {
   "cell_type": "code",
   "execution_count": null,
   "metadata": {
    "colab": {
     "base_uri": "https://localhost:8080/",
     "height": 34
    },
    "id": "yhprGgjCf1KP",
    "outputId": "4a41fd81-47f9-47ff-f7b3-fc82394fa0eb"
   },
   "outputs": [
    {
     "data": {
      "text/plain": [
       "0.18787878787878787"
      ]
     },
     "execution_count": 42,
     "metadata": {
      "tags": []
     },
     "output_type": "execute_result"
    }
   ],
   "source": [
    "# now let's try this again\n",
    "\n",
    "handicapped_infants_no_nans.mean()\n",
    "\n",
    "# the heck? maybe it's this one\n",
    "# rep['handicapped-infants'].sum()/len(rep)\n"
   ]
  },
  {
   "cell_type": "code",
   "execution_count": null,
   "metadata": {
    "id": "kLZgmebsf1QG"
   },
   "outputs": [],
   "source": [
    "# Water project bill\n",
    "\n",
    "# Null hypothesis: no difference in support\n",
    "# (Sample means are the same.)\n",
    "# "
   ]
  },
  {
   "cell_type": "code",
   "execution_count": null,
   "metadata": {
    "colab": {
     "base_uri": "https://localhost:8080/",
     "height": 34
    },
    "id": "x3OccrX1rTmB",
    "outputId": "8cf5fda1-1797-45c1-f546-fe60f95f5f24"
   },
   "outputs": [
    {
     "data": {
      "text/plain": [
       "0.5067567567567568"
      ]
     },
     "execution_count": 43,
     "metadata": {
      "tags": []
     },
     "output_type": "execute_result"
    }
   ],
   "source": [
    "rep['water-project'].mean()"
   ]
  },
  {
   "cell_type": "code",
   "execution_count": null,
   "metadata": {
    "colab": {
     "base_uri": "https://localhost:8080/",
     "height": 34
    },
    "id": "qF7VCY1LrTZF",
    "outputId": "616c23a1-a422-415c-de4d-135228aa9f58"
   },
   "outputs": [
    {
     "data": {
      "text/plain": [
       "0.502092050209205"
      ]
     },
     "execution_count": 44,
     "metadata": {
      "tags": []
     },
     "output_type": "execute_result"
    }
   ],
   "source": [
    "dem['water-project'].mean()"
   ]
  },
  {
   "cell_type": "code",
   "execution_count": null,
   "metadata": {
    "colab": {
     "base_uri": "https://localhost:8080/",
     "height": 34
    },
    "id": "3xMonX72f1PR",
    "outputId": "37e88b50-b7eb-4add-8e71-2e6290e7c136"
   },
   "outputs": [
    {
     "data": {
      "text/plain": [
       "Ttest_indResult(statistic=0.08896538137868286, pvalue=0.9291556823993485)"
      ]
     },
     "execution_count": 45,
     "metadata": {
      "tags": []
     },
     "output_type": "execute_result"
    }
   ],
   "source": [
    "  ###############################\n",
    "### INDEPENDENT 2-SAMPLE T TEST ###\n",
    " ###############################\n",
    "\n",
    "\n",
    "ttest_ind(rep['water-project'], dem['water-project'], nan_policy='omit')\n",
    "\n",
    "\n",
    "\n",
    "# \"Scipy has a cool method called nan_policy\""
   ]
  },
  {
   "cell_type": "code",
   "execution_count": null,
   "metadata": {
    "colab": {
     "base_uri": "https://localhost:8080/",
     "height": 51
    },
    "id": "HJWZUgjsfUB_",
    "outputId": "bf299c98-4c3a-464e-ff8f-e30a897f5a12"
   },
   "outputs": [
    {
     "name": "stdout",
     "output_type": "stream",
     "text": [
      "148\n",
      "239\n"
     ]
    }
   ],
   "source": [
    "# dof = smaller of the two sample sizes - 1\n",
    "\n",
    "# get rid of NaNs and check Series lengths\n",
    "\n",
    "col = rep['water-project']\n",
    "republican_water_project_no_nans = col[-np.isnan(col)]\n",
    "\n",
    "col = dem['water-project']\n",
    "democrat_water_project_no_nans = col[-np.isnan(col)]\n",
    "\n",
    "# sample sizes\n",
    "print(len(republican_water_project_no_nans))\n",
    "print(len(democrat_water_project_no_nans))\n",
    "\n",
    "# df = 148 - 1"
   ]
  },
  {
   "cell_type": "code",
   "execution_count": null,
   "metadata": {
    "id": "I8Qso7tnpEM9"
   },
   "outputs": [],
   "source": [
    "# \"Do Democrats support this bill?\" --> null = 50% support\n",
    "\n",
    "# In a 1-sample t-test, you get to choose your null value.   --> ttest_1samp\n",
    "# We say \"I think 63% of Dems will support\" and reject that. --> ttest_ind\n",
    "\n",
    "# In a 2-sample test you just ask \"are these the same\""
   ]
  },
  {
   "cell_type": "code",
   "execution_count": null,
   "metadata": {
    "colab": {
     "base_uri": "https://localhost:8080/",
     "height": 34
    },
    "id": "gT2ezEWx_XJU",
    "outputId": "6961e1cb-6e78-4036-fe7c-17bf0ccebe99"
   },
   "outputs": [
    {
     "data": {
      "text/plain": [
       "Ttest_1sampResult(statistic=23.965755112488182, pvalue=1.7513759267849718e-58)"
      ]
     },
     "execution_count": 38,
     "metadata": {
      "tags": []
     },
     "output_type": "execute_result"
    }
   ],
   "source": [
    "  ###############################\n",
    "### INDEPENDENT 2-SAMPLE T TEST ###\n",
    " ###############################\n",
    "\n",
    "from scipy.stats import ttest_1samp\n",
    "\n",
    "ttest_1samp(dem['south-africa'], .9, nan_policy='omit')"
   ]
  }
 ],
 "metadata": {
  "colab": {
   "name": "LectureNotes_DS_121_Statistics_Probability_and_Inference.ipynb",
   "provenance": []
  },
  "kernelspec": {
   "display_name": "Python 3",
   "language": "python",
   "name": "python3"
  },
  "language_info": {
   "codemirror_mode": {
    "name": "ipython",
    "version": 3
   },
   "file_extension": ".py",
   "mimetype": "text/x-python",
   "name": "python",
   "nbconvert_exporter": "python",
   "pygments_lexer": "ipython3",
   "version": "3.8.2"
  }
 },
 "nbformat": 4,
 "nbformat_minor": 1
}
