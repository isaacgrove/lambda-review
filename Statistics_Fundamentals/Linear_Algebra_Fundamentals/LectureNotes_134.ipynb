{
 "cells": [
  {
   "cell_type": "markdown",
   "metadata": {
    "id": "Y9bK8maEkopO"
   },
   "source": [
    "# PCA, Intro to ML Types, K Means Clustering\n"
   ]
  },
  {
   "cell_type": "code",
   "execution_count": null,
   "metadata": {},
   "outputs": [],
   "source": [
    "# lecture tl;dr\n",
    "\n",
    "# PCA is not a machine learning algorithm bc \n",
    "# it doesn't predict anything. It's a preprocessing step\n",
    "\n",
    "# sklearn's PCA implementation doesn't standardize the data for you.\n",
    "# You can do sklearn.preprocessing.scale first.\n",
    "\n",
    "# Scree Plots and Cumulative Variance Explained plots work together\n",
    "# \n",
    "# Screes do Eigenvalues v. pca's (goes down at decreasing rate),\n",
    "# Variance explained goes up at decreasing rate\n",
    "\n",
    "# Several cells of loading data/EDA, then scaling, PCA, and a custom scree plot function,\n",
    "#\n",
    "# Get info like \"proportion of explained variance of first 15 Principal Components\"\n",
    "\n",
    "# ML overview\n",
    "#\n",
    "# Supervised is for when you have known, labeled training outputs \n",
    "# (Classification for discrete categories, Regression for a continuous value)\n",
    "#\n",
    "# Unsupervised - outputs are not labelled (Clustering, \n",
    "# Dimensionality Reduction, Association Learning...)\n",
    "#\n",
    "# Reinforcement - agent interacts with environment, rewards/punishes behaviors\n",
    "\n",
    "# Clustering is an unsupervised method because there is no \"right\" answer in the training set\n",
    "#\n",
    "# It's more for EDA than anything - too unreliable for production\n",
    "#\n",
    "# Clustering isn't hard - it's either easy or not interesting\n",
    "#\n",
    "# can be done many different ways - build clusters agglomeratively or cut them up \n",
    "# divisively; cluster hard or cluster soft (where you get probabilities of \n",
    "# points being in certain clusters. Decide that there are n clusters and assign points\n",
    "# to each. There are many clustering algorithms. Learn what you need for the\n",
    "# problem at hand.\n",
    "\n",
    "# There are also multiple measures of distance, not just Euclidean. Cosine, Jaccard, Edit\n",
    "# Distance, etc. Good because Euclidean breaks down in high dimensions, and we need\n",
    "# measures of distance for things like NLP\n",
    "\n",
    "# K Means Clustering\n",
    "#\n",
    "# best for round, linearly separable clusters\n",
    "# can get unlucky initial centroids\n",
    "#\n",
    "# 1) choose k points to act as initial centroids\n",
    "# 2) assign points to clusters\n",
    "# 3) recalculate centroids\n",
    "# Repeat until converge\n",
    "\n",
    "# Code for doing K means by hand, like 7 passes, and with sklearn\n",
    "#\n",
    "# from sklearn.cluster import KMeans \n",
    "# kmeans = KMeans(n_clusters=3)\n",
    "# kmeans.fit(X)\n",
    "\n",
    "# In choosing k, eyeball it or make an Elbow Plot\n",
    "# (works like scree plot, plots squared distances from cluster centroids)\n",
    "#\n",
    "\n",
    "# \"The only way to choose an approach is to make assumptions \n",
    "# about the data. If we don't know anything about the characteristics of our data, \n",
    "# then we can't make an informed choice of algorithm.\" "
   ]
  },
  {
   "cell_type": "code",
   "execution_count": null,
   "metadata": {},
   "outputs": [],
   "source": [
    "# Random stuff\n",
    "\n",
    "# Advanced slicing? It looks like this does \"all data points for column 0\"\n",
    "# pca_features[:,0:1]\n",
    "\n",
    "# Make sample blobs of data\n",
    "# from sklearn.datasets.samples_generator import make_blobs"
   ]
  },
  {
   "cell_type": "markdown",
   "metadata": {
    "id": "3JHDhIiPks0z"
   },
   "source": [
    "## Principal Components are not a re-labeling of the original features\n",
    "\n",
    "I saw some confusion yesterday about what the new Principal Components are that come out of our PCA transformations. Principal Components are a linear combination of any and all dimensions (features) that will increase their variance, this means that PCs are made up of a mixture of features --mostly the ones with the highest variance, but also smaller parts from other features. This means that they are not comparable to the original features of our $X$ matrix. In cases where we're not reducing dimensionality that much (like the Iris dataset) our Principal Components might be extremely similar to the original features (since there's not that many to pull from) but don't think of them in that way, think of them as a completely new dataset that we can't really apply \n"
   ]
  },
  {
   "cell_type": "markdown",
   "metadata": {
    "id": "8CPPjEHVktro"
   },
   "source": [
    "## PCA does not make predictions\n",
    "\n",
    "I would not call PCA a \"machine learning algorithm\" in that it does not try to make any predictions. We can't calculate any accuracy measure. You can call it an algorithm, you can call it a preprocessing technique or method, but it's not truly making predictions. This may have been confusing due to the fact that the Iris dataset had labels, but PCA is just re-organizing points in space, it's not making any predictions."
   ]
  },
  {
   "cell_type": "markdown",
   "metadata": {
    "id": "FK6eHmtDktur"
   },
   "source": [
    "## PCA does not standardize the data for you\n",
    "\n",
    "You'll notice in the \"from scratch\" implementation of PCA that I did in class yesterday that in that example I did not divide the points by the standard deviation. I believe you'll get a slightly different set of points if you choose to divide by the standard deviation (I think this might be what A Apte was seeing yesterday when he tried both methods and found that they looked different. It could be something else entirely, but that's my first guess at what could be going on.)\n",
    "\n",
    "The Sklearn implementation does not standardize the points for you as part of the process. You can either do this yourself \"by hand\" or you can use other sklearn methods like this preprocessing step which will automatically standardize your data to have a mean of 0 and a standard deviation of 1. You have to do this **before** you pass your data to PCA.\n",
    "\n",
    "<https://scikit-learn.org/stable/modules/generated/sklearn.preprocessing.scale.html>"
   ]
  },
  {
   "cell_type": "markdown",
   "metadata": {
    "id": "nwfQC5Yxksx1"
   },
   "source": [
    "## PCA does not retain 100% of the information of the original dataset. \n",
    "\n",
    "Each component explains a certain % of the variance of the original dataset. PCA tries to maximize that variance, but you might need to use more than 2 components. \n",
    "\n",
    "Typically you want to use enough components in your analysis to keep the explained variance > 90%.\n",
    "\n",
    "So we're trading off losing a small-medium amount of predictive power for a reduction in dimensions/size."
   ]
  },
  {
   "cell_type": "markdown",
   "metadata": {
    "id": "xi9ks-kq_j8J"
   },
   "source": [
    "\n",
    "\n",
    "## Intro to Scree Plots\n",
    "\n",
    "![Scree Plot](https://i1.wp.com/www.analyticsvidhya.com/wp-content/uploads/2016/03/7-1-e1458531438291.png?w=659&ssl=1)\n",
    "\n",
    "![Variance Explained](https://i2.wp.com/www.analyticsvidhya.com/wp-content/uploads/2016/03/8-1-e1458532011651.png?w=653&ssl=1)\n",
    "\n",
    "![scree plot and variance explained](http://support.sas.com/documentation/cdl/en/qcug/66114/HTML/default/images/mvp2mgsa.png)\n",
    "\n",
    "These scree plots came from analysis that began with a lot more features than we were working with yesterday:\n",
    "\n",
    "<https://www.analyticsvidhya.com/blog/2016/03/practical-guide-principal-component-analysis-python/>"
   ]
  },
  {
   "cell_type": "code",
   "execution_count": null,
   "metadata": {
    "colab": {
     "base_uri": "https://localhost:8080/",
     "height": 338
    },
    "id": "v3rSL4ThRY9k",
    "outputId": "925d0ab3-6dab-4c27-d2c8-808b2004a422"
   },
   "outputs": [
    {
     "data": {
      "text/html": [
       "<div>\n",
       "<style scoped>\n",
       "    .dataframe tbody tr th:only-of-type {\n",
       "        vertical-align: middle;\n",
       "    }\n",
       "\n",
       "    .dataframe tbody tr th {\n",
       "        vertical-align: top;\n",
       "    }\n",
       "\n",
       "    .dataframe thead th {\n",
       "        text-align: right;\n",
       "    }\n",
       "</style>\n",
       "<table border=\"1\" class=\"dataframe\">\n",
       "  <thead>\n",
       "    <tr style=\"text-align: right;\">\n",
       "      <th></th>\n",
       "      <th>CONTROL</th>\n",
       "      <th>AGE1</th>\n",
       "      <th>METRO3</th>\n",
       "      <th>REGION</th>\n",
       "      <th>LMED</th>\n",
       "      <th>FMR</th>\n",
       "      <th>L30</th>\n",
       "      <th>L50</th>\n",
       "      <th>L80</th>\n",
       "      <th>IPOV</th>\n",
       "      <th>BEDRMS</th>\n",
       "      <th>BUILT</th>\n",
       "      <th>STATUS</th>\n",
       "      <th>TYPE</th>\n",
       "      <th>VALUE</th>\n",
       "      <th>VACANCY</th>\n",
       "      <th>TENURE</th>\n",
       "      <th>NUNITS</th>\n",
       "      <th>ROOMS</th>\n",
       "      <th>WEIGHT</th>\n",
       "      <th>PER</th>\n",
       "      <th>ZINC2</th>\n",
       "      <th>ZADEQ</th>\n",
       "      <th>ZSMHC</th>\n",
       "      <th>STRUCTURETYPE</th>\n",
       "      <th>OWNRENT</th>\n",
       "      <th>UTILITY</th>\n",
       "      <th>OTHERCOST</th>\n",
       "      <th>COST06</th>\n",
       "      <th>COST12</th>\n",
       "      <th>COST08</th>\n",
       "      <th>COSTMED</th>\n",
       "      <th>TOTSAL</th>\n",
       "      <th>ASSISTED</th>\n",
       "      <th>GLMED</th>\n",
       "      <th>GL30</th>\n",
       "      <th>GL50</th>\n",
       "      <th>GL80</th>\n",
       "      <th>APLMED</th>\n",
       "      <th>ABL30</th>\n",
       "      <th>...</th>\n",
       "      <th>COST08RELPOVCAT</th>\n",
       "      <th>COST08RELFMRPCT</th>\n",
       "      <th>COST08RELFMRCAT</th>\n",
       "      <th>COST12RELAMIPCT</th>\n",
       "      <th>COST12RELAMICAT</th>\n",
       "      <th>COST12RELPOVPCT</th>\n",
       "      <th>COST12RELPOVCAT</th>\n",
       "      <th>COST12RELFMRPCT</th>\n",
       "      <th>COST12RELFMRCAT</th>\n",
       "      <th>COSTMedRELAMIPCT</th>\n",
       "      <th>COSTMedRELAMICAT</th>\n",
       "      <th>COSTMedRELPOVPCT</th>\n",
       "      <th>COSTMedRELPOVCAT</th>\n",
       "      <th>COSTMedRELFMRPCT</th>\n",
       "      <th>COSTMedRELFMRCAT</th>\n",
       "      <th>FMTZADEQ</th>\n",
       "      <th>FMTMETRO3</th>\n",
       "      <th>FMTBUILT</th>\n",
       "      <th>FMTSTRUCTURETYPE</th>\n",
       "      <th>FMTBEDRMS</th>\n",
       "      <th>FMTOWNRENT</th>\n",
       "      <th>FMTCOST06RELPOVCAT</th>\n",
       "      <th>FMTCOST08RELPOVCAT</th>\n",
       "      <th>FMTCOST12RELPOVCAT</th>\n",
       "      <th>FMTCOSTMEDRELPOVCAT</th>\n",
       "      <th>FMTINCRELPOVCAT</th>\n",
       "      <th>FMTCOST06RELFMRCAT</th>\n",
       "      <th>FMTCOST08RELFMRCAT</th>\n",
       "      <th>FMTCOST12RELFMRCAT</th>\n",
       "      <th>FMTCOSTMEDRELFMRCAT</th>\n",
       "      <th>FMTINCRELFMRCAT</th>\n",
       "      <th>FMTCOST06RELAMICAT</th>\n",
       "      <th>FMTCOST08RELAMICAT</th>\n",
       "      <th>FMTCOST12RELAMICAT</th>\n",
       "      <th>FMTCOSTMEDRELAMICAT</th>\n",
       "      <th>FMTINCRELAMICAT</th>\n",
       "      <th>FMTASSISTED</th>\n",
       "      <th>FMTBURDEN</th>\n",
       "      <th>FMTREGION</th>\n",
       "      <th>FMTSTATUS</th>\n",
       "    </tr>\n",
       "  </thead>\n",
       "  <tbody>\n",
       "    <tr>\n",
       "      <th>0</th>\n",
       "      <td>'100003130103'</td>\n",
       "      <td>82</td>\n",
       "      <td>'3'</td>\n",
       "      <td>'1'</td>\n",
       "      <td>73738</td>\n",
       "      <td>956</td>\n",
       "      <td>15738</td>\n",
       "      <td>26213</td>\n",
       "      <td>40322</td>\n",
       "      <td>11067</td>\n",
       "      <td>2</td>\n",
       "      <td>2006</td>\n",
       "      <td>'1'</td>\n",
       "      <td>1</td>\n",
       "      <td>40000</td>\n",
       "      <td>-6</td>\n",
       "      <td>'1'</td>\n",
       "      <td>1</td>\n",
       "      <td>6</td>\n",
       "      <td>3117.394239</td>\n",
       "      <td>1</td>\n",
       "      <td>18021</td>\n",
       "      <td>'1'</td>\n",
       "      <td>533</td>\n",
       "      <td>1</td>\n",
       "      <td>'1'</td>\n",
       "      <td>169.000000</td>\n",
       "      <td>213.750000</td>\n",
       "      <td>648.588189</td>\n",
       "      <td>803.050535</td>\n",
       "      <td>696.905247</td>\n",
       "      <td>615.156712</td>\n",
       "      <td>0</td>\n",
       "      <td>-9</td>\n",
       "      <td>73738</td>\n",
       "      <td>15738</td>\n",
       "      <td>26213</td>\n",
       "      <td>40322</td>\n",
       "      <td>51616.6</td>\n",
       "      <td>20234.571429</td>\n",
       "      <td>...</td>\n",
       "      <td>4</td>\n",
       "      <td>72.898038</td>\n",
       "      <td>2</td>\n",
       "      <td>48.402635</td>\n",
       "      <td>2</td>\n",
       "      <td>290.250487</td>\n",
       "      <td>4</td>\n",
       "      <td>84.001102</td>\n",
       "      <td>2</td>\n",
       "      <td>37.077624</td>\n",
       "      <td>2</td>\n",
       "      <td>222.339102</td>\n",
       "      <td>4</td>\n",
       "      <td>64.346936</td>\n",
       "      <td>2</td>\n",
       "      <td>'1 Adequate'</td>\n",
       "      <td>'-5'</td>\n",
       "      <td>'2000-2009'</td>\n",
       "      <td>'1 Single Family'</td>\n",
       "      <td>'2 2BR'</td>\n",
       "      <td>'1 Owner'</td>\n",
       "      <td>'4 200%+ Poverty'</td>\n",
       "      <td>'4 200%+ Poverty'</td>\n",
       "      <td>'4 200%+ Poverty'</td>\n",
       "      <td>'4 200%+ Poverty'</td>\n",
       "      <td>'3 150-200% Poverty'</td>\n",
       "      <td>'2 50.1 - 100% FMR'</td>\n",
       "      <td>'2 50.1 - 100% FMR'</td>\n",
       "      <td>'2 50.1 - 100% FMR'</td>\n",
       "      <td>'2 50.1 - 100% FMR'</td>\n",
       "      <td>'1 LTE 50% FMR'</td>\n",
       "      <td>'2 30 - 50% AMI'</td>\n",
       "      <td>'2 30 - 50% AMI'</td>\n",
       "      <td>'2 30 - 50% AMI'</td>\n",
       "      <td>'2 30 - 50% AMI'</td>\n",
       "      <td>'2 30 - 50% AMI'</td>\n",
       "      <td>'.'</td>\n",
       "      <td>'2 30% to 50%'</td>\n",
       "      <td>'-5'</td>\n",
       "      <td>'-5'</td>\n",
       "    </tr>\n",
       "    <tr>\n",
       "      <th>1</th>\n",
       "      <td>'100006110249'</td>\n",
       "      <td>50</td>\n",
       "      <td>'5'</td>\n",
       "      <td>'3'</td>\n",
       "      <td>55846</td>\n",
       "      <td>1100</td>\n",
       "      <td>17165</td>\n",
       "      <td>28604</td>\n",
       "      <td>45744</td>\n",
       "      <td>24218</td>\n",
       "      <td>4</td>\n",
       "      <td>1980</td>\n",
       "      <td>'1'</td>\n",
       "      <td>1</td>\n",
       "      <td>130000</td>\n",
       "      <td>-6</td>\n",
       "      <td>'1'</td>\n",
       "      <td>1</td>\n",
       "      <td>6</td>\n",
       "      <td>2150.725544</td>\n",
       "      <td>4</td>\n",
       "      <td>122961</td>\n",
       "      <td>'1'</td>\n",
       "      <td>487</td>\n",
       "      <td>1</td>\n",
       "      <td>'1'</td>\n",
       "      <td>245.333333</td>\n",
       "      <td>58.333333</td>\n",
       "      <td>1167.640781</td>\n",
       "      <td>1669.643405</td>\n",
       "      <td>1324.671218</td>\n",
       "      <td>1058.988479</td>\n",
       "      <td>123000</td>\n",
       "      <td>-9</td>\n",
       "      <td>55846</td>\n",
       "      <td>17165</td>\n",
       "      <td>28604</td>\n",
       "      <td>45744</td>\n",
       "      <td>55846.0</td>\n",
       "      <td>19911.400000</td>\n",
       "      <td>...</td>\n",
       "      <td>4</td>\n",
       "      <td>120.424656</td>\n",
       "      <td>3</td>\n",
       "      <td>103.094063</td>\n",
       "      <td>6</td>\n",
       "      <td>275.768999</td>\n",
       "      <td>4</td>\n",
       "      <td>151.785764</td>\n",
       "      <td>3</td>\n",
       "      <td>65.388468</td>\n",
       "      <td>4</td>\n",
       "      <td>174.909320</td>\n",
       "      <td>3</td>\n",
       "      <td>96.271680</td>\n",
       "      <td>2</td>\n",
       "      <td>'1 Adequate'</td>\n",
       "      <td>'-5'</td>\n",
       "      <td>'1980-1989'</td>\n",
       "      <td>'1 Single Family'</td>\n",
       "      <td>'4 4BR+'</td>\n",
       "      <td>'1 Owner'</td>\n",
       "      <td>'3 150-200% Poverty'</td>\n",
       "      <td>'4 200%+ Poverty'</td>\n",
       "      <td>'4 200%+ Poverty'</td>\n",
       "      <td>'3 150-200% Poverty'</td>\n",
       "      <td>'4 200%+ Poverty'</td>\n",
       "      <td>'3 GT FMR'</td>\n",
       "      <td>'3 GT FMR'</td>\n",
       "      <td>'3 GT FMR'</td>\n",
       "      <td>'2 50.1 - 100% FMR'</td>\n",
       "      <td>'3 GT FMR'</td>\n",
       "      <td>'4 60 - 80% AMI'</td>\n",
       "      <td>'4 60 - 80% AMI'</td>\n",
       "      <td>'6 100 - 120% AMI'</td>\n",
       "      <td>'4 60 - 80% AMI'</td>\n",
       "      <td>'7 120% AMI +'</td>\n",
       "      <td>'.'</td>\n",
       "      <td>'1 Less than 30%'</td>\n",
       "      <td>'-5'</td>\n",
       "      <td>'-5'</td>\n",
       "    </tr>\n",
       "    <tr>\n",
       "      <th>2</th>\n",
       "      <td>'100006370140'</td>\n",
       "      <td>53</td>\n",
       "      <td>'5'</td>\n",
       "      <td>'3'</td>\n",
       "      <td>55846</td>\n",
       "      <td>1100</td>\n",
       "      <td>13750</td>\n",
       "      <td>22897</td>\n",
       "      <td>36614</td>\n",
       "      <td>15470</td>\n",
       "      <td>4</td>\n",
       "      <td>1985</td>\n",
       "      <td>'1'</td>\n",
       "      <td>1</td>\n",
       "      <td>150000</td>\n",
       "      <td>-6</td>\n",
       "      <td>'1'</td>\n",
       "      <td>1</td>\n",
       "      <td>7</td>\n",
       "      <td>2213.789404</td>\n",
       "      <td>2</td>\n",
       "      <td>27974</td>\n",
       "      <td>'1'</td>\n",
       "      <td>1405</td>\n",
       "      <td>1</td>\n",
       "      <td>'1'</td>\n",
       "      <td>159.000000</td>\n",
       "      <td>37.500000</td>\n",
       "      <td>1193.393209</td>\n",
       "      <td>1772.627006</td>\n",
       "      <td>1374.582175</td>\n",
       "      <td>1068.025168</td>\n",
       "      <td>28000</td>\n",
       "      <td>-9</td>\n",
       "      <td>55846</td>\n",
       "      <td>13750</td>\n",
       "      <td>22897</td>\n",
       "      <td>36614</td>\n",
       "      <td>44676.8</td>\n",
       "      <td>19937.500000</td>\n",
       "      <td>...</td>\n",
       "      <td>4</td>\n",
       "      <td>124.962016</td>\n",
       "      <td>3</td>\n",
       "      <td>109.452905</td>\n",
       "      <td>6</td>\n",
       "      <td>458.339239</td>\n",
       "      <td>4</td>\n",
       "      <td>161.147910</td>\n",
       "      <td>3</td>\n",
       "      <td>65.946449</td>\n",
       "      <td>4</td>\n",
       "      <td>276.153890</td>\n",
       "      <td>4</td>\n",
       "      <td>97.093197</td>\n",
       "      <td>2</td>\n",
       "      <td>'1 Adequate'</td>\n",
       "      <td>'-5'</td>\n",
       "      <td>'1980-1989'</td>\n",
       "      <td>'1 Single Family'</td>\n",
       "      <td>'4 4BR+'</td>\n",
       "      <td>'1 Owner'</td>\n",
       "      <td>'4 200%+ Poverty'</td>\n",
       "      <td>'4 200%+ Poverty'</td>\n",
       "      <td>'4 200%+ Poverty'</td>\n",
       "      <td>'4 200%+ Poverty'</td>\n",
       "      <td>'3 150-200% Poverty'</td>\n",
       "      <td>'3 GT FMR'</td>\n",
       "      <td>'3 GT FMR'</td>\n",
       "      <td>'3 GT FMR'</td>\n",
       "      <td>'2 50.1 - 100% FMR'</td>\n",
       "      <td>'2 50.1 - 100% FMR'</td>\n",
       "      <td>'4 60 - 80% AMI'</td>\n",
       "      <td>'5 80 - 100% AMI'</td>\n",
       "      <td>'6 100 - 120% AMI'</td>\n",
       "      <td>'4 60 - 80% AMI'</td>\n",
       "      <td>'4 60 - 80% AMI'</td>\n",
       "      <td>'.'</td>\n",
       "      <td>'3 50% or More'</td>\n",
       "      <td>'-5'</td>\n",
       "      <td>'-5'</td>\n",
       "    </tr>\n",
       "    <tr>\n",
       "      <th>3</th>\n",
       "      <td>'100006520140'</td>\n",
       "      <td>67</td>\n",
       "      <td>'5'</td>\n",
       "      <td>'3'</td>\n",
       "      <td>55846</td>\n",
       "      <td>949</td>\n",
       "      <td>13750</td>\n",
       "      <td>22897</td>\n",
       "      <td>36614</td>\n",
       "      <td>13964</td>\n",
       "      <td>3</td>\n",
       "      <td>1985</td>\n",
       "      <td>'1'</td>\n",
       "      <td>1</td>\n",
       "      <td>200000</td>\n",
       "      <td>-6</td>\n",
       "      <td>'1'</td>\n",
       "      <td>1</td>\n",
       "      <td>6</td>\n",
       "      <td>2364.585097</td>\n",
       "      <td>2</td>\n",
       "      <td>32220</td>\n",
       "      <td>'1'</td>\n",
       "      <td>279</td>\n",
       "      <td>1</td>\n",
       "      <td>'1'</td>\n",
       "      <td>179.000000</td>\n",
       "      <td>70.666667</td>\n",
       "      <td>1578.857612</td>\n",
       "      <td>2351.169341</td>\n",
       "      <td>1820.442900</td>\n",
       "      <td>1411.700224</td>\n",
       "      <td>0</td>\n",
       "      <td>-9</td>\n",
       "      <td>55846</td>\n",
       "      <td>13750</td>\n",
       "      <td>22897</td>\n",
       "      <td>36614</td>\n",
       "      <td>44676.8</td>\n",
       "      <td>17875.000000</td>\n",
       "      <td>...</td>\n",
       "      <td>4</td>\n",
       "      <td>191.827492</td>\n",
       "      <td>3</td>\n",
       "      <td>161.926709</td>\n",
       "      <td>7</td>\n",
       "      <td>673.494512</td>\n",
       "      <td>4</td>\n",
       "      <td>247.752301</td>\n",
       "      <td>3</td>\n",
       "      <td>97.224801</td>\n",
       "      <td>5</td>\n",
       "      <td>404.382763</td>\n",
       "      <td>4</td>\n",
       "      <td>148.756610</td>\n",
       "      <td>3</td>\n",
       "      <td>'1 Adequate'</td>\n",
       "      <td>'-5'</td>\n",
       "      <td>'1980-1989'</td>\n",
       "      <td>'1 Single Family'</td>\n",
       "      <td>'3 3BR'</td>\n",
       "      <td>'1 Owner'</td>\n",
       "      <td>'4 200%+ Poverty'</td>\n",
       "      <td>'4 200%+ Poverty'</td>\n",
       "      <td>'4 200%+ Poverty'</td>\n",
       "      <td>'4 200%+ Poverty'</td>\n",
       "      <td>'4 200%+ Poverty'</td>\n",
       "      <td>'3 GT FMR'</td>\n",
       "      <td>'3 GT FMR'</td>\n",
       "      <td>'3 GT FMR'</td>\n",
       "      <td>'3 GT FMR'</td>\n",
       "      <td>'2 50.1 - 100% FMR'</td>\n",
       "      <td>'6 100 - 120% AMI'</td>\n",
       "      <td>'7 120% AMI +'</td>\n",
       "      <td>'7 120% AMI +'</td>\n",
       "      <td>'5 80 - 100% AMI'</td>\n",
       "      <td>'4 60 - 80% AMI'</td>\n",
       "      <td>'.'</td>\n",
       "      <td>'1 Less than 30%'</td>\n",
       "      <td>'-5'</td>\n",
       "      <td>'-5'</td>\n",
       "    </tr>\n",
       "    <tr>\n",
       "      <th>4</th>\n",
       "      <td>'100007130148'</td>\n",
       "      <td>26</td>\n",
       "      <td>'1'</td>\n",
       "      <td>'3'</td>\n",
       "      <td>60991</td>\n",
       "      <td>737</td>\n",
       "      <td>14801</td>\n",
       "      <td>24628</td>\n",
       "      <td>39421</td>\n",
       "      <td>15492</td>\n",
       "      <td>2</td>\n",
       "      <td>1980</td>\n",
       "      <td>'1'</td>\n",
       "      <td>1</td>\n",
       "      <td>-6</td>\n",
       "      <td>-6</td>\n",
       "      <td>'2'</td>\n",
       "      <td>100</td>\n",
       "      <td>4</td>\n",
       "      <td>2314.524902</td>\n",
       "      <td>2</td>\n",
       "      <td>96874</td>\n",
       "      <td>'1'</td>\n",
       "      <td>759</td>\n",
       "      <td>5</td>\n",
       "      <td>'2'</td>\n",
       "      <td>146.000000</td>\n",
       "      <td>12.500000</td>\n",
       "      <td>759.000000</td>\n",
       "      <td>759.000000</td>\n",
       "      <td>759.000000</td>\n",
       "      <td>759.000000</td>\n",
       "      <td>96900</td>\n",
       "      <td>0</td>\n",
       "      <td>60991</td>\n",
       "      <td>14801</td>\n",
       "      <td>24628</td>\n",
       "      <td>39421</td>\n",
       "      <td>48792.8</td>\n",
       "      <td>16651.125000</td>\n",
       "      <td>...</td>\n",
       "      <td>3</td>\n",
       "      <td>102.985075</td>\n",
       "      <td>3</td>\n",
       "      <td>55.308707</td>\n",
       "      <td>3</td>\n",
       "      <td>195.972115</td>\n",
       "      <td>3</td>\n",
       "      <td>102.985075</td>\n",
       "      <td>3</td>\n",
       "      <td>55.308707</td>\n",
       "      <td>3</td>\n",
       "      <td>195.972115</td>\n",
       "      <td>3</td>\n",
       "      <td>102.985075</td>\n",
       "      <td>3</td>\n",
       "      <td>'1 Adequate'</td>\n",
       "      <td>'Central City'</td>\n",
       "      <td>'1980-1989'</td>\n",
       "      <td>'5 50+ units'</td>\n",
       "      <td>'2 2BR'</td>\n",
       "      <td>'2 Renter'</td>\n",
       "      <td>'3 150-200% Poverty'</td>\n",
       "      <td>'3 150-200% Poverty'</td>\n",
       "      <td>'3 150-200% Poverty'</td>\n",
       "      <td>'3 150-200% Poverty'</td>\n",
       "      <td>'4 200%+ Poverty'</td>\n",
       "      <td>'3 GT FMR'</td>\n",
       "      <td>'3 GT FMR'</td>\n",
       "      <td>'3 GT FMR'</td>\n",
       "      <td>'3 GT FMR'</td>\n",
       "      <td>'3 GT FMR'</td>\n",
       "      <td>'3 50 - 60% AMI'</td>\n",
       "      <td>'3 50 - 60% AMI'</td>\n",
       "      <td>'3 50 - 60% AMI'</td>\n",
       "      <td>'3 50 - 60% AMI'</td>\n",
       "      <td>'7 120% AMI +'</td>\n",
       "      <td>'0 Not Assisted'</td>\n",
       "      <td>'1 Less than 30%'</td>\n",
       "      <td>'-5'</td>\n",
       "      <td>'-5'</td>\n",
       "    </tr>\n",
       "  </tbody>\n",
       "</table>\n",
       "<p>5 rows × 99 columns</p>\n",
       "</div>"
      ],
      "text/plain": [
       "          CONTROL  AGE1 METRO3  ...          FMTBURDEN  FMTREGION  FMTSTATUS\n",
       "0  '100003130103'    82    '3'  ...     '2 30% to 50%'       '-5'       '-5'\n",
       "1  '100006110249'    50    '5'  ...  '1 Less than 30%'       '-5'       '-5'\n",
       "2  '100006370140'    53    '5'  ...    '3 50% or More'       '-5'       '-5'\n",
       "3  '100006520140'    67    '5'  ...  '1 Less than 30%'       '-5'       '-5'\n",
       "4  '100007130148'    26    '1'  ...  '1 Less than 30%'       '-5'       '-5'\n",
       "\n",
       "[5 rows x 99 columns]"
      ]
     },
     "execution_count": 1,
     "metadata": {
      "tags": []
     },
     "output_type": "execute_result"
    }
   ],
   "source": [
    "# Several cells of data loading / EDA, then Scaling, PCA, scree plots\n",
    "\n",
    "from urllib.request import urlopen\n",
    "from zipfile import ZipFile\n",
    "from io import BytesIO\n",
    "import os.path\n",
    "import pandas as pd\n",
    "import numpy as np\n",
    "import matplotlib.pyplot as plt\n",
    "\n",
    "# Read National Data \n",
    "national_url = 'https://www.huduser.gov/portal/datasets/hads/hads2013n_ASCII.zip'\n",
    "national_file = 'thads2013n.txt'\n",
    "\n",
    "if os.path.exists(national_file):\n",
    "    national = pd.read_csv(national_file)\n",
    "else: \n",
    "    z_national = urlopen(national_url)\n",
    "    zip_national = ZipFile(BytesIO(z_national.read())).extract(national_file)\n",
    "    national = pd.read_csv(zip_national)\n",
    "\n",
    "national.head()"
   ]
  },
  {
   "cell_type": "code",
   "execution_count": null,
   "metadata": {
    "colab": {
     "base_uri": "https://localhost:8080/",
     "height": 34
    },
    "id": "EbWs5gD-RYbZ",
    "outputId": "5cc3c091-f89b-46b3-c05a-6202c0db0915"
   },
   "outputs": [
    {
     "data": {
      "text/plain": [
       "False"
      ]
     },
     "execution_count": 2,
     "metadata": {
      "tags": []
     },
     "output_type": "execute_result"
    }
   ],
   "source": [
    "national.isnull().sum().any()"
   ]
  },
  {
   "cell_type": "code",
   "execution_count": null,
   "metadata": {
    "colab": {
     "base_uri": "https://localhost:8080/",
     "height": 51
    },
    "id": "d9rfKtulRX7J",
    "outputId": "feec3ef1-294f-4e87-e3d2-90a63d52b177"
   },
   "outputs": [
    {
     "name": "stdout",
     "output_type": "stream",
     "text": [
      "32 categorical columns\n",
      "67 numerical columns\n"
     ]
    }
   ],
   "source": [
    "cat_cols = national.columns[national.dtypes=='object']\n",
    "num_cols = national.columns[national.dtypes!='object']\n",
    "\n",
    "print(f'{len(cat_cols)} categorical columns')\n",
    "print(f'{len(num_cols)} numerical columns')"
   ]
  },
  {
   "cell_type": "code",
   "execution_count": null,
   "metadata": {
    "colab": {
     "base_uri": "https://localhost:8080/",
     "height": 221
    },
    "id": "tjTAGU4NRXbd",
    "outputId": "b2868a40-5461-4750-f590-43717df35a91"
   },
   "outputs": [
    {
     "data": {
      "text/plain": [
       "CONTROL            category\n",
       "AGE1                  int64\n",
       "METRO3             category\n",
       "REGION             category\n",
       "LMED                  int64\n",
       "                     ...   \n",
       "FMTINCRELAMICAT    category\n",
       "FMTASSISTED        category\n",
       "FMTBURDEN          category\n",
       "FMTREGION          category\n",
       "FMTSTATUS          category\n",
       "Length: 99, dtype: object"
      ]
     },
     "execution_count": 4,
     "metadata": {
      "tags": []
     },
     "output_type": "execute_result"
    }
   ],
   "source": [
    "# Cast categorical columns to \"category\" data type\n",
    "national[cat_cols] = national[cat_cols].astype('category')\n",
    "\n",
    "national.dtypes"
   ]
  },
  {
   "cell_type": "code",
   "execution_count": null,
   "metadata": {
    "colab": {
     "base_uri": "https://localhost:8080/",
     "height": 270
    },
    "id": "YwyFCpMbRXD9",
    "outputId": "15cef76e-db61-4fbf-eaa7-a29f02352e2a"
   },
   "outputs": [
    {
     "name": "stdout",
     "output_type": "stream",
     "text": [
      "(64535, 99)\n"
     ]
    },
    {
     "data": {
      "text/html": [
       "<div>\n",
       "<style scoped>\n",
       "    .dataframe tbody tr th:only-of-type {\n",
       "        vertical-align: middle;\n",
       "    }\n",
       "\n",
       "    .dataframe tbody tr th {\n",
       "        vertical-align: top;\n",
       "    }\n",
       "\n",
       "    .dataframe thead th {\n",
       "        text-align: right;\n",
       "    }\n",
       "</style>\n",
       "<table border=\"1\" class=\"dataframe\">\n",
       "  <thead>\n",
       "    <tr style=\"text-align: right;\">\n",
       "      <th></th>\n",
       "      <th>CONTROL</th>\n",
       "      <th>AGE1</th>\n",
       "      <th>METRO3</th>\n",
       "      <th>REGION</th>\n",
       "      <th>LMED</th>\n",
       "      <th>FMR</th>\n",
       "      <th>L30</th>\n",
       "      <th>L50</th>\n",
       "      <th>L80</th>\n",
       "      <th>IPOV</th>\n",
       "      <th>BEDRMS</th>\n",
       "      <th>BUILT</th>\n",
       "      <th>STATUS</th>\n",
       "      <th>TYPE</th>\n",
       "      <th>VALUE</th>\n",
       "      <th>VACANCY</th>\n",
       "      <th>TENURE</th>\n",
       "      <th>NUNITS</th>\n",
       "      <th>ROOMS</th>\n",
       "      <th>WEIGHT</th>\n",
       "      <th>PER</th>\n",
       "      <th>ZINC2</th>\n",
       "      <th>ZADEQ</th>\n",
       "      <th>ZSMHC</th>\n",
       "      <th>STRUCTURETYPE</th>\n",
       "      <th>OWNRENT</th>\n",
       "      <th>UTILITY</th>\n",
       "      <th>OTHERCOST</th>\n",
       "      <th>COST06</th>\n",
       "      <th>COST12</th>\n",
       "      <th>COST08</th>\n",
       "      <th>COSTMED</th>\n",
       "      <th>TOTSAL</th>\n",
       "      <th>ASSISTED</th>\n",
       "      <th>GLMED</th>\n",
       "      <th>GL30</th>\n",
       "      <th>GL50</th>\n",
       "      <th>GL80</th>\n",
       "      <th>APLMED</th>\n",
       "      <th>ABL30</th>\n",
       "      <th>...</th>\n",
       "      <th>COST08RELPOVCAT</th>\n",
       "      <th>COST08RELFMRPCT</th>\n",
       "      <th>COST08RELFMRCAT</th>\n",
       "      <th>COST12RELAMIPCT</th>\n",
       "      <th>COST12RELAMICAT</th>\n",
       "      <th>COST12RELPOVPCT</th>\n",
       "      <th>COST12RELPOVCAT</th>\n",
       "      <th>COST12RELFMRPCT</th>\n",
       "      <th>COST12RELFMRCAT</th>\n",
       "      <th>COSTMedRELAMIPCT</th>\n",
       "      <th>COSTMedRELAMICAT</th>\n",
       "      <th>COSTMedRELPOVPCT</th>\n",
       "      <th>COSTMedRELPOVCAT</th>\n",
       "      <th>COSTMedRELFMRPCT</th>\n",
       "      <th>COSTMedRELFMRCAT</th>\n",
       "      <th>FMTZADEQ</th>\n",
       "      <th>FMTMETRO3</th>\n",
       "      <th>FMTBUILT</th>\n",
       "      <th>FMTSTRUCTURETYPE</th>\n",
       "      <th>FMTBEDRMS</th>\n",
       "      <th>FMTOWNRENT</th>\n",
       "      <th>FMTCOST06RELPOVCAT</th>\n",
       "      <th>FMTCOST08RELPOVCAT</th>\n",
       "      <th>FMTCOST12RELPOVCAT</th>\n",
       "      <th>FMTCOSTMEDRELPOVCAT</th>\n",
       "      <th>FMTINCRELPOVCAT</th>\n",
       "      <th>FMTCOST06RELFMRCAT</th>\n",
       "      <th>FMTCOST08RELFMRCAT</th>\n",
       "      <th>FMTCOST12RELFMRCAT</th>\n",
       "      <th>FMTCOSTMEDRELFMRCAT</th>\n",
       "      <th>FMTINCRELFMRCAT</th>\n",
       "      <th>FMTCOST06RELAMICAT</th>\n",
       "      <th>FMTCOST08RELAMICAT</th>\n",
       "      <th>FMTCOST12RELAMICAT</th>\n",
       "      <th>FMTCOSTMEDRELAMICAT</th>\n",
       "      <th>FMTINCRELAMICAT</th>\n",
       "      <th>FMTASSISTED</th>\n",
       "      <th>FMTBURDEN</th>\n",
       "      <th>FMTREGION</th>\n",
       "      <th>FMTSTATUS</th>\n",
       "    </tr>\n",
       "  </thead>\n",
       "  <tbody>\n",
       "    <tr>\n",
       "      <th>0</th>\n",
       "      <td>0</td>\n",
       "      <td>82</td>\n",
       "      <td>2</td>\n",
       "      <td>0</td>\n",
       "      <td>73738</td>\n",
       "      <td>956</td>\n",
       "      <td>15738</td>\n",
       "      <td>26213</td>\n",
       "      <td>40322</td>\n",
       "      <td>11067</td>\n",
       "      <td>2</td>\n",
       "      <td>2006</td>\n",
       "      <td>0</td>\n",
       "      <td>1</td>\n",
       "      <td>40000</td>\n",
       "      <td>-6</td>\n",
       "      <td>1</td>\n",
       "      <td>1</td>\n",
       "      <td>6</td>\n",
       "      <td>3117.394239</td>\n",
       "      <td>1</td>\n",
       "      <td>18021</td>\n",
       "      <td>1</td>\n",
       "      <td>533</td>\n",
       "      <td>1</td>\n",
       "      <td>0</td>\n",
       "      <td>169.000000</td>\n",
       "      <td>213.750000</td>\n",
       "      <td>648.588189</td>\n",
       "      <td>803.050535</td>\n",
       "      <td>696.905247</td>\n",
       "      <td>615.156712</td>\n",
       "      <td>0</td>\n",
       "      <td>-9</td>\n",
       "      <td>73738</td>\n",
       "      <td>15738</td>\n",
       "      <td>26213</td>\n",
       "      <td>40322</td>\n",
       "      <td>51616.6</td>\n",
       "      <td>20234.571429</td>\n",
       "      <td>...</td>\n",
       "      <td>4</td>\n",
       "      <td>72.898038</td>\n",
       "      <td>2</td>\n",
       "      <td>48.402635</td>\n",
       "      <td>2</td>\n",
       "      <td>290.250487</td>\n",
       "      <td>4</td>\n",
       "      <td>84.001102</td>\n",
       "      <td>2</td>\n",
       "      <td>37.077624</td>\n",
       "      <td>2</td>\n",
       "      <td>222.339102</td>\n",
       "      <td>4</td>\n",
       "      <td>64.346936</td>\n",
       "      <td>2</td>\n",
       "      <td>1</td>\n",
       "      <td>0</td>\n",
       "      <td>5</td>\n",
       "      <td>1</td>\n",
       "      <td>2</td>\n",
       "      <td>0</td>\n",
       "      <td>4</td>\n",
       "      <td>4</td>\n",
       "      <td>4</td>\n",
       "      <td>4</td>\n",
       "      <td>3</td>\n",
       "      <td>1</td>\n",
       "      <td>1</td>\n",
       "      <td>1</td>\n",
       "      <td>1</td>\n",
       "      <td>1</td>\n",
       "      <td>1</td>\n",
       "      <td>1</td>\n",
       "      <td>1</td>\n",
       "      <td>1</td>\n",
       "      <td>2</td>\n",
       "      <td>0</td>\n",
       "      <td>2</td>\n",
       "      <td>0</td>\n",
       "      <td>0</td>\n",
       "    </tr>\n",
       "    <tr>\n",
       "      <th>1</th>\n",
       "      <td>1</td>\n",
       "      <td>50</td>\n",
       "      <td>4</td>\n",
       "      <td>2</td>\n",
       "      <td>55846</td>\n",
       "      <td>1100</td>\n",
       "      <td>17165</td>\n",
       "      <td>28604</td>\n",
       "      <td>45744</td>\n",
       "      <td>24218</td>\n",
       "      <td>4</td>\n",
       "      <td>1980</td>\n",
       "      <td>0</td>\n",
       "      <td>1</td>\n",
       "      <td>130000</td>\n",
       "      <td>-6</td>\n",
       "      <td>1</td>\n",
       "      <td>1</td>\n",
       "      <td>6</td>\n",
       "      <td>2150.725544</td>\n",
       "      <td>4</td>\n",
       "      <td>122961</td>\n",
       "      <td>1</td>\n",
       "      <td>487</td>\n",
       "      <td>1</td>\n",
       "      <td>0</td>\n",
       "      <td>245.333333</td>\n",
       "      <td>58.333333</td>\n",
       "      <td>1167.640781</td>\n",
       "      <td>1669.643405</td>\n",
       "      <td>1324.671218</td>\n",
       "      <td>1058.988479</td>\n",
       "      <td>123000</td>\n",
       "      <td>-9</td>\n",
       "      <td>55846</td>\n",
       "      <td>17165</td>\n",
       "      <td>28604</td>\n",
       "      <td>45744</td>\n",
       "      <td>55846.0</td>\n",
       "      <td>19911.400000</td>\n",
       "      <td>...</td>\n",
       "      <td>4</td>\n",
       "      <td>120.424656</td>\n",
       "      <td>3</td>\n",
       "      <td>103.094063</td>\n",
       "      <td>6</td>\n",
       "      <td>275.768999</td>\n",
       "      <td>4</td>\n",
       "      <td>151.785764</td>\n",
       "      <td>3</td>\n",
       "      <td>65.388468</td>\n",
       "      <td>4</td>\n",
       "      <td>174.909320</td>\n",
       "      <td>3</td>\n",
       "      <td>96.271680</td>\n",
       "      <td>2</td>\n",
       "      <td>1</td>\n",
       "      <td>0</td>\n",
       "      <td>3</td>\n",
       "      <td>1</td>\n",
       "      <td>4</td>\n",
       "      <td>0</td>\n",
       "      <td>3</td>\n",
       "      <td>4</td>\n",
       "      <td>4</td>\n",
       "      <td>3</td>\n",
       "      <td>4</td>\n",
       "      <td>2</td>\n",
       "      <td>2</td>\n",
       "      <td>2</td>\n",
       "      <td>1</td>\n",
       "      <td>3</td>\n",
       "      <td>3</td>\n",
       "      <td>3</td>\n",
       "      <td>5</td>\n",
       "      <td>3</td>\n",
       "      <td>7</td>\n",
       "      <td>0</td>\n",
       "      <td>1</td>\n",
       "      <td>0</td>\n",
       "      <td>0</td>\n",
       "    </tr>\n",
       "    <tr>\n",
       "      <th>2</th>\n",
       "      <td>2</td>\n",
       "      <td>53</td>\n",
       "      <td>4</td>\n",
       "      <td>2</td>\n",
       "      <td>55846</td>\n",
       "      <td>1100</td>\n",
       "      <td>13750</td>\n",
       "      <td>22897</td>\n",
       "      <td>36614</td>\n",
       "      <td>15470</td>\n",
       "      <td>4</td>\n",
       "      <td>1985</td>\n",
       "      <td>0</td>\n",
       "      <td>1</td>\n",
       "      <td>150000</td>\n",
       "      <td>-6</td>\n",
       "      <td>1</td>\n",
       "      <td>1</td>\n",
       "      <td>7</td>\n",
       "      <td>2213.789404</td>\n",
       "      <td>2</td>\n",
       "      <td>27974</td>\n",
       "      <td>1</td>\n",
       "      <td>1405</td>\n",
       "      <td>1</td>\n",
       "      <td>0</td>\n",
       "      <td>159.000000</td>\n",
       "      <td>37.500000</td>\n",
       "      <td>1193.393209</td>\n",
       "      <td>1772.627006</td>\n",
       "      <td>1374.582175</td>\n",
       "      <td>1068.025168</td>\n",
       "      <td>28000</td>\n",
       "      <td>-9</td>\n",
       "      <td>55846</td>\n",
       "      <td>13750</td>\n",
       "      <td>22897</td>\n",
       "      <td>36614</td>\n",
       "      <td>44676.8</td>\n",
       "      <td>19937.500000</td>\n",
       "      <td>...</td>\n",
       "      <td>4</td>\n",
       "      <td>124.962016</td>\n",
       "      <td>3</td>\n",
       "      <td>109.452905</td>\n",
       "      <td>6</td>\n",
       "      <td>458.339239</td>\n",
       "      <td>4</td>\n",
       "      <td>161.147910</td>\n",
       "      <td>3</td>\n",
       "      <td>65.946449</td>\n",
       "      <td>4</td>\n",
       "      <td>276.153890</td>\n",
       "      <td>4</td>\n",
       "      <td>97.093197</td>\n",
       "      <td>2</td>\n",
       "      <td>1</td>\n",
       "      <td>0</td>\n",
       "      <td>3</td>\n",
       "      <td>1</td>\n",
       "      <td>4</td>\n",
       "      <td>0</td>\n",
       "      <td>4</td>\n",
       "      <td>4</td>\n",
       "      <td>4</td>\n",
       "      <td>4</td>\n",
       "      <td>3</td>\n",
       "      <td>2</td>\n",
       "      <td>2</td>\n",
       "      <td>2</td>\n",
       "      <td>1</td>\n",
       "      <td>2</td>\n",
       "      <td>3</td>\n",
       "      <td>4</td>\n",
       "      <td>5</td>\n",
       "      <td>3</td>\n",
       "      <td>4</td>\n",
       "      <td>0</td>\n",
       "      <td>3</td>\n",
       "      <td>0</td>\n",
       "      <td>0</td>\n",
       "    </tr>\n",
       "    <tr>\n",
       "      <th>3</th>\n",
       "      <td>3</td>\n",
       "      <td>67</td>\n",
       "      <td>4</td>\n",
       "      <td>2</td>\n",
       "      <td>55846</td>\n",
       "      <td>949</td>\n",
       "      <td>13750</td>\n",
       "      <td>22897</td>\n",
       "      <td>36614</td>\n",
       "      <td>13964</td>\n",
       "      <td>3</td>\n",
       "      <td>1985</td>\n",
       "      <td>0</td>\n",
       "      <td>1</td>\n",
       "      <td>200000</td>\n",
       "      <td>-6</td>\n",
       "      <td>1</td>\n",
       "      <td>1</td>\n",
       "      <td>6</td>\n",
       "      <td>2364.585097</td>\n",
       "      <td>2</td>\n",
       "      <td>32220</td>\n",
       "      <td>1</td>\n",
       "      <td>279</td>\n",
       "      <td>1</td>\n",
       "      <td>0</td>\n",
       "      <td>179.000000</td>\n",
       "      <td>70.666667</td>\n",
       "      <td>1578.857612</td>\n",
       "      <td>2351.169341</td>\n",
       "      <td>1820.442900</td>\n",
       "      <td>1411.700224</td>\n",
       "      <td>0</td>\n",
       "      <td>-9</td>\n",
       "      <td>55846</td>\n",
       "      <td>13750</td>\n",
       "      <td>22897</td>\n",
       "      <td>36614</td>\n",
       "      <td>44676.8</td>\n",
       "      <td>17875.000000</td>\n",
       "      <td>...</td>\n",
       "      <td>4</td>\n",
       "      <td>191.827492</td>\n",
       "      <td>3</td>\n",
       "      <td>161.926709</td>\n",
       "      <td>7</td>\n",
       "      <td>673.494512</td>\n",
       "      <td>4</td>\n",
       "      <td>247.752301</td>\n",
       "      <td>3</td>\n",
       "      <td>97.224801</td>\n",
       "      <td>5</td>\n",
       "      <td>404.382763</td>\n",
       "      <td>4</td>\n",
       "      <td>148.756610</td>\n",
       "      <td>3</td>\n",
       "      <td>1</td>\n",
       "      <td>0</td>\n",
       "      <td>3</td>\n",
       "      <td>1</td>\n",
       "      <td>3</td>\n",
       "      <td>0</td>\n",
       "      <td>4</td>\n",
       "      <td>4</td>\n",
       "      <td>4</td>\n",
       "      <td>4</td>\n",
       "      <td>4</td>\n",
       "      <td>2</td>\n",
       "      <td>2</td>\n",
       "      <td>2</td>\n",
       "      <td>2</td>\n",
       "      <td>2</td>\n",
       "      <td>5</td>\n",
       "      <td>6</td>\n",
       "      <td>6</td>\n",
       "      <td>4</td>\n",
       "      <td>4</td>\n",
       "      <td>0</td>\n",
       "      <td>1</td>\n",
       "      <td>0</td>\n",
       "      <td>0</td>\n",
       "    </tr>\n",
       "    <tr>\n",
       "      <th>4</th>\n",
       "      <td>4</td>\n",
       "      <td>26</td>\n",
       "      <td>0</td>\n",
       "      <td>2</td>\n",
       "      <td>60991</td>\n",
       "      <td>737</td>\n",
       "      <td>14801</td>\n",
       "      <td>24628</td>\n",
       "      <td>39421</td>\n",
       "      <td>15492</td>\n",
       "      <td>2</td>\n",
       "      <td>1980</td>\n",
       "      <td>0</td>\n",
       "      <td>1</td>\n",
       "      <td>-6</td>\n",
       "      <td>-6</td>\n",
       "      <td>2</td>\n",
       "      <td>100</td>\n",
       "      <td>4</td>\n",
       "      <td>2314.524902</td>\n",
       "      <td>2</td>\n",
       "      <td>96874</td>\n",
       "      <td>1</td>\n",
       "      <td>759</td>\n",
       "      <td>5</td>\n",
       "      <td>1</td>\n",
       "      <td>146.000000</td>\n",
       "      <td>12.500000</td>\n",
       "      <td>759.000000</td>\n",
       "      <td>759.000000</td>\n",
       "      <td>759.000000</td>\n",
       "      <td>759.000000</td>\n",
       "      <td>96900</td>\n",
       "      <td>0</td>\n",
       "      <td>60991</td>\n",
       "      <td>14801</td>\n",
       "      <td>24628</td>\n",
       "      <td>39421</td>\n",
       "      <td>48792.8</td>\n",
       "      <td>16651.125000</td>\n",
       "      <td>...</td>\n",
       "      <td>3</td>\n",
       "      <td>102.985075</td>\n",
       "      <td>3</td>\n",
       "      <td>55.308707</td>\n",
       "      <td>3</td>\n",
       "      <td>195.972115</td>\n",
       "      <td>3</td>\n",
       "      <td>102.985075</td>\n",
       "      <td>3</td>\n",
       "      <td>55.308707</td>\n",
       "      <td>3</td>\n",
       "      <td>195.972115</td>\n",
       "      <td>3</td>\n",
       "      <td>102.985075</td>\n",
       "      <td>3</td>\n",
       "      <td>1</td>\n",
       "      <td>1</td>\n",
       "      <td>3</td>\n",
       "      <td>5</td>\n",
       "      <td>2</td>\n",
       "      <td>1</td>\n",
       "      <td>3</td>\n",
       "      <td>3</td>\n",
       "      <td>3</td>\n",
       "      <td>3</td>\n",
       "      <td>4</td>\n",
       "      <td>2</td>\n",
       "      <td>2</td>\n",
       "      <td>2</td>\n",
       "      <td>2</td>\n",
       "      <td>3</td>\n",
       "      <td>2</td>\n",
       "      <td>2</td>\n",
       "      <td>2</td>\n",
       "      <td>2</td>\n",
       "      <td>7</td>\n",
       "      <td>1</td>\n",
       "      <td>1</td>\n",
       "      <td>0</td>\n",
       "      <td>0</td>\n",
       "    </tr>\n",
       "  </tbody>\n",
       "</table>\n",
       "<p>5 rows × 99 columns</p>\n",
       "</div>"
      ],
      "text/plain": [
       "   CONTROL  AGE1  METRO3  REGION  ...  FMTASSISTED  FMTBURDEN  FMTREGION  FMTSTATUS\n",
       "0        0    82       2       0  ...            0          2          0          0\n",
       "1        1    50       4       2  ...            0          1          0          0\n",
       "2        2    53       4       2  ...            0          3          0          0\n",
       "3        3    67       4       2  ...            0          1          0          0\n",
       "4        4    26       0       2  ...            1          1          0          0\n",
       "\n",
       "[5 rows x 99 columns]"
      ]
     },
     "execution_count": 5,
     "metadata": {
      "tags": []
     },
     "output_type": "execute_result"
    }
   ],
   "source": [
    "for col in cat_cols:\n",
    "  national[col] = national[col].cat.codes\n",
    "\n",
    "print(national.shape)\n",
    "national.head()"
   ]
  },
  {
   "cell_type": "code",
   "execution_count": null,
   "metadata": {
    "colab": {
     "base_uri": "https://localhost:8080/",
     "height": 221
    },
    "id": "6Fb9paEZgzaM",
    "outputId": "6b289126-f812-480f-bd67-a83f680dbab6"
   },
   "outputs": [
    {
     "data": {
      "text/plain": [
       "CONTROL            int32\n",
       "AGE1               int64\n",
       "METRO3              int8\n",
       "REGION              int8\n",
       "LMED               int64\n",
       "                   ...  \n",
       "FMTINCRELAMICAT     int8\n",
       "FMTASSISTED         int8\n",
       "FMTBURDEN           int8\n",
       "FMTREGION           int8\n",
       "FMTSTATUS           int8\n",
       "Length: 99, dtype: object"
      ]
     },
     "execution_count": 6,
     "metadata": {
      "tags": []
     },
     "output_type": "execute_result"
    }
   ],
   "source": [
    "national.dtypes"
   ]
  },
  {
   "cell_type": "code",
   "execution_count": null,
   "metadata": {
    "colab": {
     "base_uri": "https://localhost:8080/",
     "height": 270
    },
    "id": "BTSjlNgKRWtW",
    "outputId": "0599df2a-98a1-4bc3-9ddf-f8964523df4e"
   },
   "outputs": [
    {
     "name": "stdout",
     "output_type": "stream",
     "text": [
      "(64535, 99)\n"
     ]
    },
    {
     "data": {
      "text/html": [
       "<div>\n",
       "<style scoped>\n",
       "    .dataframe tbody tr th:only-of-type {\n",
       "        vertical-align: middle;\n",
       "    }\n",
       "\n",
       "    .dataframe tbody tr th {\n",
       "        vertical-align: top;\n",
       "    }\n",
       "\n",
       "    .dataframe thead th {\n",
       "        text-align: right;\n",
       "    }\n",
       "</style>\n",
       "<table border=\"1\" class=\"dataframe\">\n",
       "  <thead>\n",
       "    <tr style=\"text-align: right;\">\n",
       "      <th></th>\n",
       "      <th>CONTROL</th>\n",
       "      <th>AGE1</th>\n",
       "      <th>METRO3</th>\n",
       "      <th>REGION</th>\n",
       "      <th>LMED</th>\n",
       "      <th>FMR</th>\n",
       "      <th>L30</th>\n",
       "      <th>L50</th>\n",
       "      <th>L80</th>\n",
       "      <th>IPOV</th>\n",
       "      <th>BEDRMS</th>\n",
       "      <th>BUILT</th>\n",
       "      <th>STATUS</th>\n",
       "      <th>TYPE</th>\n",
       "      <th>VALUE</th>\n",
       "      <th>VACANCY</th>\n",
       "      <th>TENURE</th>\n",
       "      <th>NUNITS</th>\n",
       "      <th>ROOMS</th>\n",
       "      <th>WEIGHT</th>\n",
       "      <th>PER</th>\n",
       "      <th>ZINC2</th>\n",
       "      <th>ZADEQ</th>\n",
       "      <th>ZSMHC</th>\n",
       "      <th>STRUCTURETYPE</th>\n",
       "      <th>OWNRENT</th>\n",
       "      <th>UTILITY</th>\n",
       "      <th>OTHERCOST</th>\n",
       "      <th>COST06</th>\n",
       "      <th>COST12</th>\n",
       "      <th>COST08</th>\n",
       "      <th>COSTMED</th>\n",
       "      <th>TOTSAL</th>\n",
       "      <th>ASSISTED</th>\n",
       "      <th>GLMED</th>\n",
       "      <th>GL30</th>\n",
       "      <th>GL50</th>\n",
       "      <th>GL80</th>\n",
       "      <th>APLMED</th>\n",
       "      <th>ABL30</th>\n",
       "      <th>...</th>\n",
       "      <th>COST08RELPOVCAT</th>\n",
       "      <th>COST08RELFMRPCT</th>\n",
       "      <th>COST08RELFMRCAT</th>\n",
       "      <th>COST12RELAMIPCT</th>\n",
       "      <th>COST12RELAMICAT</th>\n",
       "      <th>COST12RELPOVPCT</th>\n",
       "      <th>COST12RELPOVCAT</th>\n",
       "      <th>COST12RELFMRPCT</th>\n",
       "      <th>COST12RELFMRCAT</th>\n",
       "      <th>COSTMedRELAMIPCT</th>\n",
       "      <th>COSTMedRELAMICAT</th>\n",
       "      <th>COSTMedRELPOVPCT</th>\n",
       "      <th>COSTMedRELPOVCAT</th>\n",
       "      <th>COSTMedRELFMRPCT</th>\n",
       "      <th>COSTMedRELFMRCAT</th>\n",
       "      <th>FMTZADEQ</th>\n",
       "      <th>FMTMETRO3</th>\n",
       "      <th>FMTBUILT</th>\n",
       "      <th>FMTSTRUCTURETYPE</th>\n",
       "      <th>FMTBEDRMS</th>\n",
       "      <th>FMTOWNRENT</th>\n",
       "      <th>FMTCOST06RELPOVCAT</th>\n",
       "      <th>FMTCOST08RELPOVCAT</th>\n",
       "      <th>FMTCOST12RELPOVCAT</th>\n",
       "      <th>FMTCOSTMEDRELPOVCAT</th>\n",
       "      <th>FMTINCRELPOVCAT</th>\n",
       "      <th>FMTCOST06RELFMRCAT</th>\n",
       "      <th>FMTCOST08RELFMRCAT</th>\n",
       "      <th>FMTCOST12RELFMRCAT</th>\n",
       "      <th>FMTCOSTMEDRELFMRCAT</th>\n",
       "      <th>FMTINCRELFMRCAT</th>\n",
       "      <th>FMTCOST06RELAMICAT</th>\n",
       "      <th>FMTCOST08RELAMICAT</th>\n",
       "      <th>FMTCOST12RELAMICAT</th>\n",
       "      <th>FMTCOSTMEDRELAMICAT</th>\n",
       "      <th>FMTINCRELAMICAT</th>\n",
       "      <th>FMTASSISTED</th>\n",
       "      <th>FMTBURDEN</th>\n",
       "      <th>FMTREGION</th>\n",
       "      <th>FMTSTATUS</th>\n",
       "    </tr>\n",
       "  </thead>\n",
       "  <tbody>\n",
       "    <tr>\n",
       "      <th>0</th>\n",
       "      <td>0</td>\n",
       "      <td>82</td>\n",
       "      <td>2</td>\n",
       "      <td>0</td>\n",
       "      <td>73738</td>\n",
       "      <td>956</td>\n",
       "      <td>15738</td>\n",
       "      <td>26213</td>\n",
       "      <td>40322</td>\n",
       "      <td>11067</td>\n",
       "      <td>2</td>\n",
       "      <td>2006</td>\n",
       "      <td>0</td>\n",
       "      <td>1</td>\n",
       "      <td>40000</td>\n",
       "      <td>-6</td>\n",
       "      <td>1</td>\n",
       "      <td>1</td>\n",
       "      <td>6</td>\n",
       "      <td>3117.394239</td>\n",
       "      <td>1</td>\n",
       "      <td>18021</td>\n",
       "      <td>1</td>\n",
       "      <td>533</td>\n",
       "      <td>1</td>\n",
       "      <td>0</td>\n",
       "      <td>169.000000</td>\n",
       "      <td>213.750000</td>\n",
       "      <td>648.588189</td>\n",
       "      <td>803.050535</td>\n",
       "      <td>696.905247</td>\n",
       "      <td>615.156712</td>\n",
       "      <td>0</td>\n",
       "      <td>-9</td>\n",
       "      <td>73738</td>\n",
       "      <td>15738</td>\n",
       "      <td>26213</td>\n",
       "      <td>40322</td>\n",
       "      <td>51616.6</td>\n",
       "      <td>20234.571429</td>\n",
       "      <td>...</td>\n",
       "      <td>4</td>\n",
       "      <td>72.898038</td>\n",
       "      <td>2</td>\n",
       "      <td>48.402635</td>\n",
       "      <td>2</td>\n",
       "      <td>290.250487</td>\n",
       "      <td>4</td>\n",
       "      <td>84.001102</td>\n",
       "      <td>2</td>\n",
       "      <td>37.077624</td>\n",
       "      <td>2</td>\n",
       "      <td>222.339102</td>\n",
       "      <td>4</td>\n",
       "      <td>64.346936</td>\n",
       "      <td>2</td>\n",
       "      <td>1</td>\n",
       "      <td>0</td>\n",
       "      <td>5</td>\n",
       "      <td>1</td>\n",
       "      <td>2</td>\n",
       "      <td>0</td>\n",
       "      <td>4</td>\n",
       "      <td>4</td>\n",
       "      <td>4</td>\n",
       "      <td>4</td>\n",
       "      <td>3</td>\n",
       "      <td>1</td>\n",
       "      <td>1</td>\n",
       "      <td>1</td>\n",
       "      <td>1</td>\n",
       "      <td>1</td>\n",
       "      <td>1</td>\n",
       "      <td>1</td>\n",
       "      <td>1</td>\n",
       "      <td>1</td>\n",
       "      <td>2</td>\n",
       "      <td>0</td>\n",
       "      <td>2</td>\n",
       "      <td>0</td>\n",
       "      <td>0</td>\n",
       "    </tr>\n",
       "    <tr>\n",
       "      <th>1</th>\n",
       "      <td>1</td>\n",
       "      <td>50</td>\n",
       "      <td>4</td>\n",
       "      <td>2</td>\n",
       "      <td>55846</td>\n",
       "      <td>1100</td>\n",
       "      <td>17165</td>\n",
       "      <td>28604</td>\n",
       "      <td>45744</td>\n",
       "      <td>24218</td>\n",
       "      <td>4</td>\n",
       "      <td>1980</td>\n",
       "      <td>0</td>\n",
       "      <td>1</td>\n",
       "      <td>130000</td>\n",
       "      <td>-6</td>\n",
       "      <td>1</td>\n",
       "      <td>1</td>\n",
       "      <td>6</td>\n",
       "      <td>2150.725544</td>\n",
       "      <td>4</td>\n",
       "      <td>122961</td>\n",
       "      <td>1</td>\n",
       "      <td>487</td>\n",
       "      <td>1</td>\n",
       "      <td>0</td>\n",
       "      <td>245.333333</td>\n",
       "      <td>58.333333</td>\n",
       "      <td>1167.640781</td>\n",
       "      <td>1669.643405</td>\n",
       "      <td>1324.671218</td>\n",
       "      <td>1058.988479</td>\n",
       "      <td>123000</td>\n",
       "      <td>-9</td>\n",
       "      <td>55846</td>\n",
       "      <td>17165</td>\n",
       "      <td>28604</td>\n",
       "      <td>45744</td>\n",
       "      <td>55846.0</td>\n",
       "      <td>19911.400000</td>\n",
       "      <td>...</td>\n",
       "      <td>4</td>\n",
       "      <td>120.424656</td>\n",
       "      <td>3</td>\n",
       "      <td>103.094063</td>\n",
       "      <td>6</td>\n",
       "      <td>275.768999</td>\n",
       "      <td>4</td>\n",
       "      <td>151.785764</td>\n",
       "      <td>3</td>\n",
       "      <td>65.388468</td>\n",
       "      <td>4</td>\n",
       "      <td>174.909320</td>\n",
       "      <td>3</td>\n",
       "      <td>96.271680</td>\n",
       "      <td>2</td>\n",
       "      <td>1</td>\n",
       "      <td>0</td>\n",
       "      <td>3</td>\n",
       "      <td>1</td>\n",
       "      <td>4</td>\n",
       "      <td>0</td>\n",
       "      <td>3</td>\n",
       "      <td>4</td>\n",
       "      <td>4</td>\n",
       "      <td>3</td>\n",
       "      <td>4</td>\n",
       "      <td>2</td>\n",
       "      <td>2</td>\n",
       "      <td>2</td>\n",
       "      <td>1</td>\n",
       "      <td>3</td>\n",
       "      <td>3</td>\n",
       "      <td>3</td>\n",
       "      <td>5</td>\n",
       "      <td>3</td>\n",
       "      <td>7</td>\n",
       "      <td>0</td>\n",
       "      <td>1</td>\n",
       "      <td>0</td>\n",
       "      <td>0</td>\n",
       "    </tr>\n",
       "    <tr>\n",
       "      <th>2</th>\n",
       "      <td>2</td>\n",
       "      <td>53</td>\n",
       "      <td>4</td>\n",
       "      <td>2</td>\n",
       "      <td>55846</td>\n",
       "      <td>1100</td>\n",
       "      <td>13750</td>\n",
       "      <td>22897</td>\n",
       "      <td>36614</td>\n",
       "      <td>15470</td>\n",
       "      <td>4</td>\n",
       "      <td>1985</td>\n",
       "      <td>0</td>\n",
       "      <td>1</td>\n",
       "      <td>150000</td>\n",
       "      <td>-6</td>\n",
       "      <td>1</td>\n",
       "      <td>1</td>\n",
       "      <td>7</td>\n",
       "      <td>2213.789404</td>\n",
       "      <td>2</td>\n",
       "      <td>27974</td>\n",
       "      <td>1</td>\n",
       "      <td>1405</td>\n",
       "      <td>1</td>\n",
       "      <td>0</td>\n",
       "      <td>159.000000</td>\n",
       "      <td>37.500000</td>\n",
       "      <td>1193.393209</td>\n",
       "      <td>1772.627006</td>\n",
       "      <td>1374.582175</td>\n",
       "      <td>1068.025168</td>\n",
       "      <td>28000</td>\n",
       "      <td>-9</td>\n",
       "      <td>55846</td>\n",
       "      <td>13750</td>\n",
       "      <td>22897</td>\n",
       "      <td>36614</td>\n",
       "      <td>44676.8</td>\n",
       "      <td>19937.500000</td>\n",
       "      <td>...</td>\n",
       "      <td>4</td>\n",
       "      <td>124.962016</td>\n",
       "      <td>3</td>\n",
       "      <td>109.452905</td>\n",
       "      <td>6</td>\n",
       "      <td>458.339239</td>\n",
       "      <td>4</td>\n",
       "      <td>161.147910</td>\n",
       "      <td>3</td>\n",
       "      <td>65.946449</td>\n",
       "      <td>4</td>\n",
       "      <td>276.153890</td>\n",
       "      <td>4</td>\n",
       "      <td>97.093197</td>\n",
       "      <td>2</td>\n",
       "      <td>1</td>\n",
       "      <td>0</td>\n",
       "      <td>3</td>\n",
       "      <td>1</td>\n",
       "      <td>4</td>\n",
       "      <td>0</td>\n",
       "      <td>4</td>\n",
       "      <td>4</td>\n",
       "      <td>4</td>\n",
       "      <td>4</td>\n",
       "      <td>3</td>\n",
       "      <td>2</td>\n",
       "      <td>2</td>\n",
       "      <td>2</td>\n",
       "      <td>1</td>\n",
       "      <td>2</td>\n",
       "      <td>3</td>\n",
       "      <td>4</td>\n",
       "      <td>5</td>\n",
       "      <td>3</td>\n",
       "      <td>4</td>\n",
       "      <td>0</td>\n",
       "      <td>3</td>\n",
       "      <td>0</td>\n",
       "      <td>0</td>\n",
       "    </tr>\n",
       "    <tr>\n",
       "      <th>3</th>\n",
       "      <td>3</td>\n",
       "      <td>67</td>\n",
       "      <td>4</td>\n",
       "      <td>2</td>\n",
       "      <td>55846</td>\n",
       "      <td>949</td>\n",
       "      <td>13750</td>\n",
       "      <td>22897</td>\n",
       "      <td>36614</td>\n",
       "      <td>13964</td>\n",
       "      <td>3</td>\n",
       "      <td>1985</td>\n",
       "      <td>0</td>\n",
       "      <td>1</td>\n",
       "      <td>200000</td>\n",
       "      <td>-6</td>\n",
       "      <td>1</td>\n",
       "      <td>1</td>\n",
       "      <td>6</td>\n",
       "      <td>2364.585097</td>\n",
       "      <td>2</td>\n",
       "      <td>32220</td>\n",
       "      <td>1</td>\n",
       "      <td>279</td>\n",
       "      <td>1</td>\n",
       "      <td>0</td>\n",
       "      <td>179.000000</td>\n",
       "      <td>70.666667</td>\n",
       "      <td>1578.857612</td>\n",
       "      <td>2351.169341</td>\n",
       "      <td>1820.442900</td>\n",
       "      <td>1411.700224</td>\n",
       "      <td>0</td>\n",
       "      <td>-9</td>\n",
       "      <td>55846</td>\n",
       "      <td>13750</td>\n",
       "      <td>22897</td>\n",
       "      <td>36614</td>\n",
       "      <td>44676.8</td>\n",
       "      <td>17875.000000</td>\n",
       "      <td>...</td>\n",
       "      <td>4</td>\n",
       "      <td>191.827492</td>\n",
       "      <td>3</td>\n",
       "      <td>161.926709</td>\n",
       "      <td>7</td>\n",
       "      <td>673.494512</td>\n",
       "      <td>4</td>\n",
       "      <td>247.752301</td>\n",
       "      <td>3</td>\n",
       "      <td>97.224801</td>\n",
       "      <td>5</td>\n",
       "      <td>404.382763</td>\n",
       "      <td>4</td>\n",
       "      <td>148.756610</td>\n",
       "      <td>3</td>\n",
       "      <td>1</td>\n",
       "      <td>0</td>\n",
       "      <td>3</td>\n",
       "      <td>1</td>\n",
       "      <td>3</td>\n",
       "      <td>0</td>\n",
       "      <td>4</td>\n",
       "      <td>4</td>\n",
       "      <td>4</td>\n",
       "      <td>4</td>\n",
       "      <td>4</td>\n",
       "      <td>2</td>\n",
       "      <td>2</td>\n",
       "      <td>2</td>\n",
       "      <td>2</td>\n",
       "      <td>2</td>\n",
       "      <td>5</td>\n",
       "      <td>6</td>\n",
       "      <td>6</td>\n",
       "      <td>4</td>\n",
       "      <td>4</td>\n",
       "      <td>0</td>\n",
       "      <td>1</td>\n",
       "      <td>0</td>\n",
       "      <td>0</td>\n",
       "    </tr>\n",
       "    <tr>\n",
       "      <th>4</th>\n",
       "      <td>4</td>\n",
       "      <td>26</td>\n",
       "      <td>0</td>\n",
       "      <td>2</td>\n",
       "      <td>60991</td>\n",
       "      <td>737</td>\n",
       "      <td>14801</td>\n",
       "      <td>24628</td>\n",
       "      <td>39421</td>\n",
       "      <td>15492</td>\n",
       "      <td>2</td>\n",
       "      <td>1980</td>\n",
       "      <td>0</td>\n",
       "      <td>1</td>\n",
       "      <td>-6</td>\n",
       "      <td>-6</td>\n",
       "      <td>2</td>\n",
       "      <td>100</td>\n",
       "      <td>4</td>\n",
       "      <td>2314.524902</td>\n",
       "      <td>2</td>\n",
       "      <td>96874</td>\n",
       "      <td>1</td>\n",
       "      <td>759</td>\n",
       "      <td>5</td>\n",
       "      <td>1</td>\n",
       "      <td>146.000000</td>\n",
       "      <td>12.500000</td>\n",
       "      <td>759.000000</td>\n",
       "      <td>759.000000</td>\n",
       "      <td>759.000000</td>\n",
       "      <td>759.000000</td>\n",
       "      <td>96900</td>\n",
       "      <td>0</td>\n",
       "      <td>60991</td>\n",
       "      <td>14801</td>\n",
       "      <td>24628</td>\n",
       "      <td>39421</td>\n",
       "      <td>48792.8</td>\n",
       "      <td>16651.125000</td>\n",
       "      <td>...</td>\n",
       "      <td>3</td>\n",
       "      <td>102.985075</td>\n",
       "      <td>3</td>\n",
       "      <td>55.308707</td>\n",
       "      <td>3</td>\n",
       "      <td>195.972115</td>\n",
       "      <td>3</td>\n",
       "      <td>102.985075</td>\n",
       "      <td>3</td>\n",
       "      <td>55.308707</td>\n",
       "      <td>3</td>\n",
       "      <td>195.972115</td>\n",
       "      <td>3</td>\n",
       "      <td>102.985075</td>\n",
       "      <td>3</td>\n",
       "      <td>1</td>\n",
       "      <td>1</td>\n",
       "      <td>3</td>\n",
       "      <td>5</td>\n",
       "      <td>2</td>\n",
       "      <td>1</td>\n",
       "      <td>3</td>\n",
       "      <td>3</td>\n",
       "      <td>3</td>\n",
       "      <td>3</td>\n",
       "      <td>4</td>\n",
       "      <td>2</td>\n",
       "      <td>2</td>\n",
       "      <td>2</td>\n",
       "      <td>2</td>\n",
       "      <td>3</td>\n",
       "      <td>2</td>\n",
       "      <td>2</td>\n",
       "      <td>2</td>\n",
       "      <td>2</td>\n",
       "      <td>7</td>\n",
       "      <td>1</td>\n",
       "      <td>1</td>\n",
       "      <td>0</td>\n",
       "      <td>0</td>\n",
       "    </tr>\n",
       "  </tbody>\n",
       "</table>\n",
       "<p>5 rows × 99 columns</p>\n",
       "</div>"
      ],
      "text/plain": [
       "   CONTROL  AGE1  METRO3  REGION  ...  FMTASSISTED  FMTBURDEN  FMTREGION  FMTSTATUS\n",
       "0        0    82       2       0  ...            0          2          0          0\n",
       "1        1    50       4       2  ...            0          1          0          0\n",
       "2        2    53       4       2  ...            0          3          0          0\n",
       "3        3    67       4       2  ...            0          1          0          0\n",
       "4        4    26       0       2  ...            1          1          0          0\n",
       "\n",
       "[5 rows x 99 columns]"
      ]
     },
     "execution_count": 7,
     "metadata": {
      "tags": []
     },
     "output_type": "execute_result"
    }
   ],
   "source": [
    "# Make a copy of our dataframe, we will standarize the copy so as to not\n",
    "# overwrite our original data\n",
    "national_processed = national.copy()\n",
    "print(national_processed.shape)\n",
    "national_processed.head()"
   ]
  },
  {
   "cell_type": "code",
   "execution_count": null,
   "metadata": {
    "colab": {
     "base_uri": "https://localhost:8080/",
     "height": 238
    },
    "id": "u_BgMhe9A9ZC",
    "outputId": "daf046e1-e55c-41bb-9d6b-80cff191ec20"
   },
   "outputs": [
    {
     "data": {
      "text/plain": [
       "array([[-1.73202397,  1.48807451,  0.60878419, ...,  0.54947295,\n",
       "        -0.46210707,  0.        ],\n",
       "       [-1.73197029,  0.08881241,  2.18426992, ..., -0.54470863,\n",
       "        -0.46210707,  0.        ],\n",
       "       [-1.73191661,  0.21999323,  2.18426992, ...,  1.64365453,\n",
       "        -0.46210707,  0.        ],\n",
       "       ...,\n",
       "       [ 1.73191661, -1.09181499, -0.17895868, ...,  1.64365453,\n",
       "         2.16400067,  0.        ],\n",
       "       [ 1.73197029,  0.39490099, -0.96670154, ..., -0.54470863,\n",
       "         2.16400067,  0.        ],\n",
       "       [ 1.73202397,  0.78844346,  1.39652706, ..., -0.54470863,\n",
       "        -0.46210707,  0.        ]])"
      ]
     },
     "execution_count": 8,
     "metadata": {
      "tags": []
     },
     "output_type": "execute_result"
    }
   ],
   "source": [
    "from sklearn.preprocessing import StandardScaler\n",
    "scaler = StandardScaler()\n",
    "national_processed = scaler.fit_transform(national_processed)\n",
    "national_processed"
   ]
  },
  {
   "cell_type": "code",
   "execution_count": null,
   "metadata": {
    "id": "m0Y5qJAs-1Q6"
   },
   "outputs": [],
   "source": [
    "from sklearn.decomposition import PCA\n",
    "\n",
    "# Apply PCA to the data\n",
    "pca = PCA(.9)\n",
    "pca_features = pca.fit_transform(national_processed)"
   ]
  },
  {
   "cell_type": "code",
   "execution_count": null,
   "metadata": {
    "id": "CmxL457j-Q2y"
   },
   "outputs": [],
   "source": [
    "# Define scree plot function\n",
    "def scree_plot(pca):\n",
    "    '''\n",
    "    Creates a scree plot associated with the principal components \n",
    "    \n",
    "    INPUT: pca - the result of instantiation of PCA in scikit learn\n",
    "            \n",
    "    OUTPUT:\n",
    "            None\n",
    "    '''\n",
    "    num_components=len(pca.explained_variance_ratio_)\n",
    "    ind = np.arange(num_components)\n",
    "    vals = pca.explained_variance_ratio_\n",
    " \n",
    "    plt.figure(figsize=(18, 6))\n",
    "    ax = plt.subplot(111)\n",
    "    cumvals = np.cumsum(vals)\n",
    "    ax.bar(ind, vals)\n",
    "    ax.plot(ind, cumvals)\n",
    "    for i in range(num_components):\n",
    "        ax.annotate(r\"%s\" % ((str(vals[i]*100)[:3])), (ind[i], vals[i]), va=\"bottom\", ha=\"center\", fontsize=4.5)\n",
    " \n",
    "    ax.xaxis.set_tick_params(width=0)\n",
    "    ax.yaxis.set_tick_params(width=2, length=12)\n",
    " \n",
    "    ax.set_xlabel(\"Principal Component\")\n",
    "    ax.set_ylabel(\"Variance Explained (%)\")\n",
    "    plt.title('Explained Variance Per Principal Component')"
   ]
  },
  {
   "cell_type": "code",
   "execution_count": null,
   "metadata": {
    "colab": {
     "base_uri": "https://localhost:8080/",
     "height": 404
    },
    "id": "adiMr78LGpE-",
    "outputId": "d0c8e8ff-9f97-43db-d162-24415a198748"
   },
   "outputs": [
    {
     "data": {
      "image/png": "[encoded data removed]",
      "text/plain": [
       "<Figure size 1296x432 with 1 Axes>"
      ]
     },
     "metadata": {
      "needs_background": "light",
      "tags": []
     },
     "output_type": "display_data"
    }
   ],
   "source": [
    "scree_plot(pca)"
   ]
  },
  {
   "cell_type": "code",
   "execution_count": null,
   "metadata": {
    "colab": {
     "base_uri": "https://localhost:8080/",
     "height": 68
    },
    "id": "QG57JS26ju57",
    "outputId": "bca08a4e-8990-4a77-951f-1ea57420fb08"
   },
   "outputs": [
    {
     "name": "stdout",
     "output_type": "stream",
     "text": [
      "[33.37004789 14.1535396  10.08202018  7.10060309  5.06332832  3.92661817\n",
      "  2.73018834  2.17601958  1.97661216  1.73476956  1.4237287   1.27352267\n",
      "  1.13247716  1.03636584  1.01164141  0.98108083]\n"
     ]
    }
   ],
   "source": [
    "print(pca.explained_variance_)"
   ]
  },
  {
   "cell_type": "code",
   "execution_count": null,
   "metadata": {
    "colab": {
     "base_uri": "https://localhost:8080/",
     "height": 68
    },
    "id": "fc1P4C1SkIpc",
    "outputId": "aef13f02-157c-4d46-a48f-b0788423245f"
   },
   "outputs": [
    {
     "name": "stdout",
     "output_type": "stream",
     "text": [
      "[0.34050542 0.14442164 0.10287616 0.07245401 0.05166581 0.04006691\n",
      " 0.02785863 0.02220394 0.0201692  0.01770146 0.01452762 0.01299493\n",
      " 0.01155571 0.010575   0.01032271 0.01001087]\n"
     ]
    }
   ],
   "source": [
    "print(pca.explained_variance_ratio_)"
   ]
  },
  {
   "cell_type": "code",
   "execution_count": null,
   "metadata": {
    "colab": {
     "base_uri": "https://localhost:8080/",
     "height": 34
    },
    "id": "7KTiigsLkZPz",
    "outputId": "bab61ae2-128d-42ef-d211-217e0ae6bd80"
   },
   "outputs": [
    {
     "data": {
      "text/plain": [
       "0.9099100175289141"
      ]
     },
     "execution_count": 14,
     "metadata": {
      "tags": []
     },
     "output_type": "execute_result"
    }
   ],
   "source": [
    "# proportion of explained variance of the first 15 Principal Components\n",
    "pca.explained_variance_ratio_[:16].sum()"
   ]
  },
  {
   "cell_type": "code",
   "execution_count": null,
   "metadata": {
    "colab": {
     "base_uri": "https://localhost:8080/",
     "height": 136
    },
    "id": "M3sePyhRlPZw",
    "outputId": "4df52497-d606-425d-9cd1-8877fbabe593"
   },
   "outputs": [
    {
     "data": {
      "text/plain": [
       "array([[-2.57657018],\n",
       "       [ 2.04064284],\n",
       "       [ 1.21527025],\n",
       "       ...,\n",
       "       [ 1.83162816],\n",
       "       [-5.02514474],\n",
       "       [-9.89816404]])"
      ]
     },
     "execution_count": 15,
     "metadata": {
      "tags": []
     },
     "output_type": "execute_result"
    }
   ],
   "source": [
    "# PC1\n",
    "pca_features[:,0:1]"
   ]
  },
  {
   "cell_type": "code",
   "execution_count": null,
   "metadata": {
    "colab": {
     "base_uri": "https://localhost:8080/",
     "height": 136
    },
    "id": "cmPPzKQmlkSp",
    "outputId": "170c4420-492c-4db9-9ced-7fe042249c09"
   },
   "outputs": [
    {
     "data": {
      "text/plain": [
       "array([[-1.37612732],\n",
       "       [-0.98806144],\n",
       "       [ 0.37016816],\n",
       "       ...,\n",
       "       [-2.95570213],\n",
       "       [-2.52857814],\n",
       "       [-0.80284267]])"
      ]
     },
     "execution_count": 16,
     "metadata": {
      "tags": []
     },
     "output_type": "execute_result"
    }
   ],
   "source": [
    "# PC2\n",
    "pca_features[:,1:2]"
   ]
  },
  {
   "cell_type": "code",
   "execution_count": null,
   "metadata": {
    "colab": {
     "base_uri": "https://localhost:8080/",
     "height": 265
    },
    "id": "sm3_e6P8lGhT",
    "outputId": "d21247da-cb63-4951-9fd8-b8757de98d94"
   },
   "outputs": [
    {
     "data": {
      "image/png": "[encoded data removed]",
      "text/plain": [
       "<Figure size 432x288 with 1 Axes>"
      ]
     },
     "metadata": {
      "needs_background": "light",
      "tags": []
     },
     "output_type": "display_data"
    }
   ],
   "source": [
    "plt.scatter(pca_features[:,0:1], pca_features[:,1:2]);"
   ]
  },
  {
   "cell_type": "markdown",
   "metadata": {
    "id": "TBXSEvwbODsA"
   },
   "source": [
    "# Machine Learning (Overview)\n",
    "\n",
    "How do you know what kind of Machine Learning that you're doing? What algorithm should you pick? \n",
    "\n",
    "Depends on what attributes you have and what you want to do."
   ]
  },
  {
   "cell_type": "markdown",
   "metadata": {
    "id": "t4qW9d7FlHUy"
   },
   "source": [
    "- ## Supervised Learning: \n",
    "Supervised Learning is used when training data outputs are labelled. The output is the thing that you're trying to predict.\n",
    "  - ### Classification\n",
    "  Classification algorithms try to predict the correct category (or class) from a given set of categories.\n",
    "  - ### Regression\n",
    "  Regression algorithms predict a continuous or semi-continuous value. (Not to be confused with _Linear_ Regression)"
   ]
  },
  {
   "cell_type": "markdown",
   "metadata": {
    "id": "NynJ4Ye9lHg0"
   },
   "source": [
    "-  ## Unsupervised Learning\n",
    "  - ### Clustering\n",
    "  Identifying groupings of related observations. This is our topic for today!\n",
    "  - ### Dimensionality Reduction\n",
    "  Takes a high-dimensionality dataset and reduces the number of variables taken into consideration via methods of feature selection and feature extraction.\n",
    "  - ### Association Rule Learning\n",
    "  Association is a method of discovering relationships between observations in a dataset. (between ovservations or features, not just relationships between explanatory variables and a single output variable. )"
   ]
  },
  {
   "cell_type": "markdown",
   "metadata": {
    "id": "ARo_wctGlHpT"
   },
   "source": [
    "- ## Reinforcement Learning\n",
    "  A form of machine learning where an \"agent\" interacts with its environment and is rewarded for correct behavior and penalized for incorrect behavior. Over many iterations the agent learns the behavior that results in the greatest reward and smallest punishment. "
   ]
  },
  {
   "cell_type": "markdown",
   "metadata": {
    "id": "2nPOjACaubCv"
   },
   "source": [
    "## Memorize This!\n",
    "\n",
    "**Supervised**: Labelled outputs\n",
    "- **Classification**: Discrete output categories\n",
    "- **Regression**: Continuous output values\n",
    "\n",
    "**Unsupervised**: Outputs are not labelled\n",
    "\n",
    "**Reinforcement**: Rewards/punishments for \"behaviors\""
   ]
  },
  {
   "cell_type": "markdown",
   "metadata": {
    "id": "K9YeIVBQoAJR"
   },
   "source": [
    "# Links to Examples\n",
    "\n",
    "#### [Classification Examples](https://github.com/ShuaiW/kaggle-classification)\n",
    "\n",
    " - Think Titanic Dataset - \"survived\" or \"not survived\"\n",
    "\n",
    "#### [Regression Examples](https://github.com/ShuaiW/kaggle-classification)\n",
    "\n",
    "- Think Home Price Prediction\n",
    "\n",
    "#### [Unsupervised Learning Examples](http://www.lsi.upc.edu/~bejar/apren/docum/trans/09-clusterej-eng.pdf)\n",
    "\n",
    "- Think \"clustering the Iris dataset\""
   ]
  },
  {
   "cell_type": "markdown",
   "metadata": {
    "id": "yzdWvN9iugsd"
   },
   "source": [
    "# ML Cheat Sheets\n",
    "\n",
    "![Microsoft Cheat Sheet](https://docs.microsoft.com/en-us/azure/machine-learning/studio/media/algorithm-cheat-sheet/machine-learning-algorithm-cheat-sheet-small_v_0_6-01.png)\n",
    "\n",
    "This one does not group them by supervised, unsupervised, regression, classification, etc. But it gives you an idea of the different families of algorithms.\n",
    "\n",
    "![Algorithm Map](https://jixta.files.wordpress.com/2015/11/machinelearningalgorithms.png?w=816&h=521&zoom=2)\n"
   ]
  },
  {
   "cell_type": "markdown",
   "metadata": {
    "id": "GjCxoJFNl0ly"
   },
   "source": [
    "# Clustering \n",
    "\n",
    "**Clustering is unsupervised learning.** This is because there is nothing in our training data that designates the correct cluster that a data point should belong to beforehand. In fact, there's not even a \"correct\" _**number**_ of clusters to assign our points to. We will discuss some heuristics for choosing an **appropriate** number of clusters, but this (as in much of data science) is an area where there is no cut and dry right and wrong answer. \n",
    "\n",
    "Remember: \"All models are wrong, but some models are useful.\" Data science is all about acknowledging where your model might be wrong while still pursuing something useful. "
   ]
  },
  {
   "cell_type": "markdown",
   "metadata": {
    "id": "c6S6TOtgl0sb"
   },
   "source": [
    "## Why Clustering?\n",
    "\n",
    "Clustering answers questions about how similar or dissimilar our \"data objects\" are. Clustering is one of the most effective methods for summarizing datasets with this question in mind. Clustering can be thought of as a sort of \"unsupervised classification.\" You will likely never deploy a clustering model to a production environment, they're too unreliable. Clustering is more useful as a tool for data exploration than a model for making predictions. "
   ]
  },
  {
   "cell_type": "markdown",
   "metadata": {
    "id": "yDspwZ9Tl0yG"
   },
   "source": [
    "## “Clustering isn’t hard—it’s either easy, or not interesting”\n",
    "\n",
    "If a good clustering exists, then it usually can be efficiently found. Clustering is the most difficult when clear clusters don't exist in the first place. In that case you should question whether or not clustering is the most appropriate or useful method. \n",
    "\n",
    "The purpose of clustering is to group data points that are similar along certain specified dimensions (attributes). \"Similarity\" is defined as the points being close together in some n-dimensional space. \n",
    "\n",
    "The greater the number of dimensions, the more difficult clustering becomes because the increase in dimensions makes all points roughly equidistant with one another. (We don't have time to go further into this or demonstrate this, but clustering suffers from performance and interpretability issues in a high number of dimensions). Some of these challenges can be rectified by choosing an appropriate measure of \"distance\" between data points. For example, using clustering for document analysis is still fairly effective even though the analysis is of a highly-dimenaional space. "
   ]
  },
  {
   "cell_type": "markdown",
   "metadata": {
    "id": "ldJ0c24yl02e"
   },
   "source": [
    "# Types of Clustering:\n",
    "\n",
    "## Hierarchical:\n",
    "\n",
    "  - Agglomerative: start with individual points and combine them into larger and larger clusters\n",
    "  \n",
    "  - Divisive: Start with one cluster and divide the points into smaller clusters.\n",
    "\n",
    "## Point Assignment:\n",
    "\n",
    "  - We decide on a number of clusters out of the gate, and assign points to that number of clusters.\n",
    "\n",
    "# Hard vs Soft Clustering\n",
    "\n",
    "Hard Clustering assigns a point to a cluster\n",
    "\n",
    "Soft Clustering assigns each point a probability that it's in a given cluster.\n",
    "\n",
    "We're going to only deal with hard clustering, it's the more traditional approach. "
   ]
  },
  {
   "cell_type": "markdown",
   "metadata": {
    "id": "mnAcqxeDl06U"
   },
   "source": [
    "## Applications:\n",
    "\n",
    "Astronomy: There's too much data from space for us to look at each individual star and galaxy and categorize it, but we can cluster them into groups based on their observable attributes. \n",
    "\n",
    "[SkyCat](http://www.eso.org/sci/observing/tools/skycat.html)\n",
    "\n",
    "[Sloan Digital Sky Survey](https://www.sdss.org/)\n",
    "\n",
    "Document Classification / Grouping - We'll need to study a little bit of NLP before we can get into this. "
   ]
  },
  {
   "cell_type": "markdown",
   "metadata": {
    "id": "WhmN7D0Ol0-E"
   },
   "source": [
    "## Distance Measures\n",
    "\n",
    "Did you know that there are distance measures other than euclidean distance?\n",
    "\n",
    "- Euclidean\n",
    "- Cosine\n",
    "- Jaccard\n",
    "- Edit Distance\n",
    "- Etc. \n",
    "\n",
    "Clustering traditionally uses Euclidean Distance, but this particular measure of distance breaks down in high dimensionality spaces. It's what we'll use for today. If you **LOVE**  clustering and want to put a strong focus on this area of Machine learning (at the expense of focusing strongly on others) then I would suggest further personal research into different clustering algorithms and distance measures. \n",
    "\n",
    "I want to reiterate that you don't have to use PCA and clustering in conjunction with each other. I think it's more common that they are not used together, but it can be useful in certain cases. We might try it today for fun and so reiterate how PCA is the preprocessing step, and K-means will be the main \"Machine Learning Algorithm.\"\n"
   ]
  },
  {
   "cell_type": "markdown",
   "metadata": {
    "id": "CY95oSIT-5ko"
   },
   "source": [
    "## There are a lot of clustering algorithms. \n",
    "\n",
    "YOU DON'T NEED TO BE ABLE TO CODE ALL OF THEM FROM SCRATCH IN ORDER TO APPLY THEM OR EVEN TO UNDERSTAND THEM. FOCUS ON LEARNING THINGS WITHIN THE CONTEXT OF A PROBLEM YOU ARE TRYING TO SOLVE AND ONLY LEARN THOSE THINGS THAT WILL HELP YOU SOLVE THE PROBLEM. "
   ]
  },
  {
   "cell_type": "markdown",
   "metadata": {
    "id": "rJx_PxNUmyDT"
   },
   "source": [
    "# K-Means Clustering\n",
    "\n",
    "![K-means Clustering](https://upload.wikimedia.org/wikipedia/commons/thumb/e/ea/K-means_convergence.gif/440px-K-means_convergence.gif)"
   ]
  },
  {
   "cell_type": "markdown",
   "metadata": {
    "id": "OGSeEtls_QXU"
   },
   "source": [
    "## The Process:\n",
    "\n",
    "Given a set of points in n-dimensional space we want to :\n",
    "\n",
    "1) select k random points to act as initial centroids (one point for each cluster)\n",
    "\n",
    "2) Find the cluster of points surrounding that centroid (assign points to the centroid that they lie closest to)\n",
    "\n",
    "3) Calculate a new centroid for the cluster\n",
    "\n",
    "Repeat steps 2 & 3 until the model converges. (Clusters don't change)"
   ]
  },
  {
   "cell_type": "markdown",
   "metadata": {
    "id": "JnwzM7vnoIDx"
   },
   "source": [
    "## Lets make some blobs"
   ]
  },
  {
   "cell_type": "code",
   "execution_count": null,
   "metadata": {
    "colab": {
     "base_uri": "https://localhost:8080/",
     "height": 333
    },
    "id": "Lt03ADtDByNX",
    "outputId": "8ccecec7-a609-496a-e73d-7dec029d861c"
   },
   "outputs": [
    {
     "name": "stderr",
     "output_type": "stream",
     "text": [
      "/usr/local/lib/python3.6/dist-packages/sklearn/utils/deprecation.py:144: FutureWarning: The sklearn.datasets.samples_generator module is  deprecated in version 0.22 and will be removed in version 0.24. The corresponding classes / functions should instead be imported from sklearn.datasets. Anything that cannot be imported from sklearn.datasets is now part of the private API.\n",
      "  warnings.warn(message, FutureWarning)\n"
     ]
    },
    {
     "data": {
      "image/png": "[encoded data removed]",
      "text/plain": [
       "<Figure size 432x288 with 1 Axes>"
      ]
     },
     "metadata": {
      "needs_background": "light",
      "tags": []
     },
     "output_type": "display_data"
    }
   ],
   "source": [
    "import pandas as pd\n",
    "import matplotlib.pyplot as plt\n",
    "from sklearn.datasets.samples_generator import make_blobs\n",
    "\n",
    "# Create dataframe of x, y and label values\n",
    "X, y = make_blobs(n_samples=100, centers=3, n_features=2)\n",
    "df = pd.DataFrame(dict(x=X[:,0], y=X[:,1], label=y))\n",
    "\n",
    "# Create scatterplot with coloring based on assigned labels\n",
    "colors = {0:'red', 1:'blue', 2:'green'}\n",
    "fig, ax = plt.subplots()\n",
    "grouped = df.groupby('label')\n",
    "for key, group in grouped:\n",
    "    group.plot(ax=ax, kind='scatter', x='x', y='y', label=key, color=colors[key])\n",
    "plt.show()                  "
   ]
  },
  {
   "cell_type": "code",
   "execution_count": null,
   "metadata": {
    "colab": {
     "base_uri": "https://localhost:8080/",
     "height": 204
    },
    "id": "uqYOxqPP-koM",
    "outputId": "9647d7ba-9fdc-4fac-f746-61b0e980824a"
   },
   "outputs": [
    {
     "data": {
      "text/html": [
       "<div>\n",
       "<style scoped>\n",
       "    .dataframe tbody tr th:only-of-type {\n",
       "        vertical-align: middle;\n",
       "    }\n",
       "\n",
       "    .dataframe tbody tr th {\n",
       "        vertical-align: top;\n",
       "    }\n",
       "\n",
       "    .dataframe thead th {\n",
       "        text-align: right;\n",
       "    }\n",
       "</style>\n",
       "<table border=\"1\" class=\"dataframe\">\n",
       "  <thead>\n",
       "    <tr style=\"text-align: right;\">\n",
       "      <th></th>\n",
       "      <th>x</th>\n",
       "      <th>y</th>\n",
       "      <th>label</th>\n",
       "    </tr>\n",
       "  </thead>\n",
       "  <tbody>\n",
       "    <tr>\n",
       "      <th>0</th>\n",
       "      <td>-0.893485</td>\n",
       "      <td>3.942630</td>\n",
       "      <td>2</td>\n",
       "    </tr>\n",
       "    <tr>\n",
       "      <th>1</th>\n",
       "      <td>-8.280384</td>\n",
       "      <td>4.372573</td>\n",
       "      <td>1</td>\n",
       "    </tr>\n",
       "    <tr>\n",
       "      <th>2</th>\n",
       "      <td>-7.581315</td>\n",
       "      <td>-0.035829</td>\n",
       "      <td>1</td>\n",
       "    </tr>\n",
       "    <tr>\n",
       "      <th>3</th>\n",
       "      <td>-8.933338</td>\n",
       "      <td>1.783596</td>\n",
       "      <td>1</td>\n",
       "    </tr>\n",
       "    <tr>\n",
       "      <th>4</th>\n",
       "      <td>-0.977680</td>\n",
       "      <td>1.259316</td>\n",
       "      <td>2</td>\n",
       "    </tr>\n",
       "  </tbody>\n",
       "</table>\n",
       "</div>"
      ],
      "text/plain": [
       "          x         y  label\n",
       "0 -0.893485  3.942630      2\n",
       "1 -8.280384  4.372573      1\n",
       "2 -7.581315 -0.035829      1\n",
       "3 -8.933338  1.783596      1\n",
       "4 -0.977680  1.259316      2"
      ]
     },
     "execution_count": 19,
     "metadata": {
      "tags": []
     },
     "output_type": "execute_result"
    }
   ],
   "source": [
    "df.head()"
   ]
  },
  {
   "cell_type": "markdown",
   "metadata": {
    "id": "x3fV8Cw_Eq6w"
   },
   "source": [
    "## Linear Separability\n",
    "The 2D blobs below are what is called \"linearly separable\" Meaning that we could use straight lines to separate them with no errors. This is the most trivial case of of k-means clustering, but it will help us to demonstrate."
   ]
  },
  {
   "cell_type": "code",
   "execution_count": null,
   "metadata": {
    "colab": {
     "base_uri": "https://localhost:8080/",
     "height": 204
    },
    "id": "jK624RjW-qGk",
    "outputId": "875a4fc9-1f7e-4a3e-f7de-b9122a9a989f"
   },
   "outputs": [
    {
     "data": {
      "text/html": [
       "<div>\n",
       "<style scoped>\n",
       "    .dataframe tbody tr th:only-of-type {\n",
       "        vertical-align: middle;\n",
       "    }\n",
       "\n",
       "    .dataframe tbody tr th {\n",
       "        vertical-align: top;\n",
       "    }\n",
       "\n",
       "    .dataframe thead th {\n",
       "        text-align: right;\n",
       "    }\n",
       "</style>\n",
       "<table border=\"1\" class=\"dataframe\">\n",
       "  <thead>\n",
       "    <tr style=\"text-align: right;\">\n",
       "      <th></th>\n",
       "      <th>x</th>\n",
       "      <th>y</th>\n",
       "    </tr>\n",
       "  </thead>\n",
       "  <tbody>\n",
       "    <tr>\n",
       "      <th>0</th>\n",
       "      <td>-0.893485</td>\n",
       "      <td>3.942630</td>\n",
       "    </tr>\n",
       "    <tr>\n",
       "      <th>1</th>\n",
       "      <td>-8.280384</td>\n",
       "      <td>4.372573</td>\n",
       "    </tr>\n",
       "    <tr>\n",
       "      <th>2</th>\n",
       "      <td>-7.581315</td>\n",
       "      <td>-0.035829</td>\n",
       "    </tr>\n",
       "    <tr>\n",
       "      <th>3</th>\n",
       "      <td>-8.933338</td>\n",
       "      <td>1.783596</td>\n",
       "    </tr>\n",
       "    <tr>\n",
       "      <th>4</th>\n",
       "      <td>-0.977680</td>\n",
       "      <td>1.259316</td>\n",
       "    </tr>\n",
       "  </tbody>\n",
       "</table>\n",
       "</div>"
      ],
      "text/plain": [
       "          x         y\n",
       "0 -0.893485  3.942630\n",
       "1 -8.280384  4.372573\n",
       "2 -7.581315 -0.035829\n",
       "3 -8.933338  1.783596\n",
       "4 -0.977680  1.259316"
      ]
     },
     "execution_count": 20,
     "metadata": {
      "tags": []
     },
     "output_type": "execute_result"
    }
   ],
   "source": [
    "# Drop labels to prove that this is truly unsupervised learning\n",
    "points = df.drop('label', axis=1)\n",
    "points.head()"
   ]
  },
  {
   "cell_type": "code",
   "execution_count": null,
   "metadata": {
    "colab": {
     "base_uri": "https://localhost:8080/",
     "height": 265
    },
    "id": "Ro4aO_mPoP1v",
    "outputId": "a6d55a5d-4726-42d2-b1ba-7c5097f8b02d"
   },
   "outputs": [
    {
     "data": {
      "image/png": "[encoded data removed]",
      "text/plain": [
       "<Figure size 432x288 with 1 Axes>"
      ]
     },
     "metadata": {
      "needs_background": "light",
      "tags": []
     },
     "output_type": "display_data"
    }
   ],
   "source": [
    "# Scatter plot of our label-less data\n",
    "plt.scatter(points.x, points.y)\n",
    "plt.show()"
   ]
  },
  {
   "cell_type": "markdown",
   "metadata": {
    "id": "WzETDJC2FNDK"
   },
   "source": [
    "## Calculating the Centroid\n",
    "\n",
    "K-means clustering is what's known as a centroid-based clustering algorithm. A centroid is an imaginary point located at the average location of all of the points in a given cluster. For example, if I wanted to find the centroid of all of the points in the above graph I would just calculate the average of the dataset's x-coordinates to find the x value of the centroid, and the average of the dataset's y-coordinates to find the y value of the centroid.\n",
    "\n",
    "If we plot the centroid on the graph you'll see that it lies in the middle of the points. You could imagine the centroid as if it is the center of gravity, or center of mass for a given cluster. Since in this example we're treating all of the points in the dataset as if they're in the same cluster, it will end up somewhere in the middle. We're just doing this to demonstrate what a centroid is. The K-means algorithm doesn't ever calculate the centroid for the entire dataset."
   ]
  },
  {
   "cell_type": "code",
   "execution_count": null,
   "metadata": {
    "colab": {
     "base_uri": "https://localhost:8080/",
     "height": 34
    },
    "id": "xLZyrzOE_CnM",
    "outputId": "c8550f42-e0df-4b21-fd30-159744672d05"
   },
   "outputs": [
    {
     "name": "stdout",
     "output_type": "stream",
     "text": [
      "-1.1566712173786862 4.325243101831694\n"
     ]
    }
   ],
   "source": [
    "# Calculate the centroid of the entire dataset (only for demonstration purposes)\n",
    "dataset_centroid_x = points.x.mean()\n",
    "dataset_centroid_y = points.y.mean()\n",
    "\n",
    "print(dataset_centroid_x, dataset_centroid_y)"
   ]
  },
  {
   "cell_type": "code",
   "execution_count": null,
   "metadata": {
    "colab": {
     "base_uri": "https://localhost:8080/",
     "height": 265
    },
    "id": "8OgBWw0c_cVq",
    "outputId": "3dd18e01-7283-4af0-f385-b49a525d6a39"
   },
   "outputs": [
    {
     "data": {
      "image/png": "[encoded data removed]",
      "text/plain": [
       "<Figure size 432x288 with 1 Axes>"
      ]
     },
     "metadata": {
      "needs_background": "light",
      "tags": []
     },
     "output_type": "display_data"
    }
   ],
   "source": [
    "ax.plot(points.x, points.y)\n",
    "ax = plt.subplot(1,1,1)\n",
    "ax.scatter(points.x, points.y)\n",
    "ax.plot(dataset_centroid_x, dataset_centroid_y, \"or\")\n",
    "plt.show()"
   ]
  },
  {
   "cell_type": "markdown",
   "metadata": {
    "id": "gR5sjoKhm5VS"
   },
   "source": [
    "## Initialize the algorithm by choosing random points to serve as the initial fake \"centroids\"\n",
    "\n",
    "These will get updated to become real cluster centroids after the first iteration."
   ]
  },
  {
   "cell_type": "code",
   "execution_count": null,
   "metadata": {
    "colab": {
     "base_uri": "https://localhost:8080/",
     "height": 142
    },
    "id": "OvuDTEOM_4Ch",
    "outputId": "7e536ad5-a9b8-4e4b-ad59-1c99fcaa473d"
   },
   "outputs": [
    {
     "data": {
      "text/html": [
       "<div>\n",
       "<style scoped>\n",
       "    .dataframe tbody tr th:only-of-type {\n",
       "        vertical-align: middle;\n",
       "    }\n",
       "\n",
       "    .dataframe tbody tr th {\n",
       "        vertical-align: top;\n",
       "    }\n",
       "\n",
       "    .dataframe thead th {\n",
       "        text-align: right;\n",
       "    }\n",
       "</style>\n",
       "<table border=\"1\" class=\"dataframe\">\n",
       "  <thead>\n",
       "    <tr style=\"text-align: right;\">\n",
       "      <th></th>\n",
       "      <th>x</th>\n",
       "      <th>y</th>\n",
       "    </tr>\n",
       "  </thead>\n",
       "  <tbody>\n",
       "    <tr>\n",
       "      <th>7</th>\n",
       "      <td>-9.100939</td>\n",
       "      <td>1.847739</td>\n",
       "    </tr>\n",
       "    <tr>\n",
       "      <th>96</th>\n",
       "      <td>-6.337419</td>\n",
       "      <td>-0.530185</td>\n",
       "    </tr>\n",
       "    <tr>\n",
       "      <th>17</th>\n",
       "      <td>-2.178612</td>\n",
       "      <td>2.315011</td>\n",
       "    </tr>\n",
       "  </tbody>\n",
       "</table>\n",
       "</div>"
      ],
      "text/plain": [
       "           x         y\n",
       "7  -9.100939  1.847739\n",
       "96 -6.337419 -0.530185\n",
       "17 -2.178612  2.315011"
      ]
     },
     "execution_count": 24,
     "metadata": {
      "tags": []
     },
     "output_type": "execute_result"
    }
   ],
   "source": [
    "centroids = points.sample(3)\n",
    "centroids.head()"
   ]
  },
  {
   "cell_type": "markdown",
   "metadata": {
    "id": "9Pw7xVK9nprq"
   },
   "source": [
    "# Plot initial \"fake\" centroids on the graph"
   ]
  },
  {
   "cell_type": "code",
   "execution_count": null,
   "metadata": {
    "colab": {
     "base_uri": "https://localhost:8080/",
     "height": 265
    },
    "id": "eXz0-YRuAGIQ",
    "outputId": "54a88412-b4e6-4125-d4fb-6c768b68f10f"
   },
   "outputs": [
    {
     "data": {
      "image/png": "[encoded data removed]",
      "text/plain": [
       "<Figure size 432x288 with 1 Axes>"
      ]
     },
     "metadata": {
      "needs_background": "light",
      "tags": []
     },
     "output_type": "display_data"
    }
   ],
   "source": [
    "ax = plt.subplot(1,1,1)\n",
    "ax.scatter(points.x, points.y)\n",
    "ax.plot(centroids.iloc[0].x, centroids.iloc[0].y, \"or\")\n",
    "ax.plot(centroids.iloc[1].x, centroids.iloc[1].y, \"og\")\n",
    "ax.plot(centroids.iloc[2].x, centroids.iloc[2].y, \"oy\")\n",
    "plt.show()"
   ]
  },
  {
   "cell_type": "markdown",
   "metadata": {
    "id": "zmVwnSM1R6tz"
   },
   "source": [
    "# Re-review steps of the algorithm\n",
    "\n",
    "Given a set of points in n-dimensional space we want to:\n",
    "\n",
    "1) select k random points to act as initial centroids (one point for each cluster)\n",
    "\n",
    "2) Find the cluster of points surrounding that centroid (assign points to the centroid that they lie closest to)\n",
    "\n",
    "3) Calculate a new centroid for the cluster\n",
    "\n",
    "Repeat steps 2 & 3 until the model converges. (Clusters don't change)"
   ]
  },
  {
   "cell_type": "markdown",
   "metadata": {
    "id": "p9LlmLSySTb7"
   },
   "source": [
    "## 3-means clustering\n",
    "\n",
    "Lets pick k=3 and start demonstrating how this algorithm actually works. \n",
    "\n",
    "The k-means algorithm works by picking 3 of the actual datapoints at random (in the simplest case) and treating those as the starting centroids. Using those centroids, 3 clusters are calculated.\n",
    "\n",
    "We then use the new clusters and calculate a new centroid for each of them. Then, using those centroids we re-cluster. We perform this process over and over again until our clusters stabilize and the centroids stop moving. Lets demonstrate."
   ]
  },
  {
   "cell_type": "code",
   "execution_count": null,
   "metadata": {
    "id": "-nbwx8_pA3DU"
   },
   "outputs": [],
   "source": [
    "import math\n",
    "import numpy as np\n",
    "from scipy.spatial import distance\n",
    "\n",
    "# Calculate the Nearest Centroid to each data point\n",
    "def find_nearest_centroid(df, centroids, iteration):\n",
    " \n",
    "  # calculate the distances between each point and each centroid\n",
    "  distances = distance.cdist(df, centroids, 'euclidean')\n",
    "  \n",
    "  # Get nearest centroid to each point based on distance\n",
    "  nearest_centroids = np.argmin(distances, axis=1)\n",
    "\n",
    "  se = pd.Series(nearest_centroids)\n",
    "  df['cluster_'+iteration] = se.values\n",
    "  \n",
    "  return df"
   ]
  },
  {
   "cell_type": "code",
   "execution_count": null,
   "metadata": {
    "colab": {
     "base_uri": "https://localhost:8080/",
     "height": 204
    },
    "id": "ACmU-SzWoJ6-",
    "outputId": "b6248141-0175-43d4-b313-ce76dfa31333"
   },
   "outputs": [
    {
     "data": {
      "text/html": [
       "<div>\n",
       "<style scoped>\n",
       "    .dataframe tbody tr th:only-of-type {\n",
       "        vertical-align: middle;\n",
       "    }\n",
       "\n",
       "    .dataframe tbody tr th {\n",
       "        vertical-align: top;\n",
       "    }\n",
       "\n",
       "    .dataframe thead th {\n",
       "        text-align: right;\n",
       "    }\n",
       "</style>\n",
       "<table border=\"1\" class=\"dataframe\">\n",
       "  <thead>\n",
       "    <tr style=\"text-align: right;\">\n",
       "      <th></th>\n",
       "      <th>x</th>\n",
       "      <th>y</th>\n",
       "      <th>cluster_1</th>\n",
       "    </tr>\n",
       "  </thead>\n",
       "  <tbody>\n",
       "    <tr>\n",
       "      <th>0</th>\n",
       "      <td>-0.893485</td>\n",
       "      <td>3.942630</td>\n",
       "      <td>2</td>\n",
       "    </tr>\n",
       "    <tr>\n",
       "      <th>1</th>\n",
       "      <td>-8.280384</td>\n",
       "      <td>4.372573</td>\n",
       "      <td>0</td>\n",
       "    </tr>\n",
       "    <tr>\n",
       "      <th>2</th>\n",
       "      <td>-7.581315</td>\n",
       "      <td>-0.035829</td>\n",
       "      <td>1</td>\n",
       "    </tr>\n",
       "    <tr>\n",
       "      <th>3</th>\n",
       "      <td>-8.933338</td>\n",
       "      <td>1.783596</td>\n",
       "      <td>0</td>\n",
       "    </tr>\n",
       "    <tr>\n",
       "      <th>4</th>\n",
       "      <td>-0.977680</td>\n",
       "      <td>1.259316</td>\n",
       "      <td>2</td>\n",
       "    </tr>\n",
       "  </tbody>\n",
       "</table>\n",
       "</div>"
      ],
      "text/plain": [
       "          x         y  cluster_1\n",
       "0 -0.893485  3.942630          2\n",
       "1 -8.280384  4.372573          0\n",
       "2 -7.581315 -0.035829          1\n",
       "3 -8.933338  1.783596          0\n",
       "4 -0.977680  1.259316          2"
      ]
     },
     "execution_count": 27,
     "metadata": {
      "tags": []
     },
     "output_type": "execute_result"
    }
   ],
   "source": [
    "first_pass = find_nearest_centroid(points.select_dtypes(exclude='int64'), centroids, '1')\n",
    "first_pass.head()"
   ]
  },
  {
   "cell_type": "code",
   "execution_count": null,
   "metadata": {
    "colab": {
     "base_uri": "https://localhost:8080/",
     "height": 279
    },
    "id": "XVZQLvfAFh60",
    "outputId": "37f2b2b0-8109-45d9-a2b0-649f8512ae4d"
   },
   "outputs": [
    {
     "data": {
      "image/png": "[encoded data removed]",
      "text/plain": [
       "<Figure size 432x288 with 1 Axes>"
      ]
     },
     "metadata": {
      "needs_background": "light",
      "tags": []
     },
     "output_type": "display_data"
    }
   ],
   "source": [
    "def plot_clusters(df, column_header, centroids):\n",
    "  colors = {0:'red', 1:'green', 2:'yellow'}\n",
    "  fig, ax = plt.subplots()\n",
    "  ax.plot(centroids.iloc[0].x, centroids.iloc[0].y, \"ok\")\n",
    "  ax.plot(centroids.iloc[1].x, centroids.iloc[1].y, \"ok\")\n",
    "  ax.plot(centroids.iloc[2].x, centroids.iloc[2].y, \"ok\")\n",
    "  ax.set_aspect('equal')\n",
    "  grouped = df.groupby(column_header)\n",
    "  for key, group in grouped:\n",
    "      group.plot(ax=ax, kind='scatter', x='x', y='y', label=key, color=colors[key])\n",
    "  plt.show()\n",
    "  \n",
    "plot_clusters(first_pass, 'cluster_1', centroids)"
   ]
  },
  {
   "cell_type": "code",
   "execution_count": null,
   "metadata": {
    "id": "I_6cOfkeFwWO"
   },
   "outputs": [],
   "source": [
    "def get_centroids(df, column_header):\n",
    "  new_centroids = df.groupby(column_header).mean()\n",
    "  return new_centroids\n",
    "\n",
    "centroids = get_centroids(first_pass, 'cluster_1')"
   ]
  },
  {
   "cell_type": "code",
   "execution_count": null,
   "metadata": {
    "colab": {
     "base_uri": "https://localhost:8080/",
     "height": 279
    },
    "id": "qyZLdP_nHKBa",
    "outputId": "e92087c2-242a-47fa-d34b-2bada4f6706d"
   },
   "outputs": [
    {
     "data": {
      "image/png": "[encoded data removed]",
      "text/plain": [
       "<Figure size 432x288 with 1 Axes>"
      ]
     },
     "metadata": {
      "tags": []
     },
     "output_type": "display_data"
    }
   ],
   "source": [
    "# Calculate New Centroids\n",
    "centroids = get_centroids(first_pass, 'cluster_1')\n",
    "\n",
    "# Get Clusters for New Centroids\n",
    "second_pass = find_nearest_centroid(first_pass.select_dtypes(exclude='int64'), centroids, '2')\n",
    "\n",
    "# Plot New Cluster\n",
    "plot_clusters(second_pass, 'cluster_2', centroids)"
   ]
  },
  {
   "cell_type": "code",
   "execution_count": null,
   "metadata": {
    "colab": {
     "base_uri": "https://localhost:8080/",
     "height": 279
    },
    "id": "kBueXP01G8tE",
    "outputId": "ceef2965-2f5b-4977-94e5-4848158a23cb"
   },
   "outputs": [
    {
     "data": {
      "image/png": "[encoded data removed]",
      "text/plain": [
       "<Figure size 432x288 with 1 Axes>"
      ]
     },
     "metadata": {
      "tags": []
     },
     "output_type": "display_data"
    }
   ],
   "source": [
    "# Calculate New Centroids\n",
    "centroids = get_centroids(second_pass, 'cluster_2')\n",
    "\n",
    "# Get Clusters for New Centroids\n",
    "third_pass = find_nearest_centroid(second_pass.select_dtypes(exclude='int64'), centroids, '3')\n",
    "\n",
    "# Plot New Cluster\n",
    "plot_clusters(third_pass, 'cluster_3', centroids)"
   ]
  },
  {
   "cell_type": "code",
   "execution_count": null,
   "metadata": {
    "colab": {
     "base_uri": "https://localhost:8080/",
     "height": 279
    },
    "id": "8u6KiGdvpD-e",
    "outputId": "7463c0f7-a093-4a08-a353-4748ecb306f1"
   },
   "outputs": [
    {
     "data": {
      "image/png": "[encoded data removed]",
      "text/plain": [
       "<Figure size 432x288 with 1 Axes>"
      ]
     },
     "metadata": {
      "tags": []
     },
     "output_type": "display_data"
    }
   ],
   "source": [
    "# Calculate New Centroids\n",
    "centroids = get_centroids(third_pass, 'cluster_3')\n",
    "\n",
    "# Get Clusters for New Centroids\n",
    "fourth_pass = find_nearest_centroid(third_pass.select_dtypes(exclude='int64'), centroids, '4')\n",
    "\n",
    "# Plot New Cluster\n",
    "plot_clusters(fourth_pass, 'cluster_4', centroids)"
   ]
  },
  {
   "cell_type": "code",
   "execution_count": null,
   "metadata": {
    "colab": {
     "base_uri": "https://localhost:8080/",
     "height": 279
    },
    "id": "jaTbGpAcpPSf",
    "outputId": "23b8497c-2515-48a9-b4ef-cb398c53117c"
   },
   "outputs": [
    {
     "data": {
      "image/png": "[encoded data removed]",
      "text/plain": [
       "<Figure size 432x288 with 1 Axes>"
      ]
     },
     "metadata": {
      "tags": []
     },
     "output_type": "display_data"
    }
   ],
   "source": [
    "# Calculate New Centroids\n",
    "centroids = get_centroids(fourth_pass, 'cluster_4')\n",
    "\n",
    "# Get Clusters for New Centroids\n",
    "fifth_pass = find_nearest_centroid(fourth_pass.select_dtypes(exclude='int64'), centroids, '5')\n",
    "\n",
    "# Plot New Cluster\n",
    "plot_clusters(fifth_pass, 'cluster_5', centroids)"
   ]
  },
  {
   "cell_type": "code",
   "execution_count": null,
   "metadata": {
    "colab": {
     "base_uri": "https://localhost:8080/",
     "height": 279
    },
    "id": "gXpje6GWpbYS",
    "outputId": "c3bdeabf-6fa2-4b41-be02-95d15c67d7f0"
   },
   "outputs": [
    {
     "data": {
      "image/png": "[encoded data removed]",
      "text/plain": [
       "<Figure size 432x288 with 1 Axes>"
      ]
     },
     "metadata": {
      "tags": []
     },
     "output_type": "display_data"
    }
   ],
   "source": [
    "# Calculate New Centroids\n",
    "centroids = get_centroids(fifth_pass, 'cluster_5')\n",
    "\n",
    "# Get Clusters for New Centroids\n",
    "sixth_pass = find_nearest_centroid(fifth_pass.select_dtypes(exclude='int64'), centroids, '6')\n",
    "\n",
    "# Plot New Cluster\n",
    "plot_clusters(sixth_pass, 'cluster_6', centroids)"
   ]
  },
  {
   "cell_type": "code",
   "execution_count": null,
   "metadata": {
    "colab": {
     "base_uri": "https://localhost:8080/",
     "height": 35
    },
    "id": "mGuvokb9zXxS",
    "outputId": "04a42f95-6bf0-4ad2-e4d2-fd3a72266465"
   },
   "outputs": [
    {
     "name": "stdout",
     "output_type": "stream",
     "text": [
      "Are we at convergence?? -  True\n"
     ]
    }
   ],
   "source": [
    "convergence = np.array_equal(fifth_pass['cluster_5'], sixth_pass['cluster_6'])\n",
    "\n",
    "print(\"Are we at convergence?? - \", convergence)"
   ]
  },
  {
   "cell_type": "code",
   "execution_count": null,
   "metadata": {
    "id": "EhAS-ubDx9QH"
   },
   "outputs": [],
   "source": [
    "# # Calculate New Centroids\n",
    "# centroids = get_centroids(sixth_pass, 'cluster_6')\n",
    "\n",
    "# # Get Clusters for New Centroids\n",
    "# seventh_pass = find_nearest_centroid(sixth_pass.select_dtypes(exclude='int64'), centroids, '7')\n",
    "\n",
    "# # Plot New Cluster\n",
    "# plot_clusters(seventh_pass, 'cluster_7', centroids)"
   ]
  },
  {
   "cell_type": "code",
   "execution_count": null,
   "metadata": {
    "id": "nKo9xSypJvPd"
   },
   "outputs": [],
   "source": [
    "# convergence = np.array_equal(sixth_pass['cluster_6'], seventh_pass['cluster_7'])\n",
    "\n",
    "# print(\"Are we at convergence?? - \", convergence)"
   ]
  },
  {
   "cell_type": "markdown",
   "metadata": {
    "id": "njKZU3ZVqELY"
   },
   "source": [
    "## Here's some better (still not perfect) code that doesn't rely upon renaming dataframes to create new plots and demonstrate the steps in the k-means process\n",
    "\n",
    "The downside here is it doesn't plot the clusters after each iteration."
   ]
  },
  {
   "cell_type": "code",
   "execution_count": null,
   "metadata": {
    "id": "mS9z6osaGqZE"
   },
   "outputs": [],
   "source": [
    "def find_nearest_centroid(df, centroids):\n",
    "  last_centroids = [np.random.choice([0,1,2])] * df.shape[0]\n",
    "  df_temp = df.copy()\n",
    "  i = 0\n",
    "  \n",
    "  while True:\n",
    "    if i>0:\n",
    "      centroids = get_centroids(df_temp, 'cluster' + str(i-1))\n",
    "\n",
    "    distances = cdist(df_temp[['x', 'y']], centroids[['x', 'y']])\n",
    "    nearest_centroids = np.argmin(distances, axis=1)\n",
    "    \n",
    "    df_temp['cluster' + str(i)] = nearest_centroids\n",
    "    \n",
    "    if (list(nearest_centroids) == list(last_centroids)):\n",
    "      return df_temp\n",
    "    else:\n",
    "      i +=1\n",
    "      last_centroids = nearest_centroids\n",
    "      \n",
    "def get_centroids(df, column_header):\n",
    "  x = [df.x[df[column_header]==0].mean(), df.x[df[column_header]==1].mean(), df.x[df[column_header]==2].mean()]\n",
    "  y = [df.y[df[column_header]==0].mean(), df.y[df[column_header]==1].mean(), df.y[df[column_header]==2].mean()]\n",
    "  data = {'x': x, 'y' : y}\n",
    "  return pd.DataFrame(data)\n",
    "  \n",
    "  \n",
    "find_nearest_centroid(points, centroids).head()"
   ]
  },
  {
   "cell_type": "markdown",
   "metadata": {
    "id": "1-nJ_i-NQZIM"
   },
   "source": [
    "## How many centroids == K-means \n",
    "\n",
    "Since the centroid is the mean of a cluster the number of centroids to choose is the most important decision to make in \"k-means\" clustering. The K value is the number of centroids.\n",
    "\n",
    "\n",
    "### The Eyeball Method\n",
    "/polly \"How many centroids (means) should we use for this exercise?\"\n",
    "\n",
    "Congratulations, you've just been introduced to the first method of _**picking k**_ - Just graph your points and pick a number that makes sense. This gets a lot harder once you get a dimensionality higher than 3, but... Didn't we learn about some way to take high dimensional data and turn it into 2 or 3 dimensions...? 😀"
   ]
  },
  {
   "cell_type": "code",
   "execution_count": null,
   "metadata": {
    "id": "vKsebNqene0-"
   },
   "outputs": [],
   "source": []
  },
  {
   "cell_type": "markdown",
   "metadata": {
    "id": "TGueCso5SFXN"
   },
   "source": [
    "## Lets use a library to do it: Scikit-Learn"
   ]
  },
  {
   "cell_type": "code",
   "execution_count": null,
   "metadata": {
    "colab": {
     "base_uri": "https://localhost:8080/",
     "height": 69
    },
    "id": "VmyHklDKSI_m",
    "outputId": "b18222a1-847b-4a4a-d7e2-3f42ff728dd9"
   },
   "outputs": [
    {
     "name": "stdout",
     "output_type": "stream",
     "text": [
      "[2 2 1 1 0 2 0 1 2 2 0 0 1 2 0 1 1 0 2 1 2 0 0 2 1 2 2 0 0 1 0 0 1 1 1 0 0\n",
      " 2 0 0 0 0 2 1 1 2 2 1 1 2 2 1 0 0 2 2 0 2 2 0 0 0 1 1 2 1 1 0 1 2 1 1 0 2\n",
      " 1 0 1 0 1 1 2 0 0 2 0 0 1 1 2 2 2 2 1 1 0 1 2 1 2 2]\n"
     ]
    }
   ],
   "source": [
    "from sklearn.cluster import KMeans \n",
    "kmeans = KMeans(n_clusters=3)\n",
    "kmeans.fit(X)\n",
    "labels = kmeans.labels_\n",
    "\n",
    "print(labels)"
   ]
  },
  {
   "cell_type": "code",
   "execution_count": null,
   "metadata": {
    "colab": {
     "base_uri": "https://localhost:8080/",
     "height": 198
    },
    "id": "5Gj9sXFDWtLo",
    "outputId": "e9e0af00-ddfe-4526-eaa1-125f0e31e83c"
   },
   "outputs": [
    {
     "data": {
      "text/html": [
       "<div>\n",
       "<style scoped>\n",
       "    .dataframe tbody tr th:only-of-type {\n",
       "        vertical-align: middle;\n",
       "    }\n",
       "\n",
       "    .dataframe tbody tr th {\n",
       "        vertical-align: top;\n",
       "    }\n",
       "\n",
       "    .dataframe thead th {\n",
       "        text-align: right;\n",
       "    }\n",
       "</style>\n",
       "<table border=\"1\" class=\"dataframe\">\n",
       "  <thead>\n",
       "    <tr style=\"text-align: right;\">\n",
       "      <th></th>\n",
       "      <th>x</th>\n",
       "      <th>y</th>\n",
       "      <th>label</th>\n",
       "      <th>clusters</th>\n",
       "    </tr>\n",
       "  </thead>\n",
       "  <tbody>\n",
       "    <tr>\n",
       "      <th>0</th>\n",
       "      <td>-8.307815</td>\n",
       "      <td>-6.787534</td>\n",
       "      <td>1</td>\n",
       "      <td>2</td>\n",
       "    </tr>\n",
       "    <tr>\n",
       "      <th>1</th>\n",
       "      <td>-7.222697</td>\n",
       "      <td>-8.159814</td>\n",
       "      <td>1</td>\n",
       "      <td>2</td>\n",
       "    </tr>\n",
       "    <tr>\n",
       "      <th>2</th>\n",
       "      <td>4.833175</td>\n",
       "      <td>9.036539</td>\n",
       "      <td>0</td>\n",
       "      <td>1</td>\n",
       "    </tr>\n",
       "    <tr>\n",
       "      <th>3</th>\n",
       "      <td>5.300718</td>\n",
       "      <td>9.763143</td>\n",
       "      <td>0</td>\n",
       "      <td>1</td>\n",
       "    </tr>\n",
       "    <tr>\n",
       "      <th>4</th>\n",
       "      <td>-2.275413</td>\n",
       "      <td>0.111678</td>\n",
       "      <td>2</td>\n",
       "      <td>0</td>\n",
       "    </tr>\n",
       "  </tbody>\n",
       "</table>\n",
       "</div>"
      ],
      "text/plain": [
       "          x         y  label  clusters\n",
       "0 -8.307815 -6.787534      1         2\n",
       "1 -7.222697 -8.159814      1         2\n",
       "2  4.833175  9.036539      0         1\n",
       "3  5.300718  9.763143      0         1\n",
       "4 -2.275413  0.111678      2         0"
      ]
     },
     "execution_count": 111,
     "metadata": {
      "tags": []
     },
     "output_type": "execute_result"
    }
   ],
   "source": [
    "# Add our new labels to the dataframe\n",
    "new_series = pd.Series(labels)\n",
    "df['clusters'] = new_series.values\n",
    "\n",
    "df.head()"
   ]
  },
  {
   "cell_type": "code",
   "execution_count": null,
   "metadata": {
    "colab": {
     "base_uri": "https://localhost:8080/",
     "height": 279
    },
    "id": "on8qYidhXaA3",
    "outputId": "a6066c6b-498b-4ebd-8c11-f6db2be95f09"
   },
   "outputs": [
    {
     "data": {
      "image/png": "[encoded data removed]",
      "text/plain": [
       "<Figure size 432x288 with 1 Axes>"
      ]
     },
     "metadata": {
      "tags": []
     },
     "output_type": "display_data"
    }
   ],
   "source": [
    "# We might get unlucky with different centroids and have slightly different clusters.\n",
    "centroids = get_centroids(df, 'clusters')\n",
    "plot_clusters(df, 'clusters', centroids)"
   ]
  },
  {
   "cell_type": "markdown",
   "metadata": {
    "id": "WF5d6AP_VT4c"
   },
   "source": [
    "# Important Considerations:\n",
    "\n",
    "## Choosing the appropriate clustering method \n",
    "\n",
    "We've only taught you one so stick with that for today. \n",
    "\n",
    "## Choosing appropriate dimensions to cluster along. \n",
    "\n",
    "Hmmm, what would be the best dimension to cluster along? Maybe one that helps separate the clusters the best. You can do a lot of scatterplots to examine this or you could, I dunno, use a technique that maximizes the variance along certain dimensions transforming the data into principal components and then cluster along the dimensions of the principal components. \n",
    "\n",
    "## Choosing a distance measure\n",
    "\n",
    "Euclidean is the most traditional, you'll learn the others if the occasion presents itself (it most likely won't) - If I'm being completely honest.\n",
    "\n",
    "## Choosing an appropriate k (# of clusters)\n",
    "\n",
    "THIS IS THE MOST IMPORTANT CONSIDERATION WHEN IT COMES TO K-MEANS (I mean it's in the name)\n",
    "\n",
    "![Elbow Method](https://media.geeksforgeeks.org/wp-content/uploads/20190606105550/distortion1.png)\n",
    "\n",
    "On the x-axis we have number of centroids (k)\n",
    "\n",
    "On the y-axis we have \"distortion\" which is measured as the sum of squared distances of each point to its given cluster\n",
    "\n",
    "Here's some code below that could be used to create a similar \"Elbow\" Graph."
   ]
  },
  {
   "cell_type": "code",
   "execution_count": null,
   "metadata": {
    "id": "RXflkYwTL8WT"
   },
   "outputs": [],
   "source": [
    "sum_of_squared_distances = []\n",
    "K = range(1,15)\n",
    "for k in K:\n",
    "    km = KMeans(n_clusters=k)\n",
    "    km = km.fit(points)\n",
    "    sum_of_squared_distances.append(km.inertia_)"
   ]
  },
  {
   "cell_type": "code",
   "execution_count": null,
   "metadata": {
    "colab": {
     "base_uri": "https://localhost:8080/",
     "height": 295
    },
    "id": "CxrwEX4VL-u5",
    "outputId": "ae458004-f6b2-46b3-eecf-c77eaf813fc7"
   },
   "outputs": [
    {
     "data": {
      "image/png": "[encoded data removed]",
      "text/plain": [
       "<Figure size 432x288 with 1 Axes>"
      ]
     },
     "metadata": {
      "tags": []
     },
     "output_type": "display_data"
    }
   ],
   "source": [
    "plt.plot(K, sum_of_squared_distances, 'bx-')\n",
    "plt.xlabel('k')\n",
    "plt.ylabel('Sum_of_squared_distances')\n",
    "plt.title('Elbow Method For Optimal k')\n",
    "plt.show()"
   ]
  },
  {
   "cell_type": "markdown",
   "metadata": {
    "id": "DhMkzbIFX96q"
   },
   "source": [
    "# Further Considerations\n",
    "\n",
    "## Choosing an appropriate K\n",
    "\n",
    "## Unlucky Initial Centroids\n",
    "\n",
    "Unlucky Initial Centroids can \n",
    "\n",
    "- result in a poor clustering\n",
    "- lead to a clustering that doesn't converge\n",
    "\n",
    "## Computational Complexity\n",
    "\n",
    "## What is K-means good for?\n",
    "\n",
    "- ### Mostly Round, linearly-separable blobs."
   ]
  },
  {
   "cell_type": "markdown",
   "metadata": {
    "id": "QEEQapU2uRIx"
   },
   "source": [
    "# No Free Lunch\n",
    "\n",
    "The no free lunch principle states that the more an algorithm is optimized to solve one specific kind of problem, the worse it gets at solving all other kinds of problems. \n",
    "\n",
    "This means that if you want an algorithm that's really good at solving a certain problem (cluster shape for example), it usually lose some of its ability to generalize to other problems. \n",
    "\n",
    "### What does this mean for us as data scientists?\n",
    "\n",
    "1) There are always tradeoffs when selecting from different approaches. Because of this, understanding those tradeoffs and justifying your choice of methodology is just as important as actually doing the work itself.\n",
    "\n",
    "2) The only way that we can choose one approach over another is to make assumptions about our data. If we don't know anything about the characteristics of our data, then we can't make an informed choice of algorithm. \n",
    "\n",
    "Think about how we knew to use Unsupervised vs Supervised learning for the clustering problem, the choice was informed by our data. Does it have labels or not? \n",
    "\n",
    "![No Free Lunch](https://cdn-images-1.medium.com/max/1600/1*oNt9G9UpVhtyFLDBwEMf8Q.png)\n",
    "\n",
    "Density Based Clustering Animation:\n",
    "\n",
    "[DB Scan Animation](https://www.youtube.com/watch?v=h53WMIImUuc)\n",
    "\n",
    "## Don't Get Overwhelmed! \n",
    "\n",
    "Some people spend their entire careers researching new clustering methods and improvements.\n",
    "\n",
    "## Don't be a perfectionist! \n",
    "\n",
    "There are too many techniques to master, you can't learn all of them in 9 months.\n",
    "\n",
    "## Focus on learning within the context of a problem you want to solve or a project that you are passionate about building\n"
   ]
  },
  {
   "cell_type": "code",
   "execution_count": null,
   "metadata": {
    "id": "sZLcehHCL6DM"
   },
   "outputs": [],
   "source": []
  }
 ],
 "metadata": {
  "accelerator": "GPU",
  "colab": {
   "collapsed_sections": [],
   "machine_shape": "hm",
   "name": "LectureNotes_DS12_134_Clustering_and_NFL.ipynb",
   "provenance": []
  },
  "kernelspec": {
   "display_name": "Python 3",
   "language": "python",
   "name": "python3"
  },
  "language_info": {
   "codemirror_mode": {
    "name": "ipython",
    "version": 3
   },
   "file_extension": ".py",
   "mimetype": "text/x-python",
   "name": "python",
   "nbconvert_exporter": "python",
   "pygments_lexer": "ipython3",
   "version": "3.8.2"
  }
 },
 "nbformat": 4,
 "nbformat_minor": 1
}
