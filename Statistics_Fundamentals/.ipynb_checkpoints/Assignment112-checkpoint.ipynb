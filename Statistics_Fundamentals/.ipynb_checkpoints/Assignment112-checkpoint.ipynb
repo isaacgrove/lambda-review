{
 "cells": [
  {
   "cell_type": "markdown",
   "metadata": {
    "colab_type": "text",
    "id": "SnDJqBLi0FYW"
   },
   "source": [
    "<img align=\"left\" src=\"https://lever-client-logos.s3.amazonaws.com/864372b1-534c-480e-acd5-9711f850815c-1524247202159.png\" width=200> "
   ]
  },
  {
   "cell_type": "code",
   "execution_count": null,
   "metadata": {},
   "outputs": [],
   "source": [
    "# This notebook is bare now but for a couple cool feature engineerings\n",
    "# for nostalgia purposes"
   ]
  },
  {
   "cell_type": "markdown",
   "metadata": {
    "colab_type": "text",
    "id": "W5GjI1z5yNG4"
   },
   "source": [
    "# Assignment:\n",
    "\n",
    "- Replicate the lesson code.\n",
    "\n",
    " - This means that if you haven't followed along already, type out the things that we did in class. Forcing your fingers to hit each key will help you internalize the syntax of what we're doing. Make sure you understand each line of code that you're writing, google things that you don't fully understand.\n",
    " - [Lambda Learning Method for DS - By Ryan Herr](https://docs.google.com/document/d/1ubOw9B3Hfip27hF2ZFnW3a3z9xAgrUDRReOEo-FHCVs/edit?usp=sharing)\n",
    "- Convert the `term` column from string to integer.\n",
    "- Make a column named `loan_status_is_great`. It should contain the integer 1 if `loan_status` is \"Current\" or \"Fully Paid.\" Else it should contain the integer 0.\n",
    "- Make `last_pymnt_d_month` and `last_pymnt_d_year` columns."
   ]
  },
  {
   "cell_type": "code",
   "execution_count": 0,
   "metadata": {
    "colab": {},
    "colab_type": "code",
    "id": "AazB4eFwym2p"
   },
   "outputs": [],
   "source": [
    "# Feature engineering - creating new, useful columns\n",
    "# Try to expose our model to new patterns --> better predictions"
   ]
  },
  {
   "cell_type": "code",
   "execution_count": 46,
   "metadata": {
    "colab": {
     "base_uri": "https://localhost:8080/",
     "height": 119
    },
    "colab_type": "code",
    "executionInfo": {
     "elapsed": 986,
     "status": "ok",
     "timestamp": 1579098672498,
     "user": {
      "displayName": "Isaac Grove",
      "photoUrl": "",
      "userId": "03084466740860562469"
     },
     "user_tz": 300
    },
    "id": "3zkCQfMuosuP",
    "outputId": "1d399148-afab-4608-f522-16b5ad0e4ce5"
   },
   "outputs": [
    {
     "data": {
      "text/plain": [
       "0     36 months\n",
       "1     36 months\n",
       "2     36 months\n",
       "3     36 months\n",
       "4     60 months\n",
       "Name: term, dtype: object"
      ]
     },
     "execution_count": 46,
     "metadata": {
      "tags": []
     },
     "output_type": "execute_result"
    }
   ],
   "source": [
    "# Convert the term column from string to integer.\n",
    "\n",
    "df['term'].head()"
   ]
  },
  {
   "cell_type": "code",
   "execution_count": 47,
   "metadata": {
    "colab": {
     "base_uri": "https://localhost:8080/",
     "height": 34
    },
    "colab_type": "code",
    "executionInfo": {
     "elapsed": 712,
     "status": "ok",
     "timestamp": 1579098708742,
     "user": {
      "displayName": "Isaac Grove",
      "photoUrl": "",
      "userId": "03084466740860562469"
     },
     "user_tz": 300
    },
    "id": "fFUNhiAmlR0c",
    "outputId": "bcc3e3e1-9d33-4493-ba8d-4784c62dad7c"
   },
   "outputs": [
    {
     "data": {
      "text/plain": [
       "' 36 months'"
      ]
     },
     "execution_count": 47,
     "metadata": {
      "tags": []
     },
     "output_type": "execute_result"
    }
   ],
   "source": [
    "df['term'][0]"
   ]
  },
  {
   "cell_type": "code",
   "execution_count": 0,
   "metadata": {
    "colab": {},
    "colab_type": "code",
    "id": "03Q3Ubu5lSTX"
   },
   "outputs": [],
   "source": [
    "# Create a function to convert term lengths to ints (in months)\n",
    "\n",
    "def term_to_integer(cell_contents):\n",
    "  return int(cell_contents.strip().strip(' months'))\n"
   ]
  },
  {
   "cell_type": "code",
   "execution_count": 53,
   "metadata": {
    "colab": {
     "base_uri": "https://localhost:8080/",
     "height": 34
    },
    "colab_type": "code",
    "executionInfo": {
     "elapsed": 894,
     "status": "ok",
     "timestamp": 1579099049237,
     "user": {
      "displayName": "Isaac Grove",
      "photoUrl": "",
      "userId": "03084466740860562469"
     },
     "user_tz": 300
    },
    "id": "lbw2UxJOoeOp",
    "outputId": "6c7c2a87-cf28-498a-924b-977404fd80a8"
   },
   "outputs": [
    {
     "data": {
      "text/plain": [
       "numpy.int64"
      ]
     },
     "execution_count": 53,
     "metadata": {
      "tags": []
     },
     "output_type": "execute_result"
    }
   ],
   "source": [
    "# Create a new column with integer term lengths\n",
    "\n",
    "df['term_in_months'] = df['term'].apply(term_to_integer)\n",
    "\n",
    "# Check type\n",
    "type(df['term_in_months'][0])"
   ]
  },
  {
   "cell_type": "code",
   "execution_count": 0,
   "metadata": {
    "colab": {},
    "colab_type": "code",
    "id": "epCzt94tqwSG"
   },
   "outputs": [],
   "source": [
    "# Create function to convert great loan status into 0 and 1 binary\n",
    "\n",
    "def loan_status_greatness_filter(cell_contents):\n",
    "  if cell_contents == 'Current':\n",
    "    loan_status = 1\n",
    "  elif cell_contents == 'Fully Paid':\n",
    "    loan_status = 1\n",
    "  else:\n",
    "    loan_status = 0\n",
    "  return loan_status"
   ]
  },
  {
   "cell_type": "code",
   "execution_count": 60,
   "metadata": {
    "colab": {
     "base_uri": "https://localhost:8080/",
     "height": 119
    },
    "colab_type": "code",
    "executionInfo": {
     "elapsed": 738,
     "status": "ok",
     "timestamp": 1579100281792,
     "user": {
      "displayName": "Isaac Grove",
      "photoUrl": "",
      "userId": "03084466740860562469"
     },
     "user_tz": 300
    },
    "id": "dbNDFBlplSRA",
    "outputId": "4fd7495f-43b5-4ef1-f920-a7ca4ca43855"
   },
   "outputs": [
    {
     "data": {
      "text/plain": [
       "0    0\n",
       "1    1\n",
       "2    1\n",
       "3    1\n",
       "4    1\n",
       "Name: loan_status_is_great, dtype: int64"
      ]
     },
     "execution_count": 60,
     "metadata": {
      "tags": []
     },
     "output_type": "execute_result"
    }
   ],
   "source": [
    "# Create new column for great/non-great loan statuses\n",
    "\n",
    "df['loan_status_is_great'] = df['loan_status'].apply(loan_status_greatness_filter)\n",
    "\n",
    "df['loan_status_is_great'].head()"
   ]
  },
  {
   "cell_type": "markdown",
   "metadata": {
    "colab_type": "text",
    "id": "L8k0LiHmo5EU"
   },
   "source": [
    "# Stretch Goals\n",
    "\n",
    "You can do more with the LendingClub or Instacart datasets.\n",
    "\n",
    "LendingClub options:\n",
    "- There's one other column in the dataframe with percent signs. Remove them and convert to floats. You'll need to handle missing values.\n",
    "- Modify the `emp_title` column to replace titles with 'Other' if the title is not in the top 20. \n",
    "- Take initiatve and work on your own ideas!\n",
    "\n",
    "Instacart options:\n",
    "- Read [Instacart Market Basket Analysis, Winner's Interview: 2nd place, Kazuki Onodera](http://blog.kaggle.com/2017/09/21/instacart-market-basket-analysis-winners-interview-2nd-place-kazuki-onodera/), especially the **Feature Engineering** section. (Can you choose one feature from his bulleted lists, and try to engineer it with pandas code?)\n",
    "- Read and replicate parts of [Simple Exploration Notebook - Instacart](https://www.kaggle.com/sudalairajkumar/simple-exploration-notebook-instacart). (It's the Python Notebook with the most upvotes for this Kaggle competition.)\n",
    "- Take initiative and work on your own ideas!"
   ]
  },
  {
   "cell_type": "markdown",
   "metadata": {
    "colab_type": "text",
    "id": "0_7PXF7lpEXg"
   },
   "source": [
    "You can uncomment and run the cells below to re-download and extract the Instacart data"
   ]
  },
  {
   "cell_type": "code",
   "execution_count": 0,
   "metadata": {
    "colab": {},
    "colab_type": "code",
    "id": "urIePNa0yNG6"
   },
   "outputs": [],
   "source": [
    "# !wget https://s3.amazonaws.com/instacart-datasets/instacart_online_grocery_shopping_2017_05_01.tar.gz"
   ]
  },
  {
   "cell_type": "code",
   "execution_count": 0,
   "metadata": {
    "colab": {},
    "colab_type": "code",
    "id": "X9zEyu-uyNG8"
   },
   "outputs": [],
   "source": [
    "# !tar --gunzip --extract --verbose --file=instacart_online_grocery_shopping_2017_05_01.tar.gz"
   ]
  },
  {
   "cell_type": "code",
   "execution_count": 0,
   "metadata": {
    "colab": {},
    "colab_type": "code",
    "id": "Y3IqrhlpyNG-"
   },
   "outputs": [],
   "source": [
    "# %cd instacart_2017_05_01"
   ]
  }
 ],
 "metadata": {
  "colab": {
   "collapsed_sections": [],
   "name": "Assignment_112-Make_Features-IsaacGrove.ipynb",
   "provenance": [
    {
     "file_id": "https://github.com/isaacgrove/DS-Unit-1-Sprint-1-Data-Wrangling-and-Storytelling/blob/master/module2-make-features/LS_DS_112_Make_Features_Assignment.ipynb",
     "timestamp": 1579038266985
    }
   ]
  },
  "kernelspec": {
   "display_name": "Python 3",
   "language": "python",
   "name": "python3"
  },
  "language_info": {
   "codemirror_mode": {
    "name": "ipython",
    "version": 3
   },
   "file_extension": ".py",
   "mimetype": "text/x-python",
   "name": "python",
   "nbconvert_exporter": "python",
   "pygments_lexer": "ipython3",
   "version": "3.8.2"
  }
 },
 "nbformat": 4,
 "nbformat_minor": 1
}
