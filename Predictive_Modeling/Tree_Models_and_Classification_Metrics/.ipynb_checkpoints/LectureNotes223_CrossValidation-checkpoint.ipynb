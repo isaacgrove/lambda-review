{
 "cells": [
  {
   "cell_type": "markdown",
   "metadata": {
    "colab_type": "text",
    "id": "XNb8aydtYqg3"
   },
   "source": [
    "Lambda School Data Science\n",
    "\n",
    "*Unit 2, Sprint 2, Module 3*\n",
    "\n",
    "---"
   ]
  },
  {
   "cell_type": "markdown",
   "metadata": {
    "colab_type": "text",
    "id": "O67uhlT4MExK"
   },
   "source": [
    "# Cross-Validation\n",
    "\n",
    "- Do **cross-validation** with independent test set\n",
    "- Use scikit-learn for **hyperparameter optimization**"
   ]
  },
  {
   "cell_type": "code",
   "execution_count": 0,
   "metadata": {
    "colab": {},
    "colab_type": "code",
    "id": "G30dNdV1akqI"
   },
   "outputs": [],
   "source": [
    "# lecture tl;dr\n",
    "\n",
    "# NYC apartment dataset - efficient cell + function loads, cleans, engineers features\n",
    "\n",
    "# Remember the chart for types of holdout method (below for refernece).\n",
    "#\n",
    "# In general, do cross-val for small datasets and the usual 2- or 3- way holdout for\n",
    "# large sets.\n",
    "#\n",
    "# The problem with train-val-test is that you waste too much of the data in val.\n",
    "# Also, the results can depend on your choice of (train, val) sets.\n",
    "#\n",
    "# But if we're doing model selection (testing hyperparameters), we need val to avoid leakage,\n",
    "# so k-fold crossval helps.\n",
    "# The way crossval works, val is no longer needed. Just hold out the test set.\n",
    "#\n",
    "# \n",
    "\n",
    "# Crossval \n",
    "##### 1. Split train into k sets.\n",
    "##### 2. for set in sets:\n",
    "#####         train on the other sets and use set as test set.\n",
    "##### Average results.\n",
    "# \n",
    "#\n",
    "# this optimizes hyperparams (picks the best model in our trial space)\n",
    "# but is computationally expensive. Saves data tho.\n",
    "\n",
    "# SciKit learn thinks highest is always best, so to minimize error we use \"Negative MAE\"\n",
    "\n",
    "# code for crossval in both linear and forest models\n",
    "\n",
    "# Validation curve - chart showing how train always goes up and test eventually goes down.\n",
    "# But it's only set up to vary one parameter (Ex: tree depth) so it's less useful in \n",
    "# complex real world scenarios\n",
    "\n",
    "# GridSearchCV and RandomizedSearchCV -- search hyperparameter spaces \n",
    "\n",
    "\n",
    "# Manually refit on train+val together once you're done finding hyperparameters.\n",
    "# sklearn does this and you should too (if you're doing simple holdouts)\n",
    "\n",
    "# Coe for running a randomized hyperparameter search, \n",
    "# accessing and visualizing the results,\n",
    "# and refitting the model on all non-test data afterwards\n",
    "\n",
    "\n",
    "\n",
    "\n",
    "# Candidate - combination of parameters\n",
    "\n",
    "\n",
    "\n",
    "#"
   ]
  },
  {
   "cell_type": "markdown",
   "metadata": {},
   "source": [
    "## Links\n",
    "- [JakeVDP - validation curves](https://jakevdp.github.io/PythonDataScienceHandbook/05.03-hyperparameters-and-model-validation.html#Validation-curves-in-Scikit-Learn)\n",
    "\n",
    "- Here's a good blog post: [**A Comparison of Grid Search and Randomized Search Using Scikit Learn**](https://blog.usejournal.com/a-comparison-of-grid-search-and-randomized-search-using-scikit-learn-29823179bc85).\n",
    "\n",
    "<img src=\"https://miro.medium.com/max/2500/1*9W1MrRkHi0YFmBoHi9Y2Ow.png\" width=\"50%\">"
   ]
  },
  {
   "cell_type": "markdown",
   "metadata": {
    "colab_type": "text",
    "id": "4sQiv9s2kOjn"
   },
   "source": [
    "### Tree Ensemble hyperparameter suggestions\n",
    "\n",
    "#### Random Forest\n",
    "- class_weight (for imbalanced classes)\n",
    "- max_depth (usually high, can try decreasing)\n",
    "- n_estimators (too low underfits, too high wastes time)\n",
    "- min_samples_leaf (increase if overfitting)\n",
    "- max_features (decrease for more diverse trees)\n",
    "\n",
    "#### XGBoost\n",
    "- scale_pos_weight (for imbalanced classes)\n",
    "- max_depth (usually low, can try increasing)\n",
    "- n_estimators (too low underfits, too high wastes time/overfits) — _I recommend using early stopping instead of cross-validation_\n",
    "- learning_rate (too low underfits, too high overfits)\n",
    "- See [Notes on Parameter Tuning](https://xgboost.readthedocs.io/en/latest/tutorials/param_tuning.html) and [DART booster](https://xgboost.readthedocs.io/en/latest/tutorials/dart.html) for more ideas\n",
    "\n",
    "### Linear Model hyperparameter suggestions \n",
    "\n",
    "#### Logistic Regression\n",
    "- C\n",
    "- class_weight (for imbalanced classes)\n",
    "- penalty\n",
    "\n",
    "#### Ridge / Lasso Regression\n",
    "- alpha\n",
    "\n",
    "#### ElasticNet Regression\n",
    "- alpha\n",
    "- l1_ratio\n",
    "\n",
    "For more explanation, see [**Aaron Gallant's 9 minute video on Ridge Regression**](https://www.youtube.com/watch?v=XK5jkedy17w)!"
   ]
  },
  {
   "cell_type": "markdown",
   "metadata": {
    "colab_type": "text",
    "id": "C9nu0WJNYqij"
   },
   "source": [
    "# Sources\n",
    "- Jake VanderPlas, [Python Data Science Handbook, Chapter 5.3,](https://jakevdp.github.io/PythonDataScienceHandbook/05.03-hyperparameters-and-model-validation.html) Hyperparameters and Model Validation\n",
    "- Peter Worcester, [A Comparison of Grid Search and Randomized Search Using Scikit Learn](https://blog.usejournal.com/a-comparison-of-grid-search-and-randomized-search-using-scikit-learn-29823179bc85)\n",
    "- Ron Zacharski, [A Programmer’s Guide to Data Mining, Chapter 5,](http://guidetodatamining.com/chapter5/) first 10 pages, for a great explanation of cross-validation with examples and pictures\n",
    "- Sebastian Raschka, [Model Evaluation](https://sebastianraschka.com/blog/2018/model-evaluation-selection-part4.html)\n",
    "- [Scikit-Learn User Guide, 3.1 Cross-validation](https://scikit-learn.org/stable/modules/cross_validation.html)\n",
    "- [Scikit-Learn User Guide, 3.2 Tuning the hyper-parameters of an estimator](https://scikit-learn.org/stable/modules/grid_search.html)\n",
    "- [sklearn.model_selection.cross_val_score](https://scikit-learn.org/stable/modules/generated/sklearn.model_selection.cross_val_score.html)\n",
    "- [sklearn.model_selection.RandomizedSearchCV](https://scikit-learn.org/stable/modules/generated/sklearn.model_selection.RandomizedSearchCV.html)\n",
    "- [xgboost, Notes on Parameter Tuning](https://xgboost.readthedocs.io/en/latest/tutorials/param_tuning.html)"
   ]
  },
  {
   "cell_type": "markdown",
   "metadata": {},
   "source": [
    "# Lecture beginning"
   ]
  },
  {
   "cell_type": "markdown",
   "metadata": {
    "colab_type": "text",
    "id": "59EsvYLdDHAB"
   },
   "source": [
    "### Setup\n",
    "\n",
    "Run the code cell below. You can work locally (follow the [local setup instructions](https://lambdaschool.github.io/ds/unit2/local/)) or on Colab.\n",
    "\n",
    "Libraries\n",
    "\n",
    "- **category_encoders**\n",
    "- matplotlib\n",
    "- numpy\n",
    "- pandas\n",
    "- **pandas-profiling**\n",
    "- scikit-learn\n",
    "- scipy.stats"
   ]
  },
  {
   "cell_type": "code",
   "execution_count": 1,
   "metadata": {
    "colab": {},
    "colab_type": "code",
    "id": "hwbmmgaWDNid"
   },
   "outputs": [],
   "source": [
    "DATA_PATH = 'https://raw.githubusercontent.com/LambdaSchool/DS-Unit-2-Kaggle-Challenge/master/data/'\n",
    "# %%capture\n",
    "# import sys\n",
    "\n",
    "# # If you're on Colab:\n",
    "# if 'google.colab' in sys.modules:\n",
    "#     DATA_PATH = 'https://raw.githubusercontent.com/LambdaSchool/DS-Unit-2-Kaggle-Challenge/master/data/'\n",
    "#     !pip install category_encoders==2.*\n",
    "#     !pip install pandas-profiling==2.*\n",
    "\n",
    "# # If you're working locally:\n",
    "# else:\n",
    "#     DATA_PATH = '../data/'"
   ]
  },
  {
   "cell_type": "markdown",
   "metadata": {
    "colab_type": "text",
    "id": "2R-B29FKYqhO"
   },
   "source": [
    "# Do cross-validation with independent test set"
   ]
  },
  {
   "cell_type": "markdown",
   "metadata": {
    "colab_type": "text",
    "id": "MksJOjoZYqhR"
   },
   "source": [
    "## Overview"
   ]
  },
  {
   "cell_type": "markdown",
   "metadata": {
    "colab_type": "text",
    "id": "GT55S61iYqhT"
   },
   "source": [
    "### Predict rent in NYC 🏠\n",
    "\n",
    "We're going back to one of our New York City real estate datasets. "
   ]
  },
  {
   "cell_type": "code",
   "execution_count": 2,
   "metadata": {
    "colab": {},
    "colab_type": "code",
    "id": "25mFpkHYYqhV"
   },
   "outputs": [],
   "source": [
    "import numpy as np\n",
    "import pandas as pd\n",
    "\n",
    "# Read New York City apartment rental listing data\n",
    "df = pd.read_csv(DATA_PATH+'apartments/renthop-nyc.csv')\n",
    "assert df.shape == (49352, 34)\n",
    "\n",
    "# Remove the most extreme 1% prices,\n",
    "# the most extreme .1% latitudes, &\n",
    "# the most extreme .1% longitudes\n",
    "df = df[(df['price'] >= np.percentile(df['price'], 0.5)) & \n",
    "        (df['price'] <= np.percentile(df['price'], 99.5)) & \n",
    "        (df['latitude'] >= np.percentile(df['latitude'], 0.05)) & \n",
    "        (df['latitude'] < np.percentile(df['latitude'], 99.95)) &\n",
    "        (df['longitude'] >= np.percentile(df['longitude'], 0.05)) & \n",
    "        (df['longitude'] <= np.percentile(df['longitude'], 99.95))]\n",
    "\n",
    "# Do train/test split\n",
    "# Use data from April & May 2016 to train\n",
    "# Use data from June 2016 to test\n",
    "df['created'] = pd.to_datetime(df['created'], infer_datetime_format=True)\n",
    "cutoff = pd.to_datetime('2016-06-01')\n",
    "train = df[df.created < cutoff]\n",
    "test  = df[df.created >= cutoff]\n",
    "\n",
    "# Wrangle train & test sets in the same way\n",
    "def engineer_features(df):\n",
    "    \n",
    "    # Avoid SettingWithCopyWarning\n",
    "    df = df.copy()\n",
    "        \n",
    "    # Does the apartment have a description?\n",
    "    df['description'] = df['description'].str.strip().fillna('')\n",
    "    df['has_description'] = df['description'] != ''\n",
    "\n",
    "    # How long is the description?\n",
    "    df['description_length'] = df['description'].str.len()\n",
    "\n",
    "    # How many total perks does each apartment have?\n",
    "    perk_cols = ['elevator', 'cats_allowed', 'hardwood_floors', 'dogs_allowed',\n",
    "                 'doorman', 'dishwasher', 'no_fee', 'laundry_in_building',\n",
    "                 'fitness_center', 'pre-war', 'laundry_in_unit', 'roof_deck',\n",
    "                 'outdoor_space', 'dining_room', 'high_speed_internet', 'balcony',\n",
    "                 'swimming_pool', 'new_construction', 'exclusive', 'terrace', \n",
    "                 'loft', 'garden_patio', 'common_outdoor_space', \n",
    "                 'wheelchair_access']\n",
    "    df['perk_count'] = df[perk_cols].sum(axis=1)\n",
    "\n",
    "    # Are cats or dogs allowed?\n",
    "    df['cats_or_dogs'] = (df['cats_allowed']==1) | (df['dogs_allowed']==1)\n",
    "\n",
    "    # Are cats and dogs allowed?\n",
    "    df['cats_and_dogs'] = (df['cats_allowed']==1) & (df['dogs_allowed']==1)\n",
    "\n",
    "    # Total number of rooms (beds + baths)\n",
    "    df['rooms'] = df['bedrooms'] + df['bathrooms']\n",
    "    \n",
    "    # Extract number of days elapsed in year, and drop original date feature\n",
    "    df['days'] = (df['created'] - pd.to_datetime('2016-01-01')).dt.days\n",
    "    df = df.drop(columns='created')\n",
    "\n",
    "    return df\n",
    "\n",
    "train = engineer_features(train)\n",
    "test = engineer_features(test)"
   ]
  },
  {
   "cell_type": "code",
   "execution_count": 0,
   "metadata": {
    "colab": {},
    "colab_type": "code",
    "id": "tdnr_GPzYqhZ"
   },
   "outputs": [],
   "source": [
    "# Check Pandas Profiling version\n",
    "import pandas_profiling\n",
    "pandas_profiling.__version__"
   ]
  },
  {
   "cell_type": "code",
   "execution_count": 0,
   "metadata": {
    "colab": {},
    "colab_type": "code",
    "id": "tmsBVEPJYqhd",
    "scrolled": false
   },
   "outputs": [],
   "source": [
    "# Old code for Pandas Profiling version 2.3\n",
    "\n",
    "# profile = train.profile_report(\n",
    "#     check_correlation_pearson=False,\n",
    "#     correlations={\n",
    "#         'pearson': False,\n",
    "#         'spearman': False,\n",
    "#         'kendall': False,\n",
    "#         'phi_k': False,\n",
    "#         'cramers': False,\n",
    "#         'recoded': False,\n",
    "#     },\n",
    "#     plot={'histogram': {'bayesian_blocks_bins': False}},\n",
    "# )\n",
    "#\n",
    "\n",
    "\n",
    "# New code for Pandas Profiling version 2.4\n",
    "from pandas_profiling import ProfileReport\n",
    "profile = ProfileReport(train, minimal=True).to_notebook_iframe()\n",
    "\n",
    "profile"
   ]
  },
  {
   "cell_type": "markdown",
   "metadata": {
    "colab_type": "text",
    "id": "ykKBQtb4Yqhh"
   },
   "source": [
    "### Validation options"
   ]
  },
  {
   "cell_type": "markdown",
   "metadata": {
    "colab_type": "text",
    "id": "Hr-Dt67Gv2cB"
   },
   "source": [
    "Let's take another look at [Sebastian Raschka's diagram of model evaluation methods.](https://sebastianraschka.com/blog/2018/model-evaluation-selection-part4.html) So far we've been using \"**train/validation/test split**\", but we have more options. \n",
    "\n",
    "Today we'll learn about \"k-fold **cross-validation** with independent test set\", for \"model selection (**hyperparameter optimization**) and performance estimation.\"\n",
    "\n",
    "<img src=\"https://sebastianraschka.com/images/blog/2018/model-evaluation-selection-part4/model-eval-conclusions.jpg\" width=\"600\">\n",
    "\n",
    "<sup>Source: https://sebastianraschka.com/blog/2018/model-evaluation-selection-part4.html</sup>\n",
    "\n"
   ]
  },
  {
   "cell_type": "markdown",
   "metadata": {
    "colab_type": "text",
    "id": "Puc7OhZXYqhi"
   },
   "source": [
    "### Cross-validation: What & Why?"
   ]
  },
  {
   "cell_type": "markdown",
   "metadata": {
    "colab_type": "text",
    "id": "ozuzFo_Pv2cB"
   },
   "source": [
    "The Scikit-Learn docs show a diagram of how k-fold cross-validation works, and explain the pros & cons of cross-validation versus train/validate/test split.\n",
    "\n",
    "#### [Scikit-Learn User Guide, 3.1 Cross-validation](https://scikit-learn.org/stable/modules/cross_validation.html)\n",
    "\n",
    "> When evaluating different settings (“hyperparameters”) for estimators, there is still a risk of overfitting on the test set because the parameters can be tweaked until the estimator performs optimally. This way, knowledge about the test set can “leak” into the model and evaluation metrics no longer report on generalization performance. To solve this problem, yet another part of the dataset can be held out as a so-called “validation set”: training proceeds on the training set, after which evaluation is done on the validation set, and when the experiment seems to be successful, final evaluation can be done on the test set.\n",
    ">\n",
    "> However, **by partitioning the available data into three sets, we drastically reduce the number of samples which can be used for learning the model, and the results can depend on a particular random choice for the pair of (train, validation) sets.**\n",
    ">\n",
    "> **A solution to this problem is a procedure called cross-validation (CV for short). A test set should still be held out for final evaluation, but the validation set is no longer needed when doing CV.** \n",
    "\n",
    "<img src=\"https://scikit-learn.org/stable/_images/grid_search_cross_validation.png\" width=\"600\">\n",
    "\n",
    "> In the basic approach, called k-fold CV, the training set is split into k smaller sets. The following procedure is followed for each of the k “folds”:\n",
    ">\n",
    "> - A model is trained using $k-1$ of the folds as training data;\n",
    "> - the resulting model is validated on the remaining part of the data (i.e., it is used as a test set to compute a performance measure such as accuracy).\n",
    ">\n",
    "> The performance measure reported by k-fold cross-validation is then the average of the values computed in the loop. **This approach can be computationally expensive, but does not waste too much data (as is the case when fixing an arbitrary validation set).**"
   ]
  },
  {
   "cell_type": "markdown",
   "metadata": {
    "colab_type": "text",
    "id": "JxZA_um2Yqhj"
   },
   "source": [
    "## Follow Along"
   ]
  },
  {
   "cell_type": "markdown",
   "metadata": {
    "colab_type": "text",
    "id": "o10EvckQv2cC"
   },
   "source": [
    "### cross_val_score\n",
    "\n",
    "How do we get started? According to the [Scikit-Learn User Guide](https://scikit-learn.org/stable/modules/cross_validation.html#computing-cross-validated-metrics), \n",
    "\n",
    "> The simplest way to use cross-validation is to call the [**`cross_val_score`**](https://scikit-learn.org/stable/modules/generated/sklearn.model_selection.cross_val_score.html) helper function\n",
    "\n",
    "But, there's a quirk: For scikit-learn's cross-validation [**scoring**](https://scikit-learn.org/stable/modules/model_evaluation.html#scoring-parameter), higher is better. But for regression error metrics, lower is better. So scikit-learn multiplies regression error metrics by -1 to make them negative. That's why the value of the `scoring` parameter is `'neg_mean_absolute_error'`.\n",
    "\n",
    "So, k-fold cross-validation with this dataset looks like this:"
   ]
  },
  {
   "cell_type": "markdown",
   "metadata": {
    "colab_type": "text",
    "id": "O9JGCLYiYqhl"
   },
   "source": [
    "### Linear Model"
   ]
  },
  {
   "cell_type": "code",
   "execution_count": 9,
   "metadata": {
    "colab": {},
    "colab_type": "code",
    "id": "LNdqzdUnYqhm"
   },
   "outputs": [
    {
     "name": "stderr",
     "output_type": "stream",
     "text": [
      "/Library/Frameworks/Python.framework/Versions/3.8/lib/python3.8/site-packages/category_encoders/utils.py:21: FutureWarning: is_categorical is deprecated and will be removed in a future version.  Use is_categorical_dtype instead\n",
      "  elif pd.api.types.is_categorical(cols):\n",
      "/Library/Frameworks/Python.framework/Versions/3.8/lib/python3.8/site-packages/category_encoders/utils.py:21: FutureWarning: is_categorical is deprecated and will be removed in a future version.  Use is_categorical_dtype instead\n",
      "  elif pd.api.types.is_categorical(cols):\n",
      "/Library/Frameworks/Python.framework/Versions/3.8/lib/python3.8/site-packages/category_encoders/utils.py:21: FutureWarning: is_categorical is deprecated and will be removed in a future version.  Use is_categorical_dtype instead\n",
      "  elif pd.api.types.is_categorical(cols):\n",
      "/Library/Frameworks/Python.framework/Versions/3.8/lib/python3.8/site-packages/category_encoders/utils.py:21: FutureWarning: is_categorical is deprecated and will be removed in a future version.  Use is_categorical_dtype instead\n",
      "  elif pd.api.types.is_categorical(cols):\n",
      "/Library/Frameworks/Python.framework/Versions/3.8/lib/python3.8/site-packages/category_encoders/utils.py:21: FutureWarning: is_categorical is deprecated and will be removed in a future version.  Use is_categorical_dtype instead\n",
      "  elif pd.api.types.is_categorical(cols):\n",
      "/Library/Frameworks/Python.framework/Versions/3.8/lib/python3.8/site-packages/category_encoders/utils.py:21: FutureWarning: is_categorical is deprecated and will be removed in a future version.  Use is_categorical_dtype instead\n",
      "  elif pd.api.types.is_categorical(cols):\n",
      "/Library/Frameworks/Python.framework/Versions/3.8/lib/python3.8/site-packages/category_encoders/utils.py:21: FutureWarning: is_categorical is deprecated and will be removed in a future version.  Use is_categorical_dtype instead\n",
      "  elif pd.api.types.is_categorical(cols):\n"
     ]
    },
    {
     "name": "stdout",
     "output_type": "stream",
     "text": [
      "# rows: 31844\n",
      "MAE for 7 folds: [697.3922958  673.18770663 678.87579351 684.6444379  669.99138817\n",
      " 663.16151166 688.56528683]\n"
     ]
    }
   ],
   "source": [
    "import category_encoders as ce\n",
    "import numpy as np\n",
    "from sklearn.feature_selection import f_regression, SelectKBest\n",
    "from sklearn.impute import SimpleImputer\n",
    "from sklearn.preprocessing import StandardScaler\n",
    "from sklearn.linear_model import Ridge\n",
    "from sklearn.model_selection import cross_val_score\n",
    "from sklearn.pipeline import make_pipeline\n",
    "\n",
    "\n",
    "target = 'price'\n",
    "high_cardinality = ['display_address', 'street_address', 'description']\n",
    "features = train.columns.drop([target] + high_cardinality)\n",
    "X_train = train[features]\n",
    "y_train = train[target]\n",
    "\n",
    "pipeline = make_pipeline(\n",
    "    ce.OneHotEncoder(use_cat_names=True), \n",
    "    SimpleImputer(strategy='mean'), \n",
    "    StandardScaler(), \n",
    "    SelectKBest(f_regression, k=20), \n",
    "    Ridge(alpha=1.0)\n",
    ")\n",
    "\n",
    "k = 7\n",
    "scores = cross_val_score(pipeline, X_train, y_train, cv=k, \n",
    "                         scoring='neg_mean_absolute_error')\n",
    "print(f'# rows: {len(y_train)}')\n",
    "print(f'MAE for {k} folds:', -scores)"
   ]
  },
  {
   "cell_type": "code",
   "execution_count": 10,
   "metadata": {
    "colab": {},
    "colab_type": "code",
    "id": "3TlvRXx5Yqho",
    "scrolled": true
   },
   "outputs": [
    {
     "data": {
      "text/plain": [
       "679.4026314985352"
      ]
     },
     "execution_count": 10,
     "metadata": {},
     "output_type": "execute_result"
    }
   ],
   "source": [
    "-scores.mean()"
   ]
  },
  {
   "cell_type": "markdown",
   "metadata": {
    "colab_type": "text",
    "id": "5TDgiaa8Yqhq"
   },
   "source": [
    "### Random Forest"
   ]
  },
  {
   "cell_type": "code",
   "execution_count": 11,
   "metadata": {
    "colab": {},
    "colab_type": "code",
    "id": "-6DKR31CYqhq"
   },
   "outputs": [
    {
     "name": "stderr",
     "output_type": "stream",
     "text": [
      "/Library/Frameworks/Python.framework/Versions/3.8/lib/python3.8/site-packages/category_encoders/utils.py:21: FutureWarning: is_categorical is deprecated and will be removed in a future version.  Use is_categorical_dtype instead\n",
      "  elif pd.api.types.is_categorical(cols):\n",
      "/Library/Frameworks/Python.framework/Versions/3.8/lib/python3.8/site-packages/category_encoders/utils.py:21: FutureWarning: is_categorical is deprecated and will be removed in a future version.  Use is_categorical_dtype instead\n",
      "  elif pd.api.types.is_categorical(cols):\n",
      "/Library/Frameworks/Python.framework/Versions/3.8/lib/python3.8/site-packages/category_encoders/utils.py:21: FutureWarning: is_categorical is deprecated and will be removed in a future version.  Use is_categorical_dtype instead\n",
      "  elif pd.api.types.is_categorical(cols):\n"
     ]
    },
    {
     "name": "stdout",
     "output_type": "stream",
     "text": [
      "MAE for 3 folds: [392.28996182 404.92923235 388.97416404]\n"
     ]
    }
   ],
   "source": [
    "from sklearn.ensemble import RandomForestRegressor\n",
    "\n",
    "features = train.columns.drop(target)\n",
    "X_train = train[features]\n",
    "y_train = train[target]\n",
    "\n",
    "pipeline = make_pipeline(\n",
    "    ce.TargetEncoder(min_samples_leaf=1, smoothing=1), \n",
    "    SimpleImputer(strategy='median'), \n",
    "    RandomForestRegressor(n_estimators=100, n_jobs=-1, random_state=42)\n",
    ")\n",
    "\n",
    "k = 3\n",
    "scores = cross_val_score(pipeline, X_train, y_train, cv=k, \n",
    "                         scoring='neg_mean_absolute_error')\n",
    "print(f'MAE for {k} folds:', -scores)"
   ]
  },
  {
   "cell_type": "code",
   "execution_count": 12,
   "metadata": {
    "colab": {},
    "colab_type": "code",
    "id": "wpzxLHRdYqhs"
   },
   "outputs": [
    {
     "data": {
      "text/plain": [
       "395.3977860725861"
      ]
     },
     "execution_count": 12,
     "metadata": {},
     "output_type": "execute_result"
    }
   ],
   "source": [
    "-scores.mean()"
   ]
  },
  {
   "cell_type": "markdown",
   "metadata": {
    "colab_type": "text",
    "id": "7dq-PfpGZSHJ"
   },
   "source": [
    "But the Random Forest has many hyperparameters. We mostly used the defaults, and arbitrarily chose `n_estimators`. Is it too high? Too low? Just right? How do we know?"
   ]
  },
  {
   "cell_type": "code",
   "execution_count": 13,
   "metadata": {
    "colab": {},
    "colab_type": "code",
    "id": "YCubg7EbjZyT"
   },
   "outputs": [
    {
     "name": "stdout",
     "output_type": "stream",
     "text": [
      "Model Hyperparameters:\n",
      "RandomForestRegressor(n_jobs=-1, random_state=42)\n"
     ]
    }
   ],
   "source": [
    "print('Model Hyperparameters:')\n",
    "print(pipeline.named_steps['randomforestregressor'])"
   ]
  },
  {
   "cell_type": "code",
   "execution_count": 16,
   "metadata": {},
   "outputs": [
    {
     "name": "stdout",
     "output_type": "stream",
     "text": [
      "{'targetencoder': TargetEncoder(), 'simpleimputer': SimpleImputer(strategy='median'), 'randomforestregressor': RandomForestRegressor(n_jobs=-1, random_state=42)}\n"
     ]
    }
   ],
   "source": [
    "print(pipeline.named_steps)"
   ]
  },
  {
   "cell_type": "markdown",
   "metadata": {
    "colab_type": "text",
    "id": "Ptss2YM4Yqh4"
   },
   "source": [
    "## Challenge\n",
    "\n",
    "You will continue to participate in our Kaggle challenge. Use cross-validation and submit new predictions."
   ]
  },
  {
   "cell_type": "markdown",
   "metadata": {
    "colab_type": "text",
    "id": "1lmxsofNYqh5"
   },
   "source": [
    "# Use scikit-learn for hyperparameter optimization"
   ]
  },
  {
   "cell_type": "markdown",
   "metadata": {
    "colab_type": "text",
    "id": "OFZNYSoKYqh5"
   },
   "source": [
    "## Overview"
   ]
  },
  {
   "cell_type": "markdown",
   "metadata": {
    "colab_type": "text",
    "id": "bk6o8W7Cv2cE"
   },
   "source": [
    "\"The universal tension in machine learning is between optimization and generalization; the ideal model is one that stands right at the border between underfitting and overfitting; between undercapacity and overcapacity. To figure out where this border lies, first you must cross it.\" —[Francois Chollet](https://books.google.com/books?id=dadfDwAAQBAJ&pg=PA114)"
   ]
  },
  {
   "cell_type": "markdown",
   "metadata": {
    "colab_type": "text",
    "id": "p8uKvR_pv2cG"
   },
   "source": [
    "### Validation Curve\n",
    "\n",
    "Let's try different parameter values, and visualize \"the border between underfitting and overfitting.\" \n",
    "\n",
    "Using scikit-learn, we can make [validation curves](https://scikit-learn.org/stable/modules/generated/sklearn.model_selection.validation_curve.html), \"to determine training and test scores for varying parameter values. This is similar to grid search with one parameter.\""
   ]
  },
  {
   "cell_type": "markdown",
   "metadata": {
    "colab_type": "text",
    "id": "hEIxeNXdv2cF"
   },
   "source": [
    "<img src=\"https://jakevdp.github.io/PythonDataScienceHandbook/figures/05.03-validation-curve.png\">\n",
    "\n",
    "<sup>Source: https://jakevdp.github.io/PythonDataScienceHandbook/05.03-hyperparameters-and-model-validation.html#Validation-curves-in-Scikit-Learn</sup>"
   ]
  },
  {
   "cell_type": "markdown",
   "metadata": {
    "colab_type": "text",
    "id": "r3bbgaP2c3Pr"
   },
   "source": [
    "Validation curves are awesome for learning about overfitting and underfitting. (But less useful in real-world projects, because we usually want to vary more than one parameter.)"
   ]
  },
  {
   "cell_type": "code",
   "execution_count": 19,
   "metadata": {
    "colab": {},
    "colab_type": "code",
    "id": "znIz2FPQv2cG"
   },
   "outputs": [
    {
     "data": {
      "image/png": "[encoded data removed]",
      "text/plain": [
       "<Figure size 900x600 with 1 Axes>"
      ]
     },
     "metadata": {},
     "output_type": "display_data"
    }
   ],
   "source": [
    "# let's see what happens when we vary the depth of a decision tree\n",
    "# (this will be faster than varying # of estimators in a random forest)\n",
    "\n",
    "%matplotlib inline\n",
    "import matplotlib.pyplot as plt\n",
    "from sklearn.model_selection import validation_curve\n",
    "from sklearn.tree import DecisionTreeRegressor\n",
    "\n",
    "pipeline = make_pipeline(\n",
    "    ce.OrdinalEncoder(), \n",
    "    SimpleImputer(), \n",
    "    DecisionTreeRegressor()\n",
    ")\n",
    "\n",
    "depth = range(1, 30, 3)\n",
    "train_scores, val_scores = validation_curve(\n",
    "    pipeline, X_train, y_train,\n",
    "    param_name='decisiontreeregressor__max_depth', \n",
    "    param_range=depth, scoring='neg_mean_absolute_error', \n",
    "    cv=3,\n",
    "    n_jobs=-1\n",
    ")\n",
    "\n",
    "plt.style.use('ggplot')\n",
    "plt.figure(dpi=150)\n",
    "plt.plot(depth, np.mean(-train_scores, axis=1), color='blue', label='training error')\n",
    "plt.plot(depth, np.mean(-val_scores, axis=1), color='red', label='validation error')\n",
    "plt.title('Validation Curve')\n",
    "plt.xlabel('model complexity: DecisionTreeRegressor max_depth')\n",
    "plt.ylabel('model score: Mean Absolute Error')\n",
    "plt.legend();"
   ]
  },
  {
   "cell_type": "code",
   "execution_count": 20,
   "metadata": {
    "colab": {},
    "colab_type": "code",
    "id": "6beX6ieBYqiL"
   },
   "outputs": [
    {
     "data": {
      "image/png": "[encoded data removed]",
      "text/plain": [
       "<Figure size 900x600 with 1 Axes>"
      ]
     },
     "metadata": {},
     "output_type": "display_data"
    }
   ],
   "source": [
    "plt.figure(dpi=150)\n",
    "plt.plot(depth, np.mean(-train_scores, axis=1), color='blue', label='training error')\n",
    "plt.plot(depth, np.mean(-val_scores, axis=1), color='red', label='validation error')\n",
    "plt.title('Validation Curve, Zoomed In')\n",
    "plt.xlabel('model complexity: DecisionTreeRegressor max_depth')\n",
    "plt.ylabel('model score: Mean Absolute Error')\n",
    "plt.ylim((500, 700))  # Zoom in\n",
    "plt.legend();"
   ]
  },
  {
   "cell_type": "markdown",
   "metadata": {
    "colab_type": "text",
    "id": "CmbM1lVNYqiM"
   },
   "source": [
    "## Follow Along"
   ]
  },
  {
   "cell_type": "markdown",
   "metadata": {
    "colab_type": "text",
    "id": "JUaLgk8Pv2cJ"
   },
   "source": [
    "To vary multiple hyperparameters and find their optimal values, let's try **Randomized Search CV.**"
   ]
  },
  {
   "cell_type": "markdown",
   "metadata": {
    "colab_type": "text",
    "id": "AexbC7fjv2cL"
   },
   "source": [
    "#### [Scikit-Learn User Guide, 3.2 Tuning the hyper-parameters of an estimator](https://scikit-learn.org/stable/modules/grid_search.html)\n",
    "\n",
    "> Hyper-parameters are parameters that are not directly learnt within estimators. In scikit-learn they are passed as arguments to the constructor of the estimator classes. \n",
    ">\n",
    "> It is possible and recommended to search the hyper-parameter space for the best cross validation score.\n",
    ">\n",
    "> [`GridSearchCV`](https://scikit-learn.org/stable/modules/generated/sklearn.model_selection.GridSearchCV.html#sklearn.model_selection.GridSearchCV) exhaustively considers all parameter combinations, while [`RandomizedSearchCV`](https://scikit-learn.org/stable/modules/generated/sklearn.model_selection.RandomizedSearchCV.html) can sample a given number of candidates from a parameter space with a specified distribution. \n",
    ">\n",
    "> While using a grid of parameter settings is currently the most widely used method for parameter optimization, other search methods have more favourable properties. [`RandomizedSearchCV`](https://scikit-learn.org/stable/modules/generated/sklearn.model_selection.RandomizedSearchCV.html) implements a randomized search over parameters, where each setting is sampled from a distribution over possible parameter values.\n",
    ">\n",
    "> Specifying how parameters should be sampled is done using a dictionary. Additionally, a computation budget, being the number of sampled candidates or sampling iterations, is specified using the `n_iter` parameter. \n",
    ">\n",
    "> For each parameter, either a distribution over possible values or a list of discrete choices (which will be sampled uniformly) can be specified."
   ]
  },
  {
   "cell_type": "markdown",
   "metadata": {
    "colab_type": "text",
    "id": "bZHeYy52YqiP"
   },
   "source": [
    "Here's a good blog post to explain more: [**A Comparison of Grid Search and Randomized Search Using Scikit Learn**](https://blog.usejournal.com/a-comparison-of-grid-search-and-randomized-search-using-scikit-learn-29823179bc85).\n",
    "\n",
    "<img src=\"https://miro.medium.com/max/2500/1*9W1MrRkHi0YFmBoHi9Y2Ow.png\" width=\"50%\">"
   ]
  },
  {
   "cell_type": "markdown",
   "metadata": {
    "colab_type": "text",
    "id": "DWDwNB1EYqiQ"
   },
   "source": [
    "### Linear Model"
   ]
  },
  {
   "cell_type": "code",
   "execution_count": 22,
   "metadata": {
    "colab": {},
    "colab_type": "code",
    "id": "ZtZQbJQ5v2cM"
   },
   "outputs": [
    {
     "name": "stdout",
     "output_type": "stream",
     "text": [
      "Fitting 3 folds for each of 20 candidates, totalling 60 fits\n"
     ]
    },
    {
     "name": "stderr",
     "output_type": "stream",
     "text": [
      "/Library/Frameworks/Python.framework/Versions/3.8/lib/python3.8/site-packages/category_encoders/utils.py:21: FutureWarning: is_categorical is deprecated and will be removed in a future version.  Use is_categorical_dtype instead\n",
      "  elif pd.api.types.is_categorical(cols):\n"
     ]
    }
   ],
   "source": [
    "from sklearn.model_selection import GridSearchCV, RandomizedSearchCV\n",
    "\n",
    "features = train.columns.drop([target] + high_cardinality)\n",
    "X_train = train[features]\n",
    "y_train = train[target]\n",
    "\n",
    "pipeline = make_pipeline(\n",
    "    ce.OneHotEncoder(use_cat_names=True), \n",
    "    SimpleImputer(), \n",
    "    StandardScaler(), \n",
    "    SelectKBest(f_regression), \n",
    "    Ridge()\n",
    ")\n",
    "\n",
    "param_distributions = {\n",
    "    'simpleimputer__strategy': ['mean', 'median'], \n",
    "    'selectkbest__k': range(1, len(X_train.columns)+1), \n",
    "    'ridge__alpha': [0.1, 1, 10], \n",
    "}\n",
    "\n",
    "# If you're on Colab, decrease n_iter & cv parameters\n",
    "search = RandomizedSearchCV(\n",
    "    pipeline, \n",
    "    param_distributions=param_distributions, \n",
    "    n_iter=20, \n",
    "    cv=3, \n",
    "    scoring='neg_mean_absolute_error', \n",
    "    verbose=10, \n",
    "    return_train_score=True, \n",
    "    n_jobs=-1\n",
    ")\n",
    "\n",
    "search.fit(X_train, y_train);"
   ]
  },
  {
   "cell_type": "code",
   "execution_count": 23,
   "metadata": {
    "colab": {},
    "colab_type": "code",
    "id": "P9M-OOJltM_I"
   },
   "outputs": [
    {
     "name": "stdout",
     "output_type": "stream",
     "text": [
      "Best hyperparameters {'simpleimputer__strategy': 'median', 'selectkbest__k': 35, 'ridge__alpha': 10}\n",
      "Cross-validation MAE 672.1137707448544\n"
     ]
    }
   ],
   "source": [
    "print('Best hyperparameters', search.best_params_)\n",
    "print('Cross-validation MAE', -search.best_score_)"
   ]
  },
  {
   "cell_type": "code",
   "execution_count": 24,
   "metadata": {
    "colab": {},
    "colab_type": "code",
    "id": "JZrcfg90YqiV"
   },
   "outputs": [
    {
     "data": {
      "text/plain": [
       "216"
      ]
     },
     "execution_count": 24,
     "metadata": {},
     "output_type": "execute_result"
    }
   ],
   "source": [
    "# If we used GridSearchCV instead of RandomizedSearchCV, \n",
    "# how many candidates would there be?\n",
    "# 2 imputation strategies * n columns * 3 Ridge alphas\n",
    "2 * len(X_train.columns) * 3"
   ]
  },
  {
   "cell_type": "markdown",
   "metadata": {
    "colab_type": "text",
    "id": "Q79ipvpgqYwF"
   },
   "source": [
    "### \"Fitting X folds for each of Y candidates, totalling Z fits\" ?\n",
    "\n",
    "What did that mean? What do you think?\n",
    "\n"
   ]
  },
  {
   "cell_type": "markdown",
   "metadata": {
    "colab_type": "text",
    "id": "pwYYQc11YqiX"
   },
   "source": [
    "### Random Forest"
   ]
  },
  {
   "cell_type": "markdown",
   "metadata": {
    "colab_type": "text",
    "id": "nCnjsCvEYqiX"
   },
   "source": [
    "#### [Scikit-Learn User Guide, 3.2 Tuning the hyper-parameters of an estimator](https://scikit-learn.org/stable/modules/grid_search.html)\n",
    "\n",
    "> [`RandomizedSearchCV`](https://scikit-learn.org/stable/modules/generated/sklearn.model_selection.RandomizedSearchCV.html) implements a randomized search over parameters, where each setting is sampled from a distribution over possible parameter values.\n",
    ">\n",
    "> For each parameter, either a distribution over possible values or a list of discrete choices (which will be sampled uniformly) can be specified.\n",
    ">\n",
    "> This example uses the `scipy.stats` module, which contains many useful distributions for sampling parameters."
   ]
  },
  {
   "cell_type": "code",
   "execution_count": 25,
   "metadata": {
    "colab": {},
    "colab_type": "code",
    "id": "S-4fMFjbYqiY"
   },
   "outputs": [
    {
     "name": "stdout",
     "output_type": "stream",
     "text": [
      "Fitting 3 folds for each of 10 candidates, totalling 30 fits\n"
     ]
    },
    {
     "name": "stderr",
     "output_type": "stream",
     "text": [
      "/Library/Frameworks/Python.framework/Versions/3.8/lib/python3.8/site-packages/category_encoders/utils.py:21: FutureWarning: is_categorical is deprecated and will be removed in a future version.  Use is_categorical_dtype instead\n",
      "  elif pd.api.types.is_categorical(cols):\n"
     ]
    }
   ],
   "source": [
    "from scipy.stats import randint, uniform\n",
    "\n",
    "features = train.columns.drop(target)\n",
    "X_train = train[features]\n",
    "y_train = train[target]\n",
    "\n",
    "pipeline = make_pipeline(\n",
    "    ce.TargetEncoder(), \n",
    "    SimpleImputer(), \n",
    "    RandomForestRegressor(random_state=42)\n",
    ")\n",
    "\n",
    "param_distributions = {\n",
    "    'targetencoder__min_samples_leaf': randint(1, 1000), \n",
    "    \n",
    "#     Remove this hyperparameter, because of an issue: \n",
    "#     https://github.com/scikit-learn-contrib/categorical-encoding/issues/184\n",
    "#     'targetencoder__smoothing': uniform(1, 1000), \n",
    "    \n",
    "    'simpleimputer__strategy': ['mean', 'median'], \n",
    "    'randomforestregressor__n_estimators': randint(50, 500), \n",
    "    'randomforestregressor__max_depth': [5, 10, 15, 20, None], \n",
    "    'randomforestregressor__max_features': uniform(0, 1), \n",
    "}\n",
    "\n",
    "# If you're on Colab, decrease n_iter & cv parameters\n",
    "search = RandomizedSearchCV(\n",
    "    pipeline, \n",
    "    param_distributions=param_distributions, \n",
    "    n_iter=10, \n",
    "    cv=3, \n",
    "    scoring='neg_mean_absolute_error', \n",
    "    verbose=10, \n",
    "    return_train_score=True, \n",
    "    n_jobs=-1\n",
    ")\n",
    "\n",
    "search.fit(X_train, y_train);"
   ]
  },
  {
   "cell_type": "code",
   "execution_count": 26,
   "metadata": {
    "colab": {},
    "colab_type": "code",
    "id": "_k0O4hJwYqia"
   },
   "outputs": [
    {
     "name": "stdout",
     "output_type": "stream",
     "text": [
      "Best hyperparameters {'randomforestregressor__max_depth': None, 'randomforestregressor__max_features': 0.783880828052029, 'randomforestregressor__n_estimators': 191, 'simpleimputer__strategy': 'median', 'targetencoder__min_samples_leaf': 450}\n",
      "Cross-validation MAE 400.47110134628065\n"
     ]
    }
   ],
   "source": [
    "print('Best hyperparameters', search.best_params_)\n",
    "print('Cross-validation MAE', -search.best_score_)"
   ]
  },
  {
   "cell_type": "markdown",
   "metadata": {
    "colab_type": "text",
    "id": "2tJr3YZ8xLt-"
   },
   "source": [
    "### See detailed results"
   ]
  },
  {
   "cell_type": "code",
   "execution_count": 27,
   "metadata": {
    "colab": {},
    "colab_type": "code",
    "id": "IGHRUlY3xF1O"
   },
   "outputs": [
    {
     "data": {
      "text/html": [
       "<div>\n",
       "<style scoped>\n",
       "    .dataframe tbody tr th:only-of-type {\n",
       "        vertical-align: middle;\n",
       "    }\n",
       "\n",
       "    .dataframe tbody tr th {\n",
       "        vertical-align: top;\n",
       "    }\n",
       "\n",
       "    .dataframe thead th {\n",
       "        text-align: right;\n",
       "    }\n",
       "</style>\n",
       "<table border=\"1\" class=\"dataframe\">\n",
       "  <thead>\n",
       "    <tr style=\"text-align: right;\">\n",
       "      <th></th>\n",
       "      <th>0</th>\n",
       "      <th>5</th>\n",
       "      <th>6</th>\n",
       "      <th>4</th>\n",
       "      <th>1</th>\n",
       "      <th>7</th>\n",
       "      <th>2</th>\n",
       "      <th>3</th>\n",
       "      <th>9</th>\n",
       "      <th>8</th>\n",
       "    </tr>\n",
       "  </thead>\n",
       "  <tbody>\n",
       "    <tr>\n",
       "      <th>mean_fit_time</th>\n",
       "      <td>33.749783</td>\n",
       "      <td>27.464217</td>\n",
       "      <td>7.353962</td>\n",
       "      <td>13.387463</td>\n",
       "      <td>38.194696</td>\n",
       "      <td>18.479774</td>\n",
       "      <td>9.252611</td>\n",
       "      <td>9.062958</td>\n",
       "      <td>1.315299</td>\n",
       "      <td>7.372343</td>\n",
       "    </tr>\n",
       "    <tr>\n",
       "      <th>std_fit_time</th>\n",
       "      <td>0.168846</td>\n",
       "      <td>0.288679</td>\n",
       "      <td>0.107618</td>\n",
       "      <td>0.129508</td>\n",
       "      <td>1.914122</td>\n",
       "      <td>0.474881</td>\n",
       "      <td>0.188695</td>\n",
       "      <td>0.242244</td>\n",
       "      <td>0.239276</td>\n",
       "      <td>0.074854</td>\n",
       "    </tr>\n",
       "    <tr>\n",
       "      <th>mean_score_time</th>\n",
       "      <td>1.676353</td>\n",
       "      <td>1.165346</td>\n",
       "      <td>0.307206</td>\n",
       "      <td>0.402091</td>\n",
       "      <td>1.112477</td>\n",
       "      <td>1.331603</td>\n",
       "      <td>0.569227</td>\n",
       "      <td>0.364869</td>\n",
       "      <td>0.128934</td>\n",
       "      <td>0.548194</td>\n",
       "    </tr>\n",
       "    <tr>\n",
       "      <th>std_score_time</th>\n",
       "      <td>0.073503</td>\n",
       "      <td>0.245729</td>\n",
       "      <td>0.003275</td>\n",
       "      <td>0.006289</td>\n",
       "      <td>0.229072</td>\n",
       "      <td>0.108335</td>\n",
       "      <td>0.005701</td>\n",
       "      <td>0.003252</td>\n",
       "      <td>0.057095</td>\n",
       "      <td>0.020150</td>\n",
       "    </tr>\n",
       "    <tr>\n",
       "      <th>param_randomforestregressor__max_depth</th>\n",
       "      <td>None</td>\n",
       "      <td>20</td>\n",
       "      <td>20</td>\n",
       "      <td>15</td>\n",
       "      <td>15</td>\n",
       "      <td>20</td>\n",
       "      <td>10</td>\n",
       "      <td>5</td>\n",
       "      <td>5</td>\n",
       "      <td>5</td>\n",
       "    </tr>\n",
       "    <tr>\n",
       "      <th>param_randomforestregressor__max_features</th>\n",
       "      <td>0.783881</td>\n",
       "      <td>0.438806</td>\n",
       "      <td>0.502341</td>\n",
       "      <td>0.682085</td>\n",
       "      <td>0.600688</td>\n",
       "      <td>0.181169</td>\n",
       "      <td>0.220464</td>\n",
       "      <td>0.373962</td>\n",
       "      <td>0.255759</td>\n",
       "      <td>0.191408</td>\n",
       "    </tr>\n",
       "    <tr>\n",
       "      <th>param_randomforestregressor__n_estimators</th>\n",
       "      <td>191</td>\n",
       "      <td>299</td>\n",
       "      <td>70</td>\n",
       "      <td>128</td>\n",
       "      <td>397</td>\n",
       "      <td>344</td>\n",
       "      <td>344</td>\n",
       "      <td>399</td>\n",
       "      <td>64</td>\n",
       "      <td>490</td>\n",
       "    </tr>\n",
       "    <tr>\n",
       "      <th>param_simpleimputer__strategy</th>\n",
       "      <td>median</td>\n",
       "      <td>mean</td>\n",
       "      <td>median</td>\n",
       "      <td>median</td>\n",
       "      <td>median</td>\n",
       "      <td>median</td>\n",
       "      <td>mean</td>\n",
       "      <td>median</td>\n",
       "      <td>mean</td>\n",
       "      <td>mean</td>\n",
       "    </tr>\n",
       "    <tr>\n",
       "      <th>param_targetencoder__min_samples_leaf</th>\n",
       "      <td>450</td>\n",
       "      <td>88</td>\n",
       "      <td>543</td>\n",
       "      <td>431</td>\n",
       "      <td>712</td>\n",
       "      <td>841</td>\n",
       "      <td>361</td>\n",
       "      <td>361</td>\n",
       "      <td>609</td>\n",
       "      <td>668</td>\n",
       "    </tr>\n",
       "    <tr>\n",
       "      <th>params</th>\n",
       "      <td>{'randomforestregressor__max_depth': None, 'ra...</td>\n",
       "      <td>{'randomforestregressor__max_depth': 20, 'rand...</td>\n",
       "      <td>{'randomforestregressor__max_depth': 20, 'rand...</td>\n",
       "      <td>{'randomforestregressor__max_depth': 15, 'rand...</td>\n",
       "      <td>{'randomforestregressor__max_depth': 15, 'rand...</td>\n",
       "      <td>{'randomforestregressor__max_depth': 20, 'rand...</td>\n",
       "      <td>{'randomforestregressor__max_depth': 10, 'rand...</td>\n",
       "      <td>{'randomforestregressor__max_depth': 5, 'rando...</td>\n",
       "      <td>{'randomforestregressor__max_depth': 5, 'rando...</td>\n",
       "      <td>{'randomforestregressor__max_depth': 5, 'rando...</td>\n",
       "    </tr>\n",
       "    <tr>\n",
       "      <th>split0_test_score</th>\n",
       "      <td>-402.700553</td>\n",
       "      <td>-412.438674</td>\n",
       "      <td>-414.964735</td>\n",
       "      <td>-427.359735</td>\n",
       "      <td>-428.396760</td>\n",
       "      <td>-445.641539</td>\n",
       "      <td>-521.204273</td>\n",
       "      <td>-610.696735</td>\n",
       "      <td>-639.518932</td>\n",
       "      <td>-657.306923</td>\n",
       "    </tr>\n",
       "    <tr>\n",
       "      <th>split1_test_score</th>\n",
       "      <td>-406.477518</td>\n",
       "      <td>-412.044615</td>\n",
       "      <td>-417.169994</td>\n",
       "      <td>-429.034006</td>\n",
       "      <td>-428.109807</td>\n",
       "      <td>-442.936642</td>\n",
       "      <td>-512.529189</td>\n",
       "      <td>-606.663548</td>\n",
       "      <td>-635.739018</td>\n",
       "      <td>-655.188503</td>\n",
       "    </tr>\n",
       "    <tr>\n",
       "      <th>split2_test_score</th>\n",
       "      <td>-392.235233</td>\n",
       "      <td>-406.759661</td>\n",
       "      <td>-409.807709</td>\n",
       "      <td>-421.884129</td>\n",
       "      <td>-422.188289</td>\n",
       "      <td>-440.577097</td>\n",
       "      <td>-517.786138</td>\n",
       "      <td>-613.451501</td>\n",
       "      <td>-643.325546</td>\n",
       "      <td>-659.206644</td>\n",
       "    </tr>\n",
       "    <tr>\n",
       "      <th>mean_test_score</th>\n",
       "      <td>-400.471101</td>\n",
       "      <td>-410.414317</td>\n",
       "      <td>-413.980813</td>\n",
       "      <td>-426.092623</td>\n",
       "      <td>-426.231619</td>\n",
       "      <td>-443.051760</td>\n",
       "      <td>-517.173200</td>\n",
       "      <td>-610.270595</td>\n",
       "      <td>-639.527832</td>\n",
       "      <td>-657.234024</td>\n",
       "    </tr>\n",
       "    <tr>\n",
       "      <th>std_test_score</th>\n",
       "      <td>6.024313</td>\n",
       "      <td>2.589234</td>\n",
       "      <td>3.085114</td>\n",
       "      <td>3.053344</td>\n",
       "      <td>2.861465</td>\n",
       "      <td>2.069152</td>\n",
       "      <td>3.568010</td>\n",
       "      <td>2.787504</td>\n",
       "      <td>3.097194</td>\n",
       "      <td>1.641209</td>\n",
       "    </tr>\n",
       "    <tr>\n",
       "      <th>rank_test_score</th>\n",
       "      <td>1</td>\n",
       "      <td>2</td>\n",
       "      <td>3</td>\n",
       "      <td>4</td>\n",
       "      <td>5</td>\n",
       "      <td>6</td>\n",
       "      <td>7</td>\n",
       "      <td>8</td>\n",
       "      <td>9</td>\n",
       "      <td>10</td>\n",
       "    </tr>\n",
       "    <tr>\n",
       "      <th>split0_train_score</th>\n",
       "      <td>-145.576219</td>\n",
       "      <td>-185.963473</td>\n",
       "      <td>-184.853783</td>\n",
       "      <td>-271.893121</td>\n",
       "      <td>-273.624220</td>\n",
       "      <td>-213.972614</td>\n",
       "      <td>-467.910031</td>\n",
       "      <td>-602.806405</td>\n",
       "      <td>-631.878652</td>\n",
       "      <td>-651.332790</td>\n",
       "    </tr>\n",
       "    <tr>\n",
       "      <th>split1_train_score</th>\n",
       "      <td>-142.903021</td>\n",
       "      <td>-184.154725</td>\n",
       "      <td>-184.326829</td>\n",
       "      <td>-275.632222</td>\n",
       "      <td>-274.757069</td>\n",
       "      <td>-212.870630</td>\n",
       "      <td>-469.060044</td>\n",
       "      <td>-603.452279</td>\n",
       "      <td>-632.626454</td>\n",
       "      <td>-651.396905</td>\n",
       "    </tr>\n",
       "    <tr>\n",
       "      <th>split2_train_score</th>\n",
       "      <td>-145.101927</td>\n",
       "      <td>-187.314757</td>\n",
       "      <td>-186.165407</td>\n",
       "      <td>-278.892920</td>\n",
       "      <td>-280.122267</td>\n",
       "      <td>-215.426722</td>\n",
       "      <td>-471.952827</td>\n",
       "      <td>-606.361025</td>\n",
       "      <td>-637.202781</td>\n",
       "      <td>-653.777707</td>\n",
       "    </tr>\n",
       "    <tr>\n",
       "      <th>mean_train_score</th>\n",
       "      <td>-144.527056</td>\n",
       "      <td>-185.810985</td>\n",
       "      <td>-185.115340</td>\n",
       "      <td>-275.472755</td>\n",
       "      <td>-276.167852</td>\n",
       "      <td>-214.089989</td>\n",
       "      <td>-469.640967</td>\n",
       "      <td>-604.206570</td>\n",
       "      <td>-633.902629</td>\n",
       "      <td>-652.169134</td>\n",
       "    </tr>\n",
       "    <tr>\n",
       "      <th>std_train_score</th>\n",
       "      <td>1.164576</td>\n",
       "      <td>1.294576</td>\n",
       "      <td>0.773047</td>\n",
       "      <td>2.859880</td>\n",
       "      <td>2.834183</td>\n",
       "      <td>1.046816</td>\n",
       "      <td>1.700814</td>\n",
       "      <td>1.546080</td>\n",
       "      <td>2.353445</td>\n",
       "      <td>1.137734</td>\n",
       "    </tr>\n",
       "  </tbody>\n",
       "</table>\n",
       "</div>"
      ],
      "text/plain": [
       "                                                                                           0  \\\n",
       "mean_fit_time                                                                      33.749783   \n",
       "std_fit_time                                                                        0.168846   \n",
       "mean_score_time                                                                     1.676353   \n",
       "std_score_time                                                                      0.073503   \n",
       "param_randomforestregressor__max_depth                                                  None   \n",
       "param_randomforestregressor__max_features                                           0.783881   \n",
       "param_randomforestregressor__n_estimators                                                191   \n",
       "param_simpleimputer__strategy                                                         median   \n",
       "param_targetencoder__min_samples_leaf                                                    450   \n",
       "params                                     {'randomforestregressor__max_depth': None, 'ra...   \n",
       "split0_test_score                                                                -402.700553   \n",
       "split1_test_score                                                                -406.477518   \n",
       "split2_test_score                                                                -392.235233   \n",
       "mean_test_score                                                                  -400.471101   \n",
       "std_test_score                                                                      6.024313   \n",
       "rank_test_score                                                                            1   \n",
       "split0_train_score                                                               -145.576219   \n",
       "split1_train_score                                                               -142.903021   \n",
       "split2_train_score                                                               -145.101927   \n",
       "mean_train_score                                                                 -144.527056   \n",
       "std_train_score                                                                     1.164576   \n",
       "\n",
       "                                                                                           5  \\\n",
       "mean_fit_time                                                                      27.464217   \n",
       "std_fit_time                                                                        0.288679   \n",
       "mean_score_time                                                                     1.165346   \n",
       "std_score_time                                                                      0.245729   \n",
       "param_randomforestregressor__max_depth                                                    20   \n",
       "param_randomforestregressor__max_features                                           0.438806   \n",
       "param_randomforestregressor__n_estimators                                                299   \n",
       "param_simpleimputer__strategy                                                           mean   \n",
       "param_targetencoder__min_samples_leaf                                                     88   \n",
       "params                                     {'randomforestregressor__max_depth': 20, 'rand...   \n",
       "split0_test_score                                                                -412.438674   \n",
       "split1_test_score                                                                -412.044615   \n",
       "split2_test_score                                                                -406.759661   \n",
       "mean_test_score                                                                  -410.414317   \n",
       "std_test_score                                                                      2.589234   \n",
       "rank_test_score                                                                            2   \n",
       "split0_train_score                                                               -185.963473   \n",
       "split1_train_score                                                               -184.154725   \n",
       "split2_train_score                                                               -187.314757   \n",
       "mean_train_score                                                                 -185.810985   \n",
       "std_train_score                                                                     1.294576   \n",
       "\n",
       "                                                                                           6  \\\n",
       "mean_fit_time                                                                       7.353962   \n",
       "std_fit_time                                                                        0.107618   \n",
       "mean_score_time                                                                     0.307206   \n",
       "std_score_time                                                                      0.003275   \n",
       "param_randomforestregressor__max_depth                                                    20   \n",
       "param_randomforestregressor__max_features                                           0.502341   \n",
       "param_randomforestregressor__n_estimators                                                 70   \n",
       "param_simpleimputer__strategy                                                         median   \n",
       "param_targetencoder__min_samples_leaf                                                    543   \n",
       "params                                     {'randomforestregressor__max_depth': 20, 'rand...   \n",
       "split0_test_score                                                                -414.964735   \n",
       "split1_test_score                                                                -417.169994   \n",
       "split2_test_score                                                                -409.807709   \n",
       "mean_test_score                                                                  -413.980813   \n",
       "std_test_score                                                                      3.085114   \n",
       "rank_test_score                                                                            3   \n",
       "split0_train_score                                                               -184.853783   \n",
       "split1_train_score                                                               -184.326829   \n",
       "split2_train_score                                                               -186.165407   \n",
       "mean_train_score                                                                 -185.115340   \n",
       "std_train_score                                                                     0.773047   \n",
       "\n",
       "                                                                                           4  \\\n",
       "mean_fit_time                                                                      13.387463   \n",
       "std_fit_time                                                                        0.129508   \n",
       "mean_score_time                                                                     0.402091   \n",
       "std_score_time                                                                      0.006289   \n",
       "param_randomforestregressor__max_depth                                                    15   \n",
       "param_randomforestregressor__max_features                                           0.682085   \n",
       "param_randomforestregressor__n_estimators                                                128   \n",
       "param_simpleimputer__strategy                                                         median   \n",
       "param_targetencoder__min_samples_leaf                                                    431   \n",
       "params                                     {'randomforestregressor__max_depth': 15, 'rand...   \n",
       "split0_test_score                                                                -427.359735   \n",
       "split1_test_score                                                                -429.034006   \n",
       "split2_test_score                                                                -421.884129   \n",
       "mean_test_score                                                                  -426.092623   \n",
       "std_test_score                                                                      3.053344   \n",
       "rank_test_score                                                                            4   \n",
       "split0_train_score                                                               -271.893121   \n",
       "split1_train_score                                                               -275.632222   \n",
       "split2_train_score                                                               -278.892920   \n",
       "mean_train_score                                                                 -275.472755   \n",
       "std_train_score                                                                     2.859880   \n",
       "\n",
       "                                                                                           1  \\\n",
       "mean_fit_time                                                                      38.194696   \n",
       "std_fit_time                                                                        1.914122   \n",
       "mean_score_time                                                                     1.112477   \n",
       "std_score_time                                                                      0.229072   \n",
       "param_randomforestregressor__max_depth                                                    15   \n",
       "param_randomforestregressor__max_features                                           0.600688   \n",
       "param_randomforestregressor__n_estimators                                                397   \n",
       "param_simpleimputer__strategy                                                         median   \n",
       "param_targetencoder__min_samples_leaf                                                    712   \n",
       "params                                     {'randomforestregressor__max_depth': 15, 'rand...   \n",
       "split0_test_score                                                                -428.396760   \n",
       "split1_test_score                                                                -428.109807   \n",
       "split2_test_score                                                                -422.188289   \n",
       "mean_test_score                                                                  -426.231619   \n",
       "std_test_score                                                                      2.861465   \n",
       "rank_test_score                                                                            5   \n",
       "split0_train_score                                                               -273.624220   \n",
       "split1_train_score                                                               -274.757069   \n",
       "split2_train_score                                                               -280.122267   \n",
       "mean_train_score                                                                 -276.167852   \n",
       "std_train_score                                                                     2.834183   \n",
       "\n",
       "                                                                                           7  \\\n",
       "mean_fit_time                                                                      18.479774   \n",
       "std_fit_time                                                                        0.474881   \n",
       "mean_score_time                                                                     1.331603   \n",
       "std_score_time                                                                      0.108335   \n",
       "param_randomforestregressor__max_depth                                                    20   \n",
       "param_randomforestregressor__max_features                                           0.181169   \n",
       "param_randomforestregressor__n_estimators                                                344   \n",
       "param_simpleimputer__strategy                                                         median   \n",
       "param_targetencoder__min_samples_leaf                                                    841   \n",
       "params                                     {'randomforestregressor__max_depth': 20, 'rand...   \n",
       "split0_test_score                                                                -445.641539   \n",
       "split1_test_score                                                                -442.936642   \n",
       "split2_test_score                                                                -440.577097   \n",
       "mean_test_score                                                                  -443.051760   \n",
       "std_test_score                                                                      2.069152   \n",
       "rank_test_score                                                                            6   \n",
       "split0_train_score                                                               -213.972614   \n",
       "split1_train_score                                                               -212.870630   \n",
       "split2_train_score                                                               -215.426722   \n",
       "mean_train_score                                                                 -214.089989   \n",
       "std_train_score                                                                     1.046816   \n",
       "\n",
       "                                                                                           2  \\\n",
       "mean_fit_time                                                                       9.252611   \n",
       "std_fit_time                                                                        0.188695   \n",
       "mean_score_time                                                                     0.569227   \n",
       "std_score_time                                                                      0.005701   \n",
       "param_randomforestregressor__max_depth                                                    10   \n",
       "param_randomforestregressor__max_features                                           0.220464   \n",
       "param_randomforestregressor__n_estimators                                                344   \n",
       "param_simpleimputer__strategy                                                           mean   \n",
       "param_targetencoder__min_samples_leaf                                                    361   \n",
       "params                                     {'randomforestregressor__max_depth': 10, 'rand...   \n",
       "split0_test_score                                                                -521.204273   \n",
       "split1_test_score                                                                -512.529189   \n",
       "split2_test_score                                                                -517.786138   \n",
       "mean_test_score                                                                  -517.173200   \n",
       "std_test_score                                                                      3.568010   \n",
       "rank_test_score                                                                            7   \n",
       "split0_train_score                                                               -467.910031   \n",
       "split1_train_score                                                               -469.060044   \n",
       "split2_train_score                                                               -471.952827   \n",
       "mean_train_score                                                                 -469.640967   \n",
       "std_train_score                                                                     1.700814   \n",
       "\n",
       "                                                                                           3  \\\n",
       "mean_fit_time                                                                       9.062958   \n",
       "std_fit_time                                                                        0.242244   \n",
       "mean_score_time                                                                     0.364869   \n",
       "std_score_time                                                                      0.003252   \n",
       "param_randomforestregressor__max_depth                                                     5   \n",
       "param_randomforestregressor__max_features                                           0.373962   \n",
       "param_randomforestregressor__n_estimators                                                399   \n",
       "param_simpleimputer__strategy                                                         median   \n",
       "param_targetencoder__min_samples_leaf                                                    361   \n",
       "params                                     {'randomforestregressor__max_depth': 5, 'rando...   \n",
       "split0_test_score                                                                -610.696735   \n",
       "split1_test_score                                                                -606.663548   \n",
       "split2_test_score                                                                -613.451501   \n",
       "mean_test_score                                                                  -610.270595   \n",
       "std_test_score                                                                      2.787504   \n",
       "rank_test_score                                                                            8   \n",
       "split0_train_score                                                               -602.806405   \n",
       "split1_train_score                                                               -603.452279   \n",
       "split2_train_score                                                               -606.361025   \n",
       "mean_train_score                                                                 -604.206570   \n",
       "std_train_score                                                                     1.546080   \n",
       "\n",
       "                                                                                           9  \\\n",
       "mean_fit_time                                                                       1.315299   \n",
       "std_fit_time                                                                        0.239276   \n",
       "mean_score_time                                                                     0.128934   \n",
       "std_score_time                                                                      0.057095   \n",
       "param_randomforestregressor__max_depth                                                     5   \n",
       "param_randomforestregressor__max_features                                           0.255759   \n",
       "param_randomforestregressor__n_estimators                                                 64   \n",
       "param_simpleimputer__strategy                                                           mean   \n",
       "param_targetencoder__min_samples_leaf                                                    609   \n",
       "params                                     {'randomforestregressor__max_depth': 5, 'rando...   \n",
       "split0_test_score                                                                -639.518932   \n",
       "split1_test_score                                                                -635.739018   \n",
       "split2_test_score                                                                -643.325546   \n",
       "mean_test_score                                                                  -639.527832   \n",
       "std_test_score                                                                      3.097194   \n",
       "rank_test_score                                                                            9   \n",
       "split0_train_score                                                               -631.878652   \n",
       "split1_train_score                                                               -632.626454   \n",
       "split2_train_score                                                               -637.202781   \n",
       "mean_train_score                                                                 -633.902629   \n",
       "std_train_score                                                                     2.353445   \n",
       "\n",
       "                                                                                           8  \n",
       "mean_fit_time                                                                       7.372343  \n",
       "std_fit_time                                                                        0.074854  \n",
       "mean_score_time                                                                     0.548194  \n",
       "std_score_time                                                                      0.020150  \n",
       "param_randomforestregressor__max_depth                                                     5  \n",
       "param_randomforestregressor__max_features                                           0.191408  \n",
       "param_randomforestregressor__n_estimators                                                490  \n",
       "param_simpleimputer__strategy                                                           mean  \n",
       "param_targetencoder__min_samples_leaf                                                    668  \n",
       "params                                     {'randomforestregressor__max_depth': 5, 'rando...  \n",
       "split0_test_score                                                                -657.306923  \n",
       "split1_test_score                                                                -655.188503  \n",
       "split2_test_score                                                                -659.206644  \n",
       "mean_test_score                                                                  -657.234024  \n",
       "std_test_score                                                                      1.641209  \n",
       "rank_test_score                                                                           10  \n",
       "split0_train_score                                                               -651.332790  \n",
       "split1_train_score                                                               -651.396905  \n",
       "split2_train_score                                                               -653.777707  \n",
       "mean_train_score                                                                 -652.169134  \n",
       "std_train_score                                                                     1.137734  "
      ]
     },
     "execution_count": 27,
     "metadata": {},
     "output_type": "execute_result"
    }
   ],
   "source": [
    "pd.DataFrame(search.cv_results_).sort_values(by='rank_test_score').T"
   ]
  },
  {
   "cell_type": "markdown",
   "metadata": {
    "colab_type": "text",
    "id": "GDZyu6FNyY2l"
   },
   "source": [
    "### Make predictions for test set"
   ]
  },
  {
   "cell_type": "code",
   "execution_count": 28,
   "metadata": {
    "colab": {},
    "colab_type": "code",
    "id": "-1PuUKllYqie"
   },
   "outputs": [],
   "source": [
    "pipeline = search.best_estimator_"
   ]
  },
  {
   "cell_type": "code",
   "execution_count": 29,
   "metadata": {
    "colab": {},
    "colab_type": "code",
    "id": "OuWqQUk_yIw4"
   },
   "outputs": [
    {
     "name": "stdout",
     "output_type": "stream",
     "text": [
      "Test MAE: $417\n"
     ]
    }
   ],
   "source": [
    "from sklearn.metrics import mean_absolute_error\n",
    "\n",
    "X_test = test[features]\n",
    "y_test = test[target]\n",
    "\n",
    "y_pred = pipeline.predict(X_test)\n",
    "mae = mean_absolute_error(y_test, y_pred)\n",
    "print(f'Test MAE: ${mae:,.0f}')"
   ]
  },
  {
   "cell_type": "markdown",
   "metadata": {
    "colab_type": "text",
    "id": "GfRNQjRbYqih"
   },
   "source": [
    "\n",
    "Here's what the [`RandomizdSearchCV` documentation](https://scikit-learn.org/stable/modules/generated/sklearn.model_selection.RandomizedSearchCV.html) says about the `best_estimator_` attribute:\n",
    "\n",
    "> **best_estimator_** : ***estimator***  \n",
    "> Estimator that was chosen by the search, i.e. estimator which gave highest score (or smallest loss if specified) on the left out data. Not available if `refit=False`. ... See `refit` parameter for more information ...\n",
    "\n",
    "So let's look at the `refit` parameter too:\n",
    "\n",
    "> **refit** : ***boolean, string, or callable, default=True***  \n",
    "> Refit an estimator using the best found parameters on the whole dataset.\n",
    "\n",
    "By default, scikit-learn cross-validation will _\"refit an estimator using the best found parameters on the whole dataset\",_ which means, use **all** the training data:\n",
    "\n",
    "<img src=\"https://scikit-learn.org/stable/_images/grid_search_workflow.png\" width=\"50%\">\n",
    "\n",
    "***Tip: If you're doing 3-way train/validation/test split, you should do this too!*** After you've optimized your hyperparameters and selected your final model, then manually refit on both the training and validation data."
   ]
  },
  {
   "cell_type": "markdown",
   "metadata": {
    "colab_type": "text",
    "id": "Bfa-uttgYqii"
   },
   "source": [
    "## Challenge\n",
    "\n",
    "For your assignment, use scikit-learn for hyperparameter optimization with RandomizedSearchCV."
   ]
  },
  {
   "cell_type": "markdown",
   "metadata": {
    "colab_type": "text",
    "id": "kjhZDo22Yqii"
   },
   "source": [
    "# Review\n",
    "\n",
    "Continue to participate in our Kaggle Challenge, and practice these objectives:\n",
    "\n",
    "- Do **cross-validation** with independent test set\n",
    "- Use scikit-learn for **hyperparameter optimization**\n",
    "\n",
    "You can refer to these suggestions when you do hyperparameter optimization, now and in future projects:"
   ]
  }
 ],
 "metadata": {
  "colab": {
   "name": "LectureNotes223_CrossValidation.ipynb",
   "provenance": [
    {
     "file_id": "https://github.com/LambdaSchool/DS-Unit-2-Kaggle-Challenge/blob/master/module3-cross-validation/LS_DS_223.ipynb",
     "timestamp": 1582131529551
    }
   ]
  },
  "kernelspec": {
   "display_name": "Python 3",
   "language": "python",
   "name": "python3"
  },
  "language_info": {
   "codemirror_mode": {
    "name": "ipython",
    "version": 3
   },
   "file_extension": ".py",
   "mimetype": "text/x-python",
   "name": "python",
   "nbconvert_exporter": "python",
   "pygments_lexer": "ipython3",
   "version": "3.8.2"
  }
 },
 "nbformat": 4,
 "nbformat_minor": 1
}
