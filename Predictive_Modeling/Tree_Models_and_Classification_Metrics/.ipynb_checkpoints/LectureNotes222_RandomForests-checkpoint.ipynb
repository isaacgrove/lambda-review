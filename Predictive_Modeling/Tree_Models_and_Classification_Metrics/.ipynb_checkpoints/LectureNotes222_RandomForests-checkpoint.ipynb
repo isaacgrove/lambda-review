{
 "cells": [
  {
   "cell_type": "markdown",
   "metadata": {
    "colab_type": "text",
    "id": "UEHyIgGaaSEJ"
   },
   "source": [
    "Lambda School Data Science\n",
    "\n",
    "*Unit 2, Sprint 2, Module 2*\n",
    "\n",
    "---"
   ]
  },
  {
   "cell_type": "markdown",
   "metadata": {
    "colab_type": "text",
    "id": "mRfPLX4WgLVJ"
   },
   "source": [
    "# Random Forests"
   ]
  },
  {
   "cell_type": "markdown",
   "metadata": {
    "colab_type": "text",
    "id": "-3TH11e1gLVL"
   },
   "source": [
    "## Today's lesson has two take-away messages:\n",
    "\n",
    "#### 1. Try Tree Ensembles when you do machine learning with labeled, tabular data\n",
    "- Random Forest or Gradient Boosting \n",
    "- [Often have the best predictive accuracy](https://arxiv.org/abs/1708.05070) with labeled, tabular data.\n",
    "- Why? Because trees can fit non-linear, non-[monotonic](https://en.wikipedia.org/wiki/Monotonic_function) relationships, and [interactions](https://christophm.github.io/interpretable-ml-book/interaction.html) between features.\n",
    "- A single decision tree, grown to unlimited depth, will [overfit](http://www.r2d3.us/visual-intro-to-machine-learning-part-1/). We solve this problem by ensembling trees, with bagging (Random Forest) or boosting (Gradient Boosting).\n",
    "- bagging = \"bootstrapped aggregating\", or taking many randomly sampled feature subsets\n",
    "- Random Forests may be less sensitive to hyperparameters. Gradient Boosting may get better predictive accuracy.\n",
    "\n",
    "#### 2. One-hot encoding isn’t the only way, and may not be the best way, of categorical encoding for tree ensembles.\n",
    "- For example, tree ensembles can work with arbitrary \"ordinal\" encoding! (Randomly assigning an integer to each category.) Compared to one-hot encoding, the dimensionality will be lower, and the predictive accuracy may be just as good or even better.\n"
   ]
  },
  {
   "cell_type": "markdown",
   "metadata": {},
   "source": [
    "\n",
    "#### Remember, there's guides for everything. It's really all about what you can do given a few hours\n",
    "\n",
    "[Scikit-Learn User Guide: Random Forests](https://scikit-learn.org/stable/modules/ensemble.html#random-forests)"
   ]
  },
  {
   "cell_type": "code",
   "execution_count": 5,
   "metadata": {
    "colab": {},
    "colab_type": "code",
    "id": "zFaCO4TLSogW"
   },
   "outputs": [],
   "source": [
    "# lecture tl;dr\n",
    "\n",
    "# It's rare to use single decision trees except as an early baseline. Tree ensembles.\n",
    "\n",
    "# Select K best is for linear models.\n",
    "# Maybe exclude features with very little feature importance.\n",
    "# Use permutation importances for feature selections in tree models. \n",
    "# We'll do that next week.\n",
    "\n",
    "# With ordinals you don't have to worry about excluding high cardinality \n",
    "# features which may contain some information.\n",
    "# You really have to try both one-hot and ordinal methods, one isn't always better\n",
    "\n",
    "# Ryan thinks random forests are the best of both worlds because you can see \n",
    "# nonlinear relationships unlike logistic regression, you can do different depths, etc\n",
    "\n",
    "# \"Random\" forest = randomly bootstrapped samples, \"Bootstrap aggregating\" --> bagging\n",
    "# Each split considers a random subset of  features.\n",
    "\n",
    "# Trees work by finding the most discriminative thresholds for splits. \n",
    "# I'm not sure how exactly.\n",
    "\n",
    "# code for interactive ipywidget - graph sliders fit increasingly well"
   ]
  },
  {
   "cell_type": "markdown",
   "metadata": {
    "colab_type": "text",
    "id": "jRRNhkxcgLVK"
   },
   "source": [
    "### Topics\n",
    "- **random forests**\n",
    "- **ordinal encoding** with high-card cats\n",
    "- categorical encodings affect trees differently than linear models\n",
    "- ensembles reduce overfitting vs single trees w unlimited depth"
   ]
  },
  {
   "cell_type": "markdown",
   "metadata": {
    "colab_type": "text",
    "id": "r5PbOFEuFfGF"
   },
   "source": [
    "### Setup\n",
    "\n",
    "Run the code cell below. You can work locally (follow the [local setup instructions](https://lambdaschool.github.io/ds/unit2/local/)) or on Colab.\n",
    "\n",
    "Libraries\n",
    "\n",
    "- **category_encoders** \n",
    "- **graphviz**\n",
    "- ipywidgets\n",
    "- matplotlib\n",
    "- numpy\n",
    "- pandas\n",
    "- seaborn\n",
    "- scikit-learn"
   ]
  },
  {
   "cell_type": "code",
   "execution_count": 10,
   "metadata": {
    "colab": {},
    "colab_type": "code",
    "id": "FStAplyRFoEu"
   },
   "outputs": [],
   "source": [
    "DATA_PATH = 'https://raw.githubusercontent.com/LambdaSchool/DS-Unit-2-Kaggle-Challenge/master/data/'\n",
    "\n",
    "# %%capture\n",
    "# import sys\n",
    "\n",
    "# # If you're on Colab:\n",
    "# if 'google.colab' in sys.modules:\n",
    "#     DATA_PATH = 'https://raw.githubusercontent.com/LambdaSchool/DS-Unit-2-Kaggle-Challenge/master/data/'\n",
    "#     !pip install category_encoders==2.*\n",
    "\n",
    "# # If you're working locally:\n",
    "# else:\n",
    "#     DATA_PATH = '../data/'"
   ]
  },
  {
   "cell_type": "markdown",
   "metadata": {
    "colab_type": "text",
    "id": "ZL-yK8B7gLVW"
   },
   "source": [
    "# Use scikit-learn for random forests"
   ]
  },
  {
   "cell_type": "markdown",
   "metadata": {
    "colab_type": "text",
    "id": "3tbqQ4Rq9Eoz"
   },
   "source": [
    "## Overview\n",
    "\n",
    "Let's fit a Random Forest!\n",
    "\n",
    "![](https://pbs.twimg.com/media/EGSvKA0UUAEzUZi?format=png)\n",
    "\n",
    "[Chris Albon, MachineLearningFlashcards.com](https://twitter.com/chrisalbon/status/1181261589887909889)"
   ]
  },
  {
   "cell_type": "markdown",
   "metadata": {
    "colab_type": "text",
    "id": "gHFxMCPSgLVM"
   },
   "source": [
    "### Solution example\n",
    "\n",
    "First, read & wrangle the data.\n",
    "\n",
    "> Define a function to wrangle train, validate, and test sets in the same way. Clean outliers and engineer features. (For example, [what other columns have zeros and shouldn't?](https://github.com/Quartz/bad-data-guide#zeros-replace-missing-values) What other columns are duplicates, or nearly duplicates? Can you extract the year from date_recorded? Can you engineer new features, such as the number of years from waterpump construction to waterpump inspection?)"
   ]
  },
  {
   "cell_type": "code",
   "execution_count": 0,
   "metadata": {
    "colab": {},
    "colab_type": "code",
    "id": "acVpiJ-piIzC"
   },
   "outputs": [],
   "source": []
  },
  {
   "cell_type": "code",
   "execution_count": 11,
   "metadata": {
    "colab": {},
    "colab_type": "code",
    "id": "YTLm-rDagLVM"
   },
   "outputs": [],
   "source": [
    "import numpy as np\n",
    "import pandas as pd\n",
    "from sklearn.model_selection import train_test_split\n",
    "\n",
    "# Merge train_features.csv & train_labels.csv\n",
    "train = pd.merge(pd.read_csv(DATA_PATH+'waterpumps/train_features.csv'), \n",
    "                 pd.read_csv(DATA_PATH+'waterpumps/train_labels.csv'))\n",
    "\n",
    "# Read test_features.csv & sample_submission.csv\n",
    "test = pd.read_csv(DATA_PATH+'waterpumps/test_features.csv')\n",
    "sample_submission = pd.read_csv(DATA_PATH+'waterpumps/sample_submission.csv')\n",
    "\n",
    "# Split train into train & val\n",
    "train, val = train_test_split(train, train_size=0.80, test_size=0.20, \n",
    "                              stratify=train['status_group'], random_state=42)\n",
    "\n",
    "\n",
    "def wrangle(X):\n",
    "    \"\"\"Wrangle train, validate, and test sets in the same way\"\"\"\n",
    "    \n",
    "    # Prevent SettingWithCopyWarning\n",
    "    X = X.copy()\n",
    "    \n",
    "    # About 3% of the time, latitude has small values near zero,\n",
    "    # outside Tanzania, so we'll treat these values like zero.\n",
    "    X['latitude'] = X['latitude'].replace(-2e-08, 0)\n",
    "    \n",
    "    # When columns have zeros and shouldn't, they are like null values.\n",
    "    # So we will replace the zeros with nulls, and impute missing values later.\n",
    "    # Also create a \"missing indicator\" column, because the fact that\n",
    "    # values are missing may be a predictive signal.\n",
    "    cols_with_zeros = ['longitude', 'latitude', 'construction_year', \n",
    "                       'gps_height', 'population']\n",
    "    for col in cols_with_zeros:\n",
    "        X[col] = X[col].replace(0, np.nan)\n",
    "        X[col+'_MISSING'] = X[col].isnull()\n",
    "            \n",
    "    # Drop duplicate columns\n",
    "    duplicates = ['quantity_group', 'payment_type']\n",
    "    X = X.drop(columns=duplicates)\n",
    "    \n",
    "    # Drop recorded_by (never varies) and id (always varies, random)\n",
    "    unusable_variance = ['recorded_by', 'id']\n",
    "    X = X.drop(columns=unusable_variance)\n",
    "    \n",
    "    # Convert date_recorded to datetime\n",
    "    X['date_recorded'] = pd.to_datetime(X['date_recorded'], infer_datetime_format=True)\n",
    "    \n",
    "    # Extract components from date_recorded, then drop the original column\n",
    "    X['year_recorded'] = X['date_recorded'].dt.year\n",
    "    X['month_recorded'] = X['date_recorded'].dt.month\n",
    "    X['day_recorded'] = X['date_recorded'].dt.day\n",
    "    X = X.drop(columns='date_recorded')\n",
    "    \n",
    "    # Engineer feature: how many years from construction_year to date_recorded\n",
    "    X['years'] = X['year_recorded'] - X['construction_year']\n",
    "    X['years_MISSING'] = X['years'].isnull()\n",
    "    \n",
    "    # return the wrangled dataframe\n",
    "    return X\n",
    "\n",
    "train = wrangle(train)\n",
    "val = wrangle(val)\n",
    "test = wrangle(test)"
   ]
  },
  {
   "cell_type": "code",
   "execution_count": 12,
   "metadata": {
    "colab": {},
    "colab_type": "code",
    "id": "m2HppBvZgLVP"
   },
   "outputs": [],
   "source": [
    "# The status_group column is the target\n",
    "target = 'status_group'\n",
    "\n",
    "# Get a dataframe with all train columns except the target\n",
    "train_features = train.drop(columns=[target])\n",
    "\n",
    "# Get a list of the numeric features\n",
    "numeric_features = train_features.select_dtypes(include='number').columns.tolist()\n",
    "\n",
    "# Get a series with the cardinality of the nonnumeric features\n",
    "cardinality = train_features.select_dtypes(exclude='number').nunique()\n",
    "\n",
    "# Get a list of all categorical features with cardinality <= 50\n",
    "categorical_features = cardinality[cardinality <= 50].index.tolist()\n",
    "\n",
    "# Combine the lists \n",
    "features = numeric_features + categorical_features"
   ]
  },
  {
   "cell_type": "code",
   "execution_count": 13,
   "metadata": {
    "colab": {},
    "colab_type": "code",
    "id": "aXmK2brXgLVR"
   },
   "outputs": [],
   "source": [
    "# Arrange data into X features matrix and y target vector \n",
    "X_train = train[features]\n",
    "y_train = train[target]\n",
    "X_val = val[features]\n",
    "y_val = val[target]\n",
    "X_test = test[features]"
   ]
  },
  {
   "cell_type": "code",
   "execution_count": 14,
   "metadata": {
    "colab": {
     "base_uri": "https://localhost:8080/",
     "height": 34
    },
    "colab_type": "code",
    "executionInfo": {
     "elapsed": 9112,
     "status": "ok",
     "timestamp": 1583425656442,
     "user": {
      "displayName": "Isaac Grove",
      "photoUrl": "",
      "userId": "03084466740860562469"
     },
     "user_tz": 300
    },
    "id": "1FR7hmhzX1q7",
    "outputId": "279e6d0c-b6dc-4bd6-b427-ee01335af7cf"
   },
   "outputs": [
    {
     "data": {
      "text/plain": [
       "56481"
      ]
     },
     "execution_count": 14,
     "metadata": {},
     "output_type": "execute_result"
    }
   ],
   "source": [
    "train.describe(exclude='number').T.unique.sum()"
   ]
  },
  {
   "cell_type": "markdown",
   "metadata": {
    "colab_type": "text",
    "id": "XsT6ahBr9Eo-"
   },
   "source": [
    "## Follow Along\n",
    "\n",
    "[Scikit-Learn User Guide: Random Forests](https://scikit-learn.org/stable/modules/ensemble.html#random-forests)"
   ]
  },
  {
   "cell_type": "code",
   "execution_count": 15,
   "metadata": {
    "colab": {
     "base_uri": "https://localhost:8080/",
     "height": 68
    },
    "colab_type": "code",
    "executionInfo": {
     "elapsed": 24945,
     "status": "ok",
     "timestamp": 1583425672293,
     "user": {
      "displayName": "Isaac Grove",
      "photoUrl": "",
      "userId": "03084466740860562469"
     },
     "user_tz": 300
    },
    "id": "57yyygsdgLVW",
    "outputId": "0d5bbfcc-ef8e-4de4-9e37-b9595677593f"
   },
   "outputs": [
    {
     "name": "stderr",
     "output_type": "stream",
     "text": [
      "/Library/Frameworks/Python.framework/Versions/3.8/lib/python3.8/site-packages/category_encoders/utils.py:21: FutureWarning: is_categorical is deprecated and will be removed in a future version.  Use is_categorical_dtype instead\n",
      "  elif pd.api.types.is_categorical(cols):\n"
     ]
    },
    {
     "name": "stdout",
     "output_type": "stream",
     "text": [
      "Validation Accuracy 0.8088383838383838\n",
      "CPU times: user 18 s, sys: 2.31 s, total: 20.3 s\n",
      "Wall time: 11.1 s\n"
     ]
    }
   ],
   "source": [
    "%%time\n",
    "# WARNING: the %%time command sometimes has quirks/bugs\n",
    "\n",
    "import category_encoders as ce\n",
    "from sklearn.ensemble import RandomForestClassifier\n",
    "from sklearn.impute import SimpleImputer\n",
    "from sklearn.pipeline import make_pipeline\n",
    "\n",
    "pipeline = make_pipeline(\n",
    "    ce.OneHotEncoder(use_cat_names=True), \n",
    "    SimpleImputer(strategy='median'), \n",
    "    RandomForestClassifier(random_state=0, n_jobs=-1)\n",
    ")\n",
    "\n",
    "# Fit on train, score on val\n",
    "pipeline.fit(X_train, y_train)\n",
    "print('Validation Accuracy', pipeline.score(X_val, y_val))"
   ]
  },
  {
   "cell_type": "code",
   "execution_count": 16,
   "metadata": {
    "colab": {
     "base_uri": "https://localhost:8080/",
     "height": 34
    },
    "colab_type": "code",
    "executionInfo": {
     "elapsed": 24928,
     "status": "ok",
     "timestamp": 1583425672294,
     "user": {
      "displayName": "Isaac Grove",
      "photoUrl": "",
      "userId": "03084466740860562469"
     },
     "user_tz": 300
    },
    "id": "aNufH5BOVCsj",
    "outputId": "935556f9-870c-45a2-9c0a-26d6c95953b0"
   },
   "outputs": [
    {
     "name": "stdout",
     "output_type": "stream",
     "text": [
      "X_train shape before encoding (47520, 38)\n"
     ]
    }
   ],
   "source": [
    "print('X_train shape before encoding', X_train.shape)"
   ]
  },
  {
   "cell_type": "code",
   "execution_count": 17,
   "metadata": {
    "colab": {
     "base_uri": "https://localhost:8080/",
     "height": 34
    },
    "colab_type": "code",
    "executionInfo": {
     "elapsed": 26160,
     "status": "ok",
     "timestamp": 1583425673543,
     "user": {
      "displayName": "Isaac Grove",
      "photoUrl": "",
      "userId": "03084466740860562469"
     },
     "user_tz": 300
    },
    "id": "ay8iLJhtVIlQ",
    "outputId": "28f2614d-5390-4c59-a5b7-9dc7163ad6ef"
   },
   "outputs": [
    {
     "name": "stdout",
     "output_type": "stream",
     "text": [
      "X_train shape after encoding (47520, 182)\n"
     ]
    }
   ],
   "source": [
    "encoder = pipeline.named_steps['onehotencoder']\n",
    "encoded = encoder.transform(X_train)\n",
    "print('X_train shape after encoding', encoded.shape)"
   ]
  },
  {
   "cell_type": "code",
   "execution_count": 18,
   "metadata": {
    "colab": {
     "base_uri": "https://localhost:8080/",
     "height": 607
    },
    "colab_type": "code",
    "executionInfo": {
     "elapsed": 26544,
     "status": "ok",
     "timestamp": 1583425673946,
     "user": {
      "displayName": "Isaac Grove",
      "photoUrl": "",
      "userId": "03084466740860562469"
     },
     "user_tz": 300
    },
    "id": "LRFGlwRaVmLW",
    "outputId": "0722bd83-c883-4d84-a264-70a4a9e2a5f0"
   },
   "outputs": [
    {
     "data": {
      "image/png": "[encoded data removed]",
      "text/plain": [
       "<Figure size 720x720 with 1 Axes>"
      ]
     },
     "metadata": {
      "needs_background": "light"
     },
     "output_type": "display_data"
    }
   ],
   "source": [
    "%matplotlib inline\n",
    "import matplotlib.pyplot as plt\n",
    "\n",
    "# Get feature importances\n",
    "rf = pipeline.named_steps['randomforestclassifier']\n",
    "importances = pd.Series(rf.feature_importances_, encoded.columns)\n",
    "\n",
    "# Plot top n feature importances\n",
    "n = 20\n",
    "plt.figure(figsize=(10,n/2))\n",
    "plt.title(f'Top {n} features')\n",
    "importances.sort_values()[-n:].plot.barh();"
   ]
  },
  {
   "cell_type": "markdown",
   "metadata": {
    "colab_type": "text",
    "id": "yfyk_aa5gLVY"
   },
   "source": [
    "# Do ordinal encoding with high-cardinality categoricals"
   ]
  },
  {
   "cell_type": "markdown",
   "metadata": {
    "colab_type": "text",
    "id": "TALhCsW09EpC"
   },
   "source": [
    "## Overview\n",
    "\n",
    "http://contrib.scikit-learn.org/categorical-encoding/ordinal.html"
   ]
  },
  {
   "cell_type": "markdown",
   "metadata": {
    "colab_type": "text",
    "id": "Xk0xQ1lM9EpC"
   },
   "source": [
    "## Follow Along"
   ]
  },
  {
   "cell_type": "code",
   "execution_count": 0,
   "metadata": {
    "colab": {},
    "colab_type": "code",
    "id": "b8d_WJtcgLVZ"
   },
   "outputs": [],
   "source": [
    "# Re-arrange data into X features matrix and y target vector, so\n",
    "# we use *all* features, including the high-cardinality categoricals\n",
    "X_train = train.drop(columns=target)\n",
    "y_train = train[target]\n",
    "X_val = val.drop(columns=target)\n",
    "y_val = val[target]\n",
    "X_test = test"
   ]
  },
  {
   "cell_type": "code",
   "execution_count": 12,
   "metadata": {
    "colab": {
     "base_uri": "https://localhost:8080/",
     "height": 68
    },
    "colab_type": "code",
    "executionInfo": {
     "elapsed": 37077,
     "status": "ok",
     "timestamp": 1583425684499,
     "user": {
      "displayName": "Isaac Grove",
      "photoUrl": "",
      "userId": "03084466740860562469"
     },
     "user_tz": 300
    },
    "id": "BjxV8i9daBoO",
    "outputId": "37e8b7e8-31c7-4a45-f2b7-177aae7a64f9"
   },
   "outputs": [
    {
     "name": "stdout",
     "output_type": "stream",
     "text": [
      "Validation Accuracy 0.8092592592592592\n",
      "CPU times: user 19.1 s, sys: 159 ms, total: 19.2 s\n",
      "Wall time: 10.5 s\n"
     ]
    }
   ],
   "source": [
    "%%time\n",
    "\n",
    "# This pipeline is identical to the example cell above, \n",
    "# except we're replacing one-hot encoder with \"ordinal\" encoder\n",
    "\n",
    "pipeline = make_pipeline(\n",
    "    ce.OrdinalEncoder(), \n",
    "    SimpleImputer(strategy='median'), \n",
    "    RandomForestClassifier(random_state=0, n_jobs=-1)\n",
    ")\n",
    "\n",
    "# Fit on train, score on val\n",
    "pipeline.fit(X_train, y_train)\n",
    "print('Validation Accuracy', pipeline.score(X_val, y_val))"
   ]
  },
  {
   "cell_type": "code",
   "execution_count": 13,
   "metadata": {
    "colab": {
     "base_uri": "https://localhost:8080/",
     "height": 34
    },
    "colab_type": "code",
    "executionInfo": {
     "elapsed": 37060,
     "status": "ok",
     "timestamp": 1583425684500,
     "user": {
      "displayName": "Isaac Grove",
      "photoUrl": "",
      "userId": "03084466740860562469"
     },
     "user_tz": 300
    },
    "id": "-oTJ_a9_boTQ",
    "outputId": "80bb53ba-d478-4faf-ce54-c749cdfcbe57"
   },
   "outputs": [
    {
     "name": "stdout",
     "output_type": "stream",
     "text": [
      "X_train shape before encoding (47520, 45)\n"
     ]
    }
   ],
   "source": [
    "print('X_train shape before encoding', X_train.shape)"
   ]
  },
  {
   "cell_type": "code",
   "execution_count": 14,
   "metadata": {
    "colab": {
     "base_uri": "https://localhost:8080/",
     "height": 34
    },
    "colab_type": "code",
    "executionInfo": {
     "elapsed": 37215,
     "status": "ok",
     "timestamp": 1583425684672,
     "user": {
      "displayName": "Isaac Grove",
      "photoUrl": "",
      "userId": "03084466740860562469"
     },
     "user_tz": 300
    },
    "id": "1BHSXBFmbtzA",
    "outputId": "4fc2933d-54e1-45b9-c333-4fd100dcd04d"
   },
   "outputs": [
    {
     "name": "stdout",
     "output_type": "stream",
     "text": [
      "X_train shape after encoding (47520, 45)\n"
     ]
    }
   ],
   "source": [
    "encoder = pipeline.named_steps['ordinalencoder']\n",
    "encoded = encoder.transform(X_train)\n",
    "print('X_train shape after encoding', encoded.shape)"
   ]
  },
  {
   "cell_type": "markdown",
   "metadata": {
    "colab_type": "text",
    "id": "xs2UPoVdgLVp"
   },
   "source": [
    "# Understand how categorical encodings affect trees differently compared to linear models"
   ]
  },
  {
   "cell_type": "markdown",
   "metadata": {
    "colab_type": "text",
    "id": "jKbCTRg59EpH"
   },
   "source": [
    "## Follow Along"
   ]
  },
  {
   "cell_type": "markdown",
   "metadata": {
    "colab_type": "text",
    "id": "z8V-A92mgLVp"
   },
   "source": [
    "### Categorical exploration, 1 feature at a time\n",
    "\n",
    "Change `feature`, then re-run these cells!"
   ]
  },
  {
   "cell_type": "code",
   "execution_count": 0,
   "metadata": {
    "colab": {},
    "colab_type": "code",
    "id": "G35RAzVdgLVq"
   },
   "outputs": [],
   "source": [
    "feature = 'quantity'"
   ]
  },
  {
   "cell_type": "code",
   "execution_count": 16,
   "metadata": {
    "colab": {
     "base_uri": "https://localhost:8080/",
     "height": 119
    },
    "colab_type": "code",
    "executionInfo": {
     "elapsed": 37374,
     "status": "ok",
     "timestamp": 1583425684850,
     "user": {
      "displayName": "Isaac Grove",
      "photoUrl": "",
      "userId": "03084466740860562469"
     },
     "user_tz": 300
    },
    "id": "OuxHWiH8gLVr",
    "outputId": "d57c6b89-c988-4a62-84f9-7f03fcc30361"
   },
   "outputs": [
    {
     "data": {
      "text/plain": [
       "enough          26567\n",
       "insufficient    12153\n",
       "dry              4921\n",
       "seasonal         3244\n",
       "unknown           635\n",
       "Name: quantity, dtype: int64"
      ]
     },
     "execution_count": 16,
     "metadata": {
      "tags": []
     },
     "output_type": "execute_result"
    }
   ],
   "source": [
    "X_train[feature].value_counts()"
   ]
  },
  {
   "cell_type": "code",
   "execution_count": 17,
   "metadata": {
    "colab": {
     "base_uri": "https://localhost:8080/",
     "height": 551
    },
    "colab_type": "code",
    "executionInfo": {
     "elapsed": 38551,
     "status": "ok",
     "timestamp": 1583425686046,
     "user": {
      "displayName": "Isaac Grove",
      "photoUrl": "",
      "userId": "03084466740860562469"
     },
     "user_tz": 300
    },
    "id": "pVxoC4NngLVt",
    "outputId": "9f757959-5782-4351-b333-e10670becfa1"
   },
   "outputs": [
    {
     "data": {
      "image/png": "[encoded data removed]",
      "text/plain": [
       "<Figure size 1152x648 with 1 Axes>"
      ]
     },
     "metadata": {
      "tags": []
     },
     "output_type": "display_data"
    }
   ],
   "source": [
    "import seaborn as sns\n",
    "plt.figure(figsize=(16,9))\n",
    "sns.barplot(\n",
    "    x=train[feature], \n",
    "    y=train['status_group']=='functional', \n",
    "    color='grey'\n",
    ");"
   ]
  },
  {
   "cell_type": "code",
   "execution_count": 18,
   "metadata": {
    "colab": {
     "base_uri": "https://localhost:8080/",
     "height": 374
    },
    "colab_type": "code",
    "executionInfo": {
     "elapsed": 38531,
     "status": "ok",
     "timestamp": 1583425686046,
     "user": {
      "displayName": "Isaac Grove",
      "photoUrl": "",
      "userId": "03084466740860562469"
     },
     "user_tz": 300
    },
    "id": "w99mek14gLVv",
    "outputId": "a12172bf-aa43-4170-e4ed-7ada66ff2206"
   },
   "outputs": [
    {
     "data": {
      "text/plain": [
       "43360    insufficient\n",
       "7263           enough\n",
       "2486     insufficient\n",
       "313            enough\n",
       "52726          enough\n",
       "8558     insufficient\n",
       "2559     insufficient\n",
       "54735          enough\n",
       "25763          enough\n",
       "44540          enough\n",
       "28603             dry\n",
       "4372     insufficient\n",
       "30666    insufficient\n",
       "6431           enough\n",
       "57420    insufficient\n",
       "1373           enough\n",
       "2026           enough\n",
       "58977             dry\n",
       "41101        seasonal\n",
       "10019          enough\n",
       "Name: quantity, dtype: object"
      ]
     },
     "execution_count": 18,
     "metadata": {
      "tags": []
     },
     "output_type": "execute_result"
    }
   ],
   "source": [
    "X_train[feature].head(20)"
   ]
  },
  {
   "cell_type": "markdown",
   "metadata": {
    "colab_type": "text",
    "id": "ezzK2IdbgLVx"
   },
   "source": [
    "### [One Hot Encoding](http://contrib.scikit-learn.org/categorical-encoding/onehot.html)\n",
    "\n",
    "> Onehot (or dummy) coding for categorical features, produces one feature per category, each binary.\n",
    "\n",
    "Warning: May run slow, or run out of memory, with high cardinality categoricals!"
   ]
  },
  {
   "cell_type": "code",
   "execution_count": 19,
   "metadata": {
    "colab": {
     "base_uri": "https://localhost:8080/",
     "height": 686
    },
    "colab_type": "code",
    "executionInfo": {
     "elapsed": 38513,
     "status": "ok",
     "timestamp": 1583425686047,
     "user": {
      "displayName": "Isaac Grove",
      "photoUrl": "",
      "userId": "03084466740860562469"
     },
     "user_tz": 300
    },
    "id": "HDQZtV6GgLVy",
    "outputId": "000c5663-616d-42a4-e2a2-dcc1a26c5837"
   },
   "outputs": [
    {
     "name": "stdout",
     "output_type": "stream",
     "text": [
      "5 columns\n"
     ]
    },
    {
     "data": {
      "text/html": [
       "<div>\n",
       "<style scoped>\n",
       "    .dataframe tbody tr th:only-of-type {\n",
       "        vertical-align: middle;\n",
       "    }\n",
       "\n",
       "    .dataframe tbody tr th {\n",
       "        vertical-align: top;\n",
       "    }\n",
       "\n",
       "    .dataframe thead th {\n",
       "        text-align: right;\n",
       "    }\n",
       "</style>\n",
       "<table border=\"1\" class=\"dataframe\">\n",
       "  <thead>\n",
       "    <tr style=\"text-align: right;\">\n",
       "      <th></th>\n",
       "      <th>quantity_insufficient</th>\n",
       "      <th>quantity_enough</th>\n",
       "      <th>quantity_dry</th>\n",
       "      <th>quantity_seasonal</th>\n",
       "      <th>quantity_unknown</th>\n",
       "    </tr>\n",
       "  </thead>\n",
       "  <tbody>\n",
       "    <tr>\n",
       "      <th>43360</th>\n",
       "      <td>1</td>\n",
       "      <td>0</td>\n",
       "      <td>0</td>\n",
       "      <td>0</td>\n",
       "      <td>0</td>\n",
       "    </tr>\n",
       "    <tr>\n",
       "      <th>7263</th>\n",
       "      <td>0</td>\n",
       "      <td>1</td>\n",
       "      <td>0</td>\n",
       "      <td>0</td>\n",
       "      <td>0</td>\n",
       "    </tr>\n",
       "    <tr>\n",
       "      <th>2486</th>\n",
       "      <td>1</td>\n",
       "      <td>0</td>\n",
       "      <td>0</td>\n",
       "      <td>0</td>\n",
       "      <td>0</td>\n",
       "    </tr>\n",
       "    <tr>\n",
       "      <th>313</th>\n",
       "      <td>0</td>\n",
       "      <td>1</td>\n",
       "      <td>0</td>\n",
       "      <td>0</td>\n",
       "      <td>0</td>\n",
       "    </tr>\n",
       "    <tr>\n",
       "      <th>52726</th>\n",
       "      <td>0</td>\n",
       "      <td>1</td>\n",
       "      <td>0</td>\n",
       "      <td>0</td>\n",
       "      <td>0</td>\n",
       "    </tr>\n",
       "    <tr>\n",
       "      <th>8558</th>\n",
       "      <td>1</td>\n",
       "      <td>0</td>\n",
       "      <td>0</td>\n",
       "      <td>0</td>\n",
       "      <td>0</td>\n",
       "    </tr>\n",
       "    <tr>\n",
       "      <th>2559</th>\n",
       "      <td>1</td>\n",
       "      <td>0</td>\n",
       "      <td>0</td>\n",
       "      <td>0</td>\n",
       "      <td>0</td>\n",
       "    </tr>\n",
       "    <tr>\n",
       "      <th>54735</th>\n",
       "      <td>0</td>\n",
       "      <td>1</td>\n",
       "      <td>0</td>\n",
       "      <td>0</td>\n",
       "      <td>0</td>\n",
       "    </tr>\n",
       "    <tr>\n",
       "      <th>25763</th>\n",
       "      <td>0</td>\n",
       "      <td>1</td>\n",
       "      <td>0</td>\n",
       "      <td>0</td>\n",
       "      <td>0</td>\n",
       "    </tr>\n",
       "    <tr>\n",
       "      <th>44540</th>\n",
       "      <td>0</td>\n",
       "      <td>1</td>\n",
       "      <td>0</td>\n",
       "      <td>0</td>\n",
       "      <td>0</td>\n",
       "    </tr>\n",
       "    <tr>\n",
       "      <th>28603</th>\n",
       "      <td>0</td>\n",
       "      <td>0</td>\n",
       "      <td>1</td>\n",
       "      <td>0</td>\n",
       "      <td>0</td>\n",
       "    </tr>\n",
       "    <tr>\n",
       "      <th>4372</th>\n",
       "      <td>1</td>\n",
       "      <td>0</td>\n",
       "      <td>0</td>\n",
       "      <td>0</td>\n",
       "      <td>0</td>\n",
       "    </tr>\n",
       "    <tr>\n",
       "      <th>30666</th>\n",
       "      <td>1</td>\n",
       "      <td>0</td>\n",
       "      <td>0</td>\n",
       "      <td>0</td>\n",
       "      <td>0</td>\n",
       "    </tr>\n",
       "    <tr>\n",
       "      <th>6431</th>\n",
       "      <td>0</td>\n",
       "      <td>1</td>\n",
       "      <td>0</td>\n",
       "      <td>0</td>\n",
       "      <td>0</td>\n",
       "    </tr>\n",
       "    <tr>\n",
       "      <th>57420</th>\n",
       "      <td>1</td>\n",
       "      <td>0</td>\n",
       "      <td>0</td>\n",
       "      <td>0</td>\n",
       "      <td>0</td>\n",
       "    </tr>\n",
       "    <tr>\n",
       "      <th>1373</th>\n",
       "      <td>0</td>\n",
       "      <td>1</td>\n",
       "      <td>0</td>\n",
       "      <td>0</td>\n",
       "      <td>0</td>\n",
       "    </tr>\n",
       "    <tr>\n",
       "      <th>2026</th>\n",
       "      <td>0</td>\n",
       "      <td>1</td>\n",
       "      <td>0</td>\n",
       "      <td>0</td>\n",
       "      <td>0</td>\n",
       "    </tr>\n",
       "    <tr>\n",
       "      <th>58977</th>\n",
       "      <td>0</td>\n",
       "      <td>0</td>\n",
       "      <td>1</td>\n",
       "      <td>0</td>\n",
       "      <td>0</td>\n",
       "    </tr>\n",
       "    <tr>\n",
       "      <th>41101</th>\n",
       "      <td>0</td>\n",
       "      <td>0</td>\n",
       "      <td>0</td>\n",
       "      <td>1</td>\n",
       "      <td>0</td>\n",
       "    </tr>\n",
       "    <tr>\n",
       "      <th>10019</th>\n",
       "      <td>0</td>\n",
       "      <td>1</td>\n",
       "      <td>0</td>\n",
       "      <td>0</td>\n",
       "      <td>0</td>\n",
       "    </tr>\n",
       "  </tbody>\n",
       "</table>\n",
       "</div>"
      ],
      "text/plain": [
       "       quantity_insufficient  ...  quantity_unknown\n",
       "43360                      1  ...                 0\n",
       "7263                       0  ...                 0\n",
       "2486                       1  ...                 0\n",
       "313                        0  ...                 0\n",
       "52726                      0  ...                 0\n",
       "8558                       1  ...                 0\n",
       "2559                       1  ...                 0\n",
       "54735                      0  ...                 0\n",
       "25763                      0  ...                 0\n",
       "44540                      0  ...                 0\n",
       "28603                      0  ...                 0\n",
       "4372                       1  ...                 0\n",
       "30666                      1  ...                 0\n",
       "6431                       0  ...                 0\n",
       "57420                      1  ...                 0\n",
       "1373                       0  ...                 0\n",
       "2026                       0  ...                 0\n",
       "58977                      0  ...                 0\n",
       "41101                      0  ...                 0\n",
       "10019                      0  ...                 0\n",
       "\n",
       "[20 rows x 5 columns]"
      ]
     },
     "execution_count": 19,
     "metadata": {
      "tags": []
     },
     "output_type": "execute_result"
    }
   ],
   "source": [
    "encoder = ce.OneHotEncoder(use_cat_names=True)\n",
    "encoded = encoder.fit_transform(X_train[[feature]])\n",
    "print(f'{len(encoded.columns)} columns')\n",
    "encoded.head(20)"
   ]
  },
  {
   "cell_type": "markdown",
   "metadata": {
    "colab_type": "text",
    "id": "1Ql9Qmw3sNJ7"
   },
   "source": [
    "#### One-Hot Encoding, Logistic Regression, Validation Accuracy"
   ]
  },
  {
   "cell_type": "code",
   "execution_count": 20,
   "metadata": {
    "colab": {
     "base_uri": "https://localhost:8080/",
     "height": 34
    },
    "colab_type": "code",
    "executionInfo": {
     "elapsed": 44621,
     "status": "ok",
     "timestamp": 1583425692173,
     "user": {
      "displayName": "Isaac Grove",
      "photoUrl": "",
      "userId": "03084466740860562469"
     },
     "user_tz": 300
    },
    "id": "mT4A-oDGpOss",
    "outputId": "f6a46c71-44e1-4429-d7bd-96556af2bb78"
   },
   "outputs": [
    {
     "name": "stdout",
     "output_type": "stream",
     "text": [
      "Logistic Regression, Validation Accuracy 0.6547979797979798\n"
     ]
    }
   ],
   "source": [
    "from sklearn.linear_model import LogisticRegressionCV\n",
    "from sklearn.preprocessing import StandardScaler\n",
    "\n",
    "lr = make_pipeline(\n",
    "    ce.OneHotEncoder(use_cat_names=True), \n",
    "    SimpleImputer(), \n",
    "    StandardScaler(), \n",
    "    LogisticRegressionCV(multi_class='auto', solver='lbfgs', cv=5, n_jobs=-1)\n",
    ")\n",
    "\n",
    "lr.fit(X_train[[feature]], y_train)\n",
    "score = lr.score(X_val[[feature]], y_val)\n",
    "print('Logistic Regression, Validation Accuracy', score)"
   ]
  },
  {
   "cell_type": "markdown",
   "metadata": {
    "colab_type": "text",
    "id": "EbH6wivpsRuV"
   },
   "source": [
    "#### One-Hot Encoding, Decision Tree, Validation Accuracy"
   ]
  },
  {
   "cell_type": "code",
   "execution_count": 21,
   "metadata": {
    "colab": {
     "base_uri": "https://localhost:8080/",
     "height": 34
    },
    "colab_type": "code",
    "executionInfo": {
     "elapsed": 44740,
     "status": "ok",
     "timestamp": 1583425692309,
     "user": {
      "displayName": "Isaac Grove",
      "photoUrl": "",
      "userId": "03084466740860562469"
     },
     "user_tz": 300
    },
    "id": "b6KUluFOqIdK",
    "outputId": "6fbf6449-081c-4a35-e870-bfc94e4ed83d"
   },
   "outputs": [
    {
     "name": "stdout",
     "output_type": "stream",
     "text": [
      "Decision Tree, Validation Accuracy 0.6547979797979798\n"
     ]
    }
   ],
   "source": [
    "from sklearn.tree import DecisionTreeClassifier\n",
    "\n",
    "dt = make_pipeline(\n",
    "    ce.OneHotEncoder(use_cat_names=True), \n",
    "    SimpleImputer(), \n",
    "    DecisionTreeClassifier(random_state=42)\n",
    ")\n",
    "\n",
    "dt.fit(X_train[[feature]], y_train)\n",
    "score = dt.score(X_val[[feature]], y_val)\n",
    "print('Decision Tree, Validation Accuracy', score)"
   ]
  },
  {
   "cell_type": "markdown",
   "metadata": {
    "colab_type": "text",
    "id": "8yg11_gTsUu6"
   },
   "source": [
    "#### One-Hot Encoding, Logistic Regression, Model Interpretation"
   ]
  },
  {
   "cell_type": "code",
   "execution_count": 22,
   "metadata": {
    "colab": {
     "base_uri": "https://localhost:8080/",
     "height": 265
    },
    "colab_type": "code",
    "executionInfo": {
     "elapsed": 44856,
     "status": "ok",
     "timestamp": 1583425692442,
     "user": {
      "displayName": "Isaac Grove",
      "photoUrl": "",
      "userId": "03084466740860562469"
     },
     "user_tz": 300
    },
    "id": "IxHwXGRornNI",
    "outputId": "f63edb34-3a21-4b67-c79d-f5d8770b5d71"
   },
   "outputs": [
    {
     "data": {
      "image/png": "[encoded data removed]",
      "text/plain": [
       "<Figure size 432x288 with 1 Axes>"
      ]
     },
     "metadata": {
      "tags": []
     },
     "output_type": "display_data"
    }
   ],
   "source": [
    "model = lr.named_steps['logisticregressioncv']\n",
    "encoder = lr.named_steps['onehotencoder']\n",
    "encoded_columns = encoder.transform(X_val[[feature]]).columns\n",
    "coefficients = pd.Series(model.coef_[0], encoded_columns)\n",
    "coefficients.sort_values().plot.barh(color='grey');"
   ]
  },
  {
   "cell_type": "markdown",
   "metadata": {
    "colab_type": "text",
    "id": "0REZ8HdpsccR"
   },
   "source": [
    "#### One-Hot Encoding, Decision Tree, Model Interpretation"
   ]
  },
  {
   "cell_type": "code",
   "execution_count": 23,
   "metadata": {
    "colab": {
     "base_uri": "https://localhost:8080/",
     "height": 657
    },
    "colab_type": "code",
    "executionInfo": {
     "elapsed": 45273,
     "status": "ok",
     "timestamp": 1583425692877,
     "user": {
      "displayName": "Isaac Grove",
      "photoUrl": "",
      "userId": "03084466740860562469"
     },
     "user_tz": 300
    },
    "id": "gV-grmYKpDp9",
    "outputId": "df8178d5-0e45-4982-f705-9a16c1936c06"
   },
   "outputs": [
    {
     "data": {
      "image/svg+xml": [
       "<?xml version=\"1.0\" encoding=\"UTF-8\" standalone=\"no\"?>\n",
       "<!DOCTYPE svg PUBLIC \"-//W3C//DTD SVG 1.1//EN\"\n",
       " \"http://www.w3.org/Graphics/SVG/1.1/DTD/svg11.dtd\">\n",
       "<!-- Generated by graphviz version 2.40.1 (20161225.0304)\n",
       " -->\n",
       "<!-- Title: Tree Pages: 1 -->\n",
       "<svg width=\"747pt\" height=\"477pt\"\n",
       " viewBox=\"0.00 0.00 747.00 477.00\" xmlns=\"http://www.w3.org/2000/svg\" xmlns:xlink=\"http://www.w3.org/1999/xlink\">\n",
       "<g id=\"graph0\" class=\"graph\" transform=\"scale(1 1) rotate(0) translate(4 473)\">\n",
       "<title>Tree</title>\n",
       "<polygon fill=\"#ffffff\" stroke=\"transparent\" points=\"-4,4 -4,-473 743,-473 743,4 -4,4\"/>\n",
       "<!-- 0 -->\n",
       "<g id=\"node1\" class=\"node\">\n",
       "<title>0</title>\n",
       "<path fill=\"#f8decc\" stroke=\"#000000\" d=\"M620,-469C620,-469 444,-469 444,-469 438,-469 432,-463 432,-457 432,-457 432,-413 432,-413 432,-407 438,-401 444,-401 444,-401 620,-401 620,-401 626,-401 632,-407 632,-413 632,-413 632,-457 632,-457 632,-463 626,-469 620,-469\"/>\n",
       "<text text-anchor=\"middle\" x=\"532\" y=\"-453.8\" font-family=\"Helvetica,sans-Serif\" font-size=\"14.00\" fill=\"#000000\">quantity_dry &lt;= 0.5</text>\n",
       "<text text-anchor=\"middle\" x=\"532\" y=\"-438.8\" font-family=\"Helvetica,sans-Serif\" font-size=\"14.00\" fill=\"#000000\">samples = 100.0%</text>\n",
       "<text text-anchor=\"middle\" x=\"532\" y=\"-423.8\" font-family=\"Helvetica,sans-Serif\" font-size=\"14.00\" fill=\"#000000\">value = [0.543, 0.073, 0.384]</text>\n",
       "<text text-anchor=\"middle\" x=\"532\" y=\"-408.8\" font-family=\"Helvetica,sans-Serif\" font-size=\"14.00\" fill=\"#000000\">class = functional</text>\n",
       "</g>\n",
       "<!-- 1 -->\n",
       "<g id=\"node2\" class=\"node\">\n",
       "<title>1</title>\n",
       "<path fill=\"#f4caac\" stroke=\"#000000\" d=\"M509,-365C509,-365 341,-365 341,-365 335,-365 329,-359 329,-353 329,-353 329,-309 329,-309 329,-303 335,-297 341,-297 341,-297 509,-297 509,-297 515,-297 521,-303 521,-309 521,-309 521,-353 521,-353 521,-359 515,-365 509,-365\"/>\n",
       "<text text-anchor=\"middle\" x=\"425\" y=\"-349.8\" font-family=\"Helvetica,sans-Serif\" font-size=\"14.00\" fill=\"#000000\">quantity_enough &lt;= 0.5</text>\n",
       "<text text-anchor=\"middle\" x=\"425\" y=\"-334.8\" font-family=\"Helvetica,sans-Serif\" font-size=\"14.00\" fill=\"#000000\">samples = 89.6%</text>\n",
       "<text text-anchor=\"middle\" x=\"425\" y=\"-319.8\" font-family=\"Helvetica,sans-Serif\" font-size=\"14.00\" fill=\"#000000\">value = [0.603, 0.08, 0.317]</text>\n",
       "<text text-anchor=\"middle\" x=\"425\" y=\"-304.8\" font-family=\"Helvetica,sans-Serif\" font-size=\"14.00\" fill=\"#000000\">class = functional</text>\n",
       "</g>\n",
       "<!-- 0&#45;&gt;1 -->\n",
       "<g id=\"edge1\" class=\"edge\">\n",
       "<title>0&#45;&gt;1</title>\n",
       "<path fill=\"none\" stroke=\"#000000\" d=\"M496.9642,-400.9465C487.5419,-391.7884 477.2487,-381.7838 467.4696,-372.2788\"/>\n",
       "<polygon fill=\"#000000\" stroke=\"#000000\" points=\"469.7249,-369.59 460.1145,-365.13 464.846,-374.6097 469.7249,-369.59\"/>\n",
       "<text text-anchor=\"middle\" x=\"460.4699\" y=\"-386.4275\" font-family=\"Helvetica,sans-Serif\" font-size=\"14.00\" fill=\"#000000\">True</text>\n",
       "</g>\n",
       "<!-- 8 -->\n",
       "<g id=\"node9\" class=\"node\">\n",
       "<title>8</title>\n",
       "<path fill=\"#8540e6\" stroke=\"#000000\" d=\"M727,-357.5C727,-357.5 551,-357.5 551,-357.5 545,-357.5 539,-351.5 539,-345.5 539,-345.5 539,-316.5 539,-316.5 539,-310.5 545,-304.5 551,-304.5 551,-304.5 727,-304.5 727,-304.5 733,-304.5 739,-310.5 739,-316.5 739,-316.5 739,-345.5 739,-345.5 739,-351.5 733,-357.5 727,-357.5\"/>\n",
       "<text text-anchor=\"middle\" x=\"639\" y=\"-342.3\" font-family=\"Helvetica,sans-Serif\" font-size=\"14.00\" fill=\"#000000\">samples = 10.4%</text>\n",
       "<text text-anchor=\"middle\" x=\"639\" y=\"-327.3\" font-family=\"Helvetica,sans-Serif\" font-size=\"14.00\" fill=\"#000000\">value = [0.026, 0.006, 0.968]</text>\n",
       "<text text-anchor=\"middle\" x=\"639\" y=\"-312.3\" font-family=\"Helvetica,sans-Serif\" font-size=\"14.00\" fill=\"#000000\">class = non functional</text>\n",
       "</g>\n",
       "<!-- 0&#45;&gt;8 -->\n",
       "<g id=\"edge8\" class=\"edge\">\n",
       "<title>0&#45;&gt;8</title>\n",
       "<path fill=\"none\" stroke=\"#000000\" d=\"M567.0358,-400.9465C579.0484,-389.2707 592.4766,-376.219 604.4504,-364.5809\"/>\n",
       "<polygon fill=\"#000000\" stroke=\"#000000\" points=\"606.9607,-367.0218 611.6922,-357.5422 602.0818,-362.0022 606.9607,-367.0218\"/>\n",
       "<text text-anchor=\"middle\" x=\"611.3368\" y=\"-378.8396\" font-family=\"Helvetica,sans-Serif\" font-size=\"14.00\" fill=\"#000000\">False</text>\n",
       "</g>\n",
       "<!-- 2 -->\n",
       "<g id=\"node3\" class=\"node\">\n",
       "<title>2</title>\n",
       "<path fill=\"#f9e2d2\" stroke=\"#000000\" d=\"M404,-261C404,-261 228,-261 228,-261 222,-261 216,-255 216,-249 216,-249 216,-205 216,-205 216,-199 222,-193 228,-193 228,-193 404,-193 404,-193 410,-193 416,-199 416,-205 416,-205 416,-249 416,-249 416,-255 410,-261 404,-261\"/>\n",
       "<text text-anchor=\"middle\" x=\"316\" y=\"-245.8\" font-family=\"Helvetica,sans-Serif\" font-size=\"14.00\" fill=\"#000000\">quantity_unknown &lt;= 0.5</text>\n",
       "<text text-anchor=\"middle\" x=\"316\" y=\"-230.8\" font-family=\"Helvetica,sans-Serif\" font-size=\"14.00\" fill=\"#000000\">samples = 33.7%</text>\n",
       "<text text-anchor=\"middle\" x=\"316\" y=\"-215.8\" font-family=\"Helvetica,sans-Serif\" font-size=\"14.00\" fill=\"#000000\">value = [0.523, 0.094, 0.383]</text>\n",
       "<text text-anchor=\"middle\" x=\"316\" y=\"-200.8\" font-family=\"Helvetica,sans-Serif\" font-size=\"14.00\" fill=\"#000000\">class = functional</text>\n",
       "</g>\n",
       "<!-- 1&#45;&gt;2 -->\n",
       "<g id=\"edge2\" class=\"edge\">\n",
       "<title>1&#45;&gt;2</title>\n",
       "<path fill=\"none\" stroke=\"#000000\" d=\"M389.3093,-296.9465C379.7109,-287.7884 369.2253,-277.7838 359.2634,-268.2788\"/>\n",
       "<polygon fill=\"#000000\" stroke=\"#000000\" points=\"361.4221,-265.5009 351.7709,-261.13 356.5898,-270.5655 361.4221,-265.5009\"/>\n",
       "</g>\n",
       "<!-- 7 -->\n",
       "<g id=\"node8\" class=\"node\">\n",
       "<title>7</title>\n",
       "<path fill=\"#f2be99\" stroke=\"#000000\" d=\"M622,-253.5C622,-253.5 446,-253.5 446,-253.5 440,-253.5 434,-247.5 434,-241.5 434,-241.5 434,-212.5 434,-212.5 434,-206.5 440,-200.5 446,-200.5 446,-200.5 622,-200.5 622,-200.5 628,-200.5 634,-206.5 634,-212.5 634,-212.5 634,-241.5 634,-241.5 634,-247.5 628,-253.5 622,-253.5\"/>\n",
       "<text text-anchor=\"middle\" x=\"534\" y=\"-238.3\" font-family=\"Helvetica,sans-Serif\" font-size=\"14.00\" fill=\"#000000\">samples = 55.9%</text>\n",
       "<text text-anchor=\"middle\" x=\"534\" y=\"-223.3\" font-family=\"Helvetica,sans-Serif\" font-size=\"14.00\" fill=\"#000000\">value = [0.651, 0.072, 0.277]</text>\n",
       "<text text-anchor=\"middle\" x=\"534\" y=\"-208.3\" font-family=\"Helvetica,sans-Serif\" font-size=\"14.00\" fill=\"#000000\">class = functional</text>\n",
       "</g>\n",
       "<!-- 1&#45;&gt;7 -->\n",
       "<g id=\"edge7\" class=\"edge\">\n",
       "<title>1&#45;&gt;7</title>\n",
       "<path fill=\"none\" stroke=\"#000000\" d=\"M460.6907,-296.9465C472.9278,-285.2707 486.607,-272.219 498.8046,-260.5809\"/>\n",
       "<polygon fill=\"#000000\" stroke=\"#000000\" points=\"501.3628,-262.9777 506.1818,-253.5422 496.5306,-257.9131 501.3628,-262.9777\"/>\n",
       "</g>\n",
       "<!-- 3 -->\n",
       "<g id=\"node4\" class=\"node\">\n",
       "<title>3</title>\n",
       "<path fill=\"#f8decb\" stroke=\"#000000\" d=\"M295,-157C295,-157 119,-157 119,-157 113,-157 107,-151 107,-145 107,-145 107,-101 107,-101 107,-95 113,-89 119,-89 119,-89 295,-89 295,-89 301,-89 307,-95 307,-101 307,-101 307,-145 307,-145 307,-151 301,-157 295,-157\"/>\n",
       "<text text-anchor=\"middle\" x=\"207\" y=\"-141.8\" font-family=\"Helvetica,sans-Serif\" font-size=\"14.00\" fill=\"#000000\">quantity_seasonal &lt;= 0.5</text>\n",
       "<text text-anchor=\"middle\" x=\"207\" y=\"-126.8\" font-family=\"Helvetica,sans-Serif\" font-size=\"14.00\" fill=\"#000000\">samples = 32.4%</text>\n",
       "<text text-anchor=\"middle\" x=\"207\" y=\"-111.8\" font-family=\"Helvetica,sans-Serif\" font-size=\"14.00\" fill=\"#000000\">value = [0.534, 0.097, 0.369]</text>\n",
       "<text text-anchor=\"middle\" x=\"207\" y=\"-96.8\" font-family=\"Helvetica,sans-Serif\" font-size=\"14.00\" fill=\"#000000\">class = functional</text>\n",
       "</g>\n",
       "<!-- 2&#45;&gt;3 -->\n",
       "<g id=\"edge3\" class=\"edge\">\n",
       "<title>2&#45;&gt;3</title>\n",
       "<path fill=\"none\" stroke=\"#000000\" d=\"M280.3093,-192.9465C270.7109,-183.7884 260.2253,-173.7838 250.2634,-164.2788\"/>\n",
       "<polygon fill=\"#000000\" stroke=\"#000000\" points=\"252.4221,-161.5009 242.7709,-157.13 247.5898,-166.5655 252.4221,-161.5009\"/>\n",
       "</g>\n",
       "<!-- 6 -->\n",
       "<g id=\"node7\" class=\"node\">\n",
       "<title>6</title>\n",
       "<path fill=\"#b286ef\" stroke=\"#000000\" d=\"M513,-149.5C513,-149.5 337,-149.5 337,-149.5 331,-149.5 325,-143.5 325,-137.5 325,-137.5 325,-108.5 325,-108.5 325,-102.5 331,-96.5 337,-96.5 337,-96.5 513,-96.5 513,-96.5 519,-96.5 525,-102.5 525,-108.5 525,-108.5 525,-137.5 525,-137.5 525,-143.5 519,-149.5 513,-149.5\"/>\n",
       "<text text-anchor=\"middle\" x=\"425\" y=\"-134.3\" font-family=\"Helvetica,sans-Serif\" font-size=\"14.00\" fill=\"#000000\">samples = 1.3%</text>\n",
       "<text text-anchor=\"middle\" x=\"425\" y=\"-119.3\" font-family=\"Helvetica,sans-Serif\" font-size=\"14.00\" fill=\"#000000\">value = [0.268, 0.019, 0.713]</text>\n",
       "<text text-anchor=\"middle\" x=\"425\" y=\"-104.3\" font-family=\"Helvetica,sans-Serif\" font-size=\"14.00\" fill=\"#000000\">class = non functional</text>\n",
       "</g>\n",
       "<!-- 2&#45;&gt;6 -->\n",
       "<g id=\"edge6\" class=\"edge\">\n",
       "<title>2&#45;&gt;6</title>\n",
       "<path fill=\"none\" stroke=\"#000000\" d=\"M351.6907,-192.9465C363.9278,-181.2707 377.607,-168.219 389.8046,-156.5809\"/>\n",
       "<polygon fill=\"#000000\" stroke=\"#000000\" points=\"392.3628,-158.9777 397.1818,-149.5422 387.5306,-153.9131 392.3628,-158.9777\"/>\n",
       "</g>\n",
       "<!-- 4 -->\n",
       "<g id=\"node5\" class=\"node\">\n",
       "<title>4</title>\n",
       "<path fill=\"#f9e3d3\" stroke=\"#000000\" d=\"M188,-53C188,-53 12,-53 12,-53 6,-53 0,-47 0,-41 0,-41 0,-12 0,-12 0,-6 6,0 12,0 12,0 188,0 188,0 194,0 200,-6 200,-12 200,-12 200,-41 200,-41 200,-47 194,-53 188,-53\"/>\n",
       "<text text-anchor=\"middle\" x=\"100\" y=\"-37.8\" font-family=\"Helvetica,sans-Serif\" font-size=\"14.00\" fill=\"#000000\">samples = 25.6%</text>\n",
       "<text text-anchor=\"middle\" x=\"100\" y=\"-22.8\" font-family=\"Helvetica,sans-Serif\" font-size=\"14.00\" fill=\"#000000\">value = [0.521, 0.096, 0.383]</text>\n",
       "<text text-anchor=\"middle\" x=\"100\" y=\"-7.8\" font-family=\"Helvetica,sans-Serif\" font-size=\"14.00\" fill=\"#000000\">class = functional</text>\n",
       "</g>\n",
       "<!-- 3&#45;&gt;4 -->\n",
       "<g id=\"edge4\" class=\"edge\">\n",
       "<title>3&#45;&gt;4</title>\n",
       "<path fill=\"none\" stroke=\"#000000\" d=\"M169.2758,-88.9777C158.9194,-79.6376 147.6969,-69.5163 137.361,-60.1947\"/>\n",
       "<polygon fill=\"#000000\" stroke=\"#000000\" points=\"139.4291,-57.3467 129.6589,-53.2485 134.7409,-62.5449 139.4291,-57.3467\"/>\n",
       "</g>\n",
       "<!-- 5 -->\n",
       "<g id=\"node6\" class=\"node\">\n",
       "<title>5</title>\n",
       "<path fill=\"#f5cfb3\" stroke=\"#000000\" d=\"M398,-53C398,-53 230,-53 230,-53 224,-53 218,-47 218,-41 218,-41 218,-12 218,-12 218,-6 224,0 230,0 230,0 398,0 398,0 404,0 410,-6 410,-12 410,-12 410,-41 410,-41 410,-47 404,-53 398,-53\"/>\n",
       "<text text-anchor=\"middle\" x=\"314\" y=\"-37.8\" font-family=\"Helvetica,sans-Serif\" font-size=\"14.00\" fill=\"#000000\">samples = 6.8%</text>\n",
       "<text text-anchor=\"middle\" x=\"314\" y=\"-22.8\" font-family=\"Helvetica,sans-Serif\" font-size=\"14.00\" fill=\"#000000\">value = [0.58, 0.101, 0.318]</text>\n",
       "<text text-anchor=\"middle\" x=\"314\" y=\"-7.8\" font-family=\"Helvetica,sans-Serif\" font-size=\"14.00\" fill=\"#000000\">class = functional</text>\n",
       "</g>\n",
       "<!-- 3&#45;&gt;5 -->\n",
       "<g id=\"edge5\" class=\"edge\">\n",
       "<title>3&#45;&gt;5</title>\n",
       "<path fill=\"none\" stroke=\"#000000\" d=\"M244.7242,-88.9777C255.0806,-79.6376 266.3031,-69.5163 276.639,-60.1947\"/>\n",
       "<polygon fill=\"#000000\" stroke=\"#000000\" points=\"279.2591,-62.5449 284.3411,-53.2485 274.5709,-57.3467 279.2591,-62.5449\"/>\n",
       "</g>\n",
       "</g>\n",
       "</svg>\n"
      ],
      "text/plain": [
       "<graphviz.files.Source at 0x7fd6a9ae12b0>"
      ]
     },
     "metadata": {
      "tags": []
     },
     "output_type": "display_data"
    }
   ],
   "source": [
    "# Plot tree\n",
    "# https://scikit-learn.org/stable/modules/generated/sklearn.tree.export_graphviz.html\n",
    "import graphviz\n",
    "from sklearn.tree import export_graphviz\n",
    "\n",
    "model = dt.named_steps['decisiontreeclassifier']\n",
    "encoder = dt.named_steps['onehotencoder']\n",
    "encoded_columns = encoder.transform(X_val[[feature]]).columns\n",
    "\n",
    "dot_data = export_graphviz(model, \n",
    "                           out_file=None, \n",
    "                           max_depth=7, \n",
    "                           feature_names=encoded_columns,\n",
    "                           class_names=model.classes_, \n",
    "                           impurity=False, \n",
    "                           filled=True, \n",
    "                           proportion=True, \n",
    "                           rounded=True)   \n",
    "display(graphviz.Source(dot_data))"
   ]
  },
  {
   "cell_type": "code",
   "execution_count": 24,
   "metadata": {
    "colab": {
     "base_uri": "https://localhost:8080/",
     "height": 425
    },
    "colab_type": "code",
    "executionInfo": {
     "elapsed": 45409,
     "status": "ok",
     "timestamp": 1583425693030,
     "user": {
      "displayName": "Isaac Grove",
      "photoUrl": "",
      "userId": "03084466740860562469"
     },
     "user_tz": 300
    },
    "id": "31V7L6bVjmEA",
    "outputId": "cdb1021d-b7ba-46ef-ae12-827186d82a16"
   },
   "outputs": [
    {
     "data": {
      "text/plain": [
       "Pipeline(memory=None,\n",
       "         steps=[('ordinalencoder',\n",
       "                 OrdinalEncoder(cols=['funder', 'installer', 'wpt_name',\n",
       "                                      'basin', 'subvillage', 'region', 'lga',\n",
       "                                      'ward', 'public_meeting',\n",
       "                                      'scheme_management', 'scheme_name',\n",
       "                                      'permit', 'extraction_type',\n",
       "                                      'extraction_type_group',\n",
       "                                      'extraction_type_class', 'management',\n",
       "                                      'management_group', 'payment',\n",
       "                                      'water_quality', 'quality_group',\n",
       "                                      'quantit...\n",
       "                 RandomForestClassifier(bootstrap=True, ccp_alpha=0.0,\n",
       "                                        class_weight=None, criterion='gini',\n",
       "                                        max_depth=None, max_features='auto',\n",
       "                                        max_leaf_nodes=None, max_samples=None,\n",
       "                                        min_impurity_decrease=0.0,\n",
       "                                        min_impurity_split=None,\n",
       "                                        min_samples_leaf=1, min_samples_split=2,\n",
       "                                        min_weight_fraction_leaf=0.0,\n",
       "                                        n_estimators=100, n_jobs=-1,\n",
       "                                        oob_score=False, random_state=0,\n",
       "                                        verbose=0, warm_start=False))],\n",
       "         verbose=False)"
      ]
     },
     "execution_count": 24,
     "metadata": {
      "tags": []
     },
     "output_type": "execute_result"
    }
   ],
   "source": [
    "pipeline"
   ]
  },
  {
   "cell_type": "markdown",
   "metadata": {
    "colab_type": "text",
    "id": "QUd6gzcZgLVz"
   },
   "source": [
    "### [Ordinal Encoding](http://contrib.scikit-learn.org/categorical-encoding/ordinal.html)\n",
    "\n",
    "> Ordinal encoding uses a single column of integers to represent the classes. An optional mapping dict can be passed in; in this case, we use the knowledge that there is some true order to the classes themselves. Otherwise, the classes are assumed to have no true order and integers are selected at random."
   ]
  },
  {
   "cell_type": "code",
   "execution_count": 25,
   "metadata": {
    "colab": {
     "base_uri": "https://localhost:8080/",
     "height": 686
    },
    "colab_type": "code",
    "executionInfo": {
     "elapsed": 45513,
     "status": "ok",
     "timestamp": 1583425693151,
     "user": {
      "displayName": "Isaac Grove",
      "photoUrl": "",
      "userId": "03084466740860562469"
     },
     "user_tz": 300
    },
    "id": "CnBz2RbwgLVz",
    "outputId": "e8ae362d-dc7a-47c0-a37d-aa1daa0798d6"
   },
   "outputs": [
    {
     "name": "stdout",
     "output_type": "stream",
     "text": [
      "1 column, 5 unique values\n"
     ]
    },
    {
     "data": {
      "text/html": [
       "<div>\n",
       "<style scoped>\n",
       "    .dataframe tbody tr th:only-of-type {\n",
       "        vertical-align: middle;\n",
       "    }\n",
       "\n",
       "    .dataframe tbody tr th {\n",
       "        vertical-align: top;\n",
       "    }\n",
       "\n",
       "    .dataframe thead th {\n",
       "        text-align: right;\n",
       "    }\n",
       "</style>\n",
       "<table border=\"1\" class=\"dataframe\">\n",
       "  <thead>\n",
       "    <tr style=\"text-align: right;\">\n",
       "      <th></th>\n",
       "      <th>quantity</th>\n",
       "    </tr>\n",
       "  </thead>\n",
       "  <tbody>\n",
       "    <tr>\n",
       "      <th>43360</th>\n",
       "      <td>1</td>\n",
       "    </tr>\n",
       "    <tr>\n",
       "      <th>7263</th>\n",
       "      <td>2</td>\n",
       "    </tr>\n",
       "    <tr>\n",
       "      <th>2486</th>\n",
       "      <td>1</td>\n",
       "    </tr>\n",
       "    <tr>\n",
       "      <th>313</th>\n",
       "      <td>2</td>\n",
       "    </tr>\n",
       "    <tr>\n",
       "      <th>52726</th>\n",
       "      <td>2</td>\n",
       "    </tr>\n",
       "    <tr>\n",
       "      <th>8558</th>\n",
       "      <td>1</td>\n",
       "    </tr>\n",
       "    <tr>\n",
       "      <th>2559</th>\n",
       "      <td>1</td>\n",
       "    </tr>\n",
       "    <tr>\n",
       "      <th>54735</th>\n",
       "      <td>2</td>\n",
       "    </tr>\n",
       "    <tr>\n",
       "      <th>25763</th>\n",
       "      <td>2</td>\n",
       "    </tr>\n",
       "    <tr>\n",
       "      <th>44540</th>\n",
       "      <td>2</td>\n",
       "    </tr>\n",
       "    <tr>\n",
       "      <th>28603</th>\n",
       "      <td>3</td>\n",
       "    </tr>\n",
       "    <tr>\n",
       "      <th>4372</th>\n",
       "      <td>1</td>\n",
       "    </tr>\n",
       "    <tr>\n",
       "      <th>30666</th>\n",
       "      <td>1</td>\n",
       "    </tr>\n",
       "    <tr>\n",
       "      <th>6431</th>\n",
       "      <td>2</td>\n",
       "    </tr>\n",
       "    <tr>\n",
       "      <th>57420</th>\n",
       "      <td>1</td>\n",
       "    </tr>\n",
       "    <tr>\n",
       "      <th>1373</th>\n",
       "      <td>2</td>\n",
       "    </tr>\n",
       "    <tr>\n",
       "      <th>2026</th>\n",
       "      <td>2</td>\n",
       "    </tr>\n",
       "    <tr>\n",
       "      <th>58977</th>\n",
       "      <td>3</td>\n",
       "    </tr>\n",
       "    <tr>\n",
       "      <th>41101</th>\n",
       "      <td>4</td>\n",
       "    </tr>\n",
       "    <tr>\n",
       "      <th>10019</th>\n",
       "      <td>2</td>\n",
       "    </tr>\n",
       "  </tbody>\n",
       "</table>\n",
       "</div>"
      ],
      "text/plain": [
       "       quantity\n",
       "43360         1\n",
       "7263          2\n",
       "2486          1\n",
       "313           2\n",
       "52726         2\n",
       "8558          1\n",
       "2559          1\n",
       "54735         2\n",
       "25763         2\n",
       "44540         2\n",
       "28603         3\n",
       "4372          1\n",
       "30666         1\n",
       "6431          2\n",
       "57420         1\n",
       "1373          2\n",
       "2026          2\n",
       "58977         3\n",
       "41101         4\n",
       "10019         2"
      ]
     },
     "execution_count": 25,
     "metadata": {
      "tags": []
     },
     "output_type": "execute_result"
    }
   ],
   "source": [
    "encoder = ce.OrdinalEncoder()\n",
    "encoded = encoder.fit_transform(X_train[[feature]])\n",
    "print(f'1 column, {encoded[feature].nunique()} unique values')\n",
    "encoded.head(20)"
   ]
  },
  {
   "cell_type": "markdown",
   "metadata": {
    "colab_type": "text",
    "id": "Nd-ZWprasqUM"
   },
   "source": [
    "#### Ordinal Encoding, Logistic Regression, Validation Accuracy"
   ]
  },
  {
   "cell_type": "code",
   "execution_count": 26,
   "metadata": {
    "colab": {
     "base_uri": "https://localhost:8080/",
     "height": 34
    },
    "colab_type": "code",
    "executionInfo": {
     "elapsed": 48675,
     "status": "ok",
     "timestamp": 1583425696332,
     "user": {
      "displayName": "Isaac Grove",
      "photoUrl": "",
      "userId": "03084466740860562469"
     },
     "user_tz": 300
    },
    "id": "GJ1YpwjvrhfL",
    "outputId": "12c9f940-c27d-446e-a5d0-436ac0072ed1"
   },
   "outputs": [
    {
     "name": "stdout",
     "output_type": "stream",
     "text": [
      "Logistic Regression, Validation Accuracy 0.5346801346801346\n"
     ]
    }
   ],
   "source": [
    "lr = make_pipeline(\n",
    "    ce.OrdinalEncoder(), \n",
    "    SimpleImputer(), \n",
    "    StandardScaler(), \n",
    "    LogisticRegressionCV(multi_class='auto', solver='lbfgs', cv=5, n_jobs=-1)\n",
    ")\n",
    "\n",
    "lr.fit(X_train[[feature]], y_train)\n",
    "score = lr.score(X_val[[feature]], y_val)\n",
    "print('Logistic Regression, Validation Accuracy', score)"
   ]
  },
  {
   "cell_type": "markdown",
   "metadata": {
    "colab_type": "text",
    "id": "9lO_R3SksuHs"
   },
   "source": [
    "#### Ordinal Encoding, Decision Tree, Validation Accuracy"
   ]
  },
  {
   "cell_type": "code",
   "execution_count": 27,
   "metadata": {
    "colab": {
     "base_uri": "https://localhost:8080/",
     "height": 34
    },
    "colab_type": "code",
    "executionInfo": {
     "elapsed": 48812,
     "status": "ok",
     "timestamp": 1583425696486,
     "user": {
      "displayName": "Isaac Grove",
      "photoUrl": "",
      "userId": "03084466740860562469"
     },
     "user_tz": 300
    },
    "id": "aOELD_roriVI",
    "outputId": "30032cda-922d-4d6c-a73c-c22b93dc432e"
   },
   "outputs": [
    {
     "name": "stdout",
     "output_type": "stream",
     "text": [
      "Decision Tree, Validation Accuracy 0.6547979797979798\n"
     ]
    }
   ],
   "source": [
    "dt = make_pipeline(\n",
    "    ce.OrdinalEncoder(), \n",
    "    SimpleImputer(), \n",
    "    DecisionTreeClassifier(random_state=42)\n",
    ")\n",
    "\n",
    "dt.fit(X_train[[feature]], y_train)\n",
    "score = dt.score(X_val[[feature]], y_val)\n",
    "print('Decision Tree, Validation Accuracy', score)"
   ]
  },
  {
   "cell_type": "markdown",
   "metadata": {
    "colab_type": "text",
    "id": "7V2zHjiwswTg"
   },
   "source": [
    "#### Ordinal Encoding, Logistic Regression, Model Interpretation"
   ]
  },
  {
   "cell_type": "code",
   "execution_count": 28,
   "metadata": {
    "colab": {
     "base_uri": "https://localhost:8080/",
     "height": 265
    },
    "colab_type": "code",
    "executionInfo": {
     "elapsed": 48874,
     "status": "ok",
     "timestamp": 1583425696566,
     "user": {
      "displayName": "Isaac Grove",
      "photoUrl": "",
      "userId": "03084466740860562469"
     },
     "user_tz": 300
    },
    "id": "S9UPYPois8QR",
    "outputId": "3a662cf9-31cd-4e78-9ede-caef859036b1"
   },
   "outputs": [
    {
     "data": {
      "image/png": "[encoded data removed]",
      "text/plain": [
       "<Figure size 432x288 with 1 Axes>"
      ]
     },
     "metadata": {
      "tags": []
     },
     "output_type": "display_data"
    }
   ],
   "source": [
    "model = lr.named_steps['logisticregressioncv']\n",
    "encoder = lr.named_steps['ordinalencoder']\n",
    "encoded_columns = encoder.transform(X_val[[feature]]).columns\n",
    "coefficients = pd.Series(model.coef_[0], encoded_columns)\n",
    "coefficients.sort_values().plot.barh(color='grey');"
   ]
  },
  {
   "cell_type": "markdown",
   "metadata": {
    "colab_type": "text",
    "id": "MvmmvE8fsymh"
   },
   "source": [
    "#### Ordinal Encoding, Decision Tree, Model Interpretation"
   ]
  },
  {
   "cell_type": "code",
   "execution_count": 29,
   "metadata": {
    "colab": {
     "base_uri": "https://localhost:8080/",
     "height": 538
    },
    "colab_type": "code",
    "executionInfo": {
     "elapsed": 49021,
     "status": "ok",
     "timestamp": 1583425696732,
     "user": {
      "displayName": "Isaac Grove",
      "photoUrl": "",
      "userId": "03084466740860562469"
     },
     "user_tz": 300
    },
    "id": "jCvUu4Oms88b",
    "outputId": "2601632a-ae25-40fd-ae68-6b89e181e739"
   },
   "outputs": [
    {
     "data": {
      "image/svg+xml": [
       "<?xml version=\"1.0\" encoding=\"UTF-8\" standalone=\"no\"?>\n",
       "<!DOCTYPE svg PUBLIC \"-//W3C//DTD SVG 1.1//EN\"\n",
       " \"http://www.w3.org/Graphics/SVG/1.1/DTD/svg11.dtd\">\n",
       "<!-- Generated by graphviz version 2.40.1 (20161225.0304)\n",
       " -->\n",
       "<!-- Title: Tree Pages: 1 -->\n",
       "<svg width=\"969pt\" height=\"373pt\"\n",
       " viewBox=\"0.00 0.00 969.00 373.00\" xmlns=\"http://www.w3.org/2000/svg\" xmlns:xlink=\"http://www.w3.org/1999/xlink\">\n",
       "<g id=\"graph0\" class=\"graph\" transform=\"scale(1 1) rotate(0) translate(4 369)\">\n",
       "<title>Tree</title>\n",
       "<polygon fill=\"#ffffff\" stroke=\"transparent\" points=\"-4,4 -4,-369 965,-369 965,4 -4,4\"/>\n",
       "<!-- 0 -->\n",
       "<g id=\"node1\" class=\"node\">\n",
       "<title>0</title>\n",
       "<path fill=\"#f8decc\" stroke=\"#000000\" d=\"M515,-365C515,-365 339,-365 339,-365 333,-365 327,-359 327,-353 327,-353 327,-309 327,-309 327,-303 333,-297 339,-297 339,-297 515,-297 515,-297 521,-297 527,-303 527,-309 527,-309 527,-353 527,-353 527,-359 521,-365 515,-365\"/>\n",
       "<text text-anchor=\"middle\" x=\"427\" y=\"-349.8\" font-family=\"Helvetica,sans-Serif\" font-size=\"14.00\" fill=\"#000000\">quantity &lt;= 2.5</text>\n",
       "<text text-anchor=\"middle\" x=\"427\" y=\"-334.8\" font-family=\"Helvetica,sans-Serif\" font-size=\"14.00\" fill=\"#000000\">samples = 100.0%</text>\n",
       "<text text-anchor=\"middle\" x=\"427\" y=\"-319.8\" font-family=\"Helvetica,sans-Serif\" font-size=\"14.00\" fill=\"#000000\">value = [0.543, 0.073, 0.384]</text>\n",
       "<text text-anchor=\"middle\" x=\"427\" y=\"-304.8\" font-family=\"Helvetica,sans-Serif\" font-size=\"14.00\" fill=\"#000000\">class = functional</text>\n",
       "</g>\n",
       "<!-- 1 -->\n",
       "<g id=\"node2\" class=\"node\">\n",
       "<title>1</title>\n",
       "<path fill=\"#f4c8a9\" stroke=\"#000000\" d=\"M394,-261C394,-261 242,-261 242,-261 236,-261 230,-255 230,-249 230,-249 230,-205 230,-205 230,-199 236,-193 242,-193 242,-193 394,-193 394,-193 400,-193 406,-199 406,-205 406,-205 406,-249 406,-249 406,-255 400,-261 394,-261\"/>\n",
       "<text text-anchor=\"middle\" x=\"318\" y=\"-245.8\" font-family=\"Helvetica,sans-Serif\" font-size=\"14.00\" fill=\"#000000\">quantity &lt;= 1.5</text>\n",
       "<text text-anchor=\"middle\" x=\"318\" y=\"-230.8\" font-family=\"Helvetica,sans-Serif\" font-size=\"14.00\" fill=\"#000000\">samples = 81.5%</text>\n",
       "<text text-anchor=\"middle\" x=\"318\" y=\"-215.8\" font-family=\"Helvetica,sans-Serif\" font-size=\"14.00\" fill=\"#000000\">value = [0.61, 0.08, 0.31]</text>\n",
       "<text text-anchor=\"middle\" x=\"318\" y=\"-200.8\" font-family=\"Helvetica,sans-Serif\" font-size=\"14.00\" fill=\"#000000\">class = functional</text>\n",
       "</g>\n",
       "<!-- 0&#45;&gt;1 -->\n",
       "<g id=\"edge1\" class=\"edge\">\n",
       "<title>0&#45;&gt;1</title>\n",
       "<path fill=\"none\" stroke=\"#000000\" d=\"M391.3093,-296.9465C381.7109,-287.7884 371.2253,-277.7838 361.2634,-268.2788\"/>\n",
       "<polygon fill=\"#000000\" stroke=\"#000000\" points=\"363.4221,-265.5009 353.7709,-261.13 358.5898,-270.5655 363.4221,-265.5009\"/>\n",
       "<text text-anchor=\"middle\" x=\"354.3576\" y=\"-282.4231\" font-family=\"Helvetica,sans-Serif\" font-size=\"14.00\" fill=\"#000000\">True</text>\n",
       "</g>\n",
       "<!-- 4 -->\n",
       "<g id=\"node5\" class=\"node\">\n",
       "<title>4</title>\n",
       "<path fill=\"#b285ef\" stroke=\"#000000\" d=\"M620,-261C620,-261 452,-261 452,-261 446,-261 440,-255 440,-249 440,-249 440,-205 440,-205 440,-199 446,-193 452,-193 452,-193 620,-193 620,-193 626,-193 632,-199 632,-205 632,-205 632,-249 632,-249 632,-255 626,-261 620,-261\"/>\n",
       "<text text-anchor=\"middle\" x=\"536\" y=\"-245.8\" font-family=\"Helvetica,sans-Serif\" font-size=\"14.00\" fill=\"#000000\">quantity &lt;= 3.5</text>\n",
       "<text text-anchor=\"middle\" x=\"536\" y=\"-230.8\" font-family=\"Helvetica,sans-Serif\" font-size=\"14.00\" fill=\"#000000\">samples = 18.5%</text>\n",
       "<text text-anchor=\"middle\" x=\"536\" y=\"-215.8\" font-family=\"Helvetica,sans-Serif\" font-size=\"14.00\" fill=\"#000000\">value = [0.248, 0.042, 0.71]</text>\n",
       "<text text-anchor=\"middle\" x=\"536\" y=\"-200.8\" font-family=\"Helvetica,sans-Serif\" font-size=\"14.00\" fill=\"#000000\">class = non functional</text>\n",
       "</g>\n",
       "<!-- 0&#45;&gt;4 -->\n",
       "<g id=\"edge4\" class=\"edge\">\n",
       "<title>0&#45;&gt;4</title>\n",
       "<path fill=\"none\" stroke=\"#000000\" d=\"M462.6907,-296.9465C472.2891,-287.7884 482.7747,-277.7838 492.7366,-268.2788\"/>\n",
       "<polygon fill=\"#000000\" stroke=\"#000000\" points=\"495.4102,-270.5655 500.2291,-261.13 490.5779,-265.5009 495.4102,-270.5655\"/>\n",
       "<text text-anchor=\"middle\" x=\"499.6424\" y=\"-282.4231\" font-family=\"Helvetica,sans-Serif\" font-size=\"14.00\" fill=\"#000000\">False</text>\n",
       "</g>\n",
       "<!-- 2 -->\n",
       "<g id=\"node3\" class=\"node\">\n",
       "<title>2</title>\n",
       "<path fill=\"#f9e3d3\" stroke=\"#000000\" d=\"M188,-149.5C188,-149.5 12,-149.5 12,-149.5 6,-149.5 0,-143.5 0,-137.5 0,-137.5 0,-108.5 0,-108.5 0,-102.5 6,-96.5 12,-96.5 12,-96.5 188,-96.5 188,-96.5 194,-96.5 200,-102.5 200,-108.5 200,-108.5 200,-137.5 200,-137.5 200,-143.5 194,-149.5 188,-149.5\"/>\n",
       "<text text-anchor=\"middle\" x=\"100\" y=\"-134.3\" font-family=\"Helvetica,sans-Serif\" font-size=\"14.00\" fill=\"#000000\">samples = 25.6%</text>\n",
       "<text text-anchor=\"middle\" x=\"100\" y=\"-119.3\" font-family=\"Helvetica,sans-Serif\" font-size=\"14.00\" fill=\"#000000\">value = [0.521, 0.096, 0.383]</text>\n",
       "<text text-anchor=\"middle\" x=\"100\" y=\"-104.3\" font-family=\"Helvetica,sans-Serif\" font-size=\"14.00\" fill=\"#000000\">class = functional</text>\n",
       "</g>\n",
       "<!-- 1&#45;&gt;2 -->\n",
       "<g id=\"edge2\" class=\"edge\">\n",
       "<title>1&#45;&gt;2</title>\n",
       "<path fill=\"none\" stroke=\"#000000\" d=\"M246.6186,-192.9465C220.2973,-180.3895 190.64,-166.2411 164.9205,-153.9712\"/>\n",
       "<polygon fill=\"#000000\" stroke=\"#000000\" points=\"166.169,-150.689 155.6365,-149.5422 163.155,-157.0069 166.169,-150.689\"/>\n",
       "</g>\n",
       "<!-- 3 -->\n",
       "<g id=\"node4\" class=\"node\">\n",
       "<title>3</title>\n",
       "<path fill=\"#f2be99\" stroke=\"#000000\" d=\"M406,-149.5C406,-149.5 230,-149.5 230,-149.5 224,-149.5 218,-143.5 218,-137.5 218,-137.5 218,-108.5 218,-108.5 218,-102.5 224,-96.5 230,-96.5 230,-96.5 406,-96.5 406,-96.5 412,-96.5 418,-102.5 418,-108.5 418,-108.5 418,-137.5 418,-137.5 418,-143.5 412,-149.5 406,-149.5\"/>\n",
       "<text text-anchor=\"middle\" x=\"318\" y=\"-134.3\" font-family=\"Helvetica,sans-Serif\" font-size=\"14.00\" fill=\"#000000\">samples = 55.9%</text>\n",
       "<text text-anchor=\"middle\" x=\"318\" y=\"-119.3\" font-family=\"Helvetica,sans-Serif\" font-size=\"14.00\" fill=\"#000000\">value = [0.651, 0.072, 0.277]</text>\n",
       "<text text-anchor=\"middle\" x=\"318\" y=\"-104.3\" font-family=\"Helvetica,sans-Serif\" font-size=\"14.00\" fill=\"#000000\">class = functional</text>\n",
       "</g>\n",
       "<!-- 1&#45;&gt;3 -->\n",
       "<g id=\"edge3\" class=\"edge\">\n",
       "<title>1&#45;&gt;3</title>\n",
       "<path fill=\"none\" stroke=\"#000000\" d=\"M318,-192.9465C318,-182.2621 318,-170.4254 318,-159.5742\"/>\n",
       "<polygon fill=\"#000000\" stroke=\"#000000\" points=\"321.5001,-159.5421 318,-149.5422 314.5001,-159.5422 321.5001,-159.5421\"/>\n",
       "</g>\n",
       "<!-- 5 -->\n",
       "<g id=\"node6\" class=\"node\">\n",
       "<title>5</title>\n",
       "<path fill=\"#8540e6\" stroke=\"#000000\" d=\"M624,-149.5C624,-149.5 448,-149.5 448,-149.5 442,-149.5 436,-143.5 436,-137.5 436,-137.5 436,-108.5 436,-108.5 436,-102.5 442,-96.5 448,-96.5 448,-96.5 624,-96.5 624,-96.5 630,-96.5 636,-102.5 636,-108.5 636,-108.5 636,-137.5 636,-137.5 636,-143.5 630,-149.5 624,-149.5\"/>\n",
       "<text text-anchor=\"middle\" x=\"536\" y=\"-134.3\" font-family=\"Helvetica,sans-Serif\" font-size=\"14.00\" fill=\"#000000\">samples = 10.4%</text>\n",
       "<text text-anchor=\"middle\" x=\"536\" y=\"-119.3\" font-family=\"Helvetica,sans-Serif\" font-size=\"14.00\" fill=\"#000000\">value = [0.026, 0.006, 0.968]</text>\n",
       "<text text-anchor=\"middle\" x=\"536\" y=\"-104.3\" font-family=\"Helvetica,sans-Serif\" font-size=\"14.00\" fill=\"#000000\">class = non functional</text>\n",
       "</g>\n",
       "<!-- 4&#45;&gt;5 -->\n",
       "<g id=\"edge5\" class=\"edge\">\n",
       "<title>4&#45;&gt;5</title>\n",
       "<path fill=\"none\" stroke=\"#000000\" d=\"M536,-192.9465C536,-182.2621 536,-170.4254 536,-159.5742\"/>\n",
       "<polygon fill=\"#000000\" stroke=\"#000000\" points=\"539.5001,-159.5421 536,-149.5422 532.5001,-159.5422 539.5001,-159.5421\"/>\n",
       "</g>\n",
       "<!-- 6 -->\n",
       "<g id=\"node7\" class=\"node\">\n",
       "<title>6</title>\n",
       "<path fill=\"#f9e1d0\" stroke=\"#000000\" d=\"M842,-157C842,-157 666,-157 666,-157 660,-157 654,-151 654,-145 654,-145 654,-101 654,-101 654,-95 660,-89 666,-89 666,-89 842,-89 842,-89 848,-89 854,-95 854,-101 854,-101 854,-145 854,-145 854,-151 848,-157 842,-157\"/>\n",
       "<text text-anchor=\"middle\" x=\"754\" y=\"-141.8\" font-family=\"Helvetica,sans-Serif\" font-size=\"14.00\" fill=\"#000000\">quantity &lt;= 4.5</text>\n",
       "<text text-anchor=\"middle\" x=\"754\" y=\"-126.8\" font-family=\"Helvetica,sans-Serif\" font-size=\"14.00\" fill=\"#000000\">samples = 8.2%</text>\n",
       "<text text-anchor=\"middle\" x=\"754\" y=\"-111.8\" font-family=\"Helvetica,sans-Serif\" font-size=\"14.00\" fill=\"#000000\">value = [0.529, 0.088, 0.383]</text>\n",
       "<text text-anchor=\"middle\" x=\"754\" y=\"-96.8\" font-family=\"Helvetica,sans-Serif\" font-size=\"14.00\" fill=\"#000000\">class = functional</text>\n",
       "</g>\n",
       "<!-- 4&#45;&gt;6 -->\n",
       "<g id=\"edge6\" class=\"edge\">\n",
       "<title>4&#45;&gt;6</title>\n",
       "<path fill=\"none\" stroke=\"#000000\" d=\"M607.3814,-192.9465C628.4602,-182.8906 651.6784,-171.814 673.3003,-161.4989\"/>\n",
       "<polygon fill=\"#000000\" stroke=\"#000000\" points=\"674.9398,-164.5948 682.4583,-157.13 671.9257,-158.2769 674.9398,-164.5948\"/>\n",
       "</g>\n",
       "<!-- 7 -->\n",
       "<g id=\"node8\" class=\"node\">\n",
       "<title>7</title>\n",
       "<path fill=\"#f5cfb3\" stroke=\"#000000\" d=\"M731,-53C731,-53 563,-53 563,-53 557,-53 551,-47 551,-41 551,-41 551,-12 551,-12 551,-6 557,0 563,0 563,0 731,0 731,0 737,0 743,-6 743,-12 743,-12 743,-41 743,-41 743,-47 737,-53 731,-53\"/>\n",
       "<text text-anchor=\"middle\" x=\"647\" y=\"-37.8\" font-family=\"Helvetica,sans-Serif\" font-size=\"14.00\" fill=\"#000000\">samples = 6.8%</text>\n",
       "<text text-anchor=\"middle\" x=\"647\" y=\"-22.8\" font-family=\"Helvetica,sans-Serif\" font-size=\"14.00\" fill=\"#000000\">value = [0.58, 0.101, 0.318]</text>\n",
       "<text text-anchor=\"middle\" x=\"647\" y=\"-7.8\" font-family=\"Helvetica,sans-Serif\" font-size=\"14.00\" fill=\"#000000\">class = functional</text>\n",
       "</g>\n",
       "<!-- 6&#45;&gt;7 -->\n",
       "<g id=\"edge7\" class=\"edge\">\n",
       "<title>6&#45;&gt;7</title>\n",
       "<path fill=\"none\" stroke=\"#000000\" d=\"M716.2758,-88.9777C705.9194,-79.6376 694.6969,-69.5163 684.361,-60.1947\"/>\n",
       "<polygon fill=\"#000000\" stroke=\"#000000\" points=\"686.4291,-57.3467 676.6589,-53.2485 681.7409,-62.5449 686.4291,-57.3467\"/>\n",
       "</g>\n",
       "<!-- 8 -->\n",
       "<g id=\"node9\" class=\"node\">\n",
       "<title>8</title>\n",
       "<path fill=\"#b286ef\" stroke=\"#000000\" d=\"M949,-53C949,-53 773,-53 773,-53 767,-53 761,-47 761,-41 761,-41 761,-12 761,-12 761,-6 767,0 773,0 773,0 949,0 949,0 955,0 961,-6 961,-12 961,-12 961,-41 961,-41 961,-47 955,-53 949,-53\"/>\n",
       "<text text-anchor=\"middle\" x=\"861\" y=\"-37.8\" font-family=\"Helvetica,sans-Serif\" font-size=\"14.00\" fill=\"#000000\">samples = 1.3%</text>\n",
       "<text text-anchor=\"middle\" x=\"861\" y=\"-22.8\" font-family=\"Helvetica,sans-Serif\" font-size=\"14.00\" fill=\"#000000\">value = [0.268, 0.019, 0.713]</text>\n",
       "<text text-anchor=\"middle\" x=\"861\" y=\"-7.8\" font-family=\"Helvetica,sans-Serif\" font-size=\"14.00\" fill=\"#000000\">class = non functional</text>\n",
       "</g>\n",
       "<!-- 6&#45;&gt;8 -->\n",
       "<g id=\"edge8\" class=\"edge\">\n",
       "<title>6&#45;&gt;8</title>\n",
       "<path fill=\"none\" stroke=\"#000000\" d=\"M791.7242,-88.9777C802.0806,-79.6376 813.3031,-69.5163 823.639,-60.1947\"/>\n",
       "<polygon fill=\"#000000\" stroke=\"#000000\" points=\"826.2591,-62.5449 831.3411,-53.2485 821.5709,-57.3467 826.2591,-62.5449\"/>\n",
       "</g>\n",
       "</g>\n",
       "</svg>\n"
      ],
      "text/plain": [
       "<graphviz.files.Source at 0x7fd6ae1e1908>"
      ]
     },
     "metadata": {
      "tags": []
     },
     "output_type": "display_data"
    }
   ],
   "source": [
    "model = dt.named_steps['decisiontreeclassifier']\n",
    "encoder = dt.named_steps['ordinalencoder']\n",
    "encoded_columns = encoder.transform(X_val[[feature]]).columns\n",
    "\n",
    "dot_data = export_graphviz(model, \n",
    "                           out_file=None, \n",
    "                           max_depth=5, \n",
    "                           feature_names=encoded_columns,\n",
    "                           class_names=model.classes_, \n",
    "                           impurity=False, \n",
    "                           filled=True, \n",
    "                           proportion=True, \n",
    "                           rounded=True)   \n",
    "display(graphviz.Source(dot_data))"
   ]
  },
  {
   "cell_type": "markdown",
   "metadata": {
    "colab_type": "text",
    "id": "P4EJi2GvgLVa"
   },
   "source": [
    "# Understand how tree ensembles reduce overfitting compared to a single decision tree with unlimited depth"
   ]
  },
  {
   "cell_type": "markdown",
   "metadata": {
    "colab_type": "text",
    "id": "axvjYtRv9Epu"
   },
   "source": [
    "## Overview"
   ]
  },
  {
   "cell_type": "markdown",
   "metadata": {
    "colab_type": "text",
    "id": "0nNABF3HgLVg"
   },
   "source": [
    "### What's \"random\" about random forests?\n",
    "1. Each tree trains on a random bootstrap sample of the data. (In scikit-learn, for `RandomForestRegressor` and `RandomForestClassifier`, the `bootstrap` parameter's default is `True`.) This type of ensembling is called Bagging. (Bootstrap AGGregatING.)\n",
    "2. Each split considers a random subset of the features. (In scikit-learn, when the `max_features` parameter is not `None`.) \n",
    "\n",
    "For extra randomness, you can try [\"extremely randomized trees\"](https://scikit-learn.org/stable/modules/ensemble.html#extremely-randomized-trees)!\n",
    "\n",
    ">In extremely randomized trees (see [ExtraTreesClassifier](https://scikit-learn.org/stable/modules/generated/sklearn.ensemble.ExtraTreesClassifier.html) and [ExtraTreesRegressor](https://scikit-learn.org/stable/modules/generated/sklearn.ensemble.ExtraTreesRegressor.html) classes), randomness goes one step further in the way splits are computed. As in random forests, a random subset of candidate features is used, but instead of looking for the most discriminative thresholds, thresholds are drawn at random for each candidate feature and the best of these randomly-generated thresholds is picked as the splitting rule. This usually allows to reduce the variance of the model a bit more, at the expense of a slightly greater increase in bias"
   ]
  },
  {
   "cell_type": "markdown",
   "metadata": {
    "colab_type": "text",
    "id": "SABL5fg09Epv"
   },
   "source": [
    "## Follow Along"
   ]
  },
  {
   "cell_type": "markdown",
   "metadata": {
    "colab_type": "text",
    "id": "pUYP619CgLVb"
   },
   "source": [
    "### Example: [predicting golf putts](https://statmodeling.stat.columbia.edu/2008/12/04/the_golf_puttin/)\n",
    "(1 feature, non-linear, regression)"
   ]
  },
  {
   "cell_type": "code",
   "execution_count": 3,
   "metadata": {
    "colab": {},
    "colab_type": "code",
    "id": "b4640ukxgLVc"
   },
   "outputs": [],
   "source": [
    "import pandas as pd\n",
    "putts = pd.DataFrame(\n",
    "    columns=['distance', 'tries', 'successes'], \n",
    "    data = [[2, 1443, 1346],\n",
    "            [3, 694, 577],\n",
    "            [4, 455, 337],\n",
    "            [5, 353, 208],\n",
    "            [6, 272, 149],\n",
    "            [7, 256, 136],\n",
    "            [8, 240, 111],\n",
    "            [9, 217, 69],\n",
    "            [10, 200, 67],\n",
    "            [11, 237, 75],\n",
    "            [12, 202, 52],\n",
    "            [13, 192, 46],\n",
    "            [14, 174, 54],\n",
    "            [15, 167, 28],\n",
    "            [16, 201, 27],\n",
    "            [17, 195, 31],\n",
    "            [18, 191, 33],\n",
    "            [19, 147, 20],\n",
    "            [20, 152, 24]]\n",
    ")\n",
    "\n",
    "putts['rate of success'] = putts['successes'] / putts['tries']\n",
    "putts_X = putts[['distance']]\n",
    "putts_y = putts['rate of success']"
   ]
  },
  {
   "cell_type": "code",
   "execution_count": 4,
   "metadata": {
    "colab": {
     "base_uri": "https://localhost:8080/",
     "height": 637,
     "referenced_widgets": [
      "9c109eed0500485ea4b8551927c6a21c",
      "78324934976d412d96b379c5d0199e07",
      "b78400da8b38492d93aa10419d9eaa10",
      "c0dcec215e7640659d3953cd7086a2ee",
      "ba8a49aaa5494e459fb74dfc7b46eeef",
      "ad08ca21c0d54b518ba89647dde54afa",
      "ed5d19b66c6a4185a881739869563f5a",
      "5e84606e789643dc81a3859747b25af7",
      "8f6908280bed4dad82bbfc4f909a42b1"
     ]
    },
    "colab_type": "code",
    "executionInfo": {
     "elapsed": 49510,
     "status": "ok",
     "timestamp": 1583425697241,
     "user": {
      "displayName": "Isaac Grove",
      "photoUrl": "",
      "userId": "03084466740860562469"
     },
     "user_tz": 300
    },
    "id": "T0IpCcKggLVd",
    "outputId": "dcd16b7c-39df-4ef1-be0f-03d861d72fd5"
   },
   "outputs": [
    {
     "data": {
      "application/vnd.jupyter.widget-view+json": {
       "model_id": "111b25d68cbc47c2a31f50343549026a",
       "version_major": 2,
       "version_minor": 0
      },
      "text/plain": [
       "interactive(children=(IntSlider(value=1, description='max_depth', max=6, min=1), IntSlider(value=10, descripti…"
      ]
     },
     "metadata": {},
     "output_type": "display_data"
    }
   ],
   "source": [
    "%matplotlib inline\n",
    "import matplotlib.pyplot as plt\n",
    "from ipywidgets import interact\n",
    "from sklearn.ensemble import RandomForestRegressor\n",
    "from sklearn.tree import DecisionTreeRegressor\n",
    "\n",
    "def putt_trees(max_depth=1, n_estimators=1):\n",
    "    models = [DecisionTreeRegressor(max_depth=max_depth), \n",
    "              RandomForestRegressor(max_depth=max_depth, n_estimators=n_estimators)]\n",
    "    \n",
    "    for model in models:\n",
    "        name = model.__class__.__name__\n",
    "        model.fit(putts_X, putts_y)\n",
    "        ax = putts.plot('distance', 'rate of success', kind='scatter', title=name)\n",
    "        ax.step(putts_X, model.predict(putts_X), where='mid')\n",
    "        plt.show()\n",
    "        \n",
    "interact(putt_trees, max_depth=(1,6,1), n_estimators=(10,40,10));"
   ]
  },
  {
   "cell_type": "markdown",
   "metadata": {
    "colab_type": "text",
    "id": "_KgZK9_9gLVh"
   },
   "source": [
    "### Bagging demo, with golf putts data\n",
    "https://pandas.pydata.org/pandas-docs/stable/reference/api/pandas.DataFrame.sample.html"
   ]
  },
  {
   "cell_type": "code",
   "execution_count": 7,
   "metadata": {
    "colab": {
     "base_uri": "https://localhost:8080/",
     "height": 1000,
     "referenced_widgets": [
      "b33a6a8a594e43c59a38d0d1440bb028",
      "eddbd542536647a2a6e5c207109f7c09",
      "cf17024dccb847fcb85a15dbb408a583",
      "f74ebc72c544456ab4f72e819ab98f91",
      "d3584bc0014c4a81920cb176448561b4",
      "64409ad1fb5746f882a4051415d3b43d",
      "71278e9c571d4671b29ffa4e9a7b2605",
      "b290837387c84ac8a6b79bed8c13dbc9",
      "7d6287369a9a4f16a34e06670b4f6eb5"
     ]
    },
    "colab_type": "code",
    "executionInfo": {
     "elapsed": 50762,
     "status": "ok",
     "timestamp": 1583425698511,
     "user": {
      "displayName": "Isaac Grove",
      "photoUrl": "",
      "userId": "03084466740860562469"
     },
     "user_tz": 300
    },
    "id": "vA9mrSTNgLVi",
    "outputId": "9bcb7d9f-e29d-4fc4-d4ec-bffca13c6c40",
    "scrolled": false
   },
   "outputs": [
    {
     "data": {
      "application/vnd.jupyter.widget-view+json": {
       "model_id": "9fb90252b4de412291495fa6242ed129",
       "version_major": 2,
       "version_minor": 0
      },
      "text/plain": [
       "interactive(children=(IntSlider(value=1, description='max_depth', max=6, min=1), IntSlider(value=2, descriptio…"
      ]
     },
     "metadata": {},
     "output_type": "display_data"
    }
   ],
   "source": [
    "import numpy as np\n",
    "# Do-it-yourself Bagging Ensemble of Decision Trees (like a Random Forest)\n",
    "def diy_bagging(max_depth=1, n_estimators=1):\n",
    "    y_preds = []\n",
    "    for i in range(n_estimators):\n",
    "        title = f'Tree {i+1}'\n",
    "        bootstrap_sample = putts.sample(n=len(putts), replace=True).sort_values(by='distance')\n",
    "        bootstrap_X = bootstrap_sample[['distance']]\n",
    "        bootstrap_y = bootstrap_sample['rate of success']\n",
    "        tree = DecisionTreeRegressor(max_depth=max_depth)\n",
    "        tree.fit(bootstrap_X, bootstrap_y)\n",
    "        y_pred = tree.predict(bootstrap_X)\n",
    "        y_preds.append(y_pred)\n",
    "        ax = bootstrap_sample.plot('distance', 'rate of success', kind='scatter', title=title)\n",
    "        ax.step(bootstrap_X, y_pred, where='mid')\n",
    "        plt.show()\n",
    "        \n",
    "    ensembled = np.vstack(y_preds).mean(axis=0)\n",
    "    title = f'Ensemble of {n_estimators} trees, with max_depth={max_depth}'\n",
    "    ax = putts.plot('distance', 'rate of success', kind='scatter', title=title)\n",
    "    ax.step(putts_X, ensembled, where='mid')\n",
    "    plt.show()\n",
    "    \n",
    "interact(diy_bagging, max_depth=(1,6,1), n_estimators=(2,5,1));"
   ]
  },
  {
   "cell_type": "markdown",
   "metadata": {
    "colab_type": "text",
    "id": "rq4Z_wQ_gLVj"
   },
   "source": [
    "### Go back to Tanzania Waterpumps ..."
   ]
  },
  {
   "cell_type": "markdown",
   "metadata": {
    "colab_type": "text",
    "id": "FoSE9iT6YXQz"
   },
   "source": [
    "#### Helper function to visualize predicted probabilities\n",
    "\n"
   ]
  },
  {
   "cell_type": "code",
   "execution_count": 19,
   "metadata": {
    "colab": {},
    "colab_type": "code",
    "id": "HzIAjGpJgLVj"
   },
   "outputs": [],
   "source": [
    "import itertools\n",
    "import seaborn as sns\n",
    "\n",
    "def pred_heatmap(model, X, features, class_index=-1, title='', num=100):\n",
    "    \"\"\"\n",
    "    Visualize predicted probabilities, for classifier fit on 2 numeric features\n",
    "    \n",
    "    Parameters\n",
    "    ----------\n",
    "    model : scikit-learn classifier, already fit\n",
    "    X : pandas dataframe, which was used to fit model\n",
    "    features : list of strings, column names of the 2 numeric features\n",
    "    class_index : integer, index of class label\n",
    "    title : string, title of plot\n",
    "    num : int, number of grid points for each feature\n",
    "    \n",
    "    Returns\n",
    "    -------\n",
    "    y_pred_proba : numpy array, predicted probabilities for class_index\n",
    "    \"\"\"\n",
    "    feature1, feature2 = features\n",
    "    min1, max1 = X[feature1].min(), X[feature1].max()\n",
    "    min2, max2 = X[feature2].min(), X[feature2].max()\n",
    "    x1 = np.linspace(min1, max1, num)\n",
    "    x2 = np.linspace(max2, min2, num)\n",
    "    combos = list(itertools.product(x1, x2))\n",
    "    y_pred_proba = model.predict_proba(combos)[:, class_index]\n",
    "    pred_grid = y_pred_proba.reshape(num, num).T\n",
    "    table = pd.DataFrame(pred_grid, columns=x1, index=x2)\n",
    "    sns.heatmap(table, vmin=0, vmax=1)\n",
    "    plt.xticks([])\n",
    "    plt.yticks([])\n",
    "    plt.xlabel(feature1)\n",
    "    plt.ylabel(feature2)\n",
    "    plt.title(title)\n",
    "    plt.show()\n",
    "    return y_pred_proba\n"
   ]
  },
  {
   "cell_type": "markdown",
   "metadata": {
    "colab_type": "text",
    "id": "DiRfPqHjgLVl"
   },
   "source": [
    "### Compare Decision Tree, Random Forest, Logistic Regression"
   ]
  },
  {
   "cell_type": "code",
   "execution_count": 20,
   "metadata": {
    "colab": {
     "base_uri": "https://localhost:8080/",
     "height": 864,
     "referenced_widgets": [
      "43e39a3a5b184cd392f78fe0f369f35f",
      "198a24be73b54c0fb475222eb3231935",
      "be61a91b84c34b4cbe0750bd676b0828",
      "ab9cf13d92fa490a8f0b9b5337818622",
      "2de0a18949484174b1a8285d8e9a8209",
      "06d92a62c8774500a0339acb1910388e",
      "df33b67c54194d859cc4f0c1aef6a63f",
      "98bacd79e4a54c0bb4fce98929242982",
      "256fd39d4cc14abc8698401a8dc4d91b"
     ]
    },
    "colab_type": "code",
    "executionInfo": {
     "elapsed": 53617,
     "status": "ok",
     "timestamp": 1583425701382,
     "user": {
      "displayName": "Isaac Grove",
      "photoUrl": "",
      "userId": "03084466740860562469"
     },
     "user_tz": 300
    },
    "id": "HKkMLXhMgLVl",
    "outputId": "e78b5c17-5c66-4e61-bfa0-a8423d58ee8c"
   },
   "outputs": [
    {
     "data": {
      "application/vnd.jupyter.widget-view+json": {
       "model_id": "45ac328df75c4c65b3632e2301fffa56",
       "version_major": 2,
       "version_minor": 0
      },
      "text/plain": [
       "interactive(children=(IntSlider(value=1, description='max_depth', max=6, min=1), IntSlider(value=10, descripti…"
      ]
     },
     "metadata": {},
     "output_type": "display_data"
    }
   ],
   "source": [
    "# Instructions\n",
    "# 1. Choose two features\n",
    "# 2. Run this code cell\n",
    "# 3. Interact with the widget sliders\n",
    "feature1 = 'longitude'\n",
    "feature2 = 'quantity'\n",
    "\n",
    "from sklearn.linear_model import LogisticRegression\n",
    "from sklearn.tree import DecisionTreeClassifier\n",
    "\n",
    "def get_X_y(df, feature1, feature2, target):\n",
    "    features = [feature1, feature2]\n",
    "    X = df[features]\n",
    "    y = df[target]\n",
    "    X = X.fillna(X.median())\n",
    "    X = ce.OrdinalEncoder().fit_transform(X)\n",
    "    return X, y\n",
    "\n",
    "def compare_models(max_depth=1, n_estimators=1):\n",
    "    models = [DecisionTreeClassifier(max_depth=max_depth), \n",
    "              RandomForestClassifier(max_depth=max_depth, n_estimators=n_estimators), \n",
    "              LogisticRegression(solver='lbfgs', multi_class='auto')]\n",
    "    \n",
    "    for model in models:\n",
    "        name = model.__class__.__name__\n",
    "        model.fit(X, y)\n",
    "        pred_heatmap(model, X, [feature1, feature2], class_index=0, title=name)\n",
    "\n",
    "X, y = get_X_y(train, feature1, feature2, target='status_group')\n",
    "interact(compare_models, max_depth=(1,6,1), n_estimators=(10,40,10));"
   ]
  },
  {
   "cell_type": "markdown",
   "metadata": {
    "colab_type": "text",
    "id": "hOQqjLEDgLVn"
   },
   "source": [
    "### Bagging"
   ]
  },
  {
   "cell_type": "code",
   "execution_count": 21,
   "metadata": {
    "colab": {
     "base_uri": "https://localhost:8080/",
     "height": 864,
     "referenced_widgets": [
      "68512a438ca743e99f9c4856ae0a76e0",
      "ccf07c685e9b45ba8d09aef16c3fcf5a",
      "be9fb484e75f49d8a79e3e55f384a900",
      "eed0d55020bb42adb88389ff8f2c1f05",
      "5e06d22bd6a64306b7efdbbc58818726",
      "b0ac760213b74cc1a3a16539b66f6a88",
      "07ae2b57956d45cf87bbe805d162ccd1",
      "53e4a17dc8374be58a60eaef6b42f330",
      "7e2eceb6d11946a1aa4616b6278a81c0"
     ]
    },
    "colab_type": "code",
    "executionInfo": {
     "elapsed": 54919,
     "status": "ok",
     "timestamp": 1583425702700,
     "user": {
      "displayName": "Isaac Grove",
      "photoUrl": "",
      "userId": "03084466740860562469"
     },
     "user_tz": 300
    },
    "id": "Hm4aPgs2gLVn",
    "outputId": "38287193-311a-4bec-c835-624fd6113c0f"
   },
   "outputs": [
    {
     "data": {
      "application/vnd.jupyter.widget-view+json": {
       "model_id": "987d1a4da8c24538a9eb9556cc184491",
       "version_major": 2,
       "version_minor": 0
      },
      "text/plain": [
       "interactive(children=(IntSlider(value=1, description='max_depth', max=6, min=1), IntSlider(value=2, descriptio…"
      ]
     },
     "metadata": {},
     "output_type": "display_data"
    }
   ],
   "source": [
    "# Do-it-yourself Bagging Ensemble of Decision Trees (like a Random Forest)\n",
    "\n",
    "# Instructions\n",
    "# 1. Choose two features\n",
    "# 2. Run this code cell\n",
    "# 3. Interact with the widget sliders\n",
    "\n",
    "feature1 = 'longitude'\n",
    "feature2 = 'latitude'\n",
    "\n",
    "def waterpumps_bagging(max_depth=1, n_estimators=1):\n",
    "    predicteds = []\n",
    "    for i in range(n_estimators):\n",
    "        title = f'Tree {i+1}'\n",
    "        bootstrap_sample = train.sample(n=len(train), replace=True)\n",
    "        X, y = get_X_y(bootstrap_sample, feature1, feature2, target='status_group')\n",
    "        tree = DecisionTreeClassifier(max_depth=max_depth)\n",
    "        tree.fit(X, y)\n",
    "        predicted = pred_heatmap(tree, X, [feature1, feature2], class_index=0, title=title)\n",
    "        predicteds.append(predicted)\n",
    "    \n",
    "    ensembled = np.vstack(predicteds).mean(axis=0)\n",
    "    title = f'Ensemble of {n_estimators} trees, with max_depth={max_depth}'\n",
    "    sns.heatmap(ensembled.reshape(100, 100).T, vmin=0, vmax=1)\n",
    "    plt.title(title)\n",
    "    plt.xlabel(feature1)\n",
    "    plt.ylabel(feature2)\n",
    "    plt.xticks([])\n",
    "    plt.yticks([])\n",
    "    plt.show()\n",
    "        \n",
    "interact(waterpumps_bagging, max_depth=(1,6,1), n_estimators=(2,5,1));"
   ]
  },
  {
   "cell_type": "markdown",
   "metadata": {
    "colab_type": "text",
    "id": "wYoSBi15akWP"
   },
   "source": [
    "# Review\n",
    "\n",
    "#### Try Tree Ensembles when you do machine learning with labeled, tabular data\n",
    "- \"Tree Ensembles\" means Random Forest or Gradient Boosting models. \n",
    "- [Tree Ensembles often have the best predictive accuracy](https://arxiv.org/abs/1708.05070) with labeled, tabular data.\n",
    "- Why? Because trees can fit non-linear, non-[monotonic](https://en.wikipedia.org/wiki/Monotonic_function) relationships, and [interactions](https://christophm.github.io/interpretable-ml-book/interaction.html) between features.\n",
    "- A single decision tree, grown to unlimited depth, will [overfit](http://www.r2d3.us/visual-intro-to-machine-learning-part-1/). We solve this problem by ensembling trees, with bagging (Random Forest) or boosting (Gradient Boosting).\n",
    "- Random Forest's advantage: may be less sensitive to hyperparameters. Gradient Boosting's advantage: may get better predictive accuracy.\n",
    "\n",
    "#### One-hot encoding isn’t the only way, and may not be the best way, of categorical encoding for tree ensembles.\n",
    "- For example, tree ensembles can work with arbitrary \"ordinal\" encoding! (Randomly assigning an integer to each category.) Compared to one-hot encoding, the dimensionality will be lower, and the predictive accuracy may be just as good or even better.\n"
   ]
  }
 ],
 "metadata": {
  "colab": {
   "name": "LectureNotes222_RandomForests.ipynb",
   "provenance": [
    {
     "file_id": "1No7pWohvzuwboRLEI98yrKLu9UMQnMHu",
     "timestamp": 1582062768479
    },
    {
     "file_id": "https://github.com/LambdaSchool/DS-Unit-2-Kaggle-Challenge/blob/master/module2-random-forests/LS_DS_222.ipynb",
     "timestamp": 1582040373425
    }
   ]
  },
  "kernelspec": {
   "display_name": "Python 3",
   "language": "python",
   "name": "python3"
  },
  "language_info": {
   "codemirror_mode": {
    "name": "ipython",
    "version": 3
   },
   "file_extension": ".py",
   "mimetype": "text/x-python",
   "name": "python",
   "nbconvert_exporter": "python",
   "pygments_lexer": "ipython3",
   "version": "3.8.2"
  },
  "widgets": {
   "application/vnd.jupyter.widget-state+json": {
    "06d92a62c8774500a0339acb1910388e": {
     "model_module": "@jupyter-widgets/controls",
     "model_name": "SliderStyleModel",
     "state": {
      "_model_module": "@jupyter-widgets/controls",
      "_model_module_version": "1.5.0",
      "_model_name": "SliderStyleModel",
      "_view_count": null,
      "_view_module": "@jupyter-widgets/base",
      "_view_module_version": "1.2.0",
      "_view_name": "StyleView",
      "description_width": "",
      "handle_color": null
     }
    },
    "07ae2b57956d45cf87bbe805d162ccd1": {
     "model_module": "@jupyter-widgets/base",
     "model_name": "LayoutModel",
     "state": {
      "_model_module": "@jupyter-widgets/base",
      "_model_module_version": "1.2.0",
      "_model_name": "LayoutModel",
      "_view_count": null,
      "_view_module": "@jupyter-widgets/base",
      "_view_module_version": "1.2.0",
      "_view_name": "LayoutView",
      "align_content": null,
      "align_items": null,
      "align_self": null,
      "border": null,
      "bottom": null,
      "display": null,
      "flex": null,
      "flex_flow": null,
      "grid_area": null,
      "grid_auto_columns": null,
      "grid_auto_flow": null,
      "grid_auto_rows": null,
      "grid_column": null,
      "grid_gap": null,
      "grid_row": null,
      "grid_template_areas": null,
      "grid_template_columns": null,
      "grid_template_rows": null,
      "height": null,
      "justify_content": null,
      "justify_items": null,
      "left": null,
      "margin": null,
      "max_height": null,
      "max_width": null,
      "min_height": null,
      "min_width": null,
      "object_fit": null,
      "object_position": null,
      "order": null,
      "overflow": null,
      "overflow_x": null,
      "overflow_y": null,
      "padding": null,
      "right": null,
      "top": null,
      "visibility": null,
      "width": null
     }
    },
    "198a24be73b54c0fb475222eb3231935": {
     "model_module": "@jupyter-widgets/base",
     "model_name": "LayoutModel",
     "state": {
      "_model_module": "@jupyter-widgets/base",
      "_model_module_version": "1.2.0",
      "_model_name": "LayoutModel",
      "_view_count": null,
      "_view_module": "@jupyter-widgets/base",
      "_view_module_version": "1.2.0",
      "_view_name": "LayoutView",
      "align_content": null,
      "align_items": null,
      "align_self": null,
      "border": null,
      "bottom": null,
      "display": null,
      "flex": null,
      "flex_flow": null,
      "grid_area": null,
      "grid_auto_columns": null,
      "grid_auto_flow": null,
      "grid_auto_rows": null,
      "grid_column": null,
      "grid_gap": null,
      "grid_row": null,
      "grid_template_areas": null,
      "grid_template_columns": null,
      "grid_template_rows": null,
      "height": null,
      "justify_content": null,
      "justify_items": null,
      "left": null,
      "margin": null,
      "max_height": null,
      "max_width": null,
      "min_height": null,
      "min_width": null,
      "object_fit": null,
      "object_position": null,
      "order": null,
      "overflow": null,
      "overflow_x": null,
      "overflow_y": null,
      "padding": null,
      "right": null,
      "top": null,
      "visibility": null,
      "width": null
     }
    },
    "256fd39d4cc14abc8698401a8dc4d91b": {
     "model_module": "@jupyter-widgets/base",
     "model_name": "LayoutModel",
     "state": {
      "_model_module": "@jupyter-widgets/base",
      "_model_module_version": "1.2.0",
      "_model_name": "LayoutModel",
      "_view_count": null,
      "_view_module": "@jupyter-widgets/base",
      "_view_module_version": "1.2.0",
      "_view_name": "LayoutView",
      "align_content": null,
      "align_items": null,
      "align_self": null,
      "border": null,
      "bottom": null,
      "display": null,
      "flex": null,
      "flex_flow": null,
      "grid_area": null,
      "grid_auto_columns": null,
      "grid_auto_flow": null,
      "grid_auto_rows": null,
      "grid_column": null,
      "grid_gap": null,
      "grid_row": null,
      "grid_template_areas": null,
      "grid_template_columns": null,
      "grid_template_rows": null,
      "height": null,
      "justify_content": null,
      "justify_items": null,
      "left": null,
      "margin": null,
      "max_height": null,
      "max_width": null,
      "min_height": null,
      "min_width": null,
      "object_fit": null,
      "object_position": null,
      "order": null,
      "overflow": null,
      "overflow_x": null,
      "overflow_y": null,
      "padding": null,
      "right": null,
      "top": null,
      "visibility": null,
      "width": null
     }
    },
    "2de0a18949484174b1a8285d8e9a8209": {
     "model_module": "@jupyter-widgets/output",
     "model_name": "OutputModel",
     "state": {
      "_dom_classes": [],
      "_model_module": "@jupyter-widgets/output",
      "_model_module_version": "1.0.0",
      "_model_name": "OutputModel",
      "_view_count": null,
      "_view_module": "@jupyter-widgets/output",
      "_view_module_version": "1.0.0",
      "_view_name": "OutputView",
      "layout": "IPY_MODEL_18c4e4aaae55433ea442d793ec8a895a",
      "msg_id": "",
      "outputs": [
       {
        "image/png": "iVBORw0KGgoAAAANSUhEUgAAAVoAAAEFCAYAAACiiS9UAAAABHNCSVQICAgIfAhkiAAAAAlwSFlz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\nrkJggg==\n",
        "metadata": {
         "tags": []
        },
        "output_type": "display_data",
        "text/plain": "<Figure size 432x288 with 2 Axes>"
       },
       {
        "image/png": "iVBORw0KGgoAAAANSUhEUgAAAVoAAAEFCAYAAACiiS9UAAAABHNCSVQICAgIfAhkiAAAAAlwSFlz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\nEmgjIgpLoI2IKOz/A67sI86fhU7dAAAAAElFTkSuQmCC\n",
        "metadata": {
         "tags": []
        },
        "output_type": "display_data",
        "text/plain": "<Figure size 432x288 with 2 Axes>"
       },
       {
        "image/png": "iVBORw0KGgoAAAANSUhEUgAAAVoAAAEFCAYAAACiiS9UAAAABHNCSVQICAgIfAhkiAAAAAlwSFlz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\nAAAAAElFTkSuQmCC\n",
        "metadata": {
         "tags": []
        },
        "output_type": "display_data",
        "text/plain": "<Figure size 432x288 with 2 Axes>"
       }
      ]
     }
    },
    "43e39a3a5b184cd392f78fe0f369f35f": {
     "model_module": "@jupyter-widgets/controls",
     "model_name": "VBoxModel",
     "state": {
      "_dom_classes": [
       "widget-interact"
      ],
      "_model_module": "@jupyter-widgets/controls",
      "_model_module_version": "1.5.0",
      "_model_name": "VBoxModel",
      "_view_count": null,
      "_view_module": "@jupyter-widgets/controls",
      "_view_module_version": "1.5.0",
      "_view_name": "VBoxView",
      "box_style": "",
      "children": [
       "IPY_MODEL_be61a91b84c34b4cbe0750bd676b0828",
       "IPY_MODEL_ab9cf13d92fa490a8f0b9b5337818622",
       "IPY_MODEL_2de0a18949484174b1a8285d8e9a8209"
      ],
      "layout": "IPY_MODEL_198a24be73b54c0fb475222eb3231935"
     }
    },
    "53e4a17dc8374be58a60eaef6b42f330": {
     "model_module": "@jupyter-widgets/controls",
     "model_name": "SliderStyleModel",
     "state": {
      "_model_module": "@jupyter-widgets/controls",
      "_model_module_version": "1.5.0",
      "_model_name": "SliderStyleModel",
      "_view_count": null,
      "_view_module": "@jupyter-widgets/base",
      "_view_module_version": "1.2.0",
      "_view_name": "StyleView",
      "description_width": "",
      "handle_color": null
     }
    },
    "5e06d22bd6a64306b7efdbbc58818726": {
     "model_module": "@jupyter-widgets/output",
     "model_name": "OutputModel",
     "state": {
      "_dom_classes": [],
      "_model_module": "@jupyter-widgets/output",
      "_model_module_version": "1.0.0",
      "_model_name": "OutputModel",
      "_view_count": null,
      "_view_module": "@jupyter-widgets/output",
      "_view_module_version": "1.0.0",
      "_view_name": "OutputView",
      "layout": "IPY_MODEL_5fd8638ea6d049f3ad62d989cbbe0336",
      "msg_id": "",
      "outputs": [
       {
        "image/png": "iVBORw0KGgoAAAANSUhEUgAAAVoAAAEFCAYAAACiiS9UAAAABHNCSVQICAgIfAhkiAAAAAlwSFlz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\n",
        "metadata": {
         "tags": []
        },
        "output_type": "display_data",
        "text/plain": "<Figure size 432x288 with 2 Axes>"
       },
       {
        "image/png": "iVBORw0KGgoAAAANSUhEUgAAAVoAAAEFCAYAAACiiS9UAAAABHNCSVQICAgIfAhkiAAAAAlwSFlz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\n0UpSYwZaSWrMQCtJjRloJakxA60kNfZ/p/eS4QmaBqMAAAAASUVORK5CYII=\n",
        "metadata": {
         "tags": []
        },
        "output_type": "display_data",
        "text/plain": "<Figure size 432x288 with 2 Axes>"
       },
       {
        "image/png": "iVBORw0KGgoAAAANSUhEUgAAAVoAAAEFCAYAAACiiS9UAAAABHNCSVQICAgIfAhkiAAAAAlwSFlz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\ngg==\n",
        "metadata": {
         "tags": []
        },
        "output_type": "display_data",
        "text/plain": "<Figure size 432x288 with 2 Axes>"
       }
      ]
     }
    },
    "5e84606e789643dc81a3859747b25af7": {
     "model_module": "@jupyter-widgets/controls",
     "model_name": "SliderStyleModel",
     "state": {
      "_model_module": "@jupyter-widgets/controls",
      "_model_module_version": "1.5.0",
      "_model_name": "SliderStyleModel",
      "_view_count": null,
      "_view_module": "@jupyter-widgets/base",
      "_view_module_version": "1.2.0",
      "_view_name": "StyleView",
      "description_width": "",
      "handle_color": null
     }
    },
    "64409ad1fb5746f882a4051415d3b43d": {
     "model_module": "@jupyter-widgets/controls",
     "model_name": "SliderStyleModel",
     "state": {
      "_model_module": "@jupyter-widgets/controls",
      "_model_module_version": "1.5.0",
      "_model_name": "SliderStyleModel",
      "_view_count": null,
      "_view_module": "@jupyter-widgets/base",
      "_view_module_version": "1.2.0",
      "_view_name": "StyleView",
      "description_width": "",
      "handle_color": null
     }
    },
    "68512a438ca743e99f9c4856ae0a76e0": {
     "model_module": "@jupyter-widgets/controls",
     "model_name": "VBoxModel",
     "state": {
      "_dom_classes": [
       "widget-interact"
      ],
      "_model_module": "@jupyter-widgets/controls",
      "_model_module_version": "1.5.0",
      "_model_name": "VBoxModel",
      "_view_count": null,
      "_view_module": "@jupyter-widgets/controls",
      "_view_module_version": "1.5.0",
      "_view_name": "VBoxView",
      "box_style": "",
      "children": [
       "IPY_MODEL_be9fb484e75f49d8a79e3e55f384a900",
       "IPY_MODEL_eed0d55020bb42adb88389ff8f2c1f05",
       "IPY_MODEL_5e06d22bd6a64306b7efdbbc58818726"
      ],
      "layout": "IPY_MODEL_ccf07c685e9b45ba8d09aef16c3fcf5a"
     }
    },
    "71278e9c571d4671b29ffa4e9a7b2605": {
     "model_module": "@jupyter-widgets/base",
     "model_name": "LayoutModel",
     "state": {
      "_model_module": "@jupyter-widgets/base",
      "_model_module_version": "1.2.0",
      "_model_name": "LayoutModel",
      "_view_count": null,
      "_view_module": "@jupyter-widgets/base",
      "_view_module_version": "1.2.0",
      "_view_name": "LayoutView",
      "align_content": null,
      "align_items": null,
      "align_self": null,
      "border": null,
      "bottom": null,
      "display": null,
      "flex": null,
      "flex_flow": null,
      "grid_area": null,
      "grid_auto_columns": null,
      "grid_auto_flow": null,
      "grid_auto_rows": null,
      "grid_column": null,
      "grid_gap": null,
      "grid_row": null,
      "grid_template_areas": null,
      "grid_template_columns": null,
      "grid_template_rows": null,
      "height": null,
      "justify_content": null,
      "justify_items": null,
      "left": null,
      "margin": null,
      "max_height": null,
      "max_width": null,
      "min_height": null,
      "min_width": null,
      "object_fit": null,
      "object_position": null,
      "order": null,
      "overflow": null,
      "overflow_x": null,
      "overflow_y": null,
      "padding": null,
      "right": null,
      "top": null,
      "visibility": null,
      "width": null
     }
    },
    "78324934976d412d96b379c5d0199e07": {
     "model_module": "@jupyter-widgets/base",
     "model_name": "LayoutModel",
     "state": {
      "_model_module": "@jupyter-widgets/base",
      "_model_module_version": "1.2.0",
      "_model_name": "LayoutModel",
      "_view_count": null,
      "_view_module": "@jupyter-widgets/base",
      "_view_module_version": "1.2.0",
      "_view_name": "LayoutView",
      "align_content": null,
      "align_items": null,
      "align_self": null,
      "border": null,
      "bottom": null,
      "display": null,
      "flex": null,
      "flex_flow": null,
      "grid_area": null,
      "grid_auto_columns": null,
      "grid_auto_flow": null,
      "grid_auto_rows": null,
      "grid_column": null,
      "grid_gap": null,
      "grid_row": null,
      "grid_template_areas": null,
      "grid_template_columns": null,
      "grid_template_rows": null,
      "height": null,
      "justify_content": null,
      "justify_items": null,
      "left": null,
      "margin": null,
      "max_height": null,
      "max_width": null,
      "min_height": null,
      "min_width": null,
      "object_fit": null,
      "object_position": null,
      "order": null,
      "overflow": null,
      "overflow_x": null,
      "overflow_y": null,
      "padding": null,
      "right": null,
      "top": null,
      "visibility": null,
      "width": null
     }
    },
    "7d6287369a9a4f16a34e06670b4f6eb5": {
     "model_module": "@jupyter-widgets/base",
     "model_name": "LayoutModel",
     "state": {
      "_model_module": "@jupyter-widgets/base",
      "_model_module_version": "1.2.0",
      "_model_name": "LayoutModel",
      "_view_count": null,
      "_view_module": "@jupyter-widgets/base",
      "_view_module_version": "1.2.0",
      "_view_name": "LayoutView",
      "align_content": null,
      "align_items": null,
      "align_self": null,
      "border": null,
      "bottom": null,
      "display": null,
      "flex": null,
      "flex_flow": null,
      "grid_area": null,
      "grid_auto_columns": null,
      "grid_auto_flow": null,
      "grid_auto_rows": null,
      "grid_column": null,
      "grid_gap": null,
      "grid_row": null,
      "grid_template_areas": null,
      "grid_template_columns": null,
      "grid_template_rows": null,
      "height": null,
      "justify_content": null,
      "justify_items": null,
      "left": null,
      "margin": null,
      "max_height": null,
      "max_width": null,
      "min_height": null,
      "min_width": null,
      "object_fit": null,
      "object_position": null,
      "order": null,
      "overflow": null,
      "overflow_x": null,
      "overflow_y": null,
      "padding": null,
      "right": null,
      "top": null,
      "visibility": null,
      "width": null
     }
    },
    "7e2eceb6d11946a1aa4616b6278a81c0": {
     "model_module": "@jupyter-widgets/base",
     "model_name": "LayoutModel",
     "state": {
      "_model_module": "@jupyter-widgets/base",
      "_model_module_version": "1.2.0",
      "_model_name": "LayoutModel",
      "_view_count": null,
      "_view_module": "@jupyter-widgets/base",
      "_view_module_version": "1.2.0",
      "_view_name": "LayoutView",
      "align_content": null,
      "align_items": null,
      "align_self": null,
      "border": null,
      "bottom": null,
      "display": null,
      "flex": null,
      "flex_flow": null,
      "grid_area": null,
      "grid_auto_columns": null,
      "grid_auto_flow": null,
      "grid_auto_rows": null,
      "grid_column": null,
      "grid_gap": null,
      "grid_row": null,
      "grid_template_areas": null,
      "grid_template_columns": null,
      "grid_template_rows": null,
      "height": null,
      "justify_content": null,
      "justify_items": null,
      "left": null,
      "margin": null,
      "max_height": null,
      "max_width": null,
      "min_height": null,
      "min_width": null,
      "object_fit": null,
      "object_position": null,
      "order": null,
      "overflow": null,
      "overflow_x": null,
      "overflow_y": null,
      "padding": null,
      "right": null,
      "top": null,
      "visibility": null,
      "width": null
     }
    },
    "8f6908280bed4dad82bbfc4f909a42b1": {
     "model_module": "@jupyter-widgets/base",
     "model_name": "LayoutModel",
     "state": {
      "_model_module": "@jupyter-widgets/base",
      "_model_module_version": "1.2.0",
      "_model_name": "LayoutModel",
      "_view_count": null,
      "_view_module": "@jupyter-widgets/base",
      "_view_module_version": "1.2.0",
      "_view_name": "LayoutView",
      "align_content": null,
      "align_items": null,
      "align_self": null,
      "border": null,
      "bottom": null,
      "display": null,
      "flex": null,
      "flex_flow": null,
      "grid_area": null,
      "grid_auto_columns": null,
      "grid_auto_flow": null,
      "grid_auto_rows": null,
      "grid_column": null,
      "grid_gap": null,
      "grid_row": null,
      "grid_template_areas": null,
      "grid_template_columns": null,
      "grid_template_rows": null,
      "height": null,
      "justify_content": null,
      "justify_items": null,
      "left": null,
      "margin": null,
      "max_height": null,
      "max_width": null,
      "min_height": null,
      "min_width": null,
      "object_fit": null,
      "object_position": null,
      "order": null,
      "overflow": null,
      "overflow_x": null,
      "overflow_y": null,
      "padding": null,
      "right": null,
      "top": null,
      "visibility": null,
      "width": null
     }
    },
    "98bacd79e4a54c0bb4fce98929242982": {
     "model_module": "@jupyter-widgets/controls",
     "model_name": "SliderStyleModel",
     "state": {
      "_model_module": "@jupyter-widgets/controls",
      "_model_module_version": "1.5.0",
      "_model_name": "SliderStyleModel",
      "_view_count": null,
      "_view_module": "@jupyter-widgets/base",
      "_view_module_version": "1.2.0",
      "_view_name": "StyleView",
      "description_width": "",
      "handle_color": null
     }
    },
    "9c109eed0500485ea4b8551927c6a21c": {
     "model_module": "@jupyter-widgets/controls",
     "model_name": "VBoxModel",
     "state": {
      "_dom_classes": [
       "widget-interact"
      ],
      "_model_module": "@jupyter-widgets/controls",
      "_model_module_version": "1.5.0",
      "_model_name": "VBoxModel",
      "_view_count": null,
      "_view_module": "@jupyter-widgets/controls",
      "_view_module_version": "1.5.0",
      "_view_name": "VBoxView",
      "box_style": "",
      "children": [
       "IPY_MODEL_b78400da8b38492d93aa10419d9eaa10",
       "IPY_MODEL_c0dcec215e7640659d3953cd7086a2ee",
       "IPY_MODEL_ba8a49aaa5494e459fb74dfc7b46eeef"
      ],
      "layout": "IPY_MODEL_78324934976d412d96b379c5d0199e07"
     }
    },
    "ab9cf13d92fa490a8f0b9b5337818622": {
     "model_module": "@jupyter-widgets/controls",
     "model_name": "IntSliderModel",
     "state": {
      "_dom_classes": [],
      "_model_module": "@jupyter-widgets/controls",
      "_model_module_version": "1.5.0",
      "_model_name": "IntSliderModel",
      "_view_count": null,
      "_view_module": "@jupyter-widgets/controls",
      "_view_module_version": "1.5.0",
      "_view_name": "IntSliderView",
      "continuous_update": true,
      "description": "n_estimators",
      "description_tooltip": null,
      "disabled": false,
      "layout": "IPY_MODEL_256fd39d4cc14abc8698401a8dc4d91b",
      "max": 40,
      "min": 10,
      "orientation": "horizontal",
      "readout": true,
      "readout_format": "d",
      "step": 10,
      "style": "IPY_MODEL_98bacd79e4a54c0bb4fce98929242982",
      "value": 10
     }
    },
    "ad08ca21c0d54b518ba89647dde54afa": {
     "model_module": "@jupyter-widgets/controls",
     "model_name": "SliderStyleModel",
     "state": {
      "_model_module": "@jupyter-widgets/controls",
      "_model_module_version": "1.5.0",
      "_model_name": "SliderStyleModel",
      "_view_count": null,
      "_view_module": "@jupyter-widgets/base",
      "_view_module_version": "1.2.0",
      "_view_name": "StyleView",
      "description_width": "",
      "handle_color": null
     }
    },
    "b0ac760213b74cc1a3a16539b66f6a88": {
     "model_module": "@jupyter-widgets/controls",
     "model_name": "SliderStyleModel",
     "state": {
      "_model_module": "@jupyter-widgets/controls",
      "_model_module_version": "1.5.0",
      "_model_name": "SliderStyleModel",
      "_view_count": null,
      "_view_module": "@jupyter-widgets/base",
      "_view_module_version": "1.2.0",
      "_view_name": "StyleView",
      "description_width": "",
      "handle_color": null
     }
    },
    "b290837387c84ac8a6b79bed8c13dbc9": {
     "model_module": "@jupyter-widgets/controls",
     "model_name": "SliderStyleModel",
     "state": {
      "_model_module": "@jupyter-widgets/controls",
      "_model_module_version": "1.5.0",
      "_model_name": "SliderStyleModel",
      "_view_count": null,
      "_view_module": "@jupyter-widgets/base",
      "_view_module_version": "1.2.0",
      "_view_name": "StyleView",
      "description_width": "",
      "handle_color": null
     }
    },
    "b33a6a8a594e43c59a38d0d1440bb028": {
     "model_module": "@jupyter-widgets/controls",
     "model_name": "VBoxModel",
     "state": {
      "_dom_classes": [
       "widget-interact"
      ],
      "_model_module": "@jupyter-widgets/controls",
      "_model_module_version": "1.5.0",
      "_model_name": "VBoxModel",
      "_view_count": null,
      "_view_module": "@jupyter-widgets/controls",
      "_view_module_version": "1.5.0",
      "_view_name": "VBoxView",
      "box_style": "",
      "children": [
       "IPY_MODEL_cf17024dccb847fcb85a15dbb408a583",
       "IPY_MODEL_f74ebc72c544456ab4f72e819ab98f91",
       "IPY_MODEL_d3584bc0014c4a81920cb176448561b4"
      ],
      "layout": "IPY_MODEL_eddbd542536647a2a6e5c207109f7c09"
     }
    },
    "b78400da8b38492d93aa10419d9eaa10": {
     "model_module": "@jupyter-widgets/controls",
     "model_name": "IntSliderModel",
     "state": {
      "_dom_classes": [],
      "_model_module": "@jupyter-widgets/controls",
      "_model_module_version": "1.5.0",
      "_model_name": "IntSliderModel",
      "_view_count": null,
      "_view_module": "@jupyter-widgets/controls",
      "_view_module_version": "1.5.0",
      "_view_name": "IntSliderView",
      "continuous_update": true,
      "description": "max_depth",
      "description_tooltip": null,
      "disabled": false,
      "layout": "IPY_MODEL_ed5d19b66c6a4185a881739869563f5a",
      "max": 6,
      "min": 1,
      "orientation": "horizontal",
      "readout": true,
      "readout_format": "d",
      "step": 1,
      "style": "IPY_MODEL_ad08ca21c0d54b518ba89647dde54afa",
      "value": 1
     }
    },
    "ba8a49aaa5494e459fb74dfc7b46eeef": {
     "model_module": "@jupyter-widgets/output",
     "model_name": "OutputModel",
     "state": {
      "_dom_classes": [],
      "_model_module": "@jupyter-widgets/output",
      "_model_module_version": "1.0.0",
      "_model_name": "OutputModel",
      "_view_count": null,
      "_view_module": "@jupyter-widgets/output",
      "_view_module_version": "1.0.0",
      "_view_name": "OutputView",
      "layout": "IPY_MODEL_bea64e194de04a63a95fe213769371cf",
      "msg_id": "",
      "outputs": [
       {
        "image/png": "iVBORw0KGgoAAAANSUhEUgAAAYIAAAEWCAYAAABrDZDcAAAABHNCSVQICAgIfAhkiAAAAAlwSFlz\nAAALEgAACxIB0t1+/AAAADh0RVh0U29mdHdhcmUAbWF0cGxvdGxpYiB2ZXJzaW9uMy4xLjMsIGh0\ndHA6Ly9tYXRwbG90bGliLm9yZy+AADFEAAAfR0lEQVR4nO3de5QdZZnv8e9vk6bT2AlpkjhCOtwR\nJzAhMhHUqOMcHQSWBj1BBWGGm6BHmYXXBMVBx5kzI3HEUQYvKKioI4I5QmS4ivcLSIJJKwEkBDAd\nbqFJSBqSpuN+zh9VLTs7uzvV6X3rXb/PWnul7vVU9U49+33fqrcUEZiZWX4VGh2AmZk1lhOBmVnO\nORGYmeWcE4GZWc45EZiZ5ZwTgZlZzjkRWNORdKOk0zIs1y/pwHrEZNbKnAhsl0l6SNIWSZslbZT0\nK0nvljSm71VEHBcR38iwXGdErBnLviTdnSaUfkl/krS1ZPyjY9n2MPv7lqTn0u0/JekWSS+u9n7M\nRsOJwMbqTRExCdgP+BSwCLi8sSFlFxGHpQmlE/g5cO7QeET8W/nykiZUYbf/lu5vBvAE8JUqbHMH\nVYp13O7fsnMisKqIiKcjYinwduA0SYdLapf0H5L+KOlxSV+S1DG0jqQTJK2QtEnSA5KOTaf/RNI7\n0+GDJf1U0tOSnpT03ZL1Q9LB6fCekq6UtF7Sw5I+NlQykXS6pF+ksWyQ9KCk47Icl6R3SvqZpM9L\negr4WMn0e9Pt3ShpZsk6syT9MP3Ff6+kBcOcsy3A1cCcCvscbtvHSfpDej4ukfRLSafvSqySCumy\nT6Tb65E0K533Rkn3pKW9XknvL4nh3ZJWS+qTdK2kvdPpE9K/yXskrQbuzXKOrfGcCKyqIuI3QC/w\napISwotJLnQHk/wCvhBA0lHAlcCHgSnAa4CHKmzyX4BbgC6gG7hkmF1fAuwJHAj8DfAPwBkl848G\n7gOmAYuByyUp42G9ErgHmA5clF7YPwyckE67A/jv9Lg6gVvTY3shcApwmaRDyzeaLnsysLpk2kjb\nfiFJ4vhwehwPAkftaqzAccDLgUNIzu9JwFPpvK8BZ6WlvdnAT9MYjgE+CZxI8vd8BPh2WQzzgZcB\nf1XpZFoTigh//NmlD8mF+/UVpt8OXAA8AxxUMv0VwIPp8JeBzw6z3Z8A70yHrwQuA7orLBckCWY3\n4DlgVsm8dwE/SYdPB1aXzNsjXfdFw+23ZNo7gTVl024FTisZnwAMkFwYTwF+XLb85cAF6fC3gK3A\nxjSGB4DDM277TODnJfMEPAqcvouxHkPyq/1ooFC23iPp9iaVTf8GSdXW0Phk4E8kSXpCekyvafR3\n05/RfVwisFqYQXJR2ANYnjYkbwRuIvlVCjCT5CK4MwtJLni/SRt2z6ywzDSgDXi4ZNrDaRxDHhsa\niIhn08HODPsHWFs2vh9waclxPQkUSS6G+wHzhual898O7F2y/qciYgpwADBI8os8y7b3KY0lkitx\n767GGhG3AF8CvggMVd1NStd7C8kv+z+mVXVHp9P3oeQ8R8QmYAPbn+vyGKzJORFYVUl6GclF4Vpg\nC3BYRExJP3tG0kgKycXioJ1tLyIei4izI2Ifkl/5XxhqFyjxJMkFdb+SafsC68Z4OH8Oo2x8LUm1\nyZSST0dE3JHOu61sXmdEnFvh2B4C3g9cIqk9w7YfJUkIAKRVWzPKNzuKWImI/4yII4HDgVnAB9Lp\nd0TEfJLqreuBq9LtPULJeU4TRxfbn2t3aTzOOBFYVUiaLOmNJBeMb0XESpK7YT6b1m0jaYakN6Sr\nXA6cIel1aaPlDEkvqbDdt0oauvhtILnIFEuXiYg/kdSd/19JkyTtR3JB+1YNDhWSX9EXSPrLNMYp\nkk5M5y0FDpP0Dklt6eeoSm0Eaew3kiSyd2bY9vXAkZLepOSOnPN4voQ16ljTuI5Kt/UMSfVaUVJH\nGv/kiBgENvP8Of8OcJak2Wny+neS6qrykomNI04ENlY/kLSZ5JfnBcDFPN9Iu4ikIfR2SZuAHwKH\nwp8blc8APgs8TdIYuR87ehlwh6R+kovseVH52YF/JLmYrQF+QdIgekU1DrBcRFxDcpzXpMfVA7wh\nnfd0OnwqyS/4x0gulu2VtwbAp4FFknbfybYfJ6lmuhjoIylR/Zakzn/UsZI00l9O0l7xUBrvxem8\n04CH03XOSo+HiLiJpLH4++ny+5K0i9g4pqSa0czGG0m7kVTVnBgRP290PDZ+uURgNo5IOjat3mkH\n/omkbeQ3DQ7LxjknArPx5VUk1V/rSap43hIRw1YNmWXhqiEzs5xzicDMLOfGXadQ06ZNi/3337/R\nYZiZjSvLly9/MiIq3m487hLB/vvvz7JlyxodhpnZuCLp4eHmuWrIzCznnAjMzHLOicDMLOecCMzM\ncs6JwMws55wIzMxyzonAzCznnAjMzHIuN4mgr3+AlWs30tfv/rnMzEqNuyeLd8V1K9axaEkPbYUC\ng8UiixfMZv6c8jf8mZnlU8uXCPr6B1i0pIetg0U2D2xj62CRhUt6XDIwM0u1fCLo3bCFtsL2h9lW\nKNC7YUuDIjIzay4tnwi6uzoYLG73rnMGi0W6uzoaFJGZWXNp+UQwtbOdxQtmM7GtwKT2CUxsK7B4\nwWymdo70LnEzs/zIRWPx/DkzmHfwNHo3bKG7q8NJwMysRC4SASQlAycAM7MdtXzVkJmZjcyJwMws\n55wIzMxyzonAzCznnAjMzHLOicDMLOecCMzMcs6JwMws55wIzMxyzonAzCznnAjMzHLOicDMLOec\nCMzMcs6JwMws55wIzMxyzonAzCznnAhGoa9/gJVrN9LXP9DoUMzMqiY3bygbq+tWrGPRkh7aCgUG\ni0UWL5jN/DkzGh2WmdmYuUSQQV//AIuW9LB1sMjmgW1sHSyycEmPSwZm1hKcCDLo3bCFtsL2p6qt\nUKB3w5YGRWRmVj1OBBl0d3UwWCxuN22wWKS7q6NBEZmZVY8TQQZTO9tZvGA2E9sKTGqfwMS2AosX\nzGZqZ3ujQzMzGzM3Fmc0f84M5h08jd4NW+ju6nASMLOW4UQwClM7250AzKzl1LRqSNKxku6TtFrS\n+RXm7yvpx5J+K6lH0vG1jMfMzHZUs0QgaTfgUuA4YBZwsqRZZYt9DLg6Il4KnAR8oVbxmJlZZbUs\nERwFrI6INRHxHHAVcELZMgFMTof3BB6pYTxmZlZBLRPBDGBtyXhvOq3UJ4BTJfUCNwD/WGlDks6R\ntEzSsvXr19ciVjOz3Gr07aMnA1+PiG7geOCbknaIKSIui4i5ETF3+vTpdQ/SzKyV1TIRrANmlox3\np9NKnQVcDRARvwYmAtNqGJOZmZWpZSK4EzhE0gGSdidpDF5atswfgdcBSPpLkkTguh8zszqqWSKI\niG3AucDNwD0kdwfdLemTkuani30QOFvSSuA7wOkREbWKyczMdlTTB8oi4gaSRuDSaReWDK8C5tUy\nBjMzG1mjG4vNzKzBnAjMzHLOicDMLOecCMzMcs6JwMws55wI6qyvf4CVazf6fcdm1jT8PoI6um7F\nOhYt6aGtUGCwWGTxgtnMn1Pe/ZKZWX25RFAnff0DLFrSw9bBIpsHtrF1sMjCJT0uGZhZwzkR1Env\nhi20FbY/3W2FAr0btjQoIjOzhBNBnXR3dTBYLG43bbBYpLuro0ERmZklnAjqZGpnO4sXzGZiW4FJ\n7ROY2FZg8YLZfgeymTWcG4vraP6cGcw7eBq9G7bQ3dXhJGBmTcGJoM6mdrY7AZhZU3HVkJlZzjkR\nmJnlnBOBmVnOORGYmeWcE4GZWc45EZiZ5ZwTgZlZzjkRmJnlnBOBmVnOORGYmeXcThOBpPMkTVbi\nckl3STqmHsGZmVntZSkRnBkRm4BjgC7g74FP1TQqMzOrmyyJQOm/xwPfjIi7S6aZmdk4l6X30eWS\nbgEOAD4iaRJQ3Mk6Teeff3A3qx7Z1OgwbBecMGcG7zh630aHYdaysiSCs4A5wJqIeFbSXsAZtQ3L\nLLHq0SR5OxGY1U6WRPAKYEVEPCPpVOBI4HO1Dav6Pv6mwxodgu2Ct3/5140OwazlZWkj+CLwrKQj\ngA8CDwBX1jQqMzOrmyyJYFtEBHAC8F8RcSkwqbZhmZlZvWSpGtos6SMkt42+WlIBaKttWGZmVi9Z\nSgRvBwZInid4DOgGPl3TqMzMrG52mgjSi/8SYOiN608C369lUGZmVj9Zupg4G/ge8OV00gzg2loG\nZWZm9ZOlaui9wDxgE0BE3A+8sJZBmZlZ/WRJBAMR8dzQiKQJQNQuJDMzq6csieCnkj4KdEj6O+Aa\n4Ae1DcvMzOolSyI4H1gP/A54F3AD8LFaBmVmZvWTJRF0AFdExFsj4kTginTaTkk6VtJ9klZLOn+Y\nZd4maZWkuyX9d/bQzcysGrIkgtvY/sLfAfxwZytJ2g24FDgOmAWcLGlW2TKHAB8B5kXEYcD7MsZt\nZmZVkiURTIyI/qGRdHiPDOsdBayOiDVpY/NVJN1UlDobuDQiNqTbfiJb2GZmVi1ZEsEzko4cGpH0\n18CWDOvNANaWjPem00q9GHixpF9Kul3SsZU2JOkcScskLVu/fn2GXbe2vv4BVq7dSF//QKNDMbMW\nkKWvofcB10h6hOTNZC8i6XaiWvs/BHgtSdcVP5P0VxGxsXShiLgMuAxg7ty5ub519boV61i0pIe2\nQoHBYpHFC2Yzf055fjUzy26niSAi7pT0EuDQdNJ9ETGYYdvrgJkl493ptFK9wB3p9h6U9AeSxHBn\nhu3nTl//AIuW9LB1sMjW9CVxC5f0MO/gaUztbN/J2mZmlWXpYuK9wAsi4vcR8XugU9J7Mmz7TuAQ\nSQdI2h04CVhatsy1JKUBJE0jqSpaM4r4c6V3wxbaCtv/ydoKBXo3ZKmpMzOrLEsbwdmlVTVpw+7Z\nO1spIrYB5wI3A/cAV0fE3ZI+KWl+utjNQJ+kVcCPgQ9HRN9oDyIvurs6GCxu/7rowWKR7q5Md/Oa\nmVWUpY1gN0lKX04zdFvo7lk2HhE3kDyAVjrtwpLhAD6Qfmwnpna2s3jBbBaWtRG4WsjMxiJLIrgJ\n+K6kod5H35VOswaYP2cG8w6eRu+GLXR3dTgJmNmYZUkEi0gu/v8nHb8V+GrNIrKdmtrZ7gRgZlWT\n5a6hIskL7L9Y+3DMzKzedpoIJD1IhW6nI+LAmkRkZmZ1laVqaG7J8ETgrcBetQnH6qWvf8DtDGYG\nZKsaKr+d8z8lLQcurLS8NT8/nWxmpbJUDR1ZMlogKSFkKUlYE/LTyWZWLssF/TMlw9uAh4C31SQa\nq7mhp5OHkgA8/3SyE4FZPmWpGvrbegRi9VHNp5PdzmDWGrL0NXSepMlKfFXSXZKOqUdwVn1DTydP\nbCswqX0CE9sKu/R08nUr1jHvoh9x6lfvYN5FP2LpivL+BM1svMhSNXRmRHxO0huAqcDfA98Ebqlp\nZFYzY3062e0MZq0lSyJQ+u/xwJVpx3EaaQVrfmN5OtntDGatJUvvo8sl3UKSCG6WNAko7mQda2Hu\nBdWstWRJBGcB5wMvi4hnSXoePaOmUVlTq1Y7g5k1h6x9Dd1VMt4H+J0BOedeUM1ahx8Ms13mXlDN\nWsOwVUOSDqhnIGZm1hgjtRF8D0DSbXWKxczMGmCkqqGCpI8CL5a0w6skI+Li2oVlZmb1MlKJ4CTg\nTyTJYlKFj5mZtYBhSwQRcR9wkaSeiLixjjGZmVkdZXmO4FeSLpa0LP18RtKeNY/MzMzqIksiuALY\nTNL19NuATcDXahmUmZnVT5bnCA6KiAUl4/8saUWtAjIzs/rKUiLYIulVQyOS5gFbaheS5Ulf/wAr\n126kr3+g0aGY5VaWEsG7gStL2gU2AKfVLiTLC7872aw5ZOlraCVwhKTJ6fimmkdlLc/vNDBrHlmq\nhoAkATgJWLUMvdOg1NA7DcysvjInArNq8jsNzJqHE4E1hN9pYNY8dtpGIGkP4IPAvhFxtqRDgEMj\n4vqaR2ctze80MGsOWe4a+hqwHHhFOr4OuAZwIrAx8zsNzBovS9XQQRGxGBgESF9X6ZfXm5m1iCyJ\n4DlJHUAASDoI8NM/ZmYtIkvV0CeAm4CZkr4NzMMvrzczaxlZHii7RdJy4OUkVULnRcSTNY/MzMzq\nYqdVQ5Jui4i+iPifiLg+Ip706yvNzFrHsCUCSROBPYBpkrp4voF4MuAOYczMWsRIVUPvAt4H7ENy\n++hQItgE/FeN4zIzszoZtmooIj4XEQcAH4qIAyPigPRzRERkSgSSjpV0n6TVks4fYbkFkkLS3F04\nBjMzG4MsjcWXSDocmAVMLJl+5UjrSdoNuBT4O6AXuFPS0ohYVbbcJOA84I7Rh29mZmOVpbH448Al\n6edvgcXA/AzbPgpYHRFrIuI54CrghArL/QtwEbA1a9BmZlY9WR4oOxF4HfBYRJwBHAFkeXn9DGBt\nyXgvZY3Mko4EZkbE/4y0IUnnSFomadn69esz7NrMzLLK9KrKiCgC29KX0zwBzBzrjiUVgItJOrQb\nUURcFhFzI2Lu9OnTx7prMzMrkeXJ4mWSpgBfIbl7qB/4dYb11rF9wuhOpw2ZBBwO/EQSwIuApZLm\nR8SyDNs3M7MqGDERKLlC/3tEbAS+JOkmYHJE9GTY9p3AIZIOIEkAJwHvGJoZEU8D00r29ROSO5Sc\nBMzM6mjEqqGICOCGkvGHMiYBImIbcC5wM3APcHVE3C3pk5KyNDabmVkdZKkaukvSyyLiztFuPCJu\noCSRpNMuHGbZ1452+2ZmNnZZEsHRwCmSHgaeIXnCOCJidk0jMzOzusiSCN5Q8yjMzKxhsjxZ/HA9\nAjEzs8bI8hyBmZm1MCcCM7OccyIwM8s5JwIzs5xzIjAD+voHWLl2I339A40Oxazustw+atbSrlux\njkVLemgrFBgsFlm8YDbz5/htrJYfLhFYrvX1D7BoSQ9bB4tsHtjG1sEiC5f0uGRgueJEYLnWu2EL\nbYXt/xu0FQr0btjSoIjM6s+JwMa9sdTvd3d1MFgsbjdtsFiku6ujbjGYNZrbCGxcG2v9/tTOdhYv\nmM3Csm1M7WyvWwxmjeZEYONWaf3+VpJf9QuX9DDv4GmjupDPnzODeQdPo3fDFrq7Oka1brViaCZ9\n/QO7dC5s/HIisHFrqH5/6AIMz9fvj/YCNrWzfZcuetWMoRm4dJNPbiOwcata9fvjPYZq8R1U+eVE\nYOPWUP3+xLYCk9onMLGtMOr6/VaIoVp8B1V+uWrIxrWx1O+3UgzV0EqlGxsdlwhs3Jva2c4RM6c0\n9ALcDDGMVSuVbmx0XCIwsz9rldKNjY4TgZltZ1fvoLLxy1VDZmY550RgZpZzTgRmZjnnRGBmlnNO\nBGZmOedEYNYk3JW1NYpvHzVrAu7szRrJJQKzBnNnb9ZoTgRmDebO3qzRnAjMGqyanb25ncF2hdsI\nzBqsGq/LBLcz2K5zIjBrAmPt7K0VX5lp9eNEYNYkxtLZW6u9MtPqy20EZi3AL5WxsXCJwJreqkc3\n8fYv/7rRYTS97ikdPPDkMxSAYjr+nm/f1eiwrIpm7TOZj7/psKpv14nAmtoJbuzMbGpnO3t2tDGw\nrUj7hAITdnOB37JxIrCm9o6j9+UdR+/b6DDMWpp/MpiZ5VxNE4GkYyXdJ2m1pPMrzP+ApFWSeiTd\nJmm/WsZjZmY7qlkikLQbcClwHDALOFnSrLLFfgvMjYjZwPeAxbWKx8zMKqtlieAoYHVErImI54Cr\ngBNKF4iIH0fEs+no7UB3DeMxM7MKapkIZgBrS8Z702nDOQu4sYbxmJlZBU1x15CkU4G5wN8MM/8c\n4ByAfff1HSRmZtVUyxLBOmBmyXh3Om07kl4PXADMj4iKXSZGxGURMTci5k6fPr0mwZqZ5VUtE8Gd\nwCGSDpC0O3ASsLR0AUkvBb5MkgSeqGEsZmY2jJolgojYBpwL3AzcA1wdEXdL+qSk+elinwY6gWsk\nrZC0dJjNmZk1RB7e8VDTNoKIuAG4oWzahSXDr6/l/s2sMfr6B3a5S+1mkpd3PDRFY7GZtY5WuXjm\n6R0P7mLCzKqm9OK5eWAbWweLLFzS07BqlbFU6+TpXdIuEZhZ1TTTC3LGWjJptnc81LK6zSUCM6ua\nZrl4VqNkMvQu6YltBSa1T2BiW2GX3iVdDdetWMe8i37EqV+9g3kX/YilK3a4E39MXCIws6oZungu\nLPslXu+LZ7VKJmN9l3Q11KOtwonAzKqqGS6e1SyZjOVd0tVQj+o2Vw2ZWdVN7WzniJlTGnYBbaZq\nnbGqR3WbSwRm1pTG2jjaDCWTIWM5lnpUtzkRmFnTqdazCI2u1oHqHEutk5qrhsysqTTbswhjUc1j\nqWV1mxOBmTWVVnqQa7wcixOBmTWVZnkWoRrGy7E4EZhZU2mlO37Gy7EoIhodw6jMnTs3li1b1ugw\nzKzGWqUHU2iOY5G0PCLmVprnu4bMrCk1wx0/1dLsx+KqITOznHMiMDPLOScCM7OccyIwM8s5JwIz\ns5xzIjAzyzknAjOznHMiMDPLuXH3ZLGk9cDDNdzFNODJGm6/Whxn9Y2XWB1ndY2XOGFsse4XEdMr\nzRh3iaDWJC0b7jHsZuI4q2+8xOo4q2u8xAm1i9VVQ2ZmOedEYGaWc04EO7qs0QFk5Dirb7zE6jir\na7zECTWK1W0EZmY55xKBmVnOORGYmeVcLhOBpJmSfixplaS7JZ1XYZnXSnpa0or0c2GDYn1I0u/S\nGHZ4NZsSn5e0WlKPpCMbEOOhJedphaRNkt5XtkzDzqekKyQ9Ien3JdP2knSrpPvTf7uGWfe0dJn7\nJZ3WgDg/Lene9G/7fUlThll3xO9JHeL8hKR1JX/f44dZ91hJ96Xf1/MbEOd3S2J8SNKKYdat5/ms\neD2q63c0InL3AfYGjkyHJwF/AGaVLfNa4PomiPUhYNoI848HbgQEvBy4o8Hx7gY8RvLwSlOcT+A1\nwJHA70umLQbOT4fPBy6qsN5ewJr03650uKvOcR4DTEiHL6oUZ5bvSR3i/ATwoQzfjQeAA4HdgZXl\n/+9qHWfZ/M8AFzbB+ax4ParndzSXJYKIeDQi7kqHNwP3ADMaG9UuOwG4MhK3A1Mk7d3AeF4HPBAR\ntXz6e1Qi4mfAU2WTTwC+kQ5/A3hzhVXfANwaEU9FxAbgVuDYesYZEbdExLZ09Hagu1b7z2qY85nF\nUcDqiFgTEc8BV5H8HWpipDglCXgb8J1a7T+rEa5HdfuO5jIRlJK0P/BS4I4Ks18haaWkGyUdVtfA\nnhfALZKWSzqnwvwZwNqS8V4am9ROYvj/XM1wPof8RUQ8mg4/BvxFhWWa7dyeSVL6q2Rn35N6ODet\nwrpimGqMZjqfrwYej4j7h5nfkPNZdj2q23c014lAUiewBHhfRGwqm30XSfXGEcAlwLX1ji/1qog4\nEjgOeK+k1zQojp2StDswH7imwuxmOZ87iKSM3dT3UUu6ANgGfHuYRRr9PfkicBAwB3iUpNqlmZ3M\nyKWBup/Pka5Htf6O5jYRSGojOenfjoj/Vz4/IjZFRH86fAPQJmlancMkItal/z4BfJ+keF1qHTCz\nZLw7ndYIxwF3RcTj5TOa5XyWeHyoCi3994kKyzTFuZV0OvBG4JT0grCDDN+TmoqIxyPiTxFRBL4y\nzP6b5XxOAP438N3hlqn3+RzmelS372guE0FaP3g5cE9EXDzMMi9Kl0PSUSTnqq9+UYKkF0iaNDRM\n0nD4+7LFlgL/kN499HLg6ZLiZL0N+yurGc5nmaXA0B0WpwHXVVjmZuAYSV1pVccx6bS6kXQssBCY\nHxHPDrNMlu9JTZW1S71lmP3fCRwi6YC09HgSyd+h3l4P3BsRvZVm1vt8jnA9qt93tB6t4s32AV5F\nUszqAVakn+OBdwPvTpc5F7ib5M6G24FXNiDOA9P9r0xjuSCdXhqngEtJ7sb4HTC3Qef0BSQX9j1L\npjXF+SRJTo8CgyR1qGcBU4HbgPuBHwJ7pcvOBb5asu6ZwOr0c0YD4lxNUgc89D39UrrsPsANI31P\n6hznN9PvXw/JBWzv8jjT8eNJ7op5oBFxptO/PvS9LFm2kedzuOtR3b6j7mLCzCznclk1ZGZmz3Mi\nMDPLOScCM7OccyIwM8s5JwIzs5yb0OgAzJqFpE8A/cBk4GcR8cNhlnsz8IeIWFXH8MxqxiUCszIR\nceFwSSD1ZpLeIc1aghOB5ZqkCyT9QdIvgEPTaV+XdGI6/Km0n/geSf8h6ZUk/Sl9Ou2r/iBJZ0u6\nM+1Qb4mkPUq283lJv5K0Zmib6bxFaX/3KyV9Kp12kKSb0o7Ofi7pJXU/IZZLrhqy3JL01yTdHMwh\n+b9wF7C8ZP5Uku4SXhIRIWlKRGyUtJTk3QrfS5fbGBFfSYf/leRJ20vSzexN8uToS0ieuP2epONI\nuhg+OiKelbRXuuxlJE+83i/paOALwP+q4SkwA5wILN9eDXw/0j580gt8qaeBrcDlkq4Hrh9mO4en\nCWAK0Mn2fb1cG0lHbKskDXUj/Hrga0P7jYin0p4nXwlck3bJBNA+pqMzy8iJwGwYEbEt7SDvdcCJ\nJP0lVfqF/nXgzRGxMu0p9LUl8wZKhsXwCsDGiJgzlpjNdoXbCCzPfga8WVJH2tvkm0pnpr/S94yk\n2+z3A0ekszaTvFJwyCTg0bQr4VMy7PdW4IyStoS9Iul//kFJb02nSdIRI23ErFqcCCy3Ink94HdJ\nepm8kaSb5FKTgOsl9QC/AD6QTr8K+LCk30o6CPgnkjdK/RK4N8N+byJpL1im5OXpH0pnnQKcJWmo\n18uavcbRrJR7HzUzyzmXCMzMcs6JwMws55wIzMxyzonAzCznnAjMzHLOicDMLOecCMzMcu7/A6l3\nYBnD+cx4AAAAAElFTkSuQmCC\n",
        "metadata": {
         "tags": []
        },
        "output_type": "display_data",
        "text/plain": "<Figure size 432x288 with 1 Axes>"
       },
       {
        "image/png": "iVBORw0KGgoAAAANSUhEUgAAAYIAAAEWCAYAAABrDZDcAAAABHNCSVQICAgIfAhkiAAAAAlwSFlz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\ngZlZyTkRmJmVnBOBmVnJORGYmZXc/wd++qzFtvwGogAAAABJRU5ErkJggg==\n",
        "metadata": {
         "tags": []
        },
        "output_type": "display_data",
        "text/plain": "<Figure size 432x288 with 1 Axes>"
       }
      ]
     }
    },
    "be61a91b84c34b4cbe0750bd676b0828": {
     "model_module": "@jupyter-widgets/controls",
     "model_name": "IntSliderModel",
     "state": {
      "_dom_classes": [],
      "_model_module": "@jupyter-widgets/controls",
      "_model_module_version": "1.5.0",
      "_model_name": "IntSliderModel",
      "_view_count": null,
      "_view_module": "@jupyter-widgets/controls",
      "_view_module_version": "1.5.0",
      "_view_name": "IntSliderView",
      "continuous_update": true,
      "description": "max_depth",
      "description_tooltip": null,
      "disabled": false,
      "layout": "IPY_MODEL_df33b67c54194d859cc4f0c1aef6a63f",
      "max": 6,
      "min": 1,
      "orientation": "horizontal",
      "readout": true,
      "readout_format": "d",
      "step": 1,
      "style": "IPY_MODEL_06d92a62c8774500a0339acb1910388e",
      "value": 1
     }
    },
    "be9fb484e75f49d8a79e3e55f384a900": {
     "model_module": "@jupyter-widgets/controls",
     "model_name": "IntSliderModel",
     "state": {
      "_dom_classes": [],
      "_model_module": "@jupyter-widgets/controls",
      "_model_module_version": "1.5.0",
      "_model_name": "IntSliderModel",
      "_view_count": null,
      "_view_module": "@jupyter-widgets/controls",
      "_view_module_version": "1.5.0",
      "_view_name": "IntSliderView",
      "continuous_update": true,
      "description": "max_depth",
      "description_tooltip": null,
      "disabled": false,
      "layout": "IPY_MODEL_07ae2b57956d45cf87bbe805d162ccd1",
      "max": 6,
      "min": 1,
      "orientation": "horizontal",
      "readout": true,
      "readout_format": "d",
      "step": 1,
      "style": "IPY_MODEL_b0ac760213b74cc1a3a16539b66f6a88",
      "value": 1
     }
    },
    "c0dcec215e7640659d3953cd7086a2ee": {
     "model_module": "@jupyter-widgets/controls",
     "model_name": "IntSliderModel",
     "state": {
      "_dom_classes": [],
      "_model_module": "@jupyter-widgets/controls",
      "_model_module_version": "1.5.0",
      "_model_name": "IntSliderModel",
      "_view_count": null,
      "_view_module": "@jupyter-widgets/controls",
      "_view_module_version": "1.5.0",
      "_view_name": "IntSliderView",
      "continuous_update": true,
      "description": "n_estimators",
      "description_tooltip": null,
      "disabled": false,
      "layout": "IPY_MODEL_8f6908280bed4dad82bbfc4f909a42b1",
      "max": 40,
      "min": 10,
      "orientation": "horizontal",
      "readout": true,
      "readout_format": "d",
      "step": 10,
      "style": "IPY_MODEL_5e84606e789643dc81a3859747b25af7",
      "value": 10
     }
    },
    "ccf07c685e9b45ba8d09aef16c3fcf5a": {
     "model_module": "@jupyter-widgets/base",
     "model_name": "LayoutModel",
     "state": {
      "_model_module": "@jupyter-widgets/base",
      "_model_module_version": "1.2.0",
      "_model_name": "LayoutModel",
      "_view_count": null,
      "_view_module": "@jupyter-widgets/base",
      "_view_module_version": "1.2.0",
      "_view_name": "LayoutView",
      "align_content": null,
      "align_items": null,
      "align_self": null,
      "border": null,
      "bottom": null,
      "display": null,
      "flex": null,
      "flex_flow": null,
      "grid_area": null,
      "grid_auto_columns": null,
      "grid_auto_flow": null,
      "grid_auto_rows": null,
      "grid_column": null,
      "grid_gap": null,
      "grid_row": null,
      "grid_template_areas": null,
      "grid_template_columns": null,
      "grid_template_rows": null,
      "height": null,
      "justify_content": null,
      "justify_items": null,
      "left": null,
      "margin": null,
      "max_height": null,
      "max_width": null,
      "min_height": null,
      "min_width": null,
      "object_fit": null,
      "object_position": null,
      "order": null,
      "overflow": null,
      "overflow_x": null,
      "overflow_y": null,
      "padding": null,
      "right": null,
      "top": null,
      "visibility": null,
      "width": null
     }
    },
    "cf17024dccb847fcb85a15dbb408a583": {
     "model_module": "@jupyter-widgets/controls",
     "model_name": "IntSliderModel",
     "state": {
      "_dom_classes": [],
      "_model_module": "@jupyter-widgets/controls",
      "_model_module_version": "1.5.0",
      "_model_name": "IntSliderModel",
      "_view_count": null,
      "_view_module": "@jupyter-widgets/controls",
      "_view_module_version": "1.5.0",
      "_view_name": "IntSliderView",
      "continuous_update": true,
      "description": "max_depth",
      "description_tooltip": null,
      "disabled": false,
      "layout": "IPY_MODEL_71278e9c571d4671b29ffa4e9a7b2605",
      "max": 6,
      "min": 1,
      "orientation": "horizontal",
      "readout": true,
      "readout_format": "d",
      "step": 1,
      "style": "IPY_MODEL_64409ad1fb5746f882a4051415d3b43d",
      "value": 1
     }
    },
    "d3584bc0014c4a81920cb176448561b4": {
     "model_module": "@jupyter-widgets/output",
     "model_name": "OutputModel",
     "state": {
      "_dom_classes": [],
      "_model_module": "@jupyter-widgets/output",
      "_model_module_version": "1.0.0",
      "_model_name": "OutputModel",
      "_view_count": null,
      "_view_module": "@jupyter-widgets/output",
      "_view_module_version": "1.0.0",
      "_view_name": "OutputView",
      "layout": "IPY_MODEL_e5378ecce97f4a9d91f7dadc8e10d241",
      "msg_id": "",
      "outputs": [
       {
        "image/png": "iVBORw0KGgoAAAANSUhEUgAAAYIAAAEWCAYAAABrDZDcAAAABHNCSVQICAgIfAhkiAAAAAlwSFlz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\ncA4CM7OCcxCYmRXcfwEDkbCdHNVHZAAAAABJRU5ErkJggg==\n",
        "metadata": {
         "tags": []
        },
        "output_type": "display_data",
        "text/plain": "<Figure size 432x288 with 1 Axes>"
       },
       {
        "image/png": "iVBORw0KGgoAAAANSUhEUgAAAYIAAAEWCAYAAABrDZDcAAAABHNCSVQICAgIfAhkiAAAAAlwSFlz\nAAALEgAACxIB0t1+/AAAADh0RVh0U29mdHdhcmUAbWF0cGxvdGxpYiB2ZXJzaW9uMy4xLjMsIGh0\ndHA6Ly9tYXRwbG90bGliLm9yZy+AADFEAAAfgElEQVR4nO3de3xdZZ3v8c83Jb1ogy1trNi0FmlH\nT5USMQNUvDCjIODY4tQLqFNUBnSOePA2FG8VO54zWkbO8cKogKj1pRalI1SncpHR43EEXw2YBlsE\nYsUmFUupraRDW1LzO3+sFdhJd5KVdq+9k6zv+/Xar671rGev9cvqzv7leZ61nqWIwMzMiquu1gGY\nmVltORGYmRWcE4GZWcE5EZiZFZwTgZlZwTkRmJkVnBOBmVnBORFYoUnaW/LqlbSvZP0tOR97sqTr\nJW2T1C3pHkmvzvOYZuUcVesAzGopIqb2LUt6CPj7iPjRYPUlHRURByt0+InAQ8DLgE7gtcCNkhZG\nRGeFjmE2LLcIzIYg6ZOSbpD0bUndwFsl1Un6sKTfSHpU0lpJ00vec5qkuyTtkdQm6eXl9h0Rj0XE\nqoj4XUT0RsTNJAnhpCr9eGaAE4FZFq8DvgU8A7gBeB/wGuDlQBOwF/gcgKQ5wHrg48AxwOXAv0ma\nMdxBJB0LHA9sqfyPYDY4JwKz4f0sIr6f/tW+D3gX8OGI2B4R+4FPAG+QVAcsB9ZHxK1p/VuATcBZ\nQx1A0kSSZHNdRDyY749j1p/HCMyGN7C/fi7wfUm9A8qfCTwHOF/S60rK64FbBtu5pAnAN0laFpce\nebhmI+NEYDa8gVP0dgFvjohfDKwoqRP4akT8Q5Ydp62IrwLTgddUcCDaLDN3DZmN3JeA/yVpLoCk\nZ0pakm77BvA6SWdImpBeIvpXkp49cCeSBHyZZFxgaUQcqNYPYFbKicBs5K4i6eq5I72S6OfAXwJE\nxEMkg8sfA3YC24APUP537bnA35NcJbSj5P6FN+X+E5iVkB9MY2ZWbG4RmJkVnBOBmVnBORGYmRWc\nE4GZWcGNufsIZs6cGfPmzat1GGZmY8rdd9/9aEQ0lts25hLBvHnzaG1trXUYZmZjiqTfDbbNXUNm\nZgXnRGBmVnBOBGZmBedEYGZWcE4EZmYF50RgZlZwTgRmZgXnRGBmVnCFSQS79h5gU+cedu31sz/M\nzEqNuTuLD8fNbdtZsa6d+ro6enp7Wb1sEUuaZ9c6LDOzUWHctwh27T3AinXt7O/ppfvAQfb39HLZ\nuna3DMzMUuM+EXTt3kd9Xf8fs76ujq7d+2oUkZnZ6DLuE0HT9Cn09Pb2K+vp7aVp+pQaRWRmNrqM\n+0QwY+okVi9bxOT6OhomHcXk+jpWL1vEjKmTah2amdmoUIjB4iXNszlt/ky6du+jafoUJwEzsxKF\nSASQtAycAMzMDpVr15CksyTdL6lD0uVltj9H0h2S2iX9RFJTnvGYmdmhcksEkiYAVwNnAwuB8yUt\nHFDtX4A1EbEIWAX8c17xmJlZeXm2CE4GOiJia0Q8AawFlg6osxD4j3T5x2W2m5lZzvJMBLOBzpL1\nrrSs1Cbgb9Pl1wENkmYM3JGkiyW1SmrduXNnLsGamRVVrS8f/SDwCkm/BF4BbAf+PLBSRFwTES0R\n0dLY2FjtGM3MxrU8rxraDswpWW9Ky54UEb8nbRFImgosi4g9OcZkZmYD5Nki2AgskHScpInAecD6\n0gqSZkrqi+FDwPU5xmNmZmXklggi4iBwCXArcB/wnYjYLGmVpCVptdOB+yU9AMwC/mde8ZiZWXmK\niFrHMCItLS3R2tpa6zDMzMYUSXdHREu5bbUeLDYzsxpzIjAzKzgnAjOzgnMiMDMrOCcCM7OCcyIw\nMys4JwIzs4JzIjAzKzgnghHYtfcAmzr3sGvvgVqHYmZWMYV5VOWRurltOyvWtVNfV0dPby+rly1i\nSfPAWbXNzMYetwgy2LX3ACvWtbO/p5fuAwfZ39PLZeva3TIws3HBiSCDrt37qK/rf6rq6+ro2r2v\nRhGZmVWOE0EGTdOn0NPb26+sp7eXpulTahSRmVnlOBFkMGPqJFYvW8Tk+joaJh3F5Po6Vi9bxIyp\nk2odmpnZEfNgcUZLmmdz2vyZdO3eR9P0KU4CZjZuOBGMwIypk5wAzGzcybVrSNJZku6X1CHp8jLb\n50r6saRfSmqXdE6e8ZiZ2aFySwSSJgBXA2cDC4HzJS0cUO2jJI+wfBHJM43/Na94zMysvDxbBCcD\nHRGxNSKeANYCSwfUCeDodPkZwO9zjMfMzMrIMxHMBjpL1rvSslJXAG+V1AVsAN5TbkeSLpbUKql1\n586decRqZlZYtb589HzgaxHRBJwDfEPSITFFxDUR0RIRLY2NjVUP0sxsPMszEWwH5pSsN6VlpS4E\nvgMQEXcCk4GZOcZkZmYD5JkINgILJB0naSLJYPD6AXW2Aa8EkPTfSBKB+37MzKoot0QQEQeBS4Bb\ngftIrg7aLGmVpCVptQ8AF0naBHwbeFtERF4xmZnZoXK9oSwiNpAMApeWrSxZ3gKclmcMZmY2tFoP\nFpuZWY05EZiZFZwTgZlZwTkRmJkVnBOBmVnBORGYmRWcE0GVdezo5sbWTjp2dNc6FDMzwA+mqaqV\nN93Lmru2Pbm+fPFcVi09oYYRmZm5RVA1HTu6+yUBgDV3bnPLwMxqzomgSto694yo3MysWpwIqqR5\nzrQRlZuZVYsTQZXMn9XA8sVz+5UtXzyX+bMaahSRmVnCg8VVtGrpCSw/dR5tnXtonjPNScDMRgUn\ngiqbP6vBCcDMRhV3DZmZFVyuiUDSWZLul9Qh6fIy2/+3pLb09YAkX0JjZlZluXUNSZoAXA2cAXQB\nGyWtTx9GA0BEvK+k/nuAF+UVj5mZlZdni+BkoCMitkbEE8BaYOkQ9c8neVylmZlVUZ6JYDbQWbLe\nlZYdQtJzgOOA/8gxHjMzK2O0DBafB9wYEX8ut1HSxZJaJbXu3LmzyqGZmY1veSaC7cCckvWmtKyc\n8xiiWygiromIlohoaWxsrGCIZmaWZyLYCCyQdJykiSRf9usHVpL0fGA6cGeOsZiZ2SCGTQSSLpV0\ntBJfkXSPpDOHe19EHAQuAW4F7gO+ExGbJa2StKSk6nnA2oiIw/0hzMzs8GW5fPQdEfFZSa8m+cv9\n74BvALcN98aI2ABsGFC2csD6FZmjNTOzisvSNaT033OAb0TE5pIyMzMb47Ikgrsl3UaSCG6V1AD0\n5huWmZlVS5auoQuBZmBrRDwu6Rjg7fmGZWZm1ZKlRbAYuD8i9kh6K/BR4E/5hmVmZtWSJRF8EXhc\n0onAB4DfAGtyjcrMzKomSyI4mF7auRT4QkRcDXhCfTOzcSLLGEG3pA+RXDb6Mkl1QH2+YZmZWbVk\naRG8CThAcj/BH0imirgy16jMzKxqhm0RRMQfJK0DFqRFjwLfyzWqHHzi+5vZ8vvHah2G5WRp82ze\nfMrcWodhNiZlmWLiIuBG4Mtp0WzgpjyDMhuJLQ8/xs1tg81naGbDyTJG8G6Sh8z8AiAiHpT0zFyj\nysHHX/uCWodgOXnTlz1fodmRyDJGcCB9whgAko4CPEGcmdk4kSUR/F9JHwamSDoD+C7w/XzDMjOz\nasmSCC4HdgL3Au8kmU30o3kGZWZm1ZNljGAKcH1EXAsgaUJa9niegZmZWXVkaRHcQfLF32cK8KN8\nwjEzs2rLkggmR8TevpV0+WlZdi7pLEn3S+qQdPkgdd4oaYukzZK+lS1sMzOrlCxdQ/8l6aSIuAdA\n0ouBfcO9Ke1Cuho4A+gCNkpaHxFbSuosAD4EnBYRu8fiZalmZmNdlkTwXuC7kn5P8mSyZ5FMOzGc\nk4GOiNgKIGktycR1W0rqXARcHRG7ASLikRHEbmZmFZBliomNkp4PPC8tuj8iejLsezbQWbLeBZwy\noM5fAEj6T2ACcEVE3DJwR5IuBi4GmDvX0wiYmVVSlikm3g08PSJ+FRG/AqZK+u8VOv5RJHMYnQ6c\nD1wradrAShFxTUS0RERLY2NjhQ5tZmaQbbD4oojY07eSduNclOF924E5JetNaVmpLmB9RPRExG+B\nB3hqcjszM6uCLIlggiT1raSDwBMzvG8jsEDScZImAucB6wfUuYmkNYCkmSRdRVsz7NvMzCoky2Dx\nLcANkvpmH31nWjakiDgo6RLgVpL+/+sjYrOkVUBrRKxPt50paQvwZ+AfI2LX4fwgZmZ2eLIkghUk\nX/7/kK7fDlyXZecRsYFkSorSspUlywG8P32ZmVkNZLlqqJfkAfZfzD8cMzOrtmETgaTfUmba6Yh4\nbi4RmZlZVWXpGmopWZ4MvAE4Jp9wzMys2oa9aigidpW8tkfE/wFeU4XYzMysCrJ0DZ1UslpH0kLI\n0pKwUaxjRzdtnXtonjON+bMaah2OmdVQli/0z5QsHwQeAt6YSzRWFStvupc1d217cn354rmsWnpC\nDSMys1rKctXQX1UjEKuOjh3d/ZIAwJo7t7H81HluGZgVVJa5hi6VdLQS10m6R9KZ1QjOKq+tc8+I\nys1s/MsyxcQ7IuIx4ExgBvB3wKdyjcpy0zznkDn9hiw3s/EvSyLom2foHGBNRGwuKbMxZv6sBpYv\n7j+V9/LFcw+rW2jX3gNs6tzDrr0HKhWemdVAlsHiuyXdBhwHfEhSA9Cbb1iWp1VLT2D5qfOO6Kqh\nm9u2s2JdO/V1dfT09rJ62SKWNM/OIVozy1uWRHAh0AxsjYjHJc0A3p5vWJa3+bMaDntweNfeA6xY\n187+nl72p38TXLaundPmz2TG1EmVDNPMqiDrXEP3lKzvAjxDaIF17d5HfV3dk0kAoL6ujq7d+5wI\nzMagLGMEZv00TZ9CT2//3sGe3l6apk+pUURmdiQGTQSSjqtmIDZ2zJg6idXLFjG5vo6GSUcxub6O\n1csWuTVgNkYN1TV0I/BiSXdExCurFZCNDUuaZ3Pa/Jl07d5H0/QpTgJmY9hQiaBO0oeBv5B0yINj\nIuKq4XYu6SzgsyRPKLsuIj41YPvbgCt56lnGX4iITA+9sdqbMXWSE4DZODBUIjgPODetM+LLS9Jn\nG18NnEHykPqNktZHxJYBVW+IiEtGun8zM6uMQRNBRNwPfFpSe0T88DD2fTLQERFbASStBZYCAxOB\nmZnVUJarhn4u6SpJrenrM5KekeF9s4HOkvWutGygZZLaJd0oaU65HUm6uO/4O3fuzHBoMzPLKksi\nuB7oJpl6+o3AY8BXK3T87wPzImIRcDvw9XKVIuKaiGiJiJbGxsYKHdrMzCDbncXHR8SykvVPSGrL\n8L7tQOlf+E08NSgMPHlzWp/rgNUZ9mtmZhWUpUWwT9JL+1YknQbsy/C+jcACScdJmkgy+Ly+tIKk\nY0tWlwD3ZdivmZlVUJYWwbuANSXjAruBC4Z7U0QclHQJcCvJ5aPXR8RmSauA1ohYD/wPSUtInnz2\nR+Bth/EzmJnZEcgy19Am4ERJR6frj2XdeURsADYMKFtZsvwh4EOZozUzs4rL/BD6kSQAMzMbOzzp\nnNVUx45ubmztpGNHd61DMSuszC0Cs0pbedO9rLlr25PryxfPZdXSE2oYkVkxZXl4/dMkfUzSten6\nAkl/k39oNp517OjulwQA1ty5zS0DsxrI0jX0VeAAsDhd3w58MreIrBDaOveMqNzM8pMlERwfEauB\nHoCIeBw/vN6OUPOcaSMqN7P8ZEkET0iaAgSApONJWghmh23+rAaWL57br2z54rmH/RxlMzt8WQaL\nrwBuAeZI+iZwGn54vVXAqqUnsPzUebR17qF5zjQnAbMayXJD2W2S7gZOJekSujQiHs09MiuE+bMa\nnADMaizLVUN3RMSuiPj3iPhBRDwq6Y5qBGdmZvkbtEUgaTLwNGCmpOk8NUB8NOWfK2BmZmPQUF1D\n7wTeCzwbuJunEsFjwBdyjsvMzKpkqEdVfhb4rKT3RMTnqxiTmZlVUZbB4s9LeiGwEJhcUr4mz8DM\nzKw6hk0Ekj4OnE6SCDYAZwM/A5wIzMzGgSw3lL0eeCXwh4h4O3AikOXh9WZmNgZkelRlRPQCB9OH\n0zxC/2cRD0rSWZLul9Qh6fIh6i2TFJJasoVtZmaVkuXO4lZJ04BrSa4e2gvcOdybJE0ArgbOALqA\njZLWR8SWAfUagEuBX4wwdjMzq4AhWwSSBPxzROyJiC+RfKlfkHYRDedkoCMitkbEE8BaYGmZev8E\nfBrYP7LQzcysEoZMBBERlDxzOCIeioj2jPueDXSWrHcx4EY0SScBcyLi34fakaSLJbVKat25c2fG\nw5uZWRZZxgjukfSXlT6wpDrgKuADw9WNiGsioiUiWhobGysdiplZoWUZIzgFeIuk3wH/RXKHcUTE\nomHet53+g8pNaVmfBuCFwE+SHiieBayXtCQiWjPGb2ZmRyhLInj1Ye57I7BA0nEkCeA84M19GyPi\nT8DMvnVJPwE+6CRgZlZdWe4s/t3h7DgiDkq6BLgVmABcHxGbJa0CWiNi/eHs18zMKitLi+CwRcQG\nSgab07KVg9Q9Pc9YzMysvCyDxWZmNo45EZiZFZwTgZlZwTkRmJkVnBOBmVnBORGYmRWcE4GZWcE5\nEZgBu/YeYFPnHnbtPVDrUMyqLtcbyszGgpvbtrNiXTv1dXX09PayetkiljTPHv6NZuOEWwRWaLv2\nHmDFunb29/TSfeAg+3t6uWxdu1sGVihOBFZoXbv3UV/X/9egvq6Ort37ahSRWfU5EVihNU2fQk9v\nb7+ynt5emqZPqVFEZtXnRGCFNmPqJFYvW8Tk+joaJh3F5Po6Vi9bxIypk0a0Hw8221jmwWIrvCXN\nszlt/ky6du+jafqUESeB8TbY3LGjm7bOPTTPmcb8WQ21DseqwInAjKRlMNIEAP0Hm/eTdDFdtq6d\n0+bPPKz91drKm+5lzV3bnlxfvnguq5aeUMOIrBrcNWR2BMbTYHPHju5+SQBgzZ3b6NjRXaOIrFpy\nTQSSzpJ0v6QOSZeX2f4uSfdKapP0M0kL84zHrNLG02BzW+eeEZXb+JFbIpA0AbgaOBtYCJxf5ov+\nWxFxQkQ0A6uBq/KKxywPlRpsHg2a50wbUbmNH3mOEZwMdETEVgBJa4GlwJa+ChHxWEn9pwORYzxm\nuTjSwebRYv6sBpYvnsuaO/uPEXjAePzLMxHMBjpL1ruAUwZWkvRu4P3AROCvy+1I0sXAxQBz586t\neKBmR+pwB5tHm1VLT2D5qfN81VDB1HywOCKujojjgRXARwepc01EtERES2NjY3UDNCuY+bMaeH3L\nHCeBAskzEWwH5pSsN6Vlg1kLnJtjPGZmVkaeiWAjsEDScZImAucB60srSFpQsvoa4MEc4zEzszJy\nGyOIiIOSLgFuBSYA10fEZkmrgNaIWA9cIulVQA+wG7ggr3jMzKy8XO8sjogNwIYBZStLli/N8/hm\nZja8mg8Wm5lZbTkRmJkVnBOBmVnBORGYmRWcE4GZWcE5EZiZFZwTgZlZwTkRmJkVnBOBmVnBORGY\nmRWcE4GZWcHlOteQWbVsefgx3vTlO2sdhlmuFj77aD7+2hdUfL9OBDbmLW2eXesQzMY0JwIb8958\nylzefIofYWp2uDxGYGZWcE4EZmYFl2sikHSWpPsldUi6vMz290vaIqld0h2SnpNnPGZmdqjcEoGk\nCcDVwNnAQuB8SQsHVPsl0BIRi4AbgdV5xWNmZuXl2SI4GeiIiK0R8QSwFlhaWiEifhwRj6erdwFN\nOcZjZmZl5JkIZgOdJetdadlgLgR+WG6DpIsltUpq3blzZwVDNDOzUTFYLOmtQAtwZbntEXFNRLRE\nREtjY2N1gzMzG+fyvI9gOzCnZL0pLetH0quAjwCviIgDOcZjZmZl5Nki2AgskHScpInAecD60gqS\nXgR8GVgSEY/kGIuZmQ0it0QQEQeBS4BbgfuA70TEZkmrJC1Jq10JTAW+K6lN0vpBdmdmVhMdO7q5\nsbWTjh3dtQ4lN7lOMRERG4ANA8pWliy/Ks/jm1lt7Np7gK7d+2iaPoUZUyfVOpzDtvKme1lz17Yn\n15cvnsuqpSfUMKJ8eK4hM6uom9u2s2JdO/V1dfT09rJ62SKWjMGJATt2dPdLAgBr7tzG8lPnMX9W\nQ42iyseouGrIzMaHXXsPsGJdO/t7euk+cJD9Pb1ctq6dXXtrcx3IkXTrtHXuGVF53nbtPcCmzj25\nnEu3CMysYrp276O+ro799D5ZVl9XR9fufVXvIjrSbp3mOdNGVJ6nvFtZbhGYWcU0TZ9CT29vv7Ke\n3l6apk+pahyDdeuMpGUwf1YDyxf3n958+eK5Ve8WqkYryy0CM6uYGVMnsXrZIi4b8NdrtVsDQ3Xr\njOSLfNXSE1h+6jzaOvfQPGdaTcYGqtHKciIws4pa0jyb0+bPrOlVQ5Xs1pk/q6Gmg8PVaGW5a8jM\nKm7G1EmcOGdazS4dHS3dOpXQ18qaXF9Hw6SjmFxfV/FWliKiYjurhpaWlmhtba11GGY2BnTs6K5p\nt04lHem9GZLujoiWctvcNWRm41atu3UqacbUSbm1sNw1ZGZWcE4EZmYF50RgZlZwTgRmZgXnRGBm\nVnBOBGZmBedEYGZWcE4EZmYFN+buLJa0E/hdjoeYCTya4/4rxXFW3liJ1XFW1liJE44s1udERGO5\nDWMuEeRNUutgt2GPJo6z8sZKrI6zssZKnJBfrO4aMjMrOCcCM7OCcyI41DW1DiAjx1l5YyVWx1lZ\nYyVOyClWjxGYmRWcWwRmZgXnRGBmVnCFTASS5kj6saQtkjZLurRMndMl/UlSW/paWaNYH5J0bxrD\nIY9mU+JzkjoktUs6qQYxPq/kPLVJekzSewfUqdn5lHS9pEck/aqk7BhJt0t6MP13+iDvvSCt86Ck\nC2oQ55WSfp3+335PUtmH7g73OalCnFdI2l7y/3vOIO89S9L96ef18hrEeUNJjA9JahvkvdU8n2W/\nj6r6GY2Iwr2AY4GT0uUG4AFg4YA6pwM/GAWxPgTMHGL7OcAPAQGnAr+ocbwTgD+Q3LwyKs4n8HLg\nJOBXJWWrgcvT5cuBT5d53zHA1vTf6eny9CrHeSZwVLr86XJxZvmcVCHOK4APZvhs/AZ4LjAR2DTw\n9y7vOAds/wywchScz7LfR9X8jBayRRARD0fEPelyN3AfMLu2UR22pcCaSNwFTJN0bA3jeSXwm4jI\n8+7vEYmInwJ/HFC8FPh6uvx14Nwyb301cHtE/DEidgO3A2dVM86IuC0iDqardwFNeR0/q0HOZxYn\nAx0RsTUingDWkvw/5GKoOCUJeCPw7byOn9UQ30dV+4wWMhGUkjQPeBHwizKbF0vaJOmHkl5Q1cCe\nEsBtku6WdHGZ7bOBzpL1Lmqb1M5j8F+u0XA++8yKiIfT5T8As8rUGW3n9h0krb9yhvucVMMlaRfW\n9YN0Y4ym8/kyYEdEPDjI9pqczwHfR1X7jBY6EUiaCqwD3hsRjw3YfA9J98aJwOeBm6odX+qlEXES\ncDbwbkkvr1Ecw5I0EVgCfLfM5tFyPg8RSRt7VF9HLekjwEHgm4NUqfXn5IvA8UAz8DBJt8todj5D\ntwaqfj6H+j7K+zNa2EQgqZ7kpH8zIv5t4PaIeCwi9qbLG4B6STOrHCYRsT399xHgeyTN61LbgTkl\n601pWS2cDdwTETsGbhgt57PEjr4utPTfR8rUGRXnVtLbgL8B3pJ+IRwiw+ckVxGxIyL+HBG9wLWD\nHH+0nM+jgL8FbhisTrXP5yDfR1X7jBYyEaT9g18B7ouIqwap86y0HpJOJjlXu6oXJUh6uqSGvmWS\ngcNfDai2HlieXj10KvCnkuZktQ36V9ZoOJ8DrAf6rrC4ALi5TJ1bgTMlTU+7Os5My6pG0lnAZcCS\niHh8kDpZPie5GjAu9bpBjr8RWCDpuLT1eB7J/0O1vQr4dUR0ldtY7fM5xPdR9T6j1RgVH20v4KUk\nzax2oC19nQO8C3hXWucSYDPJlQ13AS+pQZzPTY+/KY3lI2l5aZwCria5GuNeoKVG5/TpJF/szygp\nGxXnkyQ5PQz0kPShXgjMAO4AHgR+BByT1m0Brit57zuAjvT19hrE2UHSB9z3Of1SWvfZwIahPidV\njvMb6eevneQL7NiBcabr55BcFfObWsSZln+t73NZUreW53Ow76OqfUY9xYSZWcEVsmvIzMye4kRg\nZlZwTgRmZgXnRGBmVnBOBGZmBXdUrQMwGy0kXQHsBY4GfhoRPxqk3rnAAxGxpYrhmeXGLQKzASJi\n5WBJIHUuyeyQZuOCE4EVmqSPSHpA0s+A56VlX5P0+nT5U+k88e2S/kXSS0jmU7oynav+eEkXSdqY\nTqi3TtLTSvbzOUk/l7S1b5/pthXpfPebJH0qLTte0i3pRGf/T9Lzq35CrJDcNWSFJenFJNMcNJP8\nLtwD3F2yfQbJdAnPj4iQNC0i9khaT/JshRvTensi4tp0+ZMkd9p+Pt3NsSR3jj6f5I7bGyWdTTLF\n8CkR8bikY9K615Dc8fqgpFOAfwX+OsdTYAY4EVixvQz4XqRz+KRf8KX+BOwHviLpB8APBtnPC9ME\nMA2YSv+5Xm6KZCK2LZL6phF+FfDVvuNGxB/TmSdfAnw3nZIJYNIR/XRmGTkRmA0iIg6mE+S9Eng9\nyXxJ5f5C/xpwbkRsSmcKPb1k24GSZTG4OmBPRDQfScxmh8NjBFZkPwXOlTQlnW3ytaUb07/SnxHJ\ntNnvA05MN3WTPFKwTwPwcDqV8FsyHPd24O0lYwnHRDL//G8lvSEtk6QTh9qJWaU4EVhhRfJ4wBtI\nZpn8Ick0yaUagB9Iagd+Brw/LV8L/KOkX0o6HvgYyROl/hP4dYbj3kIyXtCq5OHpH0w3vQW4UFLf\nrJe5PcbRrJRnHzUzKzi3CMzMCs6JwMys4JwIzMwKzonAzKzgnAjMzArOicDMrOCcCMzMCu7/A7k3\nBTdrNAONAAAAAElFTkSuQmCC\n",
        "metadata": {
         "tags": []
        },
        "output_type": "display_data",
        "text/plain": "<Figure size 432x288 with 1 Axes>"
       },
       {
        "image/png": "iVBORw0KGgoAAAANSUhEUgAAAYIAAAEWCAYAAABrDZDcAAAABHNCSVQICAgIfAhkiAAAAAlwSFlz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\nOedCYGaWc/8fgKd1B5KetrQAAAAASUVORK5CYII=\n",
        "metadata": {
         "tags": []
        },
        "output_type": "display_data",
        "text/plain": "<Figure size 432x288 with 1 Axes>"
       },
       {
        "image/png": "iVBORw0KGgoAAAANSUhEUgAAAYIAAAEWCAYAAABrDZDcAAAABHNCSVQICAgIfAhkiAAAAAlwSFlz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\n",
        "metadata": {
         "tags": []
        },
        "output_type": "display_data",
        "text/plain": "<Figure size 432x288 with 1 Axes>"
       },
       {
        "image/png": "iVBORw0KGgoAAAANSUhEUgAAAYIAAAEWCAYAAABrDZDcAAAABHNCSVQICAgIfAhkiAAAAAlwSFlz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\nAjOzgnMiMDMrOCcCM7OC+/8cFYPtla/otQAAAABJRU5ErkJggg==\n",
        "metadata": {
         "tags": []
        },
        "output_type": "display_data",
        "text/plain": "<Figure size 432x288 with 1 Axes>"
       }
      ]
     }
    },
    "df33b67c54194d859cc4f0c1aef6a63f": {
     "model_module": "@jupyter-widgets/base",
     "model_name": "LayoutModel",
     "state": {
      "_model_module": "@jupyter-widgets/base",
      "_model_module_version": "1.2.0",
      "_model_name": "LayoutModel",
      "_view_count": null,
      "_view_module": "@jupyter-widgets/base",
      "_view_module_version": "1.2.0",
      "_view_name": "LayoutView",
      "align_content": null,
      "align_items": null,
      "align_self": null,
      "border": null,
      "bottom": null,
      "display": null,
      "flex": null,
      "flex_flow": null,
      "grid_area": null,
      "grid_auto_columns": null,
      "grid_auto_flow": null,
      "grid_auto_rows": null,
      "grid_column": null,
      "grid_gap": null,
      "grid_row": null,
      "grid_template_areas": null,
      "grid_template_columns": null,
      "grid_template_rows": null,
      "height": null,
      "justify_content": null,
      "justify_items": null,
      "left": null,
      "margin": null,
      "max_height": null,
      "max_width": null,
      "min_height": null,
      "min_width": null,
      "object_fit": null,
      "object_position": null,
      "order": null,
      "overflow": null,
      "overflow_x": null,
      "overflow_y": null,
      "padding": null,
      "right": null,
      "top": null,
      "visibility": null,
      "width": null
     }
    },
    "ed5d19b66c6a4185a881739869563f5a": {
     "model_module": "@jupyter-widgets/base",
     "model_name": "LayoutModel",
     "state": {
      "_model_module": "@jupyter-widgets/base",
      "_model_module_version": "1.2.0",
      "_model_name": "LayoutModel",
      "_view_count": null,
      "_view_module": "@jupyter-widgets/base",
      "_view_module_version": "1.2.0",
      "_view_name": "LayoutView",
      "align_content": null,
      "align_items": null,
      "align_self": null,
      "border": null,
      "bottom": null,
      "display": null,
      "flex": null,
      "flex_flow": null,
      "grid_area": null,
      "grid_auto_columns": null,
      "grid_auto_flow": null,
      "grid_auto_rows": null,
      "grid_column": null,
      "grid_gap": null,
      "grid_row": null,
      "grid_template_areas": null,
      "grid_template_columns": null,
      "grid_template_rows": null,
      "height": null,
      "justify_content": null,
      "justify_items": null,
      "left": null,
      "margin": null,
      "max_height": null,
      "max_width": null,
      "min_height": null,
      "min_width": null,
      "object_fit": null,
      "object_position": null,
      "order": null,
      "overflow": null,
      "overflow_x": null,
      "overflow_y": null,
      "padding": null,
      "right": null,
      "top": null,
      "visibility": null,
      "width": null
     }
    },
    "eddbd542536647a2a6e5c207109f7c09": {
     "model_module": "@jupyter-widgets/base",
     "model_name": "LayoutModel",
     "state": {
      "_model_module": "@jupyter-widgets/base",
      "_model_module_version": "1.2.0",
      "_model_name": "LayoutModel",
      "_view_count": null,
      "_view_module": "@jupyter-widgets/base",
      "_view_module_version": "1.2.0",
      "_view_name": "LayoutView",
      "align_content": null,
      "align_items": null,
      "align_self": null,
      "border": null,
      "bottom": null,
      "display": null,
      "flex": null,
      "flex_flow": null,
      "grid_area": null,
      "grid_auto_columns": null,
      "grid_auto_flow": null,
      "grid_auto_rows": null,
      "grid_column": null,
      "grid_gap": null,
      "grid_row": null,
      "grid_template_areas": null,
      "grid_template_columns": null,
      "grid_template_rows": null,
      "height": null,
      "justify_content": null,
      "justify_items": null,
      "left": null,
      "margin": null,
      "max_height": null,
      "max_width": null,
      "min_height": null,
      "min_width": null,
      "object_fit": null,
      "object_position": null,
      "order": null,
      "overflow": null,
      "overflow_x": null,
      "overflow_y": null,
      "padding": null,
      "right": null,
      "top": null,
      "visibility": null,
      "width": null
     }
    },
    "eed0d55020bb42adb88389ff8f2c1f05": {
     "model_module": "@jupyter-widgets/controls",
     "model_name": "IntSliderModel",
     "state": {
      "_dom_classes": [],
      "_model_module": "@jupyter-widgets/controls",
      "_model_module_version": "1.5.0",
      "_model_name": "IntSliderModel",
      "_view_count": null,
      "_view_module": "@jupyter-widgets/controls",
      "_view_module_version": "1.5.0",
      "_view_name": "IntSliderView",
      "continuous_update": true,
      "description": "n_estimators",
      "description_tooltip": null,
      "disabled": false,
      "layout": "IPY_MODEL_7e2eceb6d11946a1aa4616b6278a81c0",
      "max": 5,
      "min": 2,
      "orientation": "horizontal",
      "readout": true,
      "readout_format": "d",
      "step": 1,
      "style": "IPY_MODEL_53e4a17dc8374be58a60eaef6b42f330",
      "value": 2
     }
    },
    "f74ebc72c544456ab4f72e819ab98f91": {
     "model_module": "@jupyter-widgets/controls",
     "model_name": "IntSliderModel",
     "state": {
      "_dom_classes": [],
      "_model_module": "@jupyter-widgets/controls",
      "_model_module_version": "1.5.0",
      "_model_name": "IntSliderModel",
      "_view_count": null,
      "_view_module": "@jupyter-widgets/controls",
      "_view_module_version": "1.5.0",
      "_view_name": "IntSliderView",
      "continuous_update": true,
      "description": "n_estimators",
      "description_tooltip": null,
      "disabled": false,
      "layout": "IPY_MODEL_7d6287369a9a4f16a34e06670b4f6eb5",
      "max": 5,
      "min": 2,
      "orientation": "horizontal",
      "readout": true,
      "readout_format": "d",
      "step": 1,
      "style": "IPY_MODEL_b290837387c84ac8a6b79bed8c13dbc9",
      "value": 4
     }
    }
   }
  }
 },
 "nbformat": 4,
 "nbformat_minor": 1
}
