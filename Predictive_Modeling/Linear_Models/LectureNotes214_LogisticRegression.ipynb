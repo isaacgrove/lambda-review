{
 "cells": [
  {
   "cell_type": "markdown",
   "metadata": {
    "id": "-dCJBZF8e6--"
   },
   "source": [
    "Lambda School Data Science\n",
    "\n",
    "*Unit 2, Sprint 1, Module 4*\n",
    "\n",
    "---\n",
    "\n",
    "# Logistic Regression\n",
    "- train/val/test split\n",
    "- baselines for classification\n",
    "- use sklearn.linear_model.LogisticRegression\n",
    "\n",
    "Logistic regression is the most basic classification model, and a handy way to predict probabilities (since those live in the unit interval). While relatively simple, it is also the foundation for more sophisticated classification techniques such as neural networks (many of which can effectively be thought of as networks of logistic models)."
   ]
  },
  {
   "cell_type": "code",
   "execution_count": null,
   "metadata": {},
   "outputs": [],
   "source": [
    "# lecture tl;dr\n",
    "\n",
    "# Test sets shoule be held out entirely until the very end, because peeking at\n",
    "# them even once constitutes \"cheating\", where you'll be tempted to raise the \n",
    "# score and thus technically train on your test data. This fundamentally breaks\n",
    "# the concept of inference.\n",
    "#\n",
    "# Make your own val(s).\n",
    "#\n",
    "# from sklearn.model_selection import train_test_split\n",
    "\n",
    "# flowchart detailing some more procedures than what we cover, broken down by\n",
    "# which you should do when (Sebastian Raschka)\n",
    "\n",
    "# Logistic Regrssion is classification.\n",
    "#\n",
    "# Usual metric is accuracy (% correct predictions)\n",
    "#\n",
    "# from sklearn.metrics import accuracy_score\n",
    "\n",
    "# Make sure you're beating the simple majority classifier. If the majority\n",
    "# class is 94% and your model gets 94% you've done nothing.\n",
    "\n",
    "# Quick review, y_val or y_test is your Pandas series of answers.\n",
    "# y_pred is your predicted values for same.\n",
    "# Compare the two to see how well you did, maybe with Mean Squared Error\n",
    "# in regression or simple matching percentage in classification.\n",
    "\n",
    "# weird, poorly done math digression\n",
    "\n",
    "# First pipeline (but not using sklearn.pipelines and \n",
    "# doing separate steps in separate cells)\n",
    "#\n",
    "# encode, impute, scale, fit. Predict.\n",
    "\n",
    "# sklearn pipelines\n",
    "# https://scikit-learn.org/stable/modules/compose.html"
   ]
  },
  {
   "cell_type": "markdown",
   "metadata": {
    "id": "gJ02Drn1e7As"
   },
   "source": [
    "# Extra Reading\n",
    "- Brandon Rohrer, [Training, Validation, and Testing Data Sets](https://end-to-end-machine-learning.teachable.com/blog/146320/training-validation-testing-data-sets)\n",
    "- Hadley Wickham, [R for Data Science](https://r4ds.had.co.nz/model-intro.html#hypothesis-generation-vs.hypothesis-confirmation), Hypothesis generation vs. hypothesis confirmation\n",
    "- Hastie, Tibshirani, and Friedman, [The Elements of Statistical Learning](http://statweb.stanford.edu/~tibs/ElemStatLearn/), Chapter 7: Model Assessment and Selection\n",
    "- Mueller and Guido, [Introduction to Machine Learning with Python](https://books.google.com/books?id=1-4lDQAAQBAJ&pg=PA270), Chapter 5.2.2: The Danger of Overfitting the Parameters and the Validation Set\n",
    "- Provost and Fawcett, [Data Science for Business](https://books.google.com/books?id=4ZctAAAAQBAJ&pg=PT276), Chapter 7.3: Evaluation, Baseline Performance, and Implications for Investments in Data\n",
    "- Rachel Thomas, [How (and why) to create a good validation set](https://www.fast.ai/2017/11/13/validation-sets/)\n",
    "- Sebastian Raschka, [Model Evaluation](https://sebastianraschka.com/blog/2018/model-evaluation-selection-part4.html)\n",
    "- Will Koehrsen, [\"A baseline for classification can be the most common class in the training dataset.\"](https://twitter.com/koehrsen_will/status/1088863527778111488)"
   ]
  },
  {
   "cell_type": "markdown",
   "metadata": {},
   "source": [
    "# Lecture Beginning"
   ]
  },
  {
   "cell_type": "markdown",
   "metadata": {
    "id": "b7M2JqGze6_B"
   },
   "source": [
    "### Setup\n",
    "\n",
    "Run the code cell below. You can work locally (follow the [local setup instructions](https://lambdaschool.github.io/ds/unit2/local/)) or on Colab.\n",
    "\n",
    "Libraries:\n",
    "- category_encoders\n",
    "- numpy\n",
    "- pandas\n",
    "- scikit-learn"
   ]
  },
  {
   "cell_type": "code",
   "execution_count": 3,
   "metadata": {
    "id": "mCWwhL3te6_C"
   },
   "outputs": [],
   "source": [
    "%%capture\n",
    "\n",
    "DATA_PATH = 'https://raw.githubusercontent.com/LambdaSchool/DS-Unit-2-Linear-Models/master/data/'\n",
    "# import sys\n",
    "\n",
    "# # If you're on Colab:\n",
    "# if 'google.colab' in sys.modules:\n",
    "#     DATA_PATH = 'https://raw.githubusercontent.com/LambdaSchool/DS-Unit-2-Linear-Models/master/data/'\n",
    "#     !pip install category_encoders==2.*\n",
    "\n",
    "# # If you're working locally:\n",
    "# else:\n",
    "#     DATA_PATH = '../data/'"
   ]
  },
  {
   "cell_type": "markdown",
   "metadata": {
    "id": "bcJ9CB0Ke6_G"
   },
   "source": [
    "# Do train/validate/test split"
   ]
  },
  {
   "cell_type": "markdown",
   "metadata": {
    "id": "jGr0QwRue6_H"
   },
   "source": [
    "## Overview"
   ]
  },
  {
   "cell_type": "markdown",
   "metadata": {
    "id": "jprCrqTye6_I"
   },
   "source": [
    "### Predict Titanic survival 🚢\n",
    "\n",
    "Kaggle is a platform for machine learning competitions. [Kaggle has used the Titanic dataset](https://www.kaggle.com/c/titanic/data) for their most popular \"getting started\" competition. \n",
    "\n",
    "Kaggle splits the data into train and test sets for participants. Let's load both:"
   ]
  },
  {
   "cell_type": "code",
   "execution_count": 4,
   "metadata": {
    "id": "Q0qi9aWVe6_J"
   },
   "outputs": [],
   "source": [
    "import pandas as pd\n",
    "train = pd.read_csv(DATA_PATH+'titanic/train.csv')\n",
    "test = pd.read_csv(DATA_PATH+'titanic/test.csv')"
   ]
  },
  {
   "cell_type": "markdown",
   "metadata": {
    "id": "uGX_P7jye6_M"
   },
   "source": [
    "Notice that the train set has one more column than the test set:"
   ]
  },
  {
   "cell_type": "code",
   "execution_count": 5,
   "metadata": {
    "colab": {
     "base_uri": "https://localhost:8080/",
     "height": 34
    },
    "id": "lmf1bc82e6_N",
    "outputId": "686688bc-82a8-402f-d3f0-e9605da8b182"
   },
   "outputs": [
    {
     "data": {
      "text/plain": [
       "((891, 12), (418, 11))"
      ]
     },
     "execution_count": 5,
     "metadata": {},
     "output_type": "execute_result"
    }
   ],
   "source": [
    "train.shape, test.shape"
   ]
  },
  {
   "cell_type": "markdown",
   "metadata": {
    "id": "oXfxFMQ3e6_U"
   },
   "source": [
    "Which column is in train but not test? The target!"
   ]
  },
  {
   "cell_type": "code",
   "execution_count": 6,
   "metadata": {
    "colab": {
     "base_uri": "https://localhost:8080/",
     "height": 34
    },
    "id": "eY98alsfe6_V",
    "outputId": "319e3d40-acd5-4597-f385-d2e5c34a5c46"
   },
   "outputs": [
    {
     "data": {
      "text/plain": [
       "{'Survived'}"
      ]
     },
     "execution_count": 6,
     "metadata": {},
     "output_type": "execute_result"
    }
   ],
   "source": [
    "set(train.columns) - set(test.columns)"
   ]
  },
  {
   "cell_type": "markdown",
   "metadata": {
    "id": "Tub3Cwtde6_Y"
   },
   "source": [
    "### Why doesn't Kaggle give you the target for the test set?\n",
    "\n",
    "#### Rachel Thomas, [How (and why) to create a good validation set](https://www.fast.ai/2017/11/13/validation-sets/)\n",
    "\n",
    "> One great thing about Kaggle competitions is that they force you to think about validation sets more rigorously (in order to do well). Kaggle typically breaks the data into two sets you can download:\n",
    ">\n",
    "> 1. a **training set**, which includes the _independent variables,_ as well as the _dependent variable_ (what you are trying to predict).\n",
    ">\n",
    "> 2. a **test set**, which just has the _independent variables._ You will make predictions for the test set, which you can submit to Kaggle and get back a score of how well you did.\n",
    ">\n",
    "> This is the basic idea with machine learning, but to do well, there is a bit more complexity to understand. **You will want to create your own training and validation sets (by splitting the Kaggle “training” data). You will just use your smaller training set (a subset of Kaggle’s training data) for building your model, and you can evaluate it on your validation set (also a subset of Kaggle’s training data) before you submit to Kaggle.**\n",
    ">\n",
    "> The most important reason for this is that Kaggle has split the test data into two sets: for the public and private leaderboards. The score you see on the public leaderboard is just for a subset of your predictions (and you don’t know which subset). How your predictions fare on the private leaderboard won’t be revealed until the end of the competition. The reason this is important is that you could end up overfitting to the public leaderboard and you wouldn’t realize it until the very end when you did poorly on the private leaderboard. Using a good validation set can prevent this. You can check if your validation set is any good by seeing if your model has similar scores on it to compared with on the Kaggle test set. ...\n",
    ">\n",
    "> Understanding these distinctions is not just useful for Kaggle. In any predictive machine learning project, you want your model to be able to perform well on new data."
   ]
  },
  {
   "cell_type": "markdown",
   "metadata": {
    "id": "Aa_bTdhJe6_Z"
   },
   "source": [
    "### 2-way train/test split is not enough\n",
    "\n",
    "#### Hastie, Tibshirani, and Friedman, [The Elements of Statistical Learning](http://statweb.stanford.edu/~tibs/ElemStatLearn/), Chapter 7: Model Assessment and Selection\n",
    "\n",
    "> If we are in a data-rich situation, the best approach is to randomly divide the dataset into three parts: a training set, a validation set, and a test set. The training set is used to fit the models; the validation set is used to estimate prediction error for model selection; the test set is used for assessment of the generalization error of the final chosen model. Ideally, the test set should be kept in a \"vault,\" and be brought out only at the end of the data analysis. Suppose instead that we use the test-set repeatedly, choosing the model with the smallest test-set error. Then the test set error of the final chosen model will underestimate the true test error, sometimes substantially.\n",
    "\n",
    "#### Andreas Mueller and Sarah Guido, [Introduction to Machine Learning with Python](https://books.google.com/books?id=1-4lDQAAQBAJ&pg=PA270)\n",
    "\n",
    "> The distinction between the training set, validation set, and test set is fundamentally important to applying machine learning methods in practice. Any choices made based on the test set accuracy \"leak\" information from the test set into the model. Therefore, it is important to keep a separate test set, which is only used for the final evaluation. It is good practice to do all exploratory analysis and model selection using the combination of a training and a validation set, and reserve the test set for a final evaluation - this is even true for exploratory visualization. Strictly speaking, evaluating more than one model on the test set and choosing the better of the two will result in an overly optimistic estimate of how accurate the model is.\n",
    "\n",
    "#### Hadley Wickham, [R for Data Science](https://r4ds.had.co.nz/model-intro.html#hypothesis-generation-vs.hypothesis-confirmation)\n",
    "\n",
    "> There is a pair of ideas that you must understand in order to do inference correctly:\n",
    ">\n",
    "> 1. Each observation can either be used for exploration or confirmation, not both.\n",
    ">\n",
    "> 2. You can use an observation as many times as you like for exploration, but you can only use it once for confirmation. As soon as you use an observation twice, you’ve switched from confirmation to exploration.\n",
    ">\n",
    "> This is necessary because to confirm a hypothesis you must use data independent of the data that you used to generate the hypothesis. Otherwise you will be over optimistic. There is absolutely nothing wrong with exploration, but you should never sell an exploratory analysis as a confirmatory analysis because it is fundamentally misleading.\n",
    ">\n",
    "> If you are serious about doing an confirmatory analysis, one approach is to split your data into three pieces before you begin the analysis.\n",
    "\n",
    "\n",
    "#### Sebastian Raschka, [Model Evaluation](https://sebastianraschka.com/blog/2018/model-evaluation-selection-part4.html)\n",
    "\n",
    "> Since “a picture is worth a thousand words,” I want to conclude with a figure (shown below) that summarizes my personal recommendations ...\n",
    "\n",
    "<img src=\"https://sebastianraschka.com/images/blog/2018/model-evaluation-selection-part4/model-eval-conclusions.jpg\" width=\"600\">\n",
    "\n",
    "Usually, we want to do **\"Model selection (hyperparameter optimization) _and_ performance estimation.\"** (The green box in the diagram.)\n",
    "\n",
    "Therefore, we usually do **\"3-way holdout method (train/validation/test split)\"** or **\"cross-validation with independent test set.\"**"
   ]
  },
  {
   "cell_type": "markdown",
   "metadata": {
    "id": "cQ2XmCxVe6_a"
   },
   "source": [
    "### What's the difference between Training, Validation, and Testing sets?\n",
    "\n",
    "#### Brandon Rohrer, [Training, Validation, and Testing Data Sets](https://end-to-end-machine-learning.teachable.com/blog/146320/training-validation-testing-data-sets)\n",
    "\n",
    "> The validation set is for adjusting a model's hyperparameters. The testing data set is the ultimate judge of model performance.\n",
    ">\n",
    "> Testing data is what you hold out until very last. You only run your model on it once. You don’t make any changes or adjustments to your model after that. ..."
   ]
  },
  {
   "cell_type": "markdown",
   "metadata": {
    "id": "6ltbsa7Ge6_b"
   },
   "source": [
    "## Follow Along\n",
    "\n",
    "> You will want to create your own training and validation sets (by splitting the Kaggle “training” data).\n",
    "\n",
    "Do this, using the [sklearn.model_selection.train_test_split](https://scikit-learn.org/stable/modules/generated/sklearn.model_selection.train_test_split.html) function:"
   ]
  },
  {
   "cell_type": "code",
   "execution_count": 7,
   "metadata": {
    "colab": {
     "base_uri": "https://localhost:8080/",
     "height": 34
    },
    "id": "1xrkUm_EksxO",
    "outputId": "252f98ea-3c58-46df-d396-76013b7528d8"
   },
   "outputs": [
    {
     "data": {
      "text/plain": [
       "((891, 12), (418, 11))"
      ]
     },
     "execution_count": 7,
     "metadata": {},
     "output_type": "execute_result"
    }
   ],
   "source": [
    "train.shape, test.shape"
   ]
  },
  {
   "cell_type": "code",
   "execution_count": 8,
   "metadata": {
    "id": "w33KBGGYe6_c"
   },
   "outputs": [],
   "source": [
    "from sklearn.model_selection import train_test_split"
   ]
  },
  {
   "cell_type": "code",
   "execution_count": 9,
   "metadata": {
    "id": "RTcfwRw1kdwX"
   },
   "outputs": [],
   "source": [
    "train, val = train_test_split(train, random_state=42)"
   ]
  },
  {
   "cell_type": "code",
   "execution_count": 10,
   "metadata": {
    "colab": {
     "base_uri": "https://localhost:8080/",
     "height": 34
    },
    "id": "o9CRISKxk6B3",
    "outputId": "0970b93d-a886-49e8-b4fb-3cf041b7fc56"
   },
   "outputs": [
    {
     "data": {
      "text/plain": [
       "((668, 12), (223, 12), (418, 11))"
      ]
     },
     "execution_count": 10,
     "metadata": {},
     "output_type": "execute_result"
    }
   ],
   "source": [
    "train.shape, val.shape, test.shape"
   ]
  },
  {
   "cell_type": "markdown",
   "metadata": {
    "id": "yxO3WqTde6_f"
   },
   "source": [
    "## Challenge"
   ]
  },
  {
   "cell_type": "markdown",
   "metadata": {
    "id": "8C_UYyewe6_g"
   },
   "source": [
    "For your assignment, you'll do a 3-way train/validate/test split.\n",
    "\n",
    "Then next sprint, you'll begin to participate in a private Kaggle challenge, just for your cohort! \n",
    "\n",
    "You will be provided with data split into 2 sets: training and test. You will create your own training and validation sets, by splitting the Kaggle \"training\" data, so you'll end up with 3 sets total."
   ]
  },
  {
   "cell_type": "markdown",
   "metadata": {
    "id": "wrISCuLXe6_g"
   },
   "source": [
    "# Begin with baselines for classification"
   ]
  },
  {
   "cell_type": "markdown",
   "metadata": {
    "id": "2we0QbI8e6_h"
   },
   "source": [
    "## Overview"
   ]
  },
  {
   "cell_type": "markdown",
   "metadata": {
    "id": "UThNSZ0Ie6_i"
   },
   "source": [
    "We'll begin with the **majority class baseline.**\n",
    "\n",
    "[Will Koehrsen](https://twitter.com/koehrsen_will/status/1088863527778111488)\n",
    "\n",
    "> A baseline for classification can be the most common class in the training dataset.\n",
    "\n",
    "[*Data Science for Business*](https://books.google.com/books?id=4ZctAAAAQBAJ&pg=PT276), Chapter 7.3: Evaluation, Baseline Performance, and Implications for Investments in Data\n",
    "\n",
    "> For classification tasks, one good baseline is the _majority classifier,_ a naive classifier that always chooses the majority class of the training dataset (see Note: Base rate in Holdout Data and Fitting Graphs). This may seem like advice so obvious it can be passed over quickly, but it is worth spending an extra moment here. There are many cases where smart, analytical people have been tripped up in skipping over this basic comparison. For example, an analyst may see a classification accuracy of 94% from her classifier and conclude that it is doing fairly well—when in fact only 6% of the instances are positive. So, the simple majority prediction classifier also would have an accuracy of 94%. "
   ]
  },
  {
   "cell_type": "markdown",
   "metadata": {
    "id": "ynbuC7E3e6_j"
   },
   "source": [
    "## Follow Along"
   ]
  },
  {
   "cell_type": "markdown",
   "metadata": {
    "id": "E6Mob4Qpe6_k"
   },
   "source": [
    "Determine majority class"
   ]
  },
  {
   "cell_type": "code",
   "execution_count": 11,
   "metadata": {
    "colab": {
     "base_uri": "https://localhost:8080/",
     "height": 68
    },
    "id": "XhG4SqAPe6_l",
    "outputId": "5d223616-30c0-4d26-b73b-055d66028cf2"
   },
   "outputs": [
    {
     "data": {
      "text/plain": [
       "0    0.621257\n",
       "1    0.378743\n",
       "Name: Survived, dtype: float64"
      ]
     },
     "execution_count": 11,
     "metadata": {},
     "output_type": "execute_result"
    }
   ],
   "source": [
    "target = 'Survived'\n",
    "y_train = train[target]\n",
    "y_train.value_counts(normalize=True)"
   ]
  },
  {
   "cell_type": "markdown",
   "metadata": {
    "id": "M_fmBjdze6_p"
   },
   "source": [
    "What if we guessed the majority class for every prediction?"
   ]
  },
  {
   "cell_type": "code",
   "execution_count": 12,
   "metadata": {
    "id": "j0ovDkTPe6_q"
   },
   "outputs": [],
   "source": [
    "# Just for demonstration\n",
    "majority_class = y_train.mode()[0]\n",
    "y_pred = [majority_class] * len(y_train)"
   ]
  },
  {
   "cell_type": "markdown",
   "metadata": {
    "id": "Q24Cwc4Ce6_t"
   },
   "source": [
    "#### Use a classification metric: accuracy\n",
    "\n",
    "[Classification metrics are different from regression metrics!](https://scikit-learn.org/stable/modules/model_evaluation.html)\n",
    "\n",
    "[Accuracy](https://scikit-learn.org/stable/modules/model_evaluation.html#accuracy-score) is a common metric for classification. Accuracy is the [\"proportion of correct classifications\"](https://en.wikipedia.org/wiki/Confusion_matrix): the number of correct predictions divided by the total number of predictions."
   ]
  },
  {
   "cell_type": "markdown",
   "metadata": {
    "id": "BA3TW7vme6_u"
   },
   "source": [
    "What is the baseline accuracy if we guessed the majority class for every prediction?"
   ]
  },
  {
   "cell_type": "code",
   "execution_count": 13,
   "metadata": {
    "id": "gZ4gqmK4e6_v"
   },
   "outputs": [],
   "source": [
    "from sklearn.metrics import accuracy_score"
   ]
  },
  {
   "cell_type": "code",
   "execution_count": 14,
   "metadata": {
    "colab": {
     "base_uri": "https://localhost:8080/",
     "height": 34
    },
    "id": "vSBEOS22e6_y",
    "outputId": "823eed55-8901-4f74-bab4-f20dc59cfa73"
   },
   "outputs": [
    {
     "data": {
      "text/plain": [
       "0.6212574850299402"
      ]
     },
     "execution_count": 14,
     "metadata": {},
     "output_type": "execute_result"
    }
   ],
   "source": [
    "# Training accuracy of majority class baseline = \n",
    "# frequency of majority class (aka base rate)\n",
    "accuracy_score(y_train, y_pred)"
   ]
  },
  {
   "cell_type": "code",
   "execution_count": 15,
   "metadata": {
    "colab": {
     "base_uri": "https://localhost:8080/",
     "height": 34
    },
    "id": "pZV6PoPprnr6",
    "outputId": "6d093e71-e9ea-4c67-9988-ae477d970331"
   },
   "outputs": [
    {
     "data": {
      "text/plain": [
       "0.600896860986547"
      ]
     },
     "execution_count": 15,
     "metadata": {},
     "output_type": "execute_result"
    }
   ],
   "source": [
    "# Validation accuracy of majority class baseline = \n",
    "# usually similar to Train accuracy\n",
    "y_val = val[target]\n",
    "y_pred = [majority_class] * len(y_val)\n",
    "accuracy_score(y_val, y_pred)"
   ]
  },
  {
   "cell_type": "markdown",
   "metadata": {
    "id": "pP2FlNOGe6_1"
   },
   "source": [
    "## Challenge"
   ]
  },
  {
   "cell_type": "markdown",
   "metadata": {
    "id": "VCCQYyr9e6_2"
   },
   "source": [
    "In your assignment, your Sprint Challenge, and your upcoming Kaggle challenge, you'll begin with the majority class baseline. How quickly can you beat this baseline?"
   ]
  },
  {
   "cell_type": "markdown",
   "metadata": {
    "id": "hCLsZ3VSe6_3"
   },
   "source": [
    "# Express and explain the intuition and interpretation of Logistic Regression\n"
   ]
  },
  {
   "cell_type": "markdown",
   "metadata": {
    "id": "NELOOMQke6_4"
   },
   "source": [
    "## Overview\n",
    "\n",
    "To help us get an intuition for *Logistic* Regression, let's start by trying *Linear* Regression instead, and see what happens...\n",
    "\n",
    "Yes, this is dumb."
   ]
  },
  {
   "cell_type": "markdown",
   "metadata": {
    "id": "129lMJcve6_4"
   },
   "source": [
    "## Follow Along"
   ]
  },
  {
   "cell_type": "markdown",
   "metadata": {
    "id": "ayXS_3TWe6_5"
   },
   "source": [
    "### Linear Regression?"
   ]
  },
  {
   "cell_type": "code",
   "execution_count": 16,
   "metadata": {
    "colab": {
     "base_uri": "https://localhost:8080/",
     "height": 297
    },
    "id": "ABLok5sDe6_6",
    "outputId": "193c95e5-8cf8-4cb6-9073-52c9014560e3"
   },
   "outputs": [
    {
     "data": {
      "text/html": [
       "<div>\n",
       "<style scoped>\n",
       "    .dataframe tbody tr th:only-of-type {\n",
       "        vertical-align: middle;\n",
       "    }\n",
       "\n",
       "    .dataframe tbody tr th {\n",
       "        vertical-align: top;\n",
       "    }\n",
       "\n",
       "    .dataframe thead th {\n",
       "        text-align: right;\n",
       "    }\n",
       "</style>\n",
       "<table border=\"1\" class=\"dataframe\">\n",
       "  <thead>\n",
       "    <tr style=\"text-align: right;\">\n",
       "      <th></th>\n",
       "      <th>PassengerId</th>\n",
       "      <th>Survived</th>\n",
       "      <th>Pclass</th>\n",
       "      <th>Age</th>\n",
       "      <th>SibSp</th>\n",
       "      <th>Parch</th>\n",
       "      <th>Fare</th>\n",
       "    </tr>\n",
       "  </thead>\n",
       "  <tbody>\n",
       "    <tr>\n",
       "      <th>count</th>\n",
       "      <td>668.000000</td>\n",
       "      <td>668.000000</td>\n",
       "      <td>668.000000</td>\n",
       "      <td>536.000000</td>\n",
       "      <td>668.000000</td>\n",
       "      <td>668.000000</td>\n",
       "      <td>668.000000</td>\n",
       "    </tr>\n",
       "    <tr>\n",
       "      <th>mean</th>\n",
       "      <td>447.450599</td>\n",
       "      <td>0.378743</td>\n",
       "      <td>2.333832</td>\n",
       "      <td>29.421343</td>\n",
       "      <td>0.553892</td>\n",
       "      <td>0.372754</td>\n",
       "      <td>32.179397</td>\n",
       "    </tr>\n",
       "    <tr>\n",
       "      <th>std</th>\n",
       "      <td>258.038366</td>\n",
       "      <td>0.485437</td>\n",
       "      <td>0.823707</td>\n",
       "      <td>14.526010</td>\n",
       "      <td>1.185279</td>\n",
       "      <td>0.795588</td>\n",
       "      <td>51.604012</td>\n",
       "    </tr>\n",
       "    <tr>\n",
       "      <th>min</th>\n",
       "      <td>1.000000</td>\n",
       "      <td>0.000000</td>\n",
       "      <td>1.000000</td>\n",
       "      <td>0.420000</td>\n",
       "      <td>0.000000</td>\n",
       "      <td>0.000000</td>\n",
       "      <td>0.000000</td>\n",
       "    </tr>\n",
       "    <tr>\n",
       "      <th>25%</th>\n",
       "      <td>221.750000</td>\n",
       "      <td>0.000000</td>\n",
       "      <td>2.000000</td>\n",
       "      <td>20.750000</td>\n",
       "      <td>0.000000</td>\n",
       "      <td>0.000000</td>\n",
       "      <td>7.925000</td>\n",
       "    </tr>\n",
       "    <tr>\n",
       "      <th>50%</th>\n",
       "      <td>452.500000</td>\n",
       "      <td>0.000000</td>\n",
       "      <td>3.000000</td>\n",
       "      <td>28.000000</td>\n",
       "      <td>0.000000</td>\n",
       "      <td>0.000000</td>\n",
       "      <td>14.400000</td>\n",
       "    </tr>\n",
       "    <tr>\n",
       "      <th>75%</th>\n",
       "      <td>673.500000</td>\n",
       "      <td>1.000000</td>\n",
       "      <td>3.000000</td>\n",
       "      <td>38.000000</td>\n",
       "      <td>1.000000</td>\n",
       "      <td>0.000000</td>\n",
       "      <td>30.500000</td>\n",
       "    </tr>\n",
       "    <tr>\n",
       "      <th>max</th>\n",
       "      <td>891.000000</td>\n",
       "      <td>1.000000</td>\n",
       "      <td>3.000000</td>\n",
       "      <td>80.000000</td>\n",
       "      <td>8.000000</td>\n",
       "      <td>6.000000</td>\n",
       "      <td>512.329200</td>\n",
       "    </tr>\n",
       "  </tbody>\n",
       "</table>\n",
       "</div>"
      ],
      "text/plain": [
       "       PassengerId    Survived      Pclass         Age       SibSp  \\\n",
       "count   668.000000  668.000000  668.000000  536.000000  668.000000   \n",
       "mean    447.450599    0.378743    2.333832   29.421343    0.553892   \n",
       "std     258.038366    0.485437    0.823707   14.526010    1.185279   \n",
       "min       1.000000    0.000000    1.000000    0.420000    0.000000   \n",
       "25%     221.750000    0.000000    2.000000   20.750000    0.000000   \n",
       "50%     452.500000    0.000000    3.000000   28.000000    0.000000   \n",
       "75%     673.500000    1.000000    3.000000   38.000000    1.000000   \n",
       "max     891.000000    1.000000    3.000000   80.000000    8.000000   \n",
       "\n",
       "            Parch        Fare  \n",
       "count  668.000000  668.000000  \n",
       "mean     0.372754   32.179397  \n",
       "std      0.795588   51.604012  \n",
       "min      0.000000    0.000000  \n",
       "25%      0.000000    7.925000  \n",
       "50%      0.000000   14.400000  \n",
       "75%      0.000000   30.500000  \n",
       "max      6.000000  512.329200  "
      ]
     },
     "execution_count": 16,
     "metadata": {},
     "output_type": "execute_result"
    }
   ],
   "source": [
    "train.describe()"
   ]
  },
  {
   "cell_type": "code",
   "execution_count": 17,
   "metadata": {
    "colab": {
     "base_uri": "https://localhost:8080/",
     "height": 782
    },
    "id": "71QBx8S1e6_9",
    "outputId": "388c8df3-d8b0-46e8-8ce8-c18bdb26d72c"
   },
   "outputs": [
    {
     "data": {
      "text/plain": [
       "array([ 0.23418773,  0.414959  ,  0.29142187,  0.60240298,  0.33464094,\n",
       "        0.70204713,  0.22782825,  0.32690633,  0.31821017,  0.70458858,\n",
       "        0.60612454,  0.12990727,  0.2428592 ,  0.22348605,  0.38340904,\n",
       "        0.73591945,  0.57199051,  0.22789544,  0.44401679,  0.53784936,\n",
       "        0.26446032,  0.60380195,  0.298096  ,  0.2925248 ,  0.23355499,\n",
       "        0.37571072,  0.5643901 ,  0.41708001,  0.41611588,  0.21728567,\n",
       "        0.29813129,  0.27780501,  0.63815283,  0.22765856,  0.30499631,\n",
       "        0.24982192,  0.65180034,  0.22782825,  0.63451413,  0.22795194,\n",
       "        0.53575051,  0.23006821,  0.22808277,  0.22782825,  0.12860643,\n",
       "        0.34079898,  0.298354  ,  0.27232222,  0.26374274,  0.5157593 ,\n",
       "        0.40205002,  0.53938723,  0.1736849 ,  0.83797194, -0.01176533,\n",
       "        0.7565994 ,  0.4082248 ,  0.68352778,  0.39693048,  0.29811721,\n",
       "        0.28456041,  0.54381014,  0.44831187,  0.63410525,  0.22782825,\n",
       "        0.23986996,  0.53575051,  0.2307717 ,  0.31103413,  0.52646321,\n",
       "        0.46178026,  0.91162438,  0.6606025 ,  0.61815779,  0.27115922,\n",
       "        0.19014386,  0.22056436,  0.70408319,  0.36994065,  0.16042859,\n",
       "        0.34530614,  0.42842738,  0.6549822 ,  0.22781764,  0.459167  ,\n",
       "        0.37411125,  0.69758253,  0.65651261,  0.55433999,  0.22740404,\n",
       "        0.37618792,  0.38530828,  0.42687469,  0.2278106 ,  0.22795194,\n",
       "        0.23748825,  0.53111516,  0.12317307,  0.38340904,  0.24425774,\n",
       "        0.40130951,  0.18973024,  0.75956181,  0.16946402,  0.22081888,\n",
       "        0.25762364,  0.37853082,  0.52639588,  0.22541617,  0.56717219,\n",
       "        0.65622744,  0.2874821 ,  0.68770686,  0.59011085,  0.80026912,\n",
       "        0.29305149,  0.36151242,  0.38330299,  0.49126225,  0.12530478,\n",
       "        0.46968095,  0.65947149,  0.45212543,  0.63382514,  0.25717823,\n",
       "        0.59706775,  0.50226235,  0.71581246,  0.23351961,  0.28479373,\n",
       "        0.22793786,  0.23418773,  0.41668172,  0.39629502,  0.52856293,\n",
       "        0.33063225,  0.70618438,  0.23068686,  0.14295145,  0.31326827,\n",
       "        0.28511892,  0.34056477,  0.43728259,  0.38770413,  0.18145839,\n",
       "        0.41342135,  0.42381421,  0.17926221,  0.73641945,  0.13664146,\n",
       "        0.22864484,  0.26412096,  0.30478064,  0.2417421 ,  0.22808277,\n",
       "        0.22723436,  0.26918447,  0.22786006,  0.39443832,  0.21703822,\n",
       "        0.26726187,  0.63463551,  0.36320646,  0.68182452,  0.22842917,\n",
       "        0.42510028,  0.46883255,  0.65611078,  0.27792871,  0.18966661,\n",
       "        0.70910646,  0.50462453,  0.59019569,  0.37170901,  0.31094573,\n",
       "        0.22738283,  0.1901121 ,  0.50923771,  0.40661373,  0.52801311,\n",
       "        0.47095356,  0.21061154,  0.25095664,  0.40551086,  0.85861682,\n",
       "        0.52972581,  0.44303761,  0.22795194,  0.64222874,  0.34300388,\n",
       "        0.19744015,  0.40299653,  0.31088566,  0.23215036,  0.30015961,\n",
       "        0.65089911,  0.74737355,  0.39687743,  0.7441172 ,  0.37183989,\n",
       "        0.01388824,  0.22470563,  0.58994204,  0.00326201,  0.29083155,\n",
       "        0.24022201,  0.2321362 ,  0.66961709,  0.23351961,  0.0895021 ,\n",
       "        0.80785398,  0.22350726,  0.6643675 ,  0.22780704,  0.2428592 ,\n",
       "        0.4237939 ,  0.47190808,  0.51886995,  0.46851445,  0.22740404,\n",
       "        0.22795194,  0.46421937,  0.31531504])"
      ]
     },
     "execution_count": 17,
     "metadata": {},
     "output_type": "execute_result"
    }
   ],
   "source": [
    "# 1. Import estimator class\n",
    "from sklearn.linear_model import LinearRegression\n",
    "\n",
    "# 2. Instantiate this class\n",
    "linear_reg = LinearRegression()\n",
    "\n",
    "# 3. Arrange X feature matrices (already did y target vectors)\n",
    "features = ['Pclass', 'Age', 'Fare']\n",
    "X_train = train[features]\n",
    "X_val = val[features]\n",
    "\n",
    "# Impute missing values\n",
    "from sklearn.impute import SimpleImputer\n",
    "imputer = SimpleImputer()\n",
    "X_train_imputed = imputer.fit_transform(X_train)\n",
    "X_val_imputed = imputer.transform(X_val)\n",
    "\n",
    "# 4. Fit the model\n",
    "linear_reg.fit(X_train_imputed, y_train)\n",
    "\n",
    "# 5. Apply the model to new data.\n",
    "# The predictions look like this ...\n",
    "linear_reg.predict(X_val_imputed)"
   ]
  },
  {
   "cell_type": "code",
   "execution_count": 18,
   "metadata": {
    "colab": {
     "base_uri": "https://localhost:8080/",
     "height": 85
    },
    "id": "qGz68G68e7AB",
    "outputId": "5ece7be4-7286-405a-a067-9255ad5b7381"
   },
   "outputs": [
    {
     "data": {
      "text/plain": [
       "Pclass   -0.195429\n",
       "Age      -0.006734\n",
       "Fare      0.000848\n",
       "dtype: float64"
      ]
     },
     "execution_count": 18,
     "metadata": {},
     "output_type": "execute_result"
    }
   ],
   "source": [
    "# Get coefficients\n",
    "pd.Series(linear_reg.coef_, features)"
   ]
  },
  {
   "cell_type": "code",
   "execution_count": 19,
   "metadata": {
    "colab": {
     "base_uri": "https://localhost:8080/",
     "height": 34
    },
    "id": "O_rbelJQe7AE",
    "outputId": "51c24ddd-cd83-4d4e-edf3-440e0eceabfa"
   },
   "outputs": [
    {
     "data": {
      "text/plain": [
       "array([1.20077135])"
      ]
     },
     "execution_count": 19,
     "metadata": {},
     "output_type": "execute_result"
    }
   ],
   "source": [
    "test_case = [[1, 5, 500]]  # 1st class, 5-year old, Rich\n",
    "linear_reg.predict(test_case)"
   ]
  },
  {
   "cell_type": "markdown",
   "metadata": {
    "id": "mDX3r_T4e7AH"
   },
   "source": [
    "### Logistic Regression!"
   ]
  },
  {
   "cell_type": "code",
   "execution_count": 20,
   "metadata": {
    "colab": {
     "base_uri": "https://localhost:8080/",
     "height": 34
    },
    "id": "bFY2k1_we7AH",
    "outputId": "af1cff95-1434-4b5b-ce44-6d04e355b8d4"
   },
   "outputs": [
    {
     "name": "stdout",
     "output_type": "stream",
     "text": [
      "Validation Accuracy 0.7354260089686099\n"
     ]
    }
   ],
   "source": [
    "from sklearn.linear_model import LogisticRegression\n",
    "\n",
    "log_reg = LogisticRegression(solver='lbfgs')\n",
    "log_reg.fit(X_train_imputed, y_train)\n",
    "print('Validation Accuracy', log_reg.score(X_val_imputed, y_val))"
   ]
  },
  {
   "cell_type": "code",
   "execution_count": 21,
   "metadata": {
    "colab": {
     "base_uri": "https://localhost:8080/",
     "height": 204
    },
    "id": "mH0p5JY3e7AK",
    "outputId": "8edd87be-173b-4824-8d6e-c50af9988977"
   },
   "outputs": [
    {
     "data": {
      "text/plain": [
       "array([0, 0, 0, 1, 0, 1, 0, 0, 0, 1, 1, 0, 0, 0, 0, 1, 1, 0, 0, 1, 0, 1,\n",
       "       0, 0, 0, 0, 1, 0, 0, 0, 0, 0, 1, 0, 0, 0, 1, 0, 1, 0, 1, 0, 0, 0,\n",
       "       0, 0, 0, 0, 0, 1, 0, 1, 0, 1, 0, 1, 0, 1, 0, 0, 0, 1, 0, 1, 0, 0,\n",
       "       1, 0, 0, 1, 0, 1, 1, 1, 0, 0, 0, 1, 0, 0, 0, 0, 1, 0, 0, 0, 1, 1,\n",
       "       1, 0, 0, 0, 0, 0, 0, 0, 1, 0, 0, 0, 0, 0, 1, 0, 0, 0, 0, 1, 0, 1,\n",
       "       1, 0, 1, 1, 1, 0, 0, 0, 0, 0, 0, 1, 0, 1, 0, 1, 0, 1, 0, 0, 0, 0,\n",
       "       0, 0, 1, 0, 1, 0, 0, 0, 0, 0, 0, 0, 0, 0, 0, 0, 1, 0, 0, 0, 0, 0,\n",
       "       0, 0, 0, 0, 0, 0, 0, 1, 0, 1, 0, 0, 0, 1, 0, 0, 1, 1, 1, 0, 0, 0,\n",
       "       0, 1, 0, 1, 0, 0, 0, 0, 1, 1, 0, 0, 1, 0, 0, 0, 0, 0, 0, 1, 1, 0,\n",
       "       1, 0, 0, 0, 1, 0, 0, 0, 0, 1, 0, 0, 1, 0, 1, 0, 0, 0, 0, 1, 0, 0,\n",
       "       0, 0, 0])"
      ]
     },
     "execution_count": 21,
     "metadata": {},
     "output_type": "execute_result"
    }
   ],
   "source": [
    "# The predictions look like this\n",
    "log_reg.predict(X_val_imputed)"
   ]
  },
  {
   "cell_type": "code",
   "execution_count": 22,
   "metadata": {
    "colab": {
     "base_uri": "https://localhost:8080/",
     "height": 34
    },
    "id": "B8LKZ1OFe7AN",
    "outputId": "567d8368-0038-4bf2-ef23-ba46c5c2069c"
   },
   "outputs": [
    {
     "data": {
      "text/plain": [
       "array([1])"
      ]
     },
     "execution_count": 22,
     "metadata": {},
     "output_type": "execute_result"
    }
   ],
   "source": [
    "log_reg.predict(test_case)"
   ]
  },
  {
   "cell_type": "code",
   "execution_count": 23,
   "metadata": {
    "colab": {
     "base_uri": "https://localhost:8080/",
     "height": 34
    },
    "id": "DPDI2fUAe7AP",
    "outputId": "f3cc56c3-210e-4153-fa1b-eb066fac8682"
   },
   "outputs": [
    {
     "data": {
      "text/plain": [
       "array([[0.02418324, 0.97581676]])"
      ]
     },
     "execution_count": 23,
     "metadata": {},
     "output_type": "execute_result"
    }
   ],
   "source": [
    "log_reg.predict_proba(test_case)"
   ]
  },
  {
   "cell_type": "code",
   "execution_count": 24,
   "metadata": {
    "colab": {
     "base_uri": "https://localhost:8080/",
     "height": 34
    },
    "id": "L5Eot75He7AR",
    "outputId": "0ac4c79e-bd47-495d-8a3d-c0fd3e8cab0f"
   },
   "outputs": [
    {
     "data": {
      "text/plain": [
       "array([-0.84573613, -0.03196344,  0.0049728 ])"
      ]
     },
     "execution_count": 24,
     "metadata": {},
     "output_type": "execute_result"
    }
   ],
   "source": [
    "# What's the math?\n",
    "log_reg.coef_[0]"
   ]
  },
  {
   "cell_type": "code",
   "execution_count": 25,
   "metadata": {
    "colab": {
     "base_uri": "https://localhost:8080/",
     "height": 34
    },
    "id": "RVLrpQR9e7AW",
    "outputId": "3e3c3119-01ba-4a89-8eb6-c95ceef9d794"
   },
   "outputs": [
    {
     "data": {
      "text/plain": [
       "array([2.21676629])"
      ]
     },
     "execution_count": 25,
     "metadata": {},
     "output_type": "execute_result"
    }
   ],
   "source": [
    "log_reg.intercept_"
   ]
  },
  {
   "cell_type": "code",
   "execution_count": 26,
   "metadata": {
    "id": "F-CTi2Ome7AY"
   },
   "outputs": [],
   "source": [
    "# The logistic sigmoid \"squishing\" function, implemented to accept numpy arrays\n",
    "import numpy as np\n",
    "\n",
    "def sigmoid(x):\n",
    "    return 1 / (1 + np.e**(-x))"
   ]
  },
  {
   "cell_type": "code",
   "execution_count": 27,
   "metadata": {
    "colab": {
     "base_uri": "https://localhost:8080/",
     "height": 34
    },
    "id": "2OtQA9WPe7Ab",
    "lines_to_next_cell": 2,
    "outputId": "116785aa-db28-4857-914f-1ce350828670"
   },
   "outputs": [
    {
     "data": {
      "text/plain": [
       "array([[0.97581676]])"
      ]
     },
     "execution_count": 27,
     "metadata": {},
     "output_type": "execute_result"
    }
   ],
   "source": [
    "sigmoid(log_reg.intercept_ + np.dot(log_reg.coef_, np.transpose(test_case)))"
   ]
  },
  {
   "cell_type": "code",
   "execution_count": 28,
   "metadata": {
    "colab": {
     "base_uri": "https://localhost:8080/",
     "height": 34
    },
    "id": "PY2nJGyXvQ4R",
    "outputId": "71be3e33-3ed0-4ab0-b0e4-0aa21ea3b1d9"
   },
   "outputs": [
    {
     "data": {
      "text/plain": [
       "array([[-0.84573613, -0.03196344,  0.0049728 ]])"
      ]
     },
     "execution_count": 28,
     "metadata": {},
     "output_type": "execute_result"
    }
   ],
   "source": [
    "log_reg.coef_"
   ]
  },
  {
   "cell_type": "code",
   "execution_count": 29,
   "metadata": {
    "colab": {
     "base_uri": "https://localhost:8080/",
     "height": 34
    },
    "id": "xdut-GUuvaOg",
    "outputId": "881ad3c0-60e8-4ceb-a343-5d1d67a6dc87"
   },
   "outputs": [
    {
     "data": {
      "text/plain": [
       "[[1, 5, 500]]"
      ]
     },
     "execution_count": 29,
     "metadata": {},
     "output_type": "execute_result"
    }
   ],
   "source": [
    "test_case"
   ]
  },
  {
   "cell_type": "code",
   "execution_count": 30,
   "metadata": {
    "colab": {
     "base_uri": "https://localhost:8080/",
     "height": 34
    },
    "id": "JYioVaR-vb44",
    "outputId": "6a5ff688-dd84-4be6-e227-c1057eedff33"
   },
   "outputs": [
    {
     "data": {
      "text/plain": [
       "3.69761296"
      ]
     },
     "execution_count": 30,
     "metadata": {},
     "output_type": "execute_result"
    }
   ],
   "source": [
    "2.21676629 + -0.84573613*1 + -0.03196344*5 + 0.0049728*500"
   ]
  },
  {
   "cell_type": "code",
   "execution_count": 31,
   "metadata": {
    "colab": {
     "base_uri": "https://localhost:8080/",
     "height": 34
    },
    "id": "VraRezgGvldC",
    "outputId": "e7ec6af4-b680-4439-be12-2e728d56b5fb"
   },
   "outputs": [
    {
     "data": {
      "text/plain": [
       "0.9758167120565335"
      ]
     },
     "execution_count": 31,
     "metadata": {},
     "output_type": "execute_result"
    }
   ],
   "source": [
    "sigmoid(2.21676629 + -0.84573613*1 + -0.03196344*5 + 0.0049728*500)"
   ]
  },
  {
   "cell_type": "code",
   "execution_count": 32,
   "metadata": {
    "colab": {
     "base_uri": "https://localhost:8080/",
     "height": 34
    },
    "id": "uVKg8pc4vvtt",
    "outputId": "a562b45d-fe7a-46ed-b928-b0e7b89b756d"
   },
   "outputs": [
    {
     "data": {
      "text/plain": [
       "0.36787944117144233"
      ]
     },
     "execution_count": 32,
     "metadata": {},
     "output_type": "execute_result"
    }
   ],
   "source": [
    "np.e ** -1"
   ]
  },
  {
   "cell_type": "markdown",
   "metadata": {
    "id": "POjcHPYee7Ae"
   },
   "source": [
    "So, clearly a more appropriate model in this situation! For more on the math, [see this Wikipedia example](https://en.wikipedia.org/wiki/Logistic_regression#Probability_of_passing_an_exam_versus_hours_of_study)."
   ]
  },
  {
   "cell_type": "markdown",
   "metadata": {
    "id": "PH2kM9Are7Ae"
   },
   "source": [
    "# Use sklearn.linear_model.LogisticRegression to fit and interpret Logistic Regression models"
   ]
  },
  {
   "cell_type": "markdown",
   "metadata": {
    "id": "ijPtf4Mae7Af"
   },
   "source": [
    "## Overview\n",
    "\n",
    "Now that we have more intuition and interpretation of Logistic Regression, let's use it within a realistic, complete scikit-learn workflow, with more features and transformations."
   ]
  },
  {
   "cell_type": "markdown",
   "metadata": {
    "id": "0JgYWHX6e7Ag"
   },
   "source": [
    "## Follow Along\n",
    "\n",
    "Select these features: `['Pclass', 'Sex', 'Age', 'SibSp', 'Parch', 'Fare', 'Embarked']`\n",
    "\n",
    "(Why shouldn't we include the `Name` or `Ticket` features? What would happen here?) \n",
    "\n",
    "Fit this sequence of transformers & estimator:\n",
    "\n",
    "- [category_encoders.one_hot.OneHotEncoder](https://contrib.scikit-learn.org/categorical-encoding/onehot.html)\n",
    "- [sklearn.impute.SimpleImputer](https://scikit-learn.org/stable/modules/generated/sklearn.impute.SimpleImputer.html)\n",
    "- [sklearn.preprocessing.StandardScaler](https://scikit-learn.org/stable/modules/generated/sklearn.preprocessing.StandardScaler.html)\n",
    "- [sklearn.linear_model.LogisticRegressionCV](https://scikit-learn.org/stable/modules/generated/sklearn.linear_model.LogisticRegressionCV.html)\n",
    "\n",
    "Get validation accuracy."
   ]
  },
  {
   "cell_type": "code",
   "execution_count": 33,
   "metadata": {
    "colab": {
     "base_uri": "https://localhost:8080/",
     "height": 34
    },
    "id": "wct4fKPre7Ah",
    "outputId": "cf029c0e-39de-4ece-b342-8c245e175082"
   },
   "outputs": [
    {
     "data": {
      "text/plain": [
       "((668, 7), (668,), (223, 7), (223,))"
      ]
     },
     "execution_count": 33,
     "metadata": {},
     "output_type": "execute_result"
    }
   ],
   "source": [
    "features = ['Pclass', 'Sex', 'Age', 'SibSp', 'Parch', 'Fare', 'Embarked']\n",
    "target = 'Survived'\n",
    "\n",
    "X_train = train[features]\n",
    "y_train = train[target]\n",
    "X_val = val[features]\n",
    "y_val = val[target]\n",
    "\n",
    "X_train.shape, y_train.shape, X_val.shape, y_val.shape"
   ]
  },
  {
   "cell_type": "code",
   "execution_count": 34,
   "metadata": {
    "id": "Q2enyJWZ3Xx5"
   },
   "outputs": [],
   "source": [
    "import category_encoders as ce\n",
    "from sklearn.impute import SimpleImputer\n",
    "from sklearn.linear_model import LogisticRegressionCV\n",
    "from sklearn.preprocessing import StandardScaler"
   ]
  },
  {
   "cell_type": "code",
   "execution_count": 35,
   "metadata": {
    "colab": {
     "base_uri": "https://localhost:8080/",
     "height": 204
    },
    "id": "2D71sAva3nPz",
    "outputId": "3febc947-aa97-4cdd-aa7d-a003f119ee46"
   },
   "outputs": [
    {
     "data": {
      "text/html": [
       "<div>\n",
       "<style scoped>\n",
       "    .dataframe tbody tr th:only-of-type {\n",
       "        vertical-align: middle;\n",
       "    }\n",
       "\n",
       "    .dataframe tbody tr th {\n",
       "        vertical-align: top;\n",
       "    }\n",
       "\n",
       "    .dataframe thead th {\n",
       "        text-align: right;\n",
       "    }\n",
       "</style>\n",
       "<table border=\"1\" class=\"dataframe\">\n",
       "  <thead>\n",
       "    <tr style=\"text-align: right;\">\n",
       "      <th></th>\n",
       "      <th>Pclass</th>\n",
       "      <th>Sex</th>\n",
       "      <th>Age</th>\n",
       "      <th>SibSp</th>\n",
       "      <th>Parch</th>\n",
       "      <th>Fare</th>\n",
       "      <th>Embarked</th>\n",
       "    </tr>\n",
       "  </thead>\n",
       "  <tbody>\n",
       "    <tr>\n",
       "      <th>298</th>\n",
       "      <td>1</td>\n",
       "      <td>male</td>\n",
       "      <td>NaN</td>\n",
       "      <td>0</td>\n",
       "      <td>0</td>\n",
       "      <td>30.5000</td>\n",
       "      <td>S</td>\n",
       "    </tr>\n",
       "    <tr>\n",
       "      <th>884</th>\n",
       "      <td>3</td>\n",
       "      <td>male</td>\n",
       "      <td>25.00</td>\n",
       "      <td>0</td>\n",
       "      <td>0</td>\n",
       "      <td>7.0500</td>\n",
       "      <td>S</td>\n",
       "    </tr>\n",
       "    <tr>\n",
       "      <th>247</th>\n",
       "      <td>2</td>\n",
       "      <td>female</td>\n",
       "      <td>24.00</td>\n",
       "      <td>0</td>\n",
       "      <td>2</td>\n",
       "      <td>14.5000</td>\n",
       "      <td>S</td>\n",
       "    </tr>\n",
       "    <tr>\n",
       "      <th>478</th>\n",
       "      <td>3</td>\n",
       "      <td>male</td>\n",
       "      <td>22.00</td>\n",
       "      <td>0</td>\n",
       "      <td>0</td>\n",
       "      <td>7.5208</td>\n",
       "      <td>S</td>\n",
       "    </tr>\n",
       "    <tr>\n",
       "      <th>305</th>\n",
       "      <td>1</td>\n",
       "      <td>male</td>\n",
       "      <td>0.92</td>\n",
       "      <td>1</td>\n",
       "      <td>2</td>\n",
       "      <td>151.5500</td>\n",
       "      <td>S</td>\n",
       "    </tr>\n",
       "  </tbody>\n",
       "</table>\n",
       "</div>"
      ],
      "text/plain": [
       "     Pclass     Sex    Age  SibSp  Parch      Fare Embarked\n",
       "298       1    male    NaN      0      0   30.5000        S\n",
       "884       3    male  25.00      0      0    7.0500        S\n",
       "247       2  female  24.00      0      2   14.5000        S\n",
       "478       3    male  22.00      0      0    7.5208        S\n",
       "305       1    male   0.92      1      2  151.5500        S"
      ]
     },
     "execution_count": 35,
     "metadata": {},
     "output_type": "execute_result"
    }
   ],
   "source": [
    "X_train.head()"
   ]
  },
  {
   "cell_type": "code",
   "execution_count": 36,
   "metadata": {
    "colab": {
     "base_uri": "https://localhost:8080/",
     "height": 204
    },
    "id": "DrqdBSX73pv5",
    "outputId": "65f6b158-e137-4381-921f-cfae8cbea45e"
   },
   "outputs": [
    {
     "data": {
      "text/html": [
       "<div>\n",
       "<style scoped>\n",
       "    .dataframe tbody tr th:only-of-type {\n",
       "        vertical-align: middle;\n",
       "    }\n",
       "\n",
       "    .dataframe tbody tr th {\n",
       "        vertical-align: top;\n",
       "    }\n",
       "\n",
       "    .dataframe thead th {\n",
       "        text-align: right;\n",
       "    }\n",
       "</style>\n",
       "<table border=\"1\" class=\"dataframe\">\n",
       "  <thead>\n",
       "    <tr style=\"text-align: right;\">\n",
       "      <th></th>\n",
       "      <th>Pclass</th>\n",
       "      <th>Sex</th>\n",
       "      <th>Age</th>\n",
       "      <th>SibSp</th>\n",
       "      <th>Parch</th>\n",
       "      <th>Fare</th>\n",
       "      <th>Embarked</th>\n",
       "    </tr>\n",
       "  </thead>\n",
       "  <tbody>\n",
       "    <tr>\n",
       "      <th>709</th>\n",
       "      <td>3</td>\n",
       "      <td>male</td>\n",
       "      <td>NaN</td>\n",
       "      <td>1</td>\n",
       "      <td>1</td>\n",
       "      <td>15.2458</td>\n",
       "      <td>C</td>\n",
       "    </tr>\n",
       "    <tr>\n",
       "      <th>439</th>\n",
       "      <td>2</td>\n",
       "      <td>male</td>\n",
       "      <td>31.0</td>\n",
       "      <td>0</td>\n",
       "      <td>0</td>\n",
       "      <td>10.5000</td>\n",
       "      <td>S</td>\n",
       "    </tr>\n",
       "    <tr>\n",
       "      <th>840</th>\n",
       "      <td>3</td>\n",
       "      <td>male</td>\n",
       "      <td>20.0</td>\n",
       "      <td>0</td>\n",
       "      <td>0</td>\n",
       "      <td>7.9250</td>\n",
       "      <td>S</td>\n",
       "    </tr>\n",
       "    <tr>\n",
       "      <th>720</th>\n",
       "      <td>2</td>\n",
       "      <td>female</td>\n",
       "      <td>6.0</td>\n",
       "      <td>0</td>\n",
       "      <td>1</td>\n",
       "      <td>33.0000</td>\n",
       "      <td>S</td>\n",
       "    </tr>\n",
       "    <tr>\n",
       "      <th>39</th>\n",
       "      <td>3</td>\n",
       "      <td>female</td>\n",
       "      <td>14.0</td>\n",
       "      <td>1</td>\n",
       "      <td>0</td>\n",
       "      <td>11.2417</td>\n",
       "      <td>C</td>\n",
       "    </tr>\n",
       "  </tbody>\n",
       "</table>\n",
       "</div>"
      ],
      "text/plain": [
       "     Pclass     Sex   Age  SibSp  Parch     Fare Embarked\n",
       "709       3    male   NaN      1      1  15.2458        C\n",
       "439       2    male  31.0      0      0  10.5000        S\n",
       "840       3    male  20.0      0      0   7.9250        S\n",
       "720       2  female   6.0      0      1  33.0000        S\n",
       "39        3  female  14.0      1      0  11.2417        C"
      ]
     },
     "execution_count": 36,
     "metadata": {},
     "output_type": "execute_result"
    }
   ],
   "source": [
    "X_val.head()"
   ]
  },
  {
   "cell_type": "code",
   "execution_count": 37,
   "metadata": {
    "id": "NcMniFtC382M"
   },
   "outputs": [
    {
     "name": "stderr",
     "output_type": "stream",
     "text": [
      "/Library/Frameworks/Python.framework/Versions/3.8/lib/python3.8/site-packages/category_encoders/utils.py:21: FutureWarning: is_categorical is deprecated and will be removed in a future version.  Use is_categorical_dtype instead\n",
      "  elif pd.api.types.is_categorical(cols):\n"
     ]
    }
   ],
   "source": [
    "encoder = ce.OneHotEncoder(use_cat_names=True)\n",
    "X_train_encoded = encoder.fit_transform(X_train)"
   ]
  },
  {
   "cell_type": "code",
   "execution_count": 38,
   "metadata": {
    "id": "5dYUObXn4UYj"
   },
   "outputs": [],
   "source": [
    "# transform, not fit_transform\n",
    "X_val_encoded = encoder.transform(X_val)"
   ]
  },
  {
   "cell_type": "code",
   "execution_count": 39,
   "metadata": {
    "colab": {
     "base_uri": "https://localhost:8080/",
     "height": 204
    },
    "id": "UZ_GCKip4_2Q",
    "outputId": "c927ce48-8383-44ba-dc02-eacaf63f6b65"
   },
   "outputs": [
    {
     "data": {
      "text/html": [
       "<div>\n",
       "<style scoped>\n",
       "    .dataframe tbody tr th:only-of-type {\n",
       "        vertical-align: middle;\n",
       "    }\n",
       "\n",
       "    .dataframe tbody tr th {\n",
       "        vertical-align: top;\n",
       "    }\n",
       "\n",
       "    .dataframe thead th {\n",
       "        text-align: right;\n",
       "    }\n",
       "</style>\n",
       "<table border=\"1\" class=\"dataframe\">\n",
       "  <thead>\n",
       "    <tr style=\"text-align: right;\">\n",
       "      <th></th>\n",
       "      <th>Pclass</th>\n",
       "      <th>Sex_male</th>\n",
       "      <th>Sex_female</th>\n",
       "      <th>Age</th>\n",
       "      <th>SibSp</th>\n",
       "      <th>Parch</th>\n",
       "      <th>Fare</th>\n",
       "      <th>Embarked_S</th>\n",
       "      <th>Embarked_C</th>\n",
       "      <th>Embarked_Q</th>\n",
       "      <th>Embarked_nan</th>\n",
       "    </tr>\n",
       "  </thead>\n",
       "  <tbody>\n",
       "    <tr>\n",
       "      <th>298</th>\n",
       "      <td>1</td>\n",
       "      <td>1</td>\n",
       "      <td>0</td>\n",
       "      <td>NaN</td>\n",
       "      <td>0</td>\n",
       "      <td>0</td>\n",
       "      <td>30.5000</td>\n",
       "      <td>1</td>\n",
       "      <td>0</td>\n",
       "      <td>0</td>\n",
       "      <td>0</td>\n",
       "    </tr>\n",
       "    <tr>\n",
       "      <th>884</th>\n",
       "      <td>3</td>\n",
       "      <td>1</td>\n",
       "      <td>0</td>\n",
       "      <td>25.00</td>\n",
       "      <td>0</td>\n",
       "      <td>0</td>\n",
       "      <td>7.0500</td>\n",
       "      <td>1</td>\n",
       "      <td>0</td>\n",
       "      <td>0</td>\n",
       "      <td>0</td>\n",
       "    </tr>\n",
       "    <tr>\n",
       "      <th>247</th>\n",
       "      <td>2</td>\n",
       "      <td>0</td>\n",
       "      <td>1</td>\n",
       "      <td>24.00</td>\n",
       "      <td>0</td>\n",
       "      <td>2</td>\n",
       "      <td>14.5000</td>\n",
       "      <td>1</td>\n",
       "      <td>0</td>\n",
       "      <td>0</td>\n",
       "      <td>0</td>\n",
       "    </tr>\n",
       "    <tr>\n",
       "      <th>478</th>\n",
       "      <td>3</td>\n",
       "      <td>1</td>\n",
       "      <td>0</td>\n",
       "      <td>22.00</td>\n",
       "      <td>0</td>\n",
       "      <td>0</td>\n",
       "      <td>7.5208</td>\n",
       "      <td>1</td>\n",
       "      <td>0</td>\n",
       "      <td>0</td>\n",
       "      <td>0</td>\n",
       "    </tr>\n",
       "    <tr>\n",
       "      <th>305</th>\n",
       "      <td>1</td>\n",
       "      <td>1</td>\n",
       "      <td>0</td>\n",
       "      <td>0.92</td>\n",
       "      <td>1</td>\n",
       "      <td>2</td>\n",
       "      <td>151.5500</td>\n",
       "      <td>1</td>\n",
       "      <td>0</td>\n",
       "      <td>0</td>\n",
       "      <td>0</td>\n",
       "    </tr>\n",
       "  </tbody>\n",
       "</table>\n",
       "</div>"
      ],
      "text/plain": [
       "     Pclass  Sex_male  Sex_female    Age  SibSp  Parch      Fare  Embarked_S  \\\n",
       "298       1         1           0    NaN      0      0   30.5000           1   \n",
       "884       3         1           0  25.00      0      0    7.0500           1   \n",
       "247       2         0           1  24.00      0      2   14.5000           1   \n",
       "478       3         1           0  22.00      0      0    7.5208           1   \n",
       "305       1         1           0   0.92      1      2  151.5500           1   \n",
       "\n",
       "     Embarked_C  Embarked_Q  Embarked_nan  \n",
       "298           0           0             0  \n",
       "884           0           0             0  \n",
       "247           0           0             0  \n",
       "478           0           0             0  \n",
       "305           0           0             0  "
      ]
     },
     "execution_count": 39,
     "metadata": {},
     "output_type": "execute_result"
    }
   ],
   "source": [
    "# Notice, you have train + val.   encoded-->imputed-->scaled\n",
    "X_train_encoded.head()"
   ]
  },
  {
   "cell_type": "code",
   "execution_count": 40,
   "metadata": {
    "colab": {
     "base_uri": "https://localhost:8080/",
     "height": 204
    },
    "id": "ILtYjIEa5VQ4",
    "outputId": "fe255f60-6f5c-49ad-8f5d-e8ec38a13dbe"
   },
   "outputs": [
    {
     "data": {
      "text/html": [
       "<div>\n",
       "<style scoped>\n",
       "    .dataframe tbody tr th:only-of-type {\n",
       "        vertical-align: middle;\n",
       "    }\n",
       "\n",
       "    .dataframe tbody tr th {\n",
       "        vertical-align: top;\n",
       "    }\n",
       "\n",
       "    .dataframe thead th {\n",
       "        text-align: right;\n",
       "    }\n",
       "</style>\n",
       "<table border=\"1\" class=\"dataframe\">\n",
       "  <thead>\n",
       "    <tr style=\"text-align: right;\">\n",
       "      <th></th>\n",
       "      <th>Pclass</th>\n",
       "      <th>Sex_male</th>\n",
       "      <th>Sex_female</th>\n",
       "      <th>Age</th>\n",
       "      <th>SibSp</th>\n",
       "      <th>Parch</th>\n",
       "      <th>Fare</th>\n",
       "      <th>Embarked_S</th>\n",
       "      <th>Embarked_C</th>\n",
       "      <th>Embarked_Q</th>\n",
       "      <th>Embarked_nan</th>\n",
       "    </tr>\n",
       "  </thead>\n",
       "  <tbody>\n",
       "    <tr>\n",
       "      <th>709</th>\n",
       "      <td>3</td>\n",
       "      <td>1</td>\n",
       "      <td>0</td>\n",
       "      <td>NaN</td>\n",
       "      <td>1</td>\n",
       "      <td>1</td>\n",
       "      <td>15.2458</td>\n",
       "      <td>0</td>\n",
       "      <td>1</td>\n",
       "      <td>0</td>\n",
       "      <td>0</td>\n",
       "    </tr>\n",
       "    <tr>\n",
       "      <th>439</th>\n",
       "      <td>2</td>\n",
       "      <td>1</td>\n",
       "      <td>0</td>\n",
       "      <td>31.0</td>\n",
       "      <td>0</td>\n",
       "      <td>0</td>\n",
       "      <td>10.5000</td>\n",
       "      <td>1</td>\n",
       "      <td>0</td>\n",
       "      <td>0</td>\n",
       "      <td>0</td>\n",
       "    </tr>\n",
       "    <tr>\n",
       "      <th>840</th>\n",
       "      <td>3</td>\n",
       "      <td>1</td>\n",
       "      <td>0</td>\n",
       "      <td>20.0</td>\n",
       "      <td>0</td>\n",
       "      <td>0</td>\n",
       "      <td>7.9250</td>\n",
       "      <td>1</td>\n",
       "      <td>0</td>\n",
       "      <td>0</td>\n",
       "      <td>0</td>\n",
       "    </tr>\n",
       "    <tr>\n",
       "      <th>720</th>\n",
       "      <td>2</td>\n",
       "      <td>0</td>\n",
       "      <td>1</td>\n",
       "      <td>6.0</td>\n",
       "      <td>0</td>\n",
       "      <td>1</td>\n",
       "      <td>33.0000</td>\n",
       "      <td>1</td>\n",
       "      <td>0</td>\n",
       "      <td>0</td>\n",
       "      <td>0</td>\n",
       "    </tr>\n",
       "    <tr>\n",
       "      <th>39</th>\n",
       "      <td>3</td>\n",
       "      <td>0</td>\n",
       "      <td>1</td>\n",
       "      <td>14.0</td>\n",
       "      <td>1</td>\n",
       "      <td>0</td>\n",
       "      <td>11.2417</td>\n",
       "      <td>0</td>\n",
       "      <td>1</td>\n",
       "      <td>0</td>\n",
       "      <td>0</td>\n",
       "    </tr>\n",
       "  </tbody>\n",
       "</table>\n",
       "</div>"
      ],
      "text/plain": [
       "     Pclass  Sex_male  Sex_female   Age  SibSp  Parch     Fare  Embarked_S  \\\n",
       "709       3         1           0   NaN      1      1  15.2458           0   \n",
       "439       2         1           0  31.0      0      0  10.5000           1   \n",
       "840       3         1           0  20.0      0      0   7.9250           1   \n",
       "720       2         0           1   6.0      0      1  33.0000           1   \n",
       "39        3         0           1  14.0      1      0  11.2417           0   \n",
       "\n",
       "     Embarked_C  Embarked_Q  Embarked_nan  \n",
       "709           1           0             0  \n",
       "439           0           0             0  \n",
       "840           0           0             0  \n",
       "720           0           0             0  \n",
       "39            1           0             0  "
      ]
     },
     "execution_count": 40,
     "metadata": {},
     "output_type": "execute_result"
    }
   ],
   "source": [
    "X_val_encoded.head()"
   ]
  },
  {
   "cell_type": "code",
   "execution_count": 41,
   "metadata": {
    "id": "T2zFdxxd4thC"
   },
   "outputs": [],
   "source": [
    "imputer = SimpleImputer(strategy='mean')\n",
    "X_train_imputed = imputer.fit_transform(X_train_encoded)\n",
    "X_val_imputed = imputer.transform(X_val_encoded)"
   ]
  },
  {
   "cell_type": "code",
   "execution_count": 42,
   "metadata": {
    "colab": {
     "base_uri": "https://localhost:8080/",
     "height": 272
    },
    "id": "qiJbKKIi5DLe",
    "outputId": "9d0f5740-bc34-4ebf-be2e-dd6af8a8aa77"
   },
   "outputs": [
    {
     "data": {
      "text/plain": [
       "array([[  1.        ,   1.        ,   0.        ,  29.42134328,\n",
       "          0.        ,   0.        ,  30.5       ,   1.        ,\n",
       "          0.        ,   0.        ,   0.        ],\n",
       "       [  3.        ,   1.        ,   0.        ,  25.        ,\n",
       "          0.        ,   0.        ,   7.05      ,   1.        ,\n",
       "          0.        ,   0.        ,   0.        ],\n",
       "       [  2.        ,   0.        ,   1.        ,  24.        ,\n",
       "          0.        ,   2.        ,  14.5       ,   1.        ,\n",
       "          0.        ,   0.        ,   0.        ],\n",
       "       [  3.        ,   1.        ,   0.        ,  22.        ,\n",
       "          0.        ,   0.        ,   7.5208    ,   1.        ,\n",
       "          0.        ,   0.        ,   0.        ],\n",
       "       [  1.        ,   1.        ,   0.        ,   0.92      ,\n",
       "          1.        ,   2.        , 151.55      ,   1.        ,\n",
       "          0.        ,   0.        ,   0.        ]])"
      ]
     },
     "execution_count": 42,
     "metadata": {},
     "output_type": "execute_result"
    }
   ],
   "source": [
    "X_train_imputed[:5]"
   ]
  },
  {
   "cell_type": "code",
   "execution_count": 43,
   "metadata": {
    "colab": {
     "base_uri": "https://localhost:8080/",
     "height": 272
    },
    "id": "3BPScfIv5Zr3",
    "outputId": "0cfcb47d-7663-4276-8716-66761b3a5fcf"
   },
   "outputs": [
    {
     "data": {
      "text/plain": [
       "array([[ 3.        ,  1.        ,  0.        , 29.42134328,  1.        ,\n",
       "         1.        , 15.2458    ,  0.        ,  1.        ,  0.        ,\n",
       "         0.        ],\n",
       "       [ 2.        ,  1.        ,  0.        , 31.        ,  0.        ,\n",
       "         0.        , 10.5       ,  1.        ,  0.        ,  0.        ,\n",
       "         0.        ],\n",
       "       [ 3.        ,  1.        ,  0.        , 20.        ,  0.        ,\n",
       "         0.        ,  7.925     ,  1.        ,  0.        ,  0.        ,\n",
       "         0.        ],\n",
       "       [ 2.        ,  0.        ,  1.        ,  6.        ,  0.        ,\n",
       "         1.        , 33.        ,  1.        ,  0.        ,  0.        ,\n",
       "         0.        ],\n",
       "       [ 3.        ,  0.        ,  1.        , 14.        ,  1.        ,\n",
       "         0.        , 11.2417    ,  0.        ,  1.        ,  0.        ,\n",
       "         0.        ]])"
      ]
     },
     "execution_count": 43,
     "metadata": {},
     "output_type": "execute_result"
    }
   ],
   "source": [
    "X_val_imputed[:5]"
   ]
  },
  {
   "cell_type": "code",
   "execution_count": 44,
   "metadata": {
    "id": "fuPPYyfY51qx"
   },
   "outputs": [],
   "source": [
    "scaler = StandardScaler()\n",
    "X_train_scaled = scaler.fit_transform(X_train_imputed)\n",
    "X_val_scaled = scaler.transform(X_val_imputed)"
   ]
  },
  {
   "cell_type": "code",
   "execution_count": 45,
   "metadata": {
    "colab": {
     "base_uri": "https://localhost:8080/",
     "height": 272
    },
    "id": "qGHOjMA46nYY",
    "outputId": "bea2b4da-1e45-4c7e-ca64-05153537ae97"
   },
   "outputs": [
    {
     "data": {
      "text/plain": [
       "array([[-1.62051704,  0.72224656, -0.72224656,  0.        , -0.46765956,\n",
       "        -0.46887833, -0.0325683 ,  0.60040719, -0.46080495, -0.30835364,\n",
       "        -0.05479966],\n",
       "       [ 0.80934914,  0.72224656, -0.72224656, -0.34010987, -0.46765956,\n",
       "        -0.46887833, -0.48733085,  0.60040719, -0.46080495, -0.30835364,\n",
       "        -0.05479966],\n",
       "       [-0.40558395, -1.38456873,  1.38456873, -0.41703442, -0.46765956,\n",
       "         2.04687047, -0.34285405,  0.60040719, -0.46080495, -0.30835364,\n",
       "        -0.05479966],\n",
       "       [ 0.80934914,  0.72224656, -0.72224656, -0.57088354, -0.46765956,\n",
       "        -0.46887833, -0.4782007 ,  0.60040719, -0.46080495, -0.30835364,\n",
       "        -0.05479966],\n",
       "       [-1.62051704,  0.72224656, -0.72224656, -2.19245317,  0.37665554,\n",
       "         2.04687047,  2.31493731,  0.60040719, -0.46080495, -0.30835364,\n",
       "        -0.05479966]])"
      ]
     },
     "execution_count": 45,
     "metadata": {},
     "output_type": "execute_result"
    }
   ],
   "source": [
    "X_train_scaled[:5]"
   ]
  },
  {
   "cell_type": "code",
   "execution_count": 46,
   "metadata": {
    "colab": {
     "base_uri": "https://localhost:8080/",
     "height": 272
    },
    "id": "a3QW2m9E6pYT",
    "outputId": "42920589-35db-4d26-8d0f-568484c8821c"
   },
   "outputs": [
    {
     "data": {
      "text/plain": [
       "array([[ 0.80934914,  0.72224656, -0.72224656,  0.        ,  0.37665554,\n",
       "         0.78899607, -0.32839086, -1.66553634,  2.1701156 , -0.30835364,\n",
       "        -0.05479966],\n",
       "       [-0.40558395,  0.72224656, -0.72224656,  0.12143747, -0.46765956,\n",
       "        -0.46887833, -0.42042549,  0.60040719, -0.46080495, -0.30835364,\n",
       "        -0.05479966],\n",
       "       [ 0.80934914,  0.72224656, -0.72224656, -0.72473265, -0.46765956,\n",
       "        -0.46887833, -0.4703621 ,  0.60040719, -0.46080495, -0.30835364,\n",
       "        -0.05479966],\n",
       "       [-0.40558395, -1.38456873,  1.38456873, -1.80167643, -0.46765956,\n",
       "         0.78899607,  0.01591384,  0.60040719, -0.46080495, -0.30835364,\n",
       "        -0.05479966],\n",
       "       [ 0.80934914, -1.38456873,  1.38456873, -1.18627998,  0.37665554,\n",
       "        -0.46887833, -0.40604181, -1.66553634,  2.1701156 , -0.30835364,\n",
       "        -0.05479966]])"
      ]
     },
     "execution_count": 46,
     "metadata": {},
     "output_type": "execute_result"
    }
   ],
   "source": [
    "X_val_scaled[:5]"
   ]
  },
  {
   "cell_type": "code",
   "execution_count": 47,
   "metadata": {
    "colab": {
     "base_uri": "https://localhost:8080/",
     "height": 102
    },
    "id": "DZ7ZAv526ztI",
    "outputId": "6eb1af01-6ac3-4121-d38e-dd6dd67aa30c"
   },
   "outputs": [
    {
     "data": {
      "text/plain": [
       "LogisticRegressionCV()"
      ]
     },
     "execution_count": 47,
     "metadata": {},
     "output_type": "execute_result"
    }
   ],
   "source": [
    "# fit on train\n",
    "\n",
    "model = LogisticRegressionCV()\n",
    "model.fit(X_train_scaled, y_train)"
   ]
  },
  {
   "cell_type": "code",
   "execution_count": 48,
   "metadata": {
    "colab": {
     "base_uri": "https://localhost:8080/",
     "height": 34
    },
    "id": "zr2AdqG4653z",
    "outputId": "9dc08905-ad2d-4cba-bee1-d0ec294380b3"
   },
   "outputs": [
    {
     "data": {
      "text/plain": [
       "0.8071748878923767"
      ]
     },
     "execution_count": 48,
     "metadata": {},
     "output_type": "execute_result"
    }
   ],
   "source": [
    "# predict on val\n",
    "\n",
    "# One way...\n",
    "y_pred = model.predict(X_val_scaled)\n",
    "accuracy_score(y_val, y_pred)"
   ]
  },
  {
   "cell_type": "code",
   "execution_count": 49,
   "metadata": {
    "colab": {
     "base_uri": "https://localhost:8080/",
     "height": 34
    },
    "id": "1fvueYNd7BD3",
    "outputId": "1dfeb158-a2f2-491b-cf6f-a44c31b62ffc"
   },
   "outputs": [
    {
     "name": "stdout",
     "output_type": "stream",
     "text": [
      "Validation Accuracy 0.8071748878923767\n"
     ]
    }
   ],
   "source": [
    "# Shortcut\n",
    "print('Validation Accuracy', model.score(X_val_scaled, y_val))"
   ]
  },
  {
   "cell_type": "markdown",
   "metadata": {
    "id": "HV65krdve7Aj"
   },
   "source": [
    "Plot coefficients:"
   ]
  },
  {
   "cell_type": "code",
   "execution_count": 50,
   "metadata": {
    "colab": {
     "base_uri": "https://localhost:8080/",
     "height": 265
    },
    "id": "2UjsiJqze7Ak",
    "outputId": "cce4aadb-b6ec-473e-be0d-5bc3f2f37234"
   },
   "outputs": [
    {
     "data": {
      "image/png": "[encoded data removed]",
      "text/plain": [
       "<Figure size 432x288 with 1 Axes>"
      ]
     },
     "metadata": {
      "needs_background": "light"
     },
     "output_type": "display_data"
    }
   ],
   "source": [
    "%matplotlib inline\n",
    "coefficients = pd.Series(model.coef_[0], X_train_encoded.columns)\n",
    "coefficients.sort_values().plot.barh();"
   ]
  },
  {
   "cell_type": "markdown",
   "metadata": {
    "id": "TcB4I2o8e7Am"
   },
   "source": [
    "Generate [Kaggle](https://www.kaggle.com/c/titanic) submission:"
   ]
  },
  {
   "cell_type": "code",
   "execution_count": 51,
   "metadata": {
    "id": "C5dDA2Vde7An"
   },
   "outputs": [],
   "source": [
    "X_test = test[features]\n",
    "X_test_encoded = encoder.transform(X_test)\n",
    "X_test_imputed = imputer.transform(X_test_encoded)\n",
    "X_test_scaled = scaler.transform(X_test_imputed)\n",
    "y_pred = model.predict(X_test_scaled)"
   ]
  },
  {
   "cell_type": "code",
   "execution_count": 52,
   "metadata": {
    "id": "LhZbbdYj8wup"
   },
   "outputs": [],
   "source": [
    "submission = test[['PassengerId']].copy()\n",
    "submission['Survived'] = y_pred"
   ]
  },
  {
   "cell_type": "code",
   "execution_count": 53,
   "metadata": {
    "id": "BmEs7pf_89x1"
   },
   "outputs": [],
   "source": [
    "submission.to_csv('titanic-submission-01.csv', index=False)"
   ]
  },
  {
   "cell_type": "markdown",
   "metadata": {
    "id": "9Z8xNchKe7Aq"
   },
   "source": [
    "## Challenge\n",
    "\n",
    "You'll use Logistic Regression for your assignment, your Sprint Challenge, and optionally for your first model in our Kaggle challenge!"
   ]
  },
  {
   "cell_type": "markdown",
   "metadata": {
    "id": "dDHWuWIte7Ar"
   },
   "source": [
    "# Review\n",
    "\n",
    "For your assignment, you'll use a [**dataset of 400+ burrito reviews**](https://srcole.github.io/100burritos/). How accurately can you predict whether a burrito is rated 'Great'?\n",
    "\n",
    "> We have developed a 10-dimensional system for rating the burritos in San Diego. ... Generate models for what makes a burrito great and investigate correlations in its dimensions.\n",
    "\n",
    "- Do train/validate/test split. Train on reviews from 2016 & earlier. Validate on 2017. Test on 2018 & later.\n",
    "- Begin with baselines for classification.\n",
    "- Use scikit-learn for logistic regression.\n",
    "- Get your model's validation accuracy. (Multiple times if you try multiple iterations.)\n",
    "- Get your model's test accuracy. (One time, at the end.)\n",
    "- Commit your notebook to your fork of the GitHub repo.\n",
    "- Watch Aaron's [video #1](https://www.youtube.com/watch?v=pREaWFli-5I) (12 minutes) & [video #2](https://www.youtube.com/watch?v=bDQgVt4hFgY) (9 minutes) to learn about the mathematics of Logistic Regression."
   ]
  },
  {
   "cell_type": "markdown",
   "metadata": {
    "id": "gJ02Drn1e7As"
   },
   "source": [
    "# Sources\n",
    "- Brandon Rohrer, [Training, Validation, and Testing Data Sets](https://end-to-end-machine-learning.teachable.com/blog/146320/training-validation-testing-data-sets)\n",
    "- Hadley Wickham, [R for Data Science](https://r4ds.had.co.nz/model-intro.html#hypothesis-generation-vs.hypothesis-confirmation), Hypothesis generation vs. hypothesis confirmation\n",
    "- Hastie, Tibshirani, and Friedman, [The Elements of Statistical Learning](http://statweb.stanford.edu/~tibs/ElemStatLearn/), Chapter 7: Model Assessment and Selection\n",
    "- Mueller and Guido, [Introduction to Machine Learning with Python](https://books.google.com/books?id=1-4lDQAAQBAJ&pg=PA270), Chapter 5.2.2: The Danger of Overfitting the Parameters and the Validation Set\n",
    "- Provost and Fawcett, [Data Science for Business](https://books.google.com/books?id=4ZctAAAAQBAJ&pg=PT276), Chapter 7.3: Evaluation, Baseline Performance, and Implications for Investments in Data\n",
    "- Rachel Thomas, [How (and why) to create a good validation set](https://www.fast.ai/2017/11/13/validation-sets/)\n",
    "- Sebastian Raschka, [Model Evaluation](https://sebastianraschka.com/blog/2018/model-evaluation-selection-part4.html)\n",
    "- Will Koehrsen, [\"A baseline for classification can be the most common class in the training dataset.\"](https://twitter.com/koehrsen_will/status/1088863527778111488)"
   ]
  }
 ],
 "metadata": {
  "colab": {
   "name": "LectureNotes214_LogisticRegression.ipynb",
   "provenance": []
  },
  "jupytext": {
   "main_language": "python"
  },
  "kernelspec": {
   "display_name": "Python 3",
   "language": "python",
   "name": "python3"
  },
  "language_info": {
   "codemirror_mode": {
    "name": "ipython",
    "version": 3
   },
   "file_extension": ".py",
   "mimetype": "text/x-python",
   "name": "python",
   "nbconvert_exporter": "python",
   "pygments_lexer": "ipython3",
   "version": "3.8.2"
  }
 },
 "nbformat": 4,
 "nbformat_minor": 1
}
